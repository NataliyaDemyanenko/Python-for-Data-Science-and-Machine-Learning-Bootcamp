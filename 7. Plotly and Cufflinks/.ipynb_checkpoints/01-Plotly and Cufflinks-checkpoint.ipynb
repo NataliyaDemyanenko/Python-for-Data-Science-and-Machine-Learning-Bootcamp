{
 "cells": [
  {
   "cell_type": "markdown",
   "metadata": {},
   "source": [
    "___\n",
    "\n",
    "<a href='http://www.pieriandata.com'> <img src='../Pierian_Data_Logo.png' /></a>\n",
    "___\n",
    "# Plotly and Cufflinks"
   ]
  },
  {
   "cell_type": "markdown",
   "metadata": {},
   "source": [
    "Plotly is a library that allows you to create interactive plots that you can use in dashboards or websites (you can save them as html files or static images).\n",
    "\n",
    "## Installation\n",
    "\n",
    "In order for this all to work, you'll need to install plotly and cufflinks to call plots directly off of a pandas dataframe. These libraries are not currently available through **conda** but are available through **pip**. Install the libraries at your command line/terminal using:\n",
    "\n",
    "    pip install plotly\n",
    "    pip install cufflinks\n",
    "\n",
    "** NOTE: Make sure you only have one installation of Python on your computer when you do this, otherwise the installation may not work. **\n",
    "\n",
    "## Imports and Set-up"
   ]
  },
  {
   "cell_type": "code",
   "execution_count": 1,
   "metadata": {},
   "outputs": [],
   "source": [
    "import pandas as pd\n",
    "import numpy as np\n",
    "%matplotlib inline"
   ]
  },
  {
   "cell_type": "code",
   "execution_count": 2,
   "metadata": {
    "collapsed": false,
    "jupyter": {
     "outputs_hidden": false
    }
   },
   "outputs": [
    {
     "name": "stdout",
     "output_type": "stream",
     "text": [
      "5.9.0\n"
     ]
    }
   ],
   "source": [
    "from plotly import __version__\n",
    "from plotly.offline import download_plotlyjs, init_notebook_mode, plot, iplot\n",
    "\n",
    "print(__version__) # requires version >= 1.9.0"
   ]
  },
  {
   "cell_type": "code",
   "execution_count": 3,
   "metadata": {},
   "outputs": [],
   "source": [
    "import cufflinks as cf"
   ]
  },
  {
   "cell_type": "code",
   "execution_count": 4,
   "metadata": {
    "collapsed": false,
    "jupyter": {
     "outputs_hidden": false
    }
   },
   "outputs": [
    {
     "data": {
      "text/html": [
       "        <script type=\"text/javascript\">\n",
       "        window.PlotlyConfig = {MathJaxConfig: 'local'};\n",
       "        if (window.MathJax && window.MathJax.Hub && window.MathJax.Hub.Config) {window.MathJax.Hub.Config({SVG: {font: \"STIX-Web\"}});}\n",
       "        if (typeof require !== 'undefined') {\n",
       "        require.undef(\"plotly\");\n",
       "        requirejs.config({\n",
       "            paths: {\n",
       "                'plotly': ['https://cdn.plot.ly/plotly-2.12.1.min']\n",
       "            }\n",
       "        });\n",
       "        require(['plotly'], function(Plotly) {\n",
       "            window._Plotly = Plotly;\n",
       "        });\n",
       "        }\n",
       "        </script>\n",
       "        "
      ]
     },
     "metadata": {},
     "output_type": "display_data"
    }
   ],
   "source": [
    "# For Notebooks\n",
    "init_notebook_mode(connected=True)"
   ]
  },
  {
   "cell_type": "code",
   "execution_count": 5,
   "metadata": {
    "collapsed": false,
    "jupyter": {
     "outputs_hidden": false
    }
   },
   "outputs": [
    {
     "data": {
      "text/html": [
       "        <script type=\"text/javascript\">\n",
       "        window.PlotlyConfig = {MathJaxConfig: 'local'};\n",
       "        if (window.MathJax && window.MathJax.Hub && window.MathJax.Hub.Config) {window.MathJax.Hub.Config({SVG: {font: \"STIX-Web\"}});}\n",
       "        if (typeof require !== 'undefined') {\n",
       "        require.undef(\"plotly\");\n",
       "        requirejs.config({\n",
       "            paths: {\n",
       "                'plotly': ['https://cdn.plot.ly/plotly-2.12.1.min']\n",
       "            }\n",
       "        });\n",
       "        require(['plotly'], function(Plotly) {\n",
       "            window._Plotly = Plotly;\n",
       "        });\n",
       "        }\n",
       "        </script>\n",
       "        "
      ]
     },
     "metadata": {},
     "output_type": "display_data"
    }
   ],
   "source": [
    "# For offline use\n",
    "cf.go_offline()"
   ]
  },
  {
   "cell_type": "markdown",
   "metadata": {},
   "source": [
    "### Fake Data"
   ]
  },
  {
   "cell_type": "code",
   "execution_count": 6,
   "metadata": {
    "collapsed": false,
    "jupyter": {
     "outputs_hidden": false
    }
   },
   "outputs": [],
   "source": [
    "df = pd.DataFrame(np.random.randn(100,4),columns='A B C D'.split())"
   ]
  },
  {
   "cell_type": "code",
   "execution_count": 7,
   "metadata": {
    "collapsed": false,
    "jupyter": {
     "outputs_hidden": false
    }
   },
   "outputs": [
    {
     "data": {
      "text/html": [
       "<div>\n",
       "<style scoped>\n",
       "    .dataframe tbody tr th:only-of-type {\n",
       "        vertical-align: middle;\n",
       "    }\n",
       "\n",
       "    .dataframe tbody tr th {\n",
       "        vertical-align: top;\n",
       "    }\n",
       "\n",
       "    .dataframe thead th {\n",
       "        text-align: right;\n",
       "    }\n",
       "</style>\n",
       "<table border=\"1\" class=\"dataframe\">\n",
       "  <thead>\n",
       "    <tr style=\"text-align: right;\">\n",
       "      <th></th>\n",
       "      <th>A</th>\n",
       "      <th>B</th>\n",
       "      <th>C</th>\n",
       "      <th>D</th>\n",
       "    </tr>\n",
       "  </thead>\n",
       "  <tbody>\n",
       "    <tr>\n",
       "      <th>0</th>\n",
       "      <td>-0.014182</td>\n",
       "      <td>-1.137932</td>\n",
       "      <td>-0.760753</td>\n",
       "      <td>0.175174</td>\n",
       "    </tr>\n",
       "    <tr>\n",
       "      <th>1</th>\n",
       "      <td>-0.799037</td>\n",
       "      <td>-0.369504</td>\n",
       "      <td>-0.707014</td>\n",
       "      <td>-0.448826</td>\n",
       "    </tr>\n",
       "    <tr>\n",
       "      <th>2</th>\n",
       "      <td>0.659119</td>\n",
       "      <td>0.333669</td>\n",
       "      <td>0.927201</td>\n",
       "      <td>0.538182</td>\n",
       "    </tr>\n",
       "    <tr>\n",
       "      <th>3</th>\n",
       "      <td>1.998829</td>\n",
       "      <td>1.038874</td>\n",
       "      <td>0.219149</td>\n",
       "      <td>0.132446</td>\n",
       "    </tr>\n",
       "    <tr>\n",
       "      <th>4</th>\n",
       "      <td>1.354929</td>\n",
       "      <td>0.427183</td>\n",
       "      <td>-0.517910</td>\n",
       "      <td>-0.890001</td>\n",
       "    </tr>\n",
       "  </tbody>\n",
       "</table>\n",
       "</div>"
      ],
      "text/plain": [
       "          A         B         C         D\n",
       "0 -0.014182 -1.137932 -0.760753  0.175174\n",
       "1 -0.799037 -0.369504 -0.707014 -0.448826\n",
       "2  0.659119  0.333669  0.927201  0.538182\n",
       "3  1.998829  1.038874  0.219149  0.132446\n",
       "4  1.354929  0.427183 -0.517910 -0.890001"
      ]
     },
     "execution_count": 7,
     "metadata": {},
     "output_type": "execute_result"
    }
   ],
   "source": [
    "df.head()"
   ]
  },
  {
   "cell_type": "code",
   "execution_count": 8,
   "metadata": {},
   "outputs": [],
   "source": [
    "df2 = pd.DataFrame({'Category':['A','B','C'],'Values':[32,43,50]})"
   ]
  },
  {
   "cell_type": "code",
   "execution_count": 9,
   "metadata": {
    "collapsed": false,
    "jupyter": {
     "outputs_hidden": false
    }
   },
   "outputs": [
    {
     "data": {
      "text/html": [
       "<div>\n",
       "<style scoped>\n",
       "    .dataframe tbody tr th:only-of-type {\n",
       "        vertical-align: middle;\n",
       "    }\n",
       "\n",
       "    .dataframe tbody tr th {\n",
       "        vertical-align: top;\n",
       "    }\n",
       "\n",
       "    .dataframe thead th {\n",
       "        text-align: right;\n",
       "    }\n",
       "</style>\n",
       "<table border=\"1\" class=\"dataframe\">\n",
       "  <thead>\n",
       "    <tr style=\"text-align: right;\">\n",
       "      <th></th>\n",
       "      <th>Category</th>\n",
       "      <th>Values</th>\n",
       "    </tr>\n",
       "  </thead>\n",
       "  <tbody>\n",
       "    <tr>\n",
       "      <th>0</th>\n",
       "      <td>A</td>\n",
       "      <td>32</td>\n",
       "    </tr>\n",
       "    <tr>\n",
       "      <th>1</th>\n",
       "      <td>B</td>\n",
       "      <td>43</td>\n",
       "    </tr>\n",
       "    <tr>\n",
       "      <th>2</th>\n",
       "      <td>C</td>\n",
       "      <td>50</td>\n",
       "    </tr>\n",
       "  </tbody>\n",
       "</table>\n",
       "</div>"
      ],
      "text/plain": [
       "  Category  Values\n",
       "0        A      32\n",
       "1        B      43\n",
       "2        C      50"
      ]
     },
     "execution_count": 9,
     "metadata": {},
     "output_type": "execute_result"
    }
   ],
   "source": [
    "df2.head()"
   ]
  },
  {
   "cell_type": "markdown",
   "metadata": {},
   "source": [
    "## Using Cufflinks and iplot()\n",
    "\n",
    "* scatter\n",
    "* bar\n",
    "* box\n",
    "* spread\n",
    "* ratio\n",
    "* heatmap\n",
    "* surface\n",
    "* histogram\n",
    "* bubble"
   ]
  },
  {
   "cell_type": "markdown",
   "metadata": {},
   "source": [
    "## Scatter"
   ]
  },
  {
   "cell_type": "code",
   "execution_count": 10,
   "metadata": {
    "collapsed": false,
    "jupyter": {
     "outputs_hidden": false
    }
   },
   "outputs": [
    {
     "data": {
      "application/vnd.plotly.v1+json": {
       "config": {
        "linkText": "Export to plot.ly",
        "plotlyServerURL": "https://plot.ly",
        "showLink": true
       },
       "data": [
        {
         "line": {
          "color": "rgba(255, 153, 51, 1.0)",
          "dash": "solid",
          "shape": "linear",
          "width": 1.3
         },
         "marker": {
          "size": 10,
          "symbol": "circle"
         },
         "mode": "markers",
         "name": "B",
         "text": "",
         "type": "scatter",
         "x": [
          -0.014182249911513891,
          -0.7990367681886373,
          0.6591194910503083,
          1.998829472768256,
          1.354928704711035,
          -0.1371167194422425,
          0.4333354482330215,
          0.49267447183888413,
          1.3858792197389416,
          0.4676724923040728,
          0.4849888456465899,
          0.45149705620233,
          -0.1063775758913652,
          -0.6451185663551487,
          0.8357224494240874,
          0.05850278298606873,
          -0.6878280364420764,
          -1.0745550632638445,
          -1.5078604397890385,
          0.40661572837594684,
          0.9800238409731928,
          -1.6325091262235363,
          0.1631019706498342,
          1.4448137969722203,
          0.02513391270452852,
          0.9547946954988611,
          -1.0563585853877604,
          -1.3142901401847198,
          -0.25331664335336507,
          -1.4879385617072196,
          1.7470695903409454,
          -0.48379885894116165,
          -0.9241938987777035,
          0.365712246098989,
          1.221561139279699,
          1.1752904012641878,
          -1.0893692935961712,
          0.05496551530451065,
          -0.2176827297418758,
          -0.0657386185768375,
          1.562769039489702,
          0.13189295528231632,
          -0.4496554338022613,
          1.039717915533698,
          0.6661633287497195,
          1.0294163558425313,
          0.10459497547037343,
          -0.6486758199813077,
          -0.35946559697843306,
          -0.7791403957659999,
          -0.7131422295621813,
          0.3530266789979288,
          -0.5850582350435681,
          -1.228669369831788,
          -0.18193668990025463,
          -1.2251158115222835,
          -2.7313135571757563,
          -1.3901611885307172,
          -0.7668234576924771,
          -0.2740656808576659,
          1.667691642371268,
          0.09675804750002247,
          -0.3993649557252148,
          1.484220094919042,
          -0.07901652159766895,
          -0.26975354473237967,
          0.605978939676668,
          0.008585745532567687,
          -0.49986280262070976,
          0.7050757224054496,
          -0.9825443837523973,
          -0.4903160744754752,
          1.375276764445953,
          0.12104979745920955,
          1.4824150417639876,
          0.2884732149437047,
          1.0647981187455822,
          -0.27941567866192923,
          -0.9575609575401136,
          0.5646814456783594,
          0.08480759312596246,
          0.5456752792982241,
          0.04474730044409539,
          0.3449381645647911,
          1.0989196536617412,
          2.0009367716990374,
          -0.10649601834445481,
          -0.9948925083156563,
          -1.507843017905901,
          -0.04914540079233849,
          0.0015998307786427317,
          0.08871540715131175,
          -0.09513443320348569,
          1.3884170241785447,
          -0.6375754053537689,
          0.5353090243952152,
          0.5058531399900315,
          0.0039000720093066215,
          1.6856477147167694,
          1.0788626909510945
         ],
         "y": [
          -1.1379320218666829,
          -0.3695042688257674,
          0.33366871400295456,
          1.0388735929418678,
          0.4271828843031716,
          -0.498185936402757,
          -0.20908624076388696,
          0.2712791092204782,
          0.21699706993337786,
          1.1988640269829076,
          0.5794566696633838,
          -2.051357618538235,
          -0.015027646709790503,
          -0.13221573801207778,
          0.663055581637253,
          2.2383145058851217,
          -0.32920285387233467,
          1.305488093081794,
          -0.6770237846293955,
          1.5655678252443213,
          -0.1579011544726716,
          0.21253336637012768,
          1.1127389828320329,
          -1.5672990177125192,
          0.7781963063214641,
          1.7853350454924075,
          -1.1710195851309133,
          0.686719657893707,
          -0.20731900062966677,
          1.4307503635162753,
          -0.9158903433533209,
          1.4420737367040473,
          -0.6068242423956323,
          1.0694813209111613,
          0.3237652489496514,
          0.18727889105942838,
          1.2922354443050938,
          0.6274525703991168,
          1.014431538504958,
          1.3987744470969865,
          0.4513588324569339,
          -1.021846300012986,
          -1.6695027698585916,
          1.0018097405277842,
          0.42609150355890035,
          1.1071846053066323,
          -0.1509182629517138,
          0.20295227502422822,
          1.4490271833804298,
          0.2893929835183492,
          0.7332741959247728,
          -0.7239745282733993,
          -2.4359443821545694,
          -0.274108614919312,
          -0.713459983647737,
          -0.2231215265407797,
          -0.4897121400859348,
          0.042540095384265224,
          0.7230329717255355,
          0.5938328429046061,
          0.7980677149641997,
          -1.5370942848965226,
          -1.0470516457159909,
          -0.622083709673778,
          -0.6408476173310118,
          -0.7310692143925597,
          2.0558686601072846,
          0.941521271821865,
          0.2797069863850723,
          -1.1987566877959244,
          -0.6453513323275131,
          0.00618299715917338,
          -0.9449907125758524,
          -1.0429632720499713,
          -0.9432951353119565,
          -0.18431998387115714,
          0.19706282189587646,
          1.4093428173112086,
          -2.5459571971591974,
          0.9714641272638906,
          1.3195027949623213,
          1.518096459438159,
          2.892537011972321,
          1.4002055331345225,
          -0.3066405837306535,
          -1.5162024282645241,
          1.1028718578803822,
          1.7491202039361544,
          -0.7352743952166807,
          -1.1327003719731012,
          -0.3439921897436451,
          -0.8142699493133557,
          -0.8421420831214147,
          -2.3611782096734317,
          0.5399222287331542,
          -0.45479909963011805,
          -0.3820645712895226,
          -1.557072716269298,
          -0.4549434306878188,
          0.5782397452939635
         ]
        }
       ],
       "layout": {
        "autosize": true,
        "legend": {
         "bgcolor": "#F5F6F9",
         "font": {
          "color": "#4D5663"
         }
        },
        "paper_bgcolor": "#F5F6F9",
        "plot_bgcolor": "#F5F6F9",
        "template": {
         "data": {
          "bar": [
           {
            "error_x": {
             "color": "#2a3f5f"
            },
            "error_y": {
             "color": "#2a3f5f"
            },
            "marker": {
             "line": {
              "color": "#E5ECF6",
              "width": 0.5
             },
             "pattern": {
              "fillmode": "overlay",
              "size": 10,
              "solidity": 0.2
             }
            },
            "type": "bar"
           }
          ],
          "barpolar": [
           {
            "marker": {
             "line": {
              "color": "#E5ECF6",
              "width": 0.5
             },
             "pattern": {
              "fillmode": "overlay",
              "size": 10,
              "solidity": 0.2
             }
            },
            "type": "barpolar"
           }
          ],
          "carpet": [
           {
            "aaxis": {
             "endlinecolor": "#2a3f5f",
             "gridcolor": "white",
             "linecolor": "white",
             "minorgridcolor": "white",
             "startlinecolor": "#2a3f5f"
            },
            "baxis": {
             "endlinecolor": "#2a3f5f",
             "gridcolor": "white",
             "linecolor": "white",
             "minorgridcolor": "white",
             "startlinecolor": "#2a3f5f"
            },
            "type": "carpet"
           }
          ],
          "choropleth": [
           {
            "colorbar": {
             "outlinewidth": 0,
             "ticks": ""
            },
            "type": "choropleth"
           }
          ],
          "contour": [
           {
            "colorbar": {
             "outlinewidth": 0,
             "ticks": ""
            },
            "colorscale": [
             [
              0,
              "#0d0887"
             ],
             [
              0.1111111111111111,
              "#46039f"
             ],
             [
              0.2222222222222222,
              "#7201a8"
             ],
             [
              0.3333333333333333,
              "#9c179e"
             ],
             [
              0.4444444444444444,
              "#bd3786"
             ],
             [
              0.5555555555555556,
              "#d8576b"
             ],
             [
              0.6666666666666666,
              "#ed7953"
             ],
             [
              0.7777777777777778,
              "#fb9f3a"
             ],
             [
              0.8888888888888888,
              "#fdca26"
             ],
             [
              1,
              "#f0f921"
             ]
            ],
            "type": "contour"
           }
          ],
          "contourcarpet": [
           {
            "colorbar": {
             "outlinewidth": 0,
             "ticks": ""
            },
            "type": "contourcarpet"
           }
          ],
          "heatmap": [
           {
            "colorbar": {
             "outlinewidth": 0,
             "ticks": ""
            },
            "colorscale": [
             [
              0,
              "#0d0887"
             ],
             [
              0.1111111111111111,
              "#46039f"
             ],
             [
              0.2222222222222222,
              "#7201a8"
             ],
             [
              0.3333333333333333,
              "#9c179e"
             ],
             [
              0.4444444444444444,
              "#bd3786"
             ],
             [
              0.5555555555555556,
              "#d8576b"
             ],
             [
              0.6666666666666666,
              "#ed7953"
             ],
             [
              0.7777777777777778,
              "#fb9f3a"
             ],
             [
              0.8888888888888888,
              "#fdca26"
             ],
             [
              1,
              "#f0f921"
             ]
            ],
            "type": "heatmap"
           }
          ],
          "heatmapgl": [
           {
            "colorbar": {
             "outlinewidth": 0,
             "ticks": ""
            },
            "colorscale": [
             [
              0,
              "#0d0887"
             ],
             [
              0.1111111111111111,
              "#46039f"
             ],
             [
              0.2222222222222222,
              "#7201a8"
             ],
             [
              0.3333333333333333,
              "#9c179e"
             ],
             [
              0.4444444444444444,
              "#bd3786"
             ],
             [
              0.5555555555555556,
              "#d8576b"
             ],
             [
              0.6666666666666666,
              "#ed7953"
             ],
             [
              0.7777777777777778,
              "#fb9f3a"
             ],
             [
              0.8888888888888888,
              "#fdca26"
             ],
             [
              1,
              "#f0f921"
             ]
            ],
            "type": "heatmapgl"
           }
          ],
          "histogram": [
           {
            "marker": {
             "pattern": {
              "fillmode": "overlay",
              "size": 10,
              "solidity": 0.2
             }
            },
            "type": "histogram"
           }
          ],
          "histogram2d": [
           {
            "colorbar": {
             "outlinewidth": 0,
             "ticks": ""
            },
            "colorscale": [
             [
              0,
              "#0d0887"
             ],
             [
              0.1111111111111111,
              "#46039f"
             ],
             [
              0.2222222222222222,
              "#7201a8"
             ],
             [
              0.3333333333333333,
              "#9c179e"
             ],
             [
              0.4444444444444444,
              "#bd3786"
             ],
             [
              0.5555555555555556,
              "#d8576b"
             ],
             [
              0.6666666666666666,
              "#ed7953"
             ],
             [
              0.7777777777777778,
              "#fb9f3a"
             ],
             [
              0.8888888888888888,
              "#fdca26"
             ],
             [
              1,
              "#f0f921"
             ]
            ],
            "type": "histogram2d"
           }
          ],
          "histogram2dcontour": [
           {
            "colorbar": {
             "outlinewidth": 0,
             "ticks": ""
            },
            "colorscale": [
             [
              0,
              "#0d0887"
             ],
             [
              0.1111111111111111,
              "#46039f"
             ],
             [
              0.2222222222222222,
              "#7201a8"
             ],
             [
              0.3333333333333333,
              "#9c179e"
             ],
             [
              0.4444444444444444,
              "#bd3786"
             ],
             [
              0.5555555555555556,
              "#d8576b"
             ],
             [
              0.6666666666666666,
              "#ed7953"
             ],
             [
              0.7777777777777778,
              "#fb9f3a"
             ],
             [
              0.8888888888888888,
              "#fdca26"
             ],
             [
              1,
              "#f0f921"
             ]
            ],
            "type": "histogram2dcontour"
           }
          ],
          "mesh3d": [
           {
            "colorbar": {
             "outlinewidth": 0,
             "ticks": ""
            },
            "type": "mesh3d"
           }
          ],
          "parcoords": [
           {
            "line": {
             "colorbar": {
              "outlinewidth": 0,
              "ticks": ""
             }
            },
            "type": "parcoords"
           }
          ],
          "pie": [
           {
            "automargin": true,
            "type": "pie"
           }
          ],
          "scatter": [
           {
            "fillpattern": {
             "fillmode": "overlay",
             "size": 10,
             "solidity": 0.2
            },
            "type": "scatter"
           }
          ],
          "scatter3d": [
           {
            "line": {
             "colorbar": {
              "outlinewidth": 0,
              "ticks": ""
             }
            },
            "marker": {
             "colorbar": {
              "outlinewidth": 0,
              "ticks": ""
             }
            },
            "type": "scatter3d"
           }
          ],
          "scattercarpet": [
           {
            "marker": {
             "colorbar": {
              "outlinewidth": 0,
              "ticks": ""
             }
            },
            "type": "scattercarpet"
           }
          ],
          "scattergeo": [
           {
            "marker": {
             "colorbar": {
              "outlinewidth": 0,
              "ticks": ""
             }
            },
            "type": "scattergeo"
           }
          ],
          "scattergl": [
           {
            "marker": {
             "colorbar": {
              "outlinewidth": 0,
              "ticks": ""
             }
            },
            "type": "scattergl"
           }
          ],
          "scattermapbox": [
           {
            "marker": {
             "colorbar": {
              "outlinewidth": 0,
              "ticks": ""
             }
            },
            "type": "scattermapbox"
           }
          ],
          "scatterpolar": [
           {
            "marker": {
             "colorbar": {
              "outlinewidth": 0,
              "ticks": ""
             }
            },
            "type": "scatterpolar"
           }
          ],
          "scatterpolargl": [
           {
            "marker": {
             "colorbar": {
              "outlinewidth": 0,
              "ticks": ""
             }
            },
            "type": "scatterpolargl"
           }
          ],
          "scatterternary": [
           {
            "marker": {
             "colorbar": {
              "outlinewidth": 0,
              "ticks": ""
             }
            },
            "type": "scatterternary"
           }
          ],
          "surface": [
           {
            "colorbar": {
             "outlinewidth": 0,
             "ticks": ""
            },
            "colorscale": [
             [
              0,
              "#0d0887"
             ],
             [
              0.1111111111111111,
              "#46039f"
             ],
             [
              0.2222222222222222,
              "#7201a8"
             ],
             [
              0.3333333333333333,
              "#9c179e"
             ],
             [
              0.4444444444444444,
              "#bd3786"
             ],
             [
              0.5555555555555556,
              "#d8576b"
             ],
             [
              0.6666666666666666,
              "#ed7953"
             ],
             [
              0.7777777777777778,
              "#fb9f3a"
             ],
             [
              0.8888888888888888,
              "#fdca26"
             ],
             [
              1,
              "#f0f921"
             ]
            ],
            "type": "surface"
           }
          ],
          "table": [
           {
            "cells": {
             "fill": {
              "color": "#EBF0F8"
             },
             "line": {
              "color": "white"
             }
            },
            "header": {
             "fill": {
              "color": "#C8D4E3"
             },
             "line": {
              "color": "white"
             }
            },
            "type": "table"
           }
          ]
         },
         "layout": {
          "annotationdefaults": {
           "arrowcolor": "#2a3f5f",
           "arrowhead": 0,
           "arrowwidth": 1
          },
          "autotypenumbers": "strict",
          "coloraxis": {
           "colorbar": {
            "outlinewidth": 0,
            "ticks": ""
           }
          },
          "colorscale": {
           "diverging": [
            [
             0,
             "#8e0152"
            ],
            [
             0.1,
             "#c51b7d"
            ],
            [
             0.2,
             "#de77ae"
            ],
            [
             0.3,
             "#f1b6da"
            ],
            [
             0.4,
             "#fde0ef"
            ],
            [
             0.5,
             "#f7f7f7"
            ],
            [
             0.6,
             "#e6f5d0"
            ],
            [
             0.7,
             "#b8e186"
            ],
            [
             0.8,
             "#7fbc41"
            ],
            [
             0.9,
             "#4d9221"
            ],
            [
             1,
             "#276419"
            ]
           ],
           "sequential": [
            [
             0,
             "#0d0887"
            ],
            [
             0.1111111111111111,
             "#46039f"
            ],
            [
             0.2222222222222222,
             "#7201a8"
            ],
            [
             0.3333333333333333,
             "#9c179e"
            ],
            [
             0.4444444444444444,
             "#bd3786"
            ],
            [
             0.5555555555555556,
             "#d8576b"
            ],
            [
             0.6666666666666666,
             "#ed7953"
            ],
            [
             0.7777777777777778,
             "#fb9f3a"
            ],
            [
             0.8888888888888888,
             "#fdca26"
            ],
            [
             1,
             "#f0f921"
            ]
           ],
           "sequentialminus": [
            [
             0,
             "#0d0887"
            ],
            [
             0.1111111111111111,
             "#46039f"
            ],
            [
             0.2222222222222222,
             "#7201a8"
            ],
            [
             0.3333333333333333,
             "#9c179e"
            ],
            [
             0.4444444444444444,
             "#bd3786"
            ],
            [
             0.5555555555555556,
             "#d8576b"
            ],
            [
             0.6666666666666666,
             "#ed7953"
            ],
            [
             0.7777777777777778,
             "#fb9f3a"
            ],
            [
             0.8888888888888888,
             "#fdca26"
            ],
            [
             1,
             "#f0f921"
            ]
           ]
          },
          "colorway": [
           "#636efa",
           "#EF553B",
           "#00cc96",
           "#ab63fa",
           "#FFA15A",
           "#19d3f3",
           "#FF6692",
           "#B6E880",
           "#FF97FF",
           "#FECB52"
          ],
          "font": {
           "color": "#2a3f5f"
          },
          "geo": {
           "bgcolor": "white",
           "lakecolor": "white",
           "landcolor": "#E5ECF6",
           "showlakes": true,
           "showland": true,
           "subunitcolor": "white"
          },
          "hoverlabel": {
           "align": "left"
          },
          "hovermode": "closest",
          "mapbox": {
           "style": "light"
          },
          "paper_bgcolor": "white",
          "plot_bgcolor": "#E5ECF6",
          "polar": {
           "angularaxis": {
            "gridcolor": "white",
            "linecolor": "white",
            "ticks": ""
           },
           "bgcolor": "#E5ECF6",
           "radialaxis": {
            "gridcolor": "white",
            "linecolor": "white",
            "ticks": ""
           }
          },
          "scene": {
           "xaxis": {
            "backgroundcolor": "#E5ECF6",
            "gridcolor": "white",
            "gridwidth": 2,
            "linecolor": "white",
            "showbackground": true,
            "ticks": "",
            "zerolinecolor": "white"
           },
           "yaxis": {
            "backgroundcolor": "#E5ECF6",
            "gridcolor": "white",
            "gridwidth": 2,
            "linecolor": "white",
            "showbackground": true,
            "ticks": "",
            "zerolinecolor": "white"
           },
           "zaxis": {
            "backgroundcolor": "#E5ECF6",
            "gridcolor": "white",
            "gridwidth": 2,
            "linecolor": "white",
            "showbackground": true,
            "ticks": "",
            "zerolinecolor": "white"
           }
          },
          "shapedefaults": {
           "line": {
            "color": "#2a3f5f"
           }
          },
          "ternary": {
           "aaxis": {
            "gridcolor": "white",
            "linecolor": "white",
            "ticks": ""
           },
           "baxis": {
            "gridcolor": "white",
            "linecolor": "white",
            "ticks": ""
           },
           "bgcolor": "#E5ECF6",
           "caxis": {
            "gridcolor": "white",
            "linecolor": "white",
            "ticks": ""
           }
          },
          "title": {
           "x": 0.05
          },
          "xaxis": {
           "automargin": true,
           "gridcolor": "white",
           "linecolor": "white",
           "ticks": "",
           "title": {
            "standoff": 15
           },
           "zerolinecolor": "white",
           "zerolinewidth": 2
          },
          "yaxis": {
           "automargin": true,
           "gridcolor": "white",
           "linecolor": "white",
           "ticks": "",
           "title": {
            "standoff": 15
           },
           "zerolinecolor": "white",
           "zerolinewidth": 2
          }
         }
        },
        "title": {
         "font": {
          "color": "#4D5663"
         }
        },
        "xaxis": {
         "autorange": true,
         "gridcolor": "#E1E5ED",
         "range": [
          -3.0336013598231992,
          2.3032245743464803
         ],
         "showgrid": true,
         "tickfont": {
          "color": "#4D5663"
         },
         "title": {
          "font": {
           "color": "#4D5663"
          },
          "text": ""
         },
         "type": "linear",
         "zerolinecolor": "#E1E5ED"
        },
        "yaxis": {
         "autorange": true,
         "gridcolor": "#E1E5ED",
         "range": [
          -3.1007199843782987,
          3.447299799191422
         ],
         "showgrid": true,
         "tickfont": {
          "color": "#4D5663"
         },
         "title": {
          "font": {
           "color": "#4D5663"
          },
          "text": ""
         },
         "type": "linear",
         "zerolinecolor": "#E1E5ED"
        }
       }
      },
      "image/png": "[encoded data removed]",
      "text/html": [
       "<div>                            <div id=\"1241d905-eac3-4539-b110-ad7f5d0e7063\" class=\"plotly-graph-div\" style=\"height:525px; width:100%;\"></div>            <script type=\"text/javascript\">                require([\"plotly\"], function(Plotly) {                    window.PLOTLYENV=window.PLOTLYENV || {};\n",
       "                    window.PLOTLYENV.BASE_URL='https://plot.ly';                                    if (document.getElementById(\"1241d905-eac3-4539-b110-ad7f5d0e7063\")) {                    Plotly.newPlot(                        \"1241d905-eac3-4539-b110-ad7f5d0e7063\",                        [{\"line\":{\"color\":\"rgba(255, 153, 51, 1.0)\",\"dash\":\"solid\",\"shape\":\"linear\",\"width\":1.3},\"marker\":{\"size\":10,\"symbol\":\"circle\"},\"mode\":\"markers\",\"name\":\"B\",\"text\":\"\",\"x\":[-0.014182249911513891,-0.7990367681886373,0.6591194910503083,1.998829472768256,1.354928704711035,-0.1371167194422425,0.4333354482330215,0.49267447183888413,1.3858792197389416,0.4676724923040728,0.4849888456465899,0.45149705620233,-0.1063775758913652,-0.6451185663551487,0.8357224494240874,0.05850278298606873,-0.6878280364420764,-1.0745550632638445,-1.5078604397890385,0.40661572837594684,0.9800238409731928,-1.6325091262235363,0.1631019706498342,1.4448137969722203,0.02513391270452852,0.9547946954988611,-1.0563585853877604,-1.3142901401847198,-0.25331664335336507,-1.4879385617072196,1.7470695903409454,-0.48379885894116165,-0.9241938987777035,0.365712246098989,1.221561139279699,1.1752904012641878,-1.0893692935961712,0.05496551530451065,-0.2176827297418758,-0.0657386185768375,1.562769039489702,0.13189295528231632,-0.4496554338022613,1.039717915533698,0.6661633287497195,1.0294163558425313,0.10459497547037343,-0.6486758199813077,-0.35946559697843306,-0.7791403957659999,-0.7131422295621813,0.3530266789979288,-0.5850582350435681,-1.228669369831788,-0.18193668990025463,-1.2251158115222835,-2.7313135571757563,-1.3901611885307172,-0.7668234576924771,-0.2740656808576659,1.667691642371268,0.09675804750002247,-0.3993649557252148,1.484220094919042,-0.07901652159766895,-0.26975354473237967,0.605978939676668,0.008585745532567687,-0.49986280262070976,0.7050757224054496,-0.9825443837523973,-0.4903160744754752,1.375276764445953,0.12104979745920955,1.4824150417639876,0.2884732149437047,1.0647981187455822,-0.27941567866192923,-0.9575609575401136,0.5646814456783594,0.08480759312596246,0.5456752792982241,0.04474730044409539,0.3449381645647911,1.0989196536617412,2.0009367716990374,-0.10649601834445481,-0.9948925083156563,-1.507843017905901,-0.04914540079233849,0.0015998307786427317,0.08871540715131175,-0.09513443320348569,1.3884170241785447,-0.6375754053537689,0.5353090243952152,0.5058531399900315,0.0039000720093066215,1.6856477147167694,1.0788626909510945],\"y\":[-1.1379320218666829,-0.3695042688257674,0.33366871400295456,1.0388735929418678,0.4271828843031716,-0.498185936402757,-0.20908624076388696,0.2712791092204782,0.21699706993337786,1.1988640269829076,0.5794566696633838,-2.051357618538235,-0.015027646709790503,-0.13221573801207778,0.663055581637253,2.2383145058851217,-0.32920285387233467,1.305488093081794,-0.6770237846293955,1.5655678252443213,-0.1579011544726716,0.21253336637012768,1.1127389828320329,-1.5672990177125192,0.7781963063214641,1.7853350454924075,-1.1710195851309133,0.686719657893707,-0.20731900062966677,1.4307503635162753,-0.9158903433533209,1.4420737367040473,-0.6068242423956323,1.0694813209111613,0.3237652489496514,0.18727889105942838,1.2922354443050938,0.6274525703991168,1.014431538504958,1.3987744470969865,0.4513588324569339,-1.021846300012986,-1.6695027698585916,1.0018097405277842,0.42609150355890035,1.1071846053066323,-0.1509182629517138,0.20295227502422822,1.4490271833804298,0.2893929835183492,0.7332741959247728,-0.7239745282733993,-2.4359443821545694,-0.274108614919312,-0.713459983647737,-0.2231215265407797,-0.4897121400859348,0.042540095384265224,0.7230329717255355,0.5938328429046061,0.7980677149641997,-1.5370942848965226,-1.0470516457159909,-0.622083709673778,-0.6408476173310118,-0.7310692143925597,2.0558686601072846,0.941521271821865,0.2797069863850723,-1.1987566877959244,-0.6453513323275131,0.00618299715917338,-0.9449907125758524,-1.0429632720499713,-0.9432951353119565,-0.18431998387115714,0.19706282189587646,1.4093428173112086,-2.5459571971591974,0.9714641272638906,1.3195027949623213,1.518096459438159,2.892537011972321,1.4002055331345225,-0.3066405837306535,-1.5162024282645241,1.1028718578803822,1.7491202039361544,-0.7352743952166807,-1.1327003719731012,-0.3439921897436451,-0.8142699493133557,-0.8421420831214147,-2.3611782096734317,0.5399222287331542,-0.45479909963011805,-0.3820645712895226,-1.557072716269298,-0.4549434306878188,0.5782397452939635],\"type\":\"scatter\"}],                        {\"legend\":{\"bgcolor\":\"#F5F6F9\",\"font\":{\"color\":\"#4D5663\"}},\"paper_bgcolor\":\"#F5F6F9\",\"plot_bgcolor\":\"#F5F6F9\",\"template\":{\"data\":{\"barpolar\":[{\"marker\":{\"line\":{\"color\":\"#E5ECF6\",\"width\":0.5},\"pattern\":{\"fillmode\":\"overlay\",\"size\":10,\"solidity\":0.2}},\"type\":\"barpolar\"}],\"bar\":[{\"error_x\":{\"color\":\"#2a3f5f\"},\"error_y\":{\"color\":\"#2a3f5f\"},\"marker\":{\"line\":{\"color\":\"#E5ECF6\",\"width\":0.5},\"pattern\":{\"fillmode\":\"overlay\",\"size\":10,\"solidity\":0.2}},\"type\":\"bar\"}],\"carpet\":[{\"aaxis\":{\"endlinecolor\":\"#2a3f5f\",\"gridcolor\":\"white\",\"linecolor\":\"white\",\"minorgridcolor\":\"white\",\"startlinecolor\":\"#2a3f5f\"},\"baxis\":{\"endlinecolor\":\"#2a3f5f\",\"gridcolor\":\"white\",\"linecolor\":\"white\",\"minorgridcolor\":\"white\",\"startlinecolor\":\"#2a3f5f\"},\"type\":\"carpet\"}],\"choropleth\":[{\"colorbar\":{\"outlinewidth\":0,\"ticks\":\"\"},\"type\":\"choropleth\"}],\"contourcarpet\":[{\"colorbar\":{\"outlinewidth\":0,\"ticks\":\"\"},\"type\":\"contourcarpet\"}],\"contour\":[{\"colorbar\":{\"outlinewidth\":0,\"ticks\":\"\"},\"colorscale\":[[0.0,\"#0d0887\"],[0.1111111111111111,\"#46039f\"],[0.2222222222222222,\"#7201a8\"],[0.3333333333333333,\"#9c179e\"],[0.4444444444444444,\"#bd3786\"],[0.5555555555555556,\"#d8576b\"],[0.6666666666666666,\"#ed7953\"],[0.7777777777777778,\"#fb9f3a\"],[0.8888888888888888,\"#fdca26\"],[1.0,\"#f0f921\"]],\"type\":\"contour\"}],\"heatmapgl\":[{\"colorbar\":{\"outlinewidth\":0,\"ticks\":\"\"},\"colorscale\":[[0.0,\"#0d0887\"],[0.1111111111111111,\"#46039f\"],[0.2222222222222222,\"#7201a8\"],[0.3333333333333333,\"#9c179e\"],[0.4444444444444444,\"#bd3786\"],[0.5555555555555556,\"#d8576b\"],[0.6666666666666666,\"#ed7953\"],[0.7777777777777778,\"#fb9f3a\"],[0.8888888888888888,\"#fdca26\"],[1.0,\"#f0f921\"]],\"type\":\"heatmapgl\"}],\"heatmap\":[{\"colorbar\":{\"outlinewidth\":0,\"ticks\":\"\"},\"colorscale\":[[0.0,\"#0d0887\"],[0.1111111111111111,\"#46039f\"],[0.2222222222222222,\"#7201a8\"],[0.3333333333333333,\"#9c179e\"],[0.4444444444444444,\"#bd3786\"],[0.5555555555555556,\"#d8576b\"],[0.6666666666666666,\"#ed7953\"],[0.7777777777777778,\"#fb9f3a\"],[0.8888888888888888,\"#fdca26\"],[1.0,\"#f0f921\"]],\"type\":\"heatmap\"}],\"histogram2dcontour\":[{\"colorbar\":{\"outlinewidth\":0,\"ticks\":\"\"},\"colorscale\":[[0.0,\"#0d0887\"],[0.1111111111111111,\"#46039f\"],[0.2222222222222222,\"#7201a8\"],[0.3333333333333333,\"#9c179e\"],[0.4444444444444444,\"#bd3786\"],[0.5555555555555556,\"#d8576b\"],[0.6666666666666666,\"#ed7953\"],[0.7777777777777778,\"#fb9f3a\"],[0.8888888888888888,\"#fdca26\"],[1.0,\"#f0f921\"]],\"type\":\"histogram2dcontour\"}],\"histogram2d\":[{\"colorbar\":{\"outlinewidth\":0,\"ticks\":\"\"},\"colorscale\":[[0.0,\"#0d0887\"],[0.1111111111111111,\"#46039f\"],[0.2222222222222222,\"#7201a8\"],[0.3333333333333333,\"#9c179e\"],[0.4444444444444444,\"#bd3786\"],[0.5555555555555556,\"#d8576b\"],[0.6666666666666666,\"#ed7953\"],[0.7777777777777778,\"#fb9f3a\"],[0.8888888888888888,\"#fdca26\"],[1.0,\"#f0f921\"]],\"type\":\"histogram2d\"}],\"histogram\":[{\"marker\":{\"pattern\":{\"fillmode\":\"overlay\",\"size\":10,\"solidity\":0.2}},\"type\":\"histogram\"}],\"mesh3d\":[{\"colorbar\":{\"outlinewidth\":0,\"ticks\":\"\"},\"type\":\"mesh3d\"}],\"parcoords\":[{\"line\":{\"colorbar\":{\"outlinewidth\":0,\"ticks\":\"\"}},\"type\":\"parcoords\"}],\"pie\":[{\"automargin\":true,\"type\":\"pie\"}],\"scatter3d\":[{\"line\":{\"colorbar\":{\"outlinewidth\":0,\"ticks\":\"\"}},\"marker\":{\"colorbar\":{\"outlinewidth\":0,\"ticks\":\"\"}},\"type\":\"scatter3d\"}],\"scattercarpet\":[{\"marker\":{\"colorbar\":{\"outlinewidth\":0,\"ticks\":\"\"}},\"type\":\"scattercarpet\"}],\"scattergeo\":[{\"marker\":{\"colorbar\":{\"outlinewidth\":0,\"ticks\":\"\"}},\"type\":\"scattergeo\"}],\"scattergl\":[{\"marker\":{\"colorbar\":{\"outlinewidth\":0,\"ticks\":\"\"}},\"type\":\"scattergl\"}],\"scattermapbox\":[{\"marker\":{\"colorbar\":{\"outlinewidth\":0,\"ticks\":\"\"}},\"type\":\"scattermapbox\"}],\"scatterpolargl\":[{\"marker\":{\"colorbar\":{\"outlinewidth\":0,\"ticks\":\"\"}},\"type\":\"scatterpolargl\"}],\"scatterpolar\":[{\"marker\":{\"colorbar\":{\"outlinewidth\":0,\"ticks\":\"\"}},\"type\":\"scatterpolar\"}],\"scatter\":[{\"fillpattern\":{\"fillmode\":\"overlay\",\"size\":10,\"solidity\":0.2},\"type\":\"scatter\"}],\"scatterternary\":[{\"marker\":{\"colorbar\":{\"outlinewidth\":0,\"ticks\":\"\"}},\"type\":\"scatterternary\"}],\"surface\":[{\"colorbar\":{\"outlinewidth\":0,\"ticks\":\"\"},\"colorscale\":[[0.0,\"#0d0887\"],[0.1111111111111111,\"#46039f\"],[0.2222222222222222,\"#7201a8\"],[0.3333333333333333,\"#9c179e\"],[0.4444444444444444,\"#bd3786\"],[0.5555555555555556,\"#d8576b\"],[0.6666666666666666,\"#ed7953\"],[0.7777777777777778,\"#fb9f3a\"],[0.8888888888888888,\"#fdca26\"],[1.0,\"#f0f921\"]],\"type\":\"surface\"}],\"table\":[{\"cells\":{\"fill\":{\"color\":\"#EBF0F8\"},\"line\":{\"color\":\"white\"}},\"header\":{\"fill\":{\"color\":\"#C8D4E3\"},\"line\":{\"color\":\"white\"}},\"type\":\"table\"}]},\"layout\":{\"annotationdefaults\":{\"arrowcolor\":\"#2a3f5f\",\"arrowhead\":0,\"arrowwidth\":1},\"autotypenumbers\":\"strict\",\"coloraxis\":{\"colorbar\":{\"outlinewidth\":0,\"ticks\":\"\"}},\"colorscale\":{\"diverging\":[[0,\"#8e0152\"],[0.1,\"#c51b7d\"],[0.2,\"#de77ae\"],[0.3,\"#f1b6da\"],[0.4,\"#fde0ef\"],[0.5,\"#f7f7f7\"],[0.6,\"#e6f5d0\"],[0.7,\"#b8e186\"],[0.8,\"#7fbc41\"],[0.9,\"#4d9221\"],[1,\"#276419\"]],\"sequential\":[[0.0,\"#0d0887\"],[0.1111111111111111,\"#46039f\"],[0.2222222222222222,\"#7201a8\"],[0.3333333333333333,\"#9c179e\"],[0.4444444444444444,\"#bd3786\"],[0.5555555555555556,\"#d8576b\"],[0.6666666666666666,\"#ed7953\"],[0.7777777777777778,\"#fb9f3a\"],[0.8888888888888888,\"#fdca26\"],[1.0,\"#f0f921\"]],\"sequentialminus\":[[0.0,\"#0d0887\"],[0.1111111111111111,\"#46039f\"],[0.2222222222222222,\"#7201a8\"],[0.3333333333333333,\"#9c179e\"],[0.4444444444444444,\"#bd3786\"],[0.5555555555555556,\"#d8576b\"],[0.6666666666666666,\"#ed7953\"],[0.7777777777777778,\"#fb9f3a\"],[0.8888888888888888,\"#fdca26\"],[1.0,\"#f0f921\"]]},\"colorway\":[\"#636efa\",\"#EF553B\",\"#00cc96\",\"#ab63fa\",\"#FFA15A\",\"#19d3f3\",\"#FF6692\",\"#B6E880\",\"#FF97FF\",\"#FECB52\"],\"font\":{\"color\":\"#2a3f5f\"},\"geo\":{\"bgcolor\":\"white\",\"lakecolor\":\"white\",\"landcolor\":\"#E5ECF6\",\"showlakes\":true,\"showland\":true,\"subunitcolor\":\"white\"},\"hoverlabel\":{\"align\":\"left\"},\"hovermode\":\"closest\",\"mapbox\":{\"style\":\"light\"},\"paper_bgcolor\":\"white\",\"plot_bgcolor\":\"#E5ECF6\",\"polar\":{\"angularaxis\":{\"gridcolor\":\"white\",\"linecolor\":\"white\",\"ticks\":\"\"},\"bgcolor\":\"#E5ECF6\",\"radialaxis\":{\"gridcolor\":\"white\",\"linecolor\":\"white\",\"ticks\":\"\"}},\"scene\":{\"xaxis\":{\"backgroundcolor\":\"#E5ECF6\",\"gridcolor\":\"white\",\"gridwidth\":2,\"linecolor\":\"white\",\"showbackground\":true,\"ticks\":\"\",\"zerolinecolor\":\"white\"},\"yaxis\":{\"backgroundcolor\":\"#E5ECF6\",\"gridcolor\":\"white\",\"gridwidth\":2,\"linecolor\":\"white\",\"showbackground\":true,\"ticks\":\"\",\"zerolinecolor\":\"white\"},\"zaxis\":{\"backgroundcolor\":\"#E5ECF6\",\"gridcolor\":\"white\",\"gridwidth\":2,\"linecolor\":\"white\",\"showbackground\":true,\"ticks\":\"\",\"zerolinecolor\":\"white\"}},\"shapedefaults\":{\"line\":{\"color\":\"#2a3f5f\"}},\"ternary\":{\"aaxis\":{\"gridcolor\":\"white\",\"linecolor\":\"white\",\"ticks\":\"\"},\"baxis\":{\"gridcolor\":\"white\",\"linecolor\":\"white\",\"ticks\":\"\"},\"bgcolor\":\"#E5ECF6\",\"caxis\":{\"gridcolor\":\"white\",\"linecolor\":\"white\",\"ticks\":\"\"}},\"title\":{\"x\":0.05},\"xaxis\":{\"automargin\":true,\"gridcolor\":\"white\",\"linecolor\":\"white\",\"ticks\":\"\",\"title\":{\"standoff\":15},\"zerolinecolor\":\"white\",\"zerolinewidth\":2},\"yaxis\":{\"automargin\":true,\"gridcolor\":\"white\",\"linecolor\":\"white\",\"ticks\":\"\",\"title\":{\"standoff\":15},\"zerolinecolor\":\"white\",\"zerolinewidth\":2}}},\"title\":{\"font\":{\"color\":\"#4D5663\"}},\"xaxis\":{\"gridcolor\":\"#E1E5ED\",\"showgrid\":true,\"tickfont\":{\"color\":\"#4D5663\"},\"title\":{\"font\":{\"color\":\"#4D5663\"},\"text\":\"\"},\"zerolinecolor\":\"#E1E5ED\"},\"yaxis\":{\"gridcolor\":\"#E1E5ED\",\"showgrid\":true,\"tickfont\":{\"color\":\"#4D5663\"},\"title\":{\"font\":{\"color\":\"#4D5663\"},\"text\":\"\"},\"zerolinecolor\":\"#E1E5ED\"}},                        {\"showLink\": true, \"linkText\": \"Export to plot.ly\", \"plotlyServerURL\": \"https://plot.ly\", \"responsive\": true}                    ).then(function(){\n",
       "                            \n",
       "var gd = document.getElementById('1241d905-eac3-4539-b110-ad7f5d0e7063');\n",
       "var x = new MutationObserver(function (mutations, observer) {{\n",
       "        var display = window.getComputedStyle(gd).display;\n",
       "        if (!display || display === 'none') {{\n",
       "            console.log([gd, 'removed!']);\n",
       "            Plotly.purge(gd);\n",
       "            observer.disconnect();\n",
       "        }}\n",
       "}});\n",
       "\n",
       "// Listen for the removal of the full notebook cells\n",
       "var notebookContainer = gd.closest('#notebook-container');\n",
       "if (notebookContainer) {{\n",
       "    x.observe(notebookContainer, {childList: true});\n",
       "}}\n",
       "\n",
       "// Listen for the clearing of the current output cell\n",
       "var outputEl = gd.closest('.output');\n",
       "if (outputEl) {{\n",
       "    x.observe(outputEl, {childList: true});\n",
       "}}\n",
       "\n",
       "                        })                };                });            </script>        </div>"
      ]
     },
     "metadata": {},
     "output_type": "display_data"
    }
   ],
   "source": [
    "df.iplot(kind='scatter',x='A',y='B',mode='markers',size=10)"
   ]
  },
  {
   "cell_type": "markdown",
   "metadata": {},
   "source": [
    "## Bar Plots"
   ]
  },
  {
   "cell_type": "code",
   "execution_count": 11,
   "metadata": {
    "collapsed": false,
    "jupyter": {
     "outputs_hidden": false
    }
   },
   "outputs": [
    {
     "data": {
      "application/vnd.plotly.v1+json": {
       "config": {
        "linkText": "Export to plot.ly",
        "plotlyServerURL": "https://plot.ly",
        "showLink": true
       },
       "data": [
        {
         "marker": {
          "color": "rgba(255, 153, 51, 0.6)",
          "line": {
           "color": "rgba(255, 153, 51, 1.0)",
           "width": 1
          }
         },
         "name": "Values",
         "orientation": "v",
         "text": "",
         "type": "bar",
         "x": [
          "A",
          "B",
          "C"
         ],
         "y": [
          32,
          43,
          50
         ]
        }
       ],
       "layout": {
        "autosize": true,
        "legend": {
         "bgcolor": "#F5F6F9",
         "font": {
          "color": "#4D5663"
         }
        },
        "paper_bgcolor": "#F5F6F9",
        "plot_bgcolor": "#F5F6F9",
        "template": {
         "data": {
          "bar": [
           {
            "error_x": {
             "color": "#2a3f5f"
            },
            "error_y": {
             "color": "#2a3f5f"
            },
            "marker": {
             "line": {
              "color": "#E5ECF6",
              "width": 0.5
             },
             "pattern": {
              "fillmode": "overlay",
              "size": 10,
              "solidity": 0.2
             }
            },
            "type": "bar"
           }
          ],
          "barpolar": [
           {
            "marker": {
             "line": {
              "color": "#E5ECF6",
              "width": 0.5
             },
             "pattern": {
              "fillmode": "overlay",
              "size": 10,
              "solidity": 0.2
             }
            },
            "type": "barpolar"
           }
          ],
          "carpet": [
           {
            "aaxis": {
             "endlinecolor": "#2a3f5f",
             "gridcolor": "white",
             "linecolor": "white",
             "minorgridcolor": "white",
             "startlinecolor": "#2a3f5f"
            },
            "baxis": {
             "endlinecolor": "#2a3f5f",
             "gridcolor": "white",
             "linecolor": "white",
             "minorgridcolor": "white",
             "startlinecolor": "#2a3f5f"
            },
            "type": "carpet"
           }
          ],
          "choropleth": [
           {
            "colorbar": {
             "outlinewidth": 0,
             "ticks": ""
            },
            "type": "choropleth"
           }
          ],
          "contour": [
           {
            "colorbar": {
             "outlinewidth": 0,
             "ticks": ""
            },
            "colorscale": [
             [
              0,
              "#0d0887"
             ],
             [
              0.1111111111111111,
              "#46039f"
             ],
             [
              0.2222222222222222,
              "#7201a8"
             ],
             [
              0.3333333333333333,
              "#9c179e"
             ],
             [
              0.4444444444444444,
              "#bd3786"
             ],
             [
              0.5555555555555556,
              "#d8576b"
             ],
             [
              0.6666666666666666,
              "#ed7953"
             ],
             [
              0.7777777777777778,
              "#fb9f3a"
             ],
             [
              0.8888888888888888,
              "#fdca26"
             ],
             [
              1,
              "#f0f921"
             ]
            ],
            "type": "contour"
           }
          ],
          "contourcarpet": [
           {
            "colorbar": {
             "outlinewidth": 0,
             "ticks": ""
            },
            "type": "contourcarpet"
           }
          ],
          "heatmap": [
           {
            "colorbar": {
             "outlinewidth": 0,
             "ticks": ""
            },
            "colorscale": [
             [
              0,
              "#0d0887"
             ],
             [
              0.1111111111111111,
              "#46039f"
             ],
             [
              0.2222222222222222,
              "#7201a8"
             ],
             [
              0.3333333333333333,
              "#9c179e"
             ],
             [
              0.4444444444444444,
              "#bd3786"
             ],
             [
              0.5555555555555556,
              "#d8576b"
             ],
             [
              0.6666666666666666,
              "#ed7953"
             ],
             [
              0.7777777777777778,
              "#fb9f3a"
             ],
             [
              0.8888888888888888,
              "#fdca26"
             ],
             [
              1,
              "#f0f921"
             ]
            ],
            "type": "heatmap"
           }
          ],
          "heatmapgl": [
           {
            "colorbar": {
             "outlinewidth": 0,
             "ticks": ""
            },
            "colorscale": [
             [
              0,
              "#0d0887"
             ],
             [
              0.1111111111111111,
              "#46039f"
             ],
             [
              0.2222222222222222,
              "#7201a8"
             ],
             [
              0.3333333333333333,
              "#9c179e"
             ],
             [
              0.4444444444444444,
              "#bd3786"
             ],
             [
              0.5555555555555556,
              "#d8576b"
             ],
             [
              0.6666666666666666,
              "#ed7953"
             ],
             [
              0.7777777777777778,
              "#fb9f3a"
             ],
             [
              0.8888888888888888,
              "#fdca26"
             ],
             [
              1,
              "#f0f921"
             ]
            ],
            "type": "heatmapgl"
           }
          ],
          "histogram": [
           {
            "marker": {
             "pattern": {
              "fillmode": "overlay",
              "size": 10,
              "solidity": 0.2
             }
            },
            "type": "histogram"
           }
          ],
          "histogram2d": [
           {
            "colorbar": {
             "outlinewidth": 0,
             "ticks": ""
            },
            "colorscale": [
             [
              0,
              "#0d0887"
             ],
             [
              0.1111111111111111,
              "#46039f"
             ],
             [
              0.2222222222222222,
              "#7201a8"
             ],
             [
              0.3333333333333333,
              "#9c179e"
             ],
             [
              0.4444444444444444,
              "#bd3786"
             ],
             [
              0.5555555555555556,
              "#d8576b"
             ],
             [
              0.6666666666666666,
              "#ed7953"
             ],
             [
              0.7777777777777778,
              "#fb9f3a"
             ],
             [
              0.8888888888888888,
              "#fdca26"
             ],
             [
              1,
              "#f0f921"
             ]
            ],
            "type": "histogram2d"
           }
          ],
          "histogram2dcontour": [
           {
            "colorbar": {
             "outlinewidth": 0,
             "ticks": ""
            },
            "colorscale": [
             [
              0,
              "#0d0887"
             ],
             [
              0.1111111111111111,
              "#46039f"
             ],
             [
              0.2222222222222222,
              "#7201a8"
             ],
             [
              0.3333333333333333,
              "#9c179e"
             ],
             [
              0.4444444444444444,
              "#bd3786"
             ],
             [
              0.5555555555555556,
              "#d8576b"
             ],
             [
              0.6666666666666666,
              "#ed7953"
             ],
             [
              0.7777777777777778,
              "#fb9f3a"
             ],
             [
              0.8888888888888888,
              "#fdca26"
             ],
             [
              1,
              "#f0f921"
             ]
            ],
            "type": "histogram2dcontour"
           }
          ],
          "mesh3d": [
           {
            "colorbar": {
             "outlinewidth": 0,
             "ticks": ""
            },
            "type": "mesh3d"
           }
          ],
          "parcoords": [
           {
            "line": {
             "colorbar": {
              "outlinewidth": 0,
              "ticks": ""
             }
            },
            "type": "parcoords"
           }
          ],
          "pie": [
           {
            "automargin": true,
            "type": "pie"
           }
          ],
          "scatter": [
           {
            "fillpattern": {
             "fillmode": "overlay",
             "size": 10,
             "solidity": 0.2
            },
            "type": "scatter"
           }
          ],
          "scatter3d": [
           {
            "line": {
             "colorbar": {
              "outlinewidth": 0,
              "ticks": ""
             }
            },
            "marker": {
             "colorbar": {
              "outlinewidth": 0,
              "ticks": ""
             }
            },
            "type": "scatter3d"
           }
          ],
          "scattercarpet": [
           {
            "marker": {
             "colorbar": {
              "outlinewidth": 0,
              "ticks": ""
             }
            },
            "type": "scattercarpet"
           }
          ],
          "scattergeo": [
           {
            "marker": {
             "colorbar": {
              "outlinewidth": 0,
              "ticks": ""
             }
            },
            "type": "scattergeo"
           }
          ],
          "scattergl": [
           {
            "marker": {
             "colorbar": {
              "outlinewidth": 0,
              "ticks": ""
             }
            },
            "type": "scattergl"
           }
          ],
          "scattermapbox": [
           {
            "marker": {
             "colorbar": {
              "outlinewidth": 0,
              "ticks": ""
             }
            },
            "type": "scattermapbox"
           }
          ],
          "scatterpolar": [
           {
            "marker": {
             "colorbar": {
              "outlinewidth": 0,
              "ticks": ""
             }
            },
            "type": "scatterpolar"
           }
          ],
          "scatterpolargl": [
           {
            "marker": {
             "colorbar": {
              "outlinewidth": 0,
              "ticks": ""
             }
            },
            "type": "scatterpolargl"
           }
          ],
          "scatterternary": [
           {
            "marker": {
             "colorbar": {
              "outlinewidth": 0,
              "ticks": ""
             }
            },
            "type": "scatterternary"
           }
          ],
          "surface": [
           {
            "colorbar": {
             "outlinewidth": 0,
             "ticks": ""
            },
            "colorscale": [
             [
              0,
              "#0d0887"
             ],
             [
              0.1111111111111111,
              "#46039f"
             ],
             [
              0.2222222222222222,
              "#7201a8"
             ],
             [
              0.3333333333333333,
              "#9c179e"
             ],
             [
              0.4444444444444444,
              "#bd3786"
             ],
             [
              0.5555555555555556,
              "#d8576b"
             ],
             [
              0.6666666666666666,
              "#ed7953"
             ],
             [
              0.7777777777777778,
              "#fb9f3a"
             ],
             [
              0.8888888888888888,
              "#fdca26"
             ],
             [
              1,
              "#f0f921"
             ]
            ],
            "type": "surface"
           }
          ],
          "table": [
           {
            "cells": {
             "fill": {
              "color": "#EBF0F8"
             },
             "line": {
              "color": "white"
             }
            },
            "header": {
             "fill": {
              "color": "#C8D4E3"
             },
             "line": {
              "color": "white"
             }
            },
            "type": "table"
           }
          ]
         },
         "layout": {
          "annotationdefaults": {
           "arrowcolor": "#2a3f5f",
           "arrowhead": 0,
           "arrowwidth": 1
          },
          "autotypenumbers": "strict",
          "coloraxis": {
           "colorbar": {
            "outlinewidth": 0,
            "ticks": ""
           }
          },
          "colorscale": {
           "diverging": [
            [
             0,
             "#8e0152"
            ],
            [
             0.1,
             "#c51b7d"
            ],
            [
             0.2,
             "#de77ae"
            ],
            [
             0.3,
             "#f1b6da"
            ],
            [
             0.4,
             "#fde0ef"
            ],
            [
             0.5,
             "#f7f7f7"
            ],
            [
             0.6,
             "#e6f5d0"
            ],
            [
             0.7,
             "#b8e186"
            ],
            [
             0.8,
             "#7fbc41"
            ],
            [
             0.9,
             "#4d9221"
            ],
            [
             1,
             "#276419"
            ]
           ],
           "sequential": [
            [
             0,
             "#0d0887"
            ],
            [
             0.1111111111111111,
             "#46039f"
            ],
            [
             0.2222222222222222,
             "#7201a8"
            ],
            [
             0.3333333333333333,
             "#9c179e"
            ],
            [
             0.4444444444444444,
             "#bd3786"
            ],
            [
             0.5555555555555556,
             "#d8576b"
            ],
            [
             0.6666666666666666,
             "#ed7953"
            ],
            [
             0.7777777777777778,
             "#fb9f3a"
            ],
            [
             0.8888888888888888,
             "#fdca26"
            ],
            [
             1,
             "#f0f921"
            ]
           ],
           "sequentialminus": [
            [
             0,
             "#0d0887"
            ],
            [
             0.1111111111111111,
             "#46039f"
            ],
            [
             0.2222222222222222,
             "#7201a8"
            ],
            [
             0.3333333333333333,
             "#9c179e"
            ],
            [
             0.4444444444444444,
             "#bd3786"
            ],
            [
             0.5555555555555556,
             "#d8576b"
            ],
            [
             0.6666666666666666,
             "#ed7953"
            ],
            [
             0.7777777777777778,
             "#fb9f3a"
            ],
            [
             0.8888888888888888,
             "#fdca26"
            ],
            [
             1,
             "#f0f921"
            ]
           ]
          },
          "colorway": [
           "#636efa",
           "#EF553B",
           "#00cc96",
           "#ab63fa",
           "#FFA15A",
           "#19d3f3",
           "#FF6692",
           "#B6E880",
           "#FF97FF",
           "#FECB52"
          ],
          "font": {
           "color": "#2a3f5f"
          },
          "geo": {
           "bgcolor": "white",
           "lakecolor": "white",
           "landcolor": "#E5ECF6",
           "showlakes": true,
           "showland": true,
           "subunitcolor": "white"
          },
          "hoverlabel": {
           "align": "left"
          },
          "hovermode": "closest",
          "mapbox": {
           "style": "light"
          },
          "paper_bgcolor": "white",
          "plot_bgcolor": "#E5ECF6",
          "polar": {
           "angularaxis": {
            "gridcolor": "white",
            "linecolor": "white",
            "ticks": ""
           },
           "bgcolor": "#E5ECF6",
           "radialaxis": {
            "gridcolor": "white",
            "linecolor": "white",
            "ticks": ""
           }
          },
          "scene": {
           "xaxis": {
            "backgroundcolor": "#E5ECF6",
            "gridcolor": "white",
            "gridwidth": 2,
            "linecolor": "white",
            "showbackground": true,
            "ticks": "",
            "zerolinecolor": "white"
           },
           "yaxis": {
            "backgroundcolor": "#E5ECF6",
            "gridcolor": "white",
            "gridwidth": 2,
            "linecolor": "white",
            "showbackground": true,
            "ticks": "",
            "zerolinecolor": "white"
           },
           "zaxis": {
            "backgroundcolor": "#E5ECF6",
            "gridcolor": "white",
            "gridwidth": 2,
            "linecolor": "white",
            "showbackground": true,
            "ticks": "",
            "zerolinecolor": "white"
           }
          },
          "shapedefaults": {
           "line": {
            "color": "#2a3f5f"
           }
          },
          "ternary": {
           "aaxis": {
            "gridcolor": "white",
            "linecolor": "white",
            "ticks": ""
           },
           "baxis": {
            "gridcolor": "white",
            "linecolor": "white",
            "ticks": ""
           },
           "bgcolor": "#E5ECF6",
           "caxis": {
            "gridcolor": "white",
            "linecolor": "white",
            "ticks": ""
           }
          },
          "title": {
           "x": 0.05
          },
          "xaxis": {
           "automargin": true,
           "gridcolor": "white",
           "linecolor": "white",
           "ticks": "",
           "title": {
            "standoff": 15
           },
           "zerolinecolor": "white",
           "zerolinewidth": 2
          },
          "yaxis": {
           "automargin": true,
           "gridcolor": "white",
           "linecolor": "white",
           "ticks": "",
           "title": {
            "standoff": 15
           },
           "zerolinecolor": "white",
           "zerolinewidth": 2
          }
         }
        },
        "title": {
         "font": {
          "color": "#4D5663"
         }
        },
        "xaxis": {
         "autorange": true,
         "gridcolor": "#E1E5ED",
         "range": [
          -0.5,
          2.5
         ],
         "showgrid": true,
         "tickfont": {
          "color": "#4D5663"
         },
         "title": {
          "font": {
           "color": "#4D5663"
          },
          "text": ""
         },
         "type": "category",
         "zerolinecolor": "#E1E5ED"
        },
        "yaxis": {
         "autorange": true,
         "gridcolor": "#E1E5ED",
         "range": [
          0,
          52.63157894736842
         ],
         "showgrid": true,
         "tickfont": {
          "color": "#4D5663"
         },
         "title": {
          "font": {
           "color": "#4D5663"
          },
          "text": ""
         },
         "type": "linear",
         "zerolinecolor": "#E1E5ED"
        }
       }
      },
      "image/png": "[encoded data removed]",
      "text/html": [
       "<div>                            <div id=\"c8f3bf10-868b-4181-97be-3aff9f7c79bd\" class=\"plotly-graph-div\" style=\"height:525px; width:100%;\"></div>            <script type=\"text/javascript\">                require([\"plotly\"], function(Plotly) {                    window.PLOTLYENV=window.PLOTLYENV || {};\n",
       "                    window.PLOTLYENV.BASE_URL='https://plot.ly';                                    if (document.getElementById(\"c8f3bf10-868b-4181-97be-3aff9f7c79bd\")) {                    Plotly.newPlot(                        \"c8f3bf10-868b-4181-97be-3aff9f7c79bd\",                        [{\"marker\":{\"color\":\"rgba(255, 153, 51, 0.6)\",\"line\":{\"color\":\"rgba(255, 153, 51, 1.0)\",\"width\":1}},\"name\":\"Values\",\"orientation\":\"v\",\"text\":\"\",\"x\":[\"A\",\"B\",\"C\"],\"y\":[32,43,50],\"type\":\"bar\"}],                        {\"legend\":{\"bgcolor\":\"#F5F6F9\",\"font\":{\"color\":\"#4D5663\"}},\"paper_bgcolor\":\"#F5F6F9\",\"plot_bgcolor\":\"#F5F6F9\",\"template\":{\"data\":{\"barpolar\":[{\"marker\":{\"line\":{\"color\":\"#E5ECF6\",\"width\":0.5},\"pattern\":{\"fillmode\":\"overlay\",\"size\":10,\"solidity\":0.2}},\"type\":\"barpolar\"}],\"bar\":[{\"error_x\":{\"color\":\"#2a3f5f\"},\"error_y\":{\"color\":\"#2a3f5f\"},\"marker\":{\"line\":{\"color\":\"#E5ECF6\",\"width\":0.5},\"pattern\":{\"fillmode\":\"overlay\",\"size\":10,\"solidity\":0.2}},\"type\":\"bar\"}],\"carpet\":[{\"aaxis\":{\"endlinecolor\":\"#2a3f5f\",\"gridcolor\":\"white\",\"linecolor\":\"white\",\"minorgridcolor\":\"white\",\"startlinecolor\":\"#2a3f5f\"},\"baxis\":{\"endlinecolor\":\"#2a3f5f\",\"gridcolor\":\"white\",\"linecolor\":\"white\",\"minorgridcolor\":\"white\",\"startlinecolor\":\"#2a3f5f\"},\"type\":\"carpet\"}],\"choropleth\":[{\"colorbar\":{\"outlinewidth\":0,\"ticks\":\"\"},\"type\":\"choropleth\"}],\"contourcarpet\":[{\"colorbar\":{\"outlinewidth\":0,\"ticks\":\"\"},\"type\":\"contourcarpet\"}],\"contour\":[{\"colorbar\":{\"outlinewidth\":0,\"ticks\":\"\"},\"colorscale\":[[0.0,\"#0d0887\"],[0.1111111111111111,\"#46039f\"],[0.2222222222222222,\"#7201a8\"],[0.3333333333333333,\"#9c179e\"],[0.4444444444444444,\"#bd3786\"],[0.5555555555555556,\"#d8576b\"],[0.6666666666666666,\"#ed7953\"],[0.7777777777777778,\"#fb9f3a\"],[0.8888888888888888,\"#fdca26\"],[1.0,\"#f0f921\"]],\"type\":\"contour\"}],\"heatmapgl\":[{\"colorbar\":{\"outlinewidth\":0,\"ticks\":\"\"},\"colorscale\":[[0.0,\"#0d0887\"],[0.1111111111111111,\"#46039f\"],[0.2222222222222222,\"#7201a8\"],[0.3333333333333333,\"#9c179e\"],[0.4444444444444444,\"#bd3786\"],[0.5555555555555556,\"#d8576b\"],[0.6666666666666666,\"#ed7953\"],[0.7777777777777778,\"#fb9f3a\"],[0.8888888888888888,\"#fdca26\"],[1.0,\"#f0f921\"]],\"type\":\"heatmapgl\"}],\"heatmap\":[{\"colorbar\":{\"outlinewidth\":0,\"ticks\":\"\"},\"colorscale\":[[0.0,\"#0d0887\"],[0.1111111111111111,\"#46039f\"],[0.2222222222222222,\"#7201a8\"],[0.3333333333333333,\"#9c179e\"],[0.4444444444444444,\"#bd3786\"],[0.5555555555555556,\"#d8576b\"],[0.6666666666666666,\"#ed7953\"],[0.7777777777777778,\"#fb9f3a\"],[0.8888888888888888,\"#fdca26\"],[1.0,\"#f0f921\"]],\"type\":\"heatmap\"}],\"histogram2dcontour\":[{\"colorbar\":{\"outlinewidth\":0,\"ticks\":\"\"},\"colorscale\":[[0.0,\"#0d0887\"],[0.1111111111111111,\"#46039f\"],[0.2222222222222222,\"#7201a8\"],[0.3333333333333333,\"#9c179e\"],[0.4444444444444444,\"#bd3786\"],[0.5555555555555556,\"#d8576b\"],[0.6666666666666666,\"#ed7953\"],[0.7777777777777778,\"#fb9f3a\"],[0.8888888888888888,\"#fdca26\"],[1.0,\"#f0f921\"]],\"type\":\"histogram2dcontour\"}],\"histogram2d\":[{\"colorbar\":{\"outlinewidth\":0,\"ticks\":\"\"},\"colorscale\":[[0.0,\"#0d0887\"],[0.1111111111111111,\"#46039f\"],[0.2222222222222222,\"#7201a8\"],[0.3333333333333333,\"#9c179e\"],[0.4444444444444444,\"#bd3786\"],[0.5555555555555556,\"#d8576b\"],[0.6666666666666666,\"#ed7953\"],[0.7777777777777778,\"#fb9f3a\"],[0.8888888888888888,\"#fdca26\"],[1.0,\"#f0f921\"]],\"type\":\"histogram2d\"}],\"histogram\":[{\"marker\":{\"pattern\":{\"fillmode\":\"overlay\",\"size\":10,\"solidity\":0.2}},\"type\":\"histogram\"}],\"mesh3d\":[{\"colorbar\":{\"outlinewidth\":0,\"ticks\":\"\"},\"type\":\"mesh3d\"}],\"parcoords\":[{\"line\":{\"colorbar\":{\"outlinewidth\":0,\"ticks\":\"\"}},\"type\":\"parcoords\"}],\"pie\":[{\"automargin\":true,\"type\":\"pie\"}],\"scatter3d\":[{\"line\":{\"colorbar\":{\"outlinewidth\":0,\"ticks\":\"\"}},\"marker\":{\"colorbar\":{\"outlinewidth\":0,\"ticks\":\"\"}},\"type\":\"scatter3d\"}],\"scattercarpet\":[{\"marker\":{\"colorbar\":{\"outlinewidth\":0,\"ticks\":\"\"}},\"type\":\"scattercarpet\"}],\"scattergeo\":[{\"marker\":{\"colorbar\":{\"outlinewidth\":0,\"ticks\":\"\"}},\"type\":\"scattergeo\"}],\"scattergl\":[{\"marker\":{\"colorbar\":{\"outlinewidth\":0,\"ticks\":\"\"}},\"type\":\"scattergl\"}],\"scattermapbox\":[{\"marker\":{\"colorbar\":{\"outlinewidth\":0,\"ticks\":\"\"}},\"type\":\"scattermapbox\"}],\"scatterpolargl\":[{\"marker\":{\"colorbar\":{\"outlinewidth\":0,\"ticks\":\"\"}},\"type\":\"scatterpolargl\"}],\"scatterpolar\":[{\"marker\":{\"colorbar\":{\"outlinewidth\":0,\"ticks\":\"\"}},\"type\":\"scatterpolar\"}],\"scatter\":[{\"fillpattern\":{\"fillmode\":\"overlay\",\"size\":10,\"solidity\":0.2},\"type\":\"scatter\"}],\"scatterternary\":[{\"marker\":{\"colorbar\":{\"outlinewidth\":0,\"ticks\":\"\"}},\"type\":\"scatterternary\"}],\"surface\":[{\"colorbar\":{\"outlinewidth\":0,\"ticks\":\"\"},\"colorscale\":[[0.0,\"#0d0887\"],[0.1111111111111111,\"#46039f\"],[0.2222222222222222,\"#7201a8\"],[0.3333333333333333,\"#9c179e\"],[0.4444444444444444,\"#bd3786\"],[0.5555555555555556,\"#d8576b\"],[0.6666666666666666,\"#ed7953\"],[0.7777777777777778,\"#fb9f3a\"],[0.8888888888888888,\"#fdca26\"],[1.0,\"#f0f921\"]],\"type\":\"surface\"}],\"table\":[{\"cells\":{\"fill\":{\"color\":\"#EBF0F8\"},\"line\":{\"color\":\"white\"}},\"header\":{\"fill\":{\"color\":\"#C8D4E3\"},\"line\":{\"color\":\"white\"}},\"type\":\"table\"}]},\"layout\":{\"annotationdefaults\":{\"arrowcolor\":\"#2a3f5f\",\"arrowhead\":0,\"arrowwidth\":1},\"autotypenumbers\":\"strict\",\"coloraxis\":{\"colorbar\":{\"outlinewidth\":0,\"ticks\":\"\"}},\"colorscale\":{\"diverging\":[[0,\"#8e0152\"],[0.1,\"#c51b7d\"],[0.2,\"#de77ae\"],[0.3,\"#f1b6da\"],[0.4,\"#fde0ef\"],[0.5,\"#f7f7f7\"],[0.6,\"#e6f5d0\"],[0.7,\"#b8e186\"],[0.8,\"#7fbc41\"],[0.9,\"#4d9221\"],[1,\"#276419\"]],\"sequential\":[[0.0,\"#0d0887\"],[0.1111111111111111,\"#46039f\"],[0.2222222222222222,\"#7201a8\"],[0.3333333333333333,\"#9c179e\"],[0.4444444444444444,\"#bd3786\"],[0.5555555555555556,\"#d8576b\"],[0.6666666666666666,\"#ed7953\"],[0.7777777777777778,\"#fb9f3a\"],[0.8888888888888888,\"#fdca26\"],[1.0,\"#f0f921\"]],\"sequentialminus\":[[0.0,\"#0d0887\"],[0.1111111111111111,\"#46039f\"],[0.2222222222222222,\"#7201a8\"],[0.3333333333333333,\"#9c179e\"],[0.4444444444444444,\"#bd3786\"],[0.5555555555555556,\"#d8576b\"],[0.6666666666666666,\"#ed7953\"],[0.7777777777777778,\"#fb9f3a\"],[0.8888888888888888,\"#fdca26\"],[1.0,\"#f0f921\"]]},\"colorway\":[\"#636efa\",\"#EF553B\",\"#00cc96\",\"#ab63fa\",\"#FFA15A\",\"#19d3f3\",\"#FF6692\",\"#B6E880\",\"#FF97FF\",\"#FECB52\"],\"font\":{\"color\":\"#2a3f5f\"},\"geo\":{\"bgcolor\":\"white\",\"lakecolor\":\"white\",\"landcolor\":\"#E5ECF6\",\"showlakes\":true,\"showland\":true,\"subunitcolor\":\"white\"},\"hoverlabel\":{\"align\":\"left\"},\"hovermode\":\"closest\",\"mapbox\":{\"style\":\"light\"},\"paper_bgcolor\":\"white\",\"plot_bgcolor\":\"#E5ECF6\",\"polar\":{\"angularaxis\":{\"gridcolor\":\"white\",\"linecolor\":\"white\",\"ticks\":\"\"},\"bgcolor\":\"#E5ECF6\",\"radialaxis\":{\"gridcolor\":\"white\",\"linecolor\":\"white\",\"ticks\":\"\"}},\"scene\":{\"xaxis\":{\"backgroundcolor\":\"#E5ECF6\",\"gridcolor\":\"white\",\"gridwidth\":2,\"linecolor\":\"white\",\"showbackground\":true,\"ticks\":\"\",\"zerolinecolor\":\"white\"},\"yaxis\":{\"backgroundcolor\":\"#E5ECF6\",\"gridcolor\":\"white\",\"gridwidth\":2,\"linecolor\":\"white\",\"showbackground\":true,\"ticks\":\"\",\"zerolinecolor\":\"white\"},\"zaxis\":{\"backgroundcolor\":\"#E5ECF6\",\"gridcolor\":\"white\",\"gridwidth\":2,\"linecolor\":\"white\",\"showbackground\":true,\"ticks\":\"\",\"zerolinecolor\":\"white\"}},\"shapedefaults\":{\"line\":{\"color\":\"#2a3f5f\"}},\"ternary\":{\"aaxis\":{\"gridcolor\":\"white\",\"linecolor\":\"white\",\"ticks\":\"\"},\"baxis\":{\"gridcolor\":\"white\",\"linecolor\":\"white\",\"ticks\":\"\"},\"bgcolor\":\"#E5ECF6\",\"caxis\":{\"gridcolor\":\"white\",\"linecolor\":\"white\",\"ticks\":\"\"}},\"title\":{\"x\":0.05},\"xaxis\":{\"automargin\":true,\"gridcolor\":\"white\",\"linecolor\":\"white\",\"ticks\":\"\",\"title\":{\"standoff\":15},\"zerolinecolor\":\"white\",\"zerolinewidth\":2},\"yaxis\":{\"automargin\":true,\"gridcolor\":\"white\",\"linecolor\":\"white\",\"ticks\":\"\",\"title\":{\"standoff\":15},\"zerolinecolor\":\"white\",\"zerolinewidth\":2}}},\"title\":{\"font\":{\"color\":\"#4D5663\"}},\"xaxis\":{\"gridcolor\":\"#E1E5ED\",\"showgrid\":true,\"tickfont\":{\"color\":\"#4D5663\"},\"title\":{\"font\":{\"color\":\"#4D5663\"},\"text\":\"\"},\"zerolinecolor\":\"#E1E5ED\"},\"yaxis\":{\"gridcolor\":\"#E1E5ED\",\"showgrid\":true,\"tickfont\":{\"color\":\"#4D5663\"},\"title\":{\"font\":{\"color\":\"#4D5663\"},\"text\":\"\"},\"zerolinecolor\":\"#E1E5ED\"}},                        {\"showLink\": true, \"linkText\": \"Export to plot.ly\", \"plotlyServerURL\": \"https://plot.ly\", \"responsive\": true}                    ).then(function(){\n",
       "                            \n",
       "var gd = document.getElementById('c8f3bf10-868b-4181-97be-3aff9f7c79bd');\n",
       "var x = new MutationObserver(function (mutations, observer) {{\n",
       "        var display = window.getComputedStyle(gd).display;\n",
       "        if (!display || display === 'none') {{\n",
       "            console.log([gd, 'removed!']);\n",
       "            Plotly.purge(gd);\n",
       "            observer.disconnect();\n",
       "        }}\n",
       "}});\n",
       "\n",
       "// Listen for the removal of the full notebook cells\n",
       "var notebookContainer = gd.closest('#notebook-container');\n",
       "if (notebookContainer) {{\n",
       "    x.observe(notebookContainer, {childList: true});\n",
       "}}\n",
       "\n",
       "// Listen for the clearing of the current output cell\n",
       "var outputEl = gd.closest('.output');\n",
       "if (outputEl) {{\n",
       "    x.observe(outputEl, {childList: true});\n",
       "}}\n",
       "\n",
       "                        })                };                });            </script>        </div>"
      ]
     },
     "metadata": {},
     "output_type": "display_data"
    }
   ],
   "source": [
    "df2.iplot(kind='bar',x='Category',y='Values')"
   ]
  },
  {
   "cell_type": "code",
   "execution_count": 12,
   "metadata": {
    "collapsed": false,
    "jupyter": {
     "outputs_hidden": false
    }
   },
   "outputs": [
    {
     "data": {
      "application/vnd.plotly.v1+json": {
       "config": {
        "linkText": "Export to plot.ly",
        "plotlyServerURL": "https://plot.ly",
        "showLink": true
       },
       "data": [
        {
         "marker": {
          "color": "rgba(255, 153, 51, 0.6)",
          "line": {
           "color": "rgba(255, 153, 51, 1.0)",
           "width": 1
          }
         },
         "name": "None",
         "orientation": "v",
         "text": "",
         "type": "bar",
         "x": [
          "A",
          "B",
          "C",
          "D"
         ],
         "y": [
          100,
          100,
          100,
          100
         ]
        }
       ],
       "layout": {
        "autosize": true,
        "legend": {
         "bgcolor": "#F5F6F9",
         "font": {
          "color": "#4D5663"
         }
        },
        "paper_bgcolor": "#F5F6F9",
        "plot_bgcolor": "#F5F6F9",
        "template": {
         "data": {
          "bar": [
           {
            "error_x": {
             "color": "#2a3f5f"
            },
            "error_y": {
             "color": "#2a3f5f"
            },
            "marker": {
             "line": {
              "color": "#E5ECF6",
              "width": 0.5
             },
             "pattern": {
              "fillmode": "overlay",
              "size": 10,
              "solidity": 0.2
             }
            },
            "type": "bar"
           }
          ],
          "barpolar": [
           {
            "marker": {
             "line": {
              "color": "#E5ECF6",
              "width": 0.5
             },
             "pattern": {
              "fillmode": "overlay",
              "size": 10,
              "solidity": 0.2
             }
            },
            "type": "barpolar"
           }
          ],
          "carpet": [
           {
            "aaxis": {
             "endlinecolor": "#2a3f5f",
             "gridcolor": "white",
             "linecolor": "white",
             "minorgridcolor": "white",
             "startlinecolor": "#2a3f5f"
            },
            "baxis": {
             "endlinecolor": "#2a3f5f",
             "gridcolor": "white",
             "linecolor": "white",
             "minorgridcolor": "white",
             "startlinecolor": "#2a3f5f"
            },
            "type": "carpet"
           }
          ],
          "choropleth": [
           {
            "colorbar": {
             "outlinewidth": 0,
             "ticks": ""
            },
            "type": "choropleth"
           }
          ],
          "contour": [
           {
            "colorbar": {
             "outlinewidth": 0,
             "ticks": ""
            },
            "colorscale": [
             [
              0,
              "#0d0887"
             ],
             [
              0.1111111111111111,
              "#46039f"
             ],
             [
              0.2222222222222222,
              "#7201a8"
             ],
             [
              0.3333333333333333,
              "#9c179e"
             ],
             [
              0.4444444444444444,
              "#bd3786"
             ],
             [
              0.5555555555555556,
              "#d8576b"
             ],
             [
              0.6666666666666666,
              "#ed7953"
             ],
             [
              0.7777777777777778,
              "#fb9f3a"
             ],
             [
              0.8888888888888888,
              "#fdca26"
             ],
             [
              1,
              "#f0f921"
             ]
            ],
            "type": "contour"
           }
          ],
          "contourcarpet": [
           {
            "colorbar": {
             "outlinewidth": 0,
             "ticks": ""
            },
            "type": "contourcarpet"
           }
          ],
          "heatmap": [
           {
            "colorbar": {
             "outlinewidth": 0,
             "ticks": ""
            },
            "colorscale": [
             [
              0,
              "#0d0887"
             ],
             [
              0.1111111111111111,
              "#46039f"
             ],
             [
              0.2222222222222222,
              "#7201a8"
             ],
             [
              0.3333333333333333,
              "#9c179e"
             ],
             [
              0.4444444444444444,
              "#bd3786"
             ],
             [
              0.5555555555555556,
              "#d8576b"
             ],
             [
              0.6666666666666666,
              "#ed7953"
             ],
             [
              0.7777777777777778,
              "#fb9f3a"
             ],
             [
              0.8888888888888888,
              "#fdca26"
             ],
             [
              1,
              "#f0f921"
             ]
            ],
            "type": "heatmap"
           }
          ],
          "heatmapgl": [
           {
            "colorbar": {
             "outlinewidth": 0,
             "ticks": ""
            },
            "colorscale": [
             [
              0,
              "#0d0887"
             ],
             [
              0.1111111111111111,
              "#46039f"
             ],
             [
              0.2222222222222222,
              "#7201a8"
             ],
             [
              0.3333333333333333,
              "#9c179e"
             ],
             [
              0.4444444444444444,
              "#bd3786"
             ],
             [
              0.5555555555555556,
              "#d8576b"
             ],
             [
              0.6666666666666666,
              "#ed7953"
             ],
             [
              0.7777777777777778,
              "#fb9f3a"
             ],
             [
              0.8888888888888888,
              "#fdca26"
             ],
             [
              1,
              "#f0f921"
             ]
            ],
            "type": "heatmapgl"
           }
          ],
          "histogram": [
           {
            "marker": {
             "pattern": {
              "fillmode": "overlay",
              "size": 10,
              "solidity": 0.2
             }
            },
            "type": "histogram"
           }
          ],
          "histogram2d": [
           {
            "colorbar": {
             "outlinewidth": 0,
             "ticks": ""
            },
            "colorscale": [
             [
              0,
              "#0d0887"
             ],
             [
              0.1111111111111111,
              "#46039f"
             ],
             [
              0.2222222222222222,
              "#7201a8"
             ],
             [
              0.3333333333333333,
              "#9c179e"
             ],
             [
              0.4444444444444444,
              "#bd3786"
             ],
             [
              0.5555555555555556,
              "#d8576b"
             ],
             [
              0.6666666666666666,
              "#ed7953"
             ],
             [
              0.7777777777777778,
              "#fb9f3a"
             ],
             [
              0.8888888888888888,
              "#fdca26"
             ],
             [
              1,
              "#f0f921"
             ]
            ],
            "type": "histogram2d"
           }
          ],
          "histogram2dcontour": [
           {
            "colorbar": {
             "outlinewidth": 0,
             "ticks": ""
            },
            "colorscale": [
             [
              0,
              "#0d0887"
             ],
             [
              0.1111111111111111,
              "#46039f"
             ],
             [
              0.2222222222222222,
              "#7201a8"
             ],
             [
              0.3333333333333333,
              "#9c179e"
             ],
             [
              0.4444444444444444,
              "#bd3786"
             ],
             [
              0.5555555555555556,
              "#d8576b"
             ],
             [
              0.6666666666666666,
              "#ed7953"
             ],
             [
              0.7777777777777778,
              "#fb9f3a"
             ],
             [
              0.8888888888888888,
              "#fdca26"
             ],
             [
              1,
              "#f0f921"
             ]
            ],
            "type": "histogram2dcontour"
           }
          ],
          "mesh3d": [
           {
            "colorbar": {
             "outlinewidth": 0,
             "ticks": ""
            },
            "type": "mesh3d"
           }
          ],
          "parcoords": [
           {
            "line": {
             "colorbar": {
              "outlinewidth": 0,
              "ticks": ""
             }
            },
            "type": "parcoords"
           }
          ],
          "pie": [
           {
            "automargin": true,
            "type": "pie"
           }
          ],
          "scatter": [
           {
            "fillpattern": {
             "fillmode": "overlay",
             "size": 10,
             "solidity": 0.2
            },
            "type": "scatter"
           }
          ],
          "scatter3d": [
           {
            "line": {
             "colorbar": {
              "outlinewidth": 0,
              "ticks": ""
             }
            },
            "marker": {
             "colorbar": {
              "outlinewidth": 0,
              "ticks": ""
             }
            },
            "type": "scatter3d"
           }
          ],
          "scattercarpet": [
           {
            "marker": {
             "colorbar": {
              "outlinewidth": 0,
              "ticks": ""
             }
            },
            "type": "scattercarpet"
           }
          ],
          "scattergeo": [
           {
            "marker": {
             "colorbar": {
              "outlinewidth": 0,
              "ticks": ""
             }
            },
            "type": "scattergeo"
           }
          ],
          "scattergl": [
           {
            "marker": {
             "colorbar": {
              "outlinewidth": 0,
              "ticks": ""
             }
            },
            "type": "scattergl"
           }
          ],
          "scattermapbox": [
           {
            "marker": {
             "colorbar": {
              "outlinewidth": 0,
              "ticks": ""
             }
            },
            "type": "scattermapbox"
           }
          ],
          "scatterpolar": [
           {
            "marker": {
             "colorbar": {
              "outlinewidth": 0,
              "ticks": ""
             }
            },
            "type": "scatterpolar"
           }
          ],
          "scatterpolargl": [
           {
            "marker": {
             "colorbar": {
              "outlinewidth": 0,
              "ticks": ""
             }
            },
            "type": "scatterpolargl"
           }
          ],
          "scatterternary": [
           {
            "marker": {
             "colorbar": {
              "outlinewidth": 0,
              "ticks": ""
             }
            },
            "type": "scatterternary"
           }
          ],
          "surface": [
           {
            "colorbar": {
             "outlinewidth": 0,
             "ticks": ""
            },
            "colorscale": [
             [
              0,
              "#0d0887"
             ],
             [
              0.1111111111111111,
              "#46039f"
             ],
             [
              0.2222222222222222,
              "#7201a8"
             ],
             [
              0.3333333333333333,
              "#9c179e"
             ],
             [
              0.4444444444444444,
              "#bd3786"
             ],
             [
              0.5555555555555556,
              "#d8576b"
             ],
             [
              0.6666666666666666,
              "#ed7953"
             ],
             [
              0.7777777777777778,
              "#fb9f3a"
             ],
             [
              0.8888888888888888,
              "#fdca26"
             ],
             [
              1,
              "#f0f921"
             ]
            ],
            "type": "surface"
           }
          ],
          "table": [
           {
            "cells": {
             "fill": {
              "color": "#EBF0F8"
             },
             "line": {
              "color": "white"
             }
            },
            "header": {
             "fill": {
              "color": "#C8D4E3"
             },
             "line": {
              "color": "white"
             }
            },
            "type": "table"
           }
          ]
         },
         "layout": {
          "annotationdefaults": {
           "arrowcolor": "#2a3f5f",
           "arrowhead": 0,
           "arrowwidth": 1
          },
          "autotypenumbers": "strict",
          "coloraxis": {
           "colorbar": {
            "outlinewidth": 0,
            "ticks": ""
           }
          },
          "colorscale": {
           "diverging": [
            [
             0,
             "#8e0152"
            ],
            [
             0.1,
             "#c51b7d"
            ],
            [
             0.2,
             "#de77ae"
            ],
            [
             0.3,
             "#f1b6da"
            ],
            [
             0.4,
             "#fde0ef"
            ],
            [
             0.5,
             "#f7f7f7"
            ],
            [
             0.6,
             "#e6f5d0"
            ],
            [
             0.7,
             "#b8e186"
            ],
            [
             0.8,
             "#7fbc41"
            ],
            [
             0.9,
             "#4d9221"
            ],
            [
             1,
             "#276419"
            ]
           ],
           "sequential": [
            [
             0,
             "#0d0887"
            ],
            [
             0.1111111111111111,
             "#46039f"
            ],
            [
             0.2222222222222222,
             "#7201a8"
            ],
            [
             0.3333333333333333,
             "#9c179e"
            ],
            [
             0.4444444444444444,
             "#bd3786"
            ],
            [
             0.5555555555555556,
             "#d8576b"
            ],
            [
             0.6666666666666666,
             "#ed7953"
            ],
            [
             0.7777777777777778,
             "#fb9f3a"
            ],
            [
             0.8888888888888888,
             "#fdca26"
            ],
            [
             1,
             "#f0f921"
            ]
           ],
           "sequentialminus": [
            [
             0,
             "#0d0887"
            ],
            [
             0.1111111111111111,
             "#46039f"
            ],
            [
             0.2222222222222222,
             "#7201a8"
            ],
            [
             0.3333333333333333,
             "#9c179e"
            ],
            [
             0.4444444444444444,
             "#bd3786"
            ],
            [
             0.5555555555555556,
             "#d8576b"
            ],
            [
             0.6666666666666666,
             "#ed7953"
            ],
            [
             0.7777777777777778,
             "#fb9f3a"
            ],
            [
             0.8888888888888888,
             "#fdca26"
            ],
            [
             1,
             "#f0f921"
            ]
           ]
          },
          "colorway": [
           "#636efa",
           "#EF553B",
           "#00cc96",
           "#ab63fa",
           "#FFA15A",
           "#19d3f3",
           "#FF6692",
           "#B6E880",
           "#FF97FF",
           "#FECB52"
          ],
          "font": {
           "color": "#2a3f5f"
          },
          "geo": {
           "bgcolor": "white",
           "lakecolor": "white",
           "landcolor": "#E5ECF6",
           "showlakes": true,
           "showland": true,
           "subunitcolor": "white"
          },
          "hoverlabel": {
           "align": "left"
          },
          "hovermode": "closest",
          "mapbox": {
           "style": "light"
          },
          "paper_bgcolor": "white",
          "plot_bgcolor": "#E5ECF6",
          "polar": {
           "angularaxis": {
            "gridcolor": "white",
            "linecolor": "white",
            "ticks": ""
           },
           "bgcolor": "#E5ECF6",
           "radialaxis": {
            "gridcolor": "white",
            "linecolor": "white",
            "ticks": ""
           }
          },
          "scene": {
           "xaxis": {
            "backgroundcolor": "#E5ECF6",
            "gridcolor": "white",
            "gridwidth": 2,
            "linecolor": "white",
            "showbackground": true,
            "ticks": "",
            "zerolinecolor": "white"
           },
           "yaxis": {
            "backgroundcolor": "#E5ECF6",
            "gridcolor": "white",
            "gridwidth": 2,
            "linecolor": "white",
            "showbackground": true,
            "ticks": "",
            "zerolinecolor": "white"
           },
           "zaxis": {
            "backgroundcolor": "#E5ECF6",
            "gridcolor": "white",
            "gridwidth": 2,
            "linecolor": "white",
            "showbackground": true,
            "ticks": "",
            "zerolinecolor": "white"
           }
          },
          "shapedefaults": {
           "line": {
            "color": "#2a3f5f"
           }
          },
          "ternary": {
           "aaxis": {
            "gridcolor": "white",
            "linecolor": "white",
            "ticks": ""
           },
           "baxis": {
            "gridcolor": "white",
            "linecolor": "white",
            "ticks": ""
           },
           "bgcolor": "#E5ECF6",
           "caxis": {
            "gridcolor": "white",
            "linecolor": "white",
            "ticks": ""
           }
          },
          "title": {
           "x": 0.05
          },
          "xaxis": {
           "automargin": true,
           "gridcolor": "white",
           "linecolor": "white",
           "ticks": "",
           "title": {
            "standoff": 15
           },
           "zerolinecolor": "white",
           "zerolinewidth": 2
          },
          "yaxis": {
           "automargin": true,
           "gridcolor": "white",
           "linecolor": "white",
           "ticks": "",
           "title": {
            "standoff": 15
           },
           "zerolinecolor": "white",
           "zerolinewidth": 2
          }
         }
        },
        "title": {
         "font": {
          "color": "#4D5663"
         }
        },
        "xaxis": {
         "autorange": true,
         "gridcolor": "#E1E5ED",
         "range": [
          -0.5,
          3.5
         ],
         "showgrid": true,
         "tickfont": {
          "color": "#4D5663"
         },
         "title": {
          "font": {
           "color": "#4D5663"
          },
          "text": ""
         },
         "type": "category",
         "zerolinecolor": "#E1E5ED"
        },
        "yaxis": {
         "autorange": true,
         "gridcolor": "#E1E5ED",
         "range": [
          0,
          105.26315789473684
         ],
         "showgrid": true,
         "tickfont": {
          "color": "#4D5663"
         },
         "title": {
          "font": {
           "color": "#4D5663"
          },
          "text": ""
         },
         "type": "linear",
         "zerolinecolor": "#E1E5ED"
        }
       }
      },
      "image/png": "[encoded data removed]",
      "text/html": [
       "<div>                            <div id=\"e4b2a427-926d-40ef-8438-fee5c4861a4c\" class=\"plotly-graph-div\" style=\"height:525px; width:100%;\"></div>            <script type=\"text/javascript\">                require([\"plotly\"], function(Plotly) {                    window.PLOTLYENV=window.PLOTLYENV || {};\n",
       "                    window.PLOTLYENV.BASE_URL='https://plot.ly';                                    if (document.getElementById(\"e4b2a427-926d-40ef-8438-fee5c4861a4c\")) {                    Plotly.newPlot(                        \"e4b2a427-926d-40ef-8438-fee5c4861a4c\",                        [{\"marker\":{\"color\":\"rgba(255, 153, 51, 0.6)\",\"line\":{\"color\":\"rgba(255, 153, 51, 1.0)\",\"width\":1}},\"name\":\"None\",\"orientation\":\"v\",\"text\":\"\",\"x\":[\"A\",\"B\",\"C\",\"D\"],\"y\":[100,100,100,100],\"type\":\"bar\"}],                        {\"legend\":{\"bgcolor\":\"#F5F6F9\",\"font\":{\"color\":\"#4D5663\"}},\"paper_bgcolor\":\"#F5F6F9\",\"plot_bgcolor\":\"#F5F6F9\",\"template\":{\"data\":{\"barpolar\":[{\"marker\":{\"line\":{\"color\":\"#E5ECF6\",\"width\":0.5},\"pattern\":{\"fillmode\":\"overlay\",\"size\":10,\"solidity\":0.2}},\"type\":\"barpolar\"}],\"bar\":[{\"error_x\":{\"color\":\"#2a3f5f\"},\"error_y\":{\"color\":\"#2a3f5f\"},\"marker\":{\"line\":{\"color\":\"#E5ECF6\",\"width\":0.5},\"pattern\":{\"fillmode\":\"overlay\",\"size\":10,\"solidity\":0.2}},\"type\":\"bar\"}],\"carpet\":[{\"aaxis\":{\"endlinecolor\":\"#2a3f5f\",\"gridcolor\":\"white\",\"linecolor\":\"white\",\"minorgridcolor\":\"white\",\"startlinecolor\":\"#2a3f5f\"},\"baxis\":{\"endlinecolor\":\"#2a3f5f\",\"gridcolor\":\"white\",\"linecolor\":\"white\",\"minorgridcolor\":\"white\",\"startlinecolor\":\"#2a3f5f\"},\"type\":\"carpet\"}],\"choropleth\":[{\"colorbar\":{\"outlinewidth\":0,\"ticks\":\"\"},\"type\":\"choropleth\"}],\"contourcarpet\":[{\"colorbar\":{\"outlinewidth\":0,\"ticks\":\"\"},\"type\":\"contourcarpet\"}],\"contour\":[{\"colorbar\":{\"outlinewidth\":0,\"ticks\":\"\"},\"colorscale\":[[0.0,\"#0d0887\"],[0.1111111111111111,\"#46039f\"],[0.2222222222222222,\"#7201a8\"],[0.3333333333333333,\"#9c179e\"],[0.4444444444444444,\"#bd3786\"],[0.5555555555555556,\"#d8576b\"],[0.6666666666666666,\"#ed7953\"],[0.7777777777777778,\"#fb9f3a\"],[0.8888888888888888,\"#fdca26\"],[1.0,\"#f0f921\"]],\"type\":\"contour\"}],\"heatmapgl\":[{\"colorbar\":{\"outlinewidth\":0,\"ticks\":\"\"},\"colorscale\":[[0.0,\"#0d0887\"],[0.1111111111111111,\"#46039f\"],[0.2222222222222222,\"#7201a8\"],[0.3333333333333333,\"#9c179e\"],[0.4444444444444444,\"#bd3786\"],[0.5555555555555556,\"#d8576b\"],[0.6666666666666666,\"#ed7953\"],[0.7777777777777778,\"#fb9f3a\"],[0.8888888888888888,\"#fdca26\"],[1.0,\"#f0f921\"]],\"type\":\"heatmapgl\"}],\"heatmap\":[{\"colorbar\":{\"outlinewidth\":0,\"ticks\":\"\"},\"colorscale\":[[0.0,\"#0d0887\"],[0.1111111111111111,\"#46039f\"],[0.2222222222222222,\"#7201a8\"],[0.3333333333333333,\"#9c179e\"],[0.4444444444444444,\"#bd3786\"],[0.5555555555555556,\"#d8576b\"],[0.6666666666666666,\"#ed7953\"],[0.7777777777777778,\"#fb9f3a\"],[0.8888888888888888,\"#fdca26\"],[1.0,\"#f0f921\"]],\"type\":\"heatmap\"}],\"histogram2dcontour\":[{\"colorbar\":{\"outlinewidth\":0,\"ticks\":\"\"},\"colorscale\":[[0.0,\"#0d0887\"],[0.1111111111111111,\"#46039f\"],[0.2222222222222222,\"#7201a8\"],[0.3333333333333333,\"#9c179e\"],[0.4444444444444444,\"#bd3786\"],[0.5555555555555556,\"#d8576b\"],[0.6666666666666666,\"#ed7953\"],[0.7777777777777778,\"#fb9f3a\"],[0.8888888888888888,\"#fdca26\"],[1.0,\"#f0f921\"]],\"type\":\"histogram2dcontour\"}],\"histogram2d\":[{\"colorbar\":{\"outlinewidth\":0,\"ticks\":\"\"},\"colorscale\":[[0.0,\"#0d0887\"],[0.1111111111111111,\"#46039f\"],[0.2222222222222222,\"#7201a8\"],[0.3333333333333333,\"#9c179e\"],[0.4444444444444444,\"#bd3786\"],[0.5555555555555556,\"#d8576b\"],[0.6666666666666666,\"#ed7953\"],[0.7777777777777778,\"#fb9f3a\"],[0.8888888888888888,\"#fdca26\"],[1.0,\"#f0f921\"]],\"type\":\"histogram2d\"}],\"histogram\":[{\"marker\":{\"pattern\":{\"fillmode\":\"overlay\",\"size\":10,\"solidity\":0.2}},\"type\":\"histogram\"}],\"mesh3d\":[{\"colorbar\":{\"outlinewidth\":0,\"ticks\":\"\"},\"type\":\"mesh3d\"}],\"parcoords\":[{\"line\":{\"colorbar\":{\"outlinewidth\":0,\"ticks\":\"\"}},\"type\":\"parcoords\"}],\"pie\":[{\"automargin\":true,\"type\":\"pie\"}],\"scatter3d\":[{\"line\":{\"colorbar\":{\"outlinewidth\":0,\"ticks\":\"\"}},\"marker\":{\"colorbar\":{\"outlinewidth\":0,\"ticks\":\"\"}},\"type\":\"scatter3d\"}],\"scattercarpet\":[{\"marker\":{\"colorbar\":{\"outlinewidth\":0,\"ticks\":\"\"}},\"type\":\"scattercarpet\"}],\"scattergeo\":[{\"marker\":{\"colorbar\":{\"outlinewidth\":0,\"ticks\":\"\"}},\"type\":\"scattergeo\"}],\"scattergl\":[{\"marker\":{\"colorbar\":{\"outlinewidth\":0,\"ticks\":\"\"}},\"type\":\"scattergl\"}],\"scattermapbox\":[{\"marker\":{\"colorbar\":{\"outlinewidth\":0,\"ticks\":\"\"}},\"type\":\"scattermapbox\"}],\"scatterpolargl\":[{\"marker\":{\"colorbar\":{\"outlinewidth\":0,\"ticks\":\"\"}},\"type\":\"scatterpolargl\"}],\"scatterpolar\":[{\"marker\":{\"colorbar\":{\"outlinewidth\":0,\"ticks\":\"\"}},\"type\":\"scatterpolar\"}],\"scatter\":[{\"fillpattern\":{\"fillmode\":\"overlay\",\"size\":10,\"solidity\":0.2},\"type\":\"scatter\"}],\"scatterternary\":[{\"marker\":{\"colorbar\":{\"outlinewidth\":0,\"ticks\":\"\"}},\"type\":\"scatterternary\"}],\"surface\":[{\"colorbar\":{\"outlinewidth\":0,\"ticks\":\"\"},\"colorscale\":[[0.0,\"#0d0887\"],[0.1111111111111111,\"#46039f\"],[0.2222222222222222,\"#7201a8\"],[0.3333333333333333,\"#9c179e\"],[0.4444444444444444,\"#bd3786\"],[0.5555555555555556,\"#d8576b\"],[0.6666666666666666,\"#ed7953\"],[0.7777777777777778,\"#fb9f3a\"],[0.8888888888888888,\"#fdca26\"],[1.0,\"#f0f921\"]],\"type\":\"surface\"}],\"table\":[{\"cells\":{\"fill\":{\"color\":\"#EBF0F8\"},\"line\":{\"color\":\"white\"}},\"header\":{\"fill\":{\"color\":\"#C8D4E3\"},\"line\":{\"color\":\"white\"}},\"type\":\"table\"}]},\"layout\":{\"annotationdefaults\":{\"arrowcolor\":\"#2a3f5f\",\"arrowhead\":0,\"arrowwidth\":1},\"autotypenumbers\":\"strict\",\"coloraxis\":{\"colorbar\":{\"outlinewidth\":0,\"ticks\":\"\"}},\"colorscale\":{\"diverging\":[[0,\"#8e0152\"],[0.1,\"#c51b7d\"],[0.2,\"#de77ae\"],[0.3,\"#f1b6da\"],[0.4,\"#fde0ef\"],[0.5,\"#f7f7f7\"],[0.6,\"#e6f5d0\"],[0.7,\"#b8e186\"],[0.8,\"#7fbc41\"],[0.9,\"#4d9221\"],[1,\"#276419\"]],\"sequential\":[[0.0,\"#0d0887\"],[0.1111111111111111,\"#46039f\"],[0.2222222222222222,\"#7201a8\"],[0.3333333333333333,\"#9c179e\"],[0.4444444444444444,\"#bd3786\"],[0.5555555555555556,\"#d8576b\"],[0.6666666666666666,\"#ed7953\"],[0.7777777777777778,\"#fb9f3a\"],[0.8888888888888888,\"#fdca26\"],[1.0,\"#f0f921\"]],\"sequentialminus\":[[0.0,\"#0d0887\"],[0.1111111111111111,\"#46039f\"],[0.2222222222222222,\"#7201a8\"],[0.3333333333333333,\"#9c179e\"],[0.4444444444444444,\"#bd3786\"],[0.5555555555555556,\"#d8576b\"],[0.6666666666666666,\"#ed7953\"],[0.7777777777777778,\"#fb9f3a\"],[0.8888888888888888,\"#fdca26\"],[1.0,\"#f0f921\"]]},\"colorway\":[\"#636efa\",\"#EF553B\",\"#00cc96\",\"#ab63fa\",\"#FFA15A\",\"#19d3f3\",\"#FF6692\",\"#B6E880\",\"#FF97FF\",\"#FECB52\"],\"font\":{\"color\":\"#2a3f5f\"},\"geo\":{\"bgcolor\":\"white\",\"lakecolor\":\"white\",\"landcolor\":\"#E5ECF6\",\"showlakes\":true,\"showland\":true,\"subunitcolor\":\"white\"},\"hoverlabel\":{\"align\":\"left\"},\"hovermode\":\"closest\",\"mapbox\":{\"style\":\"light\"},\"paper_bgcolor\":\"white\",\"plot_bgcolor\":\"#E5ECF6\",\"polar\":{\"angularaxis\":{\"gridcolor\":\"white\",\"linecolor\":\"white\",\"ticks\":\"\"},\"bgcolor\":\"#E5ECF6\",\"radialaxis\":{\"gridcolor\":\"white\",\"linecolor\":\"white\",\"ticks\":\"\"}},\"scene\":{\"xaxis\":{\"backgroundcolor\":\"#E5ECF6\",\"gridcolor\":\"white\",\"gridwidth\":2,\"linecolor\":\"white\",\"showbackground\":true,\"ticks\":\"\",\"zerolinecolor\":\"white\"},\"yaxis\":{\"backgroundcolor\":\"#E5ECF6\",\"gridcolor\":\"white\",\"gridwidth\":2,\"linecolor\":\"white\",\"showbackground\":true,\"ticks\":\"\",\"zerolinecolor\":\"white\"},\"zaxis\":{\"backgroundcolor\":\"#E5ECF6\",\"gridcolor\":\"white\",\"gridwidth\":2,\"linecolor\":\"white\",\"showbackground\":true,\"ticks\":\"\",\"zerolinecolor\":\"white\"}},\"shapedefaults\":{\"line\":{\"color\":\"#2a3f5f\"}},\"ternary\":{\"aaxis\":{\"gridcolor\":\"white\",\"linecolor\":\"white\",\"ticks\":\"\"},\"baxis\":{\"gridcolor\":\"white\",\"linecolor\":\"white\",\"ticks\":\"\"},\"bgcolor\":\"#E5ECF6\",\"caxis\":{\"gridcolor\":\"white\",\"linecolor\":\"white\",\"ticks\":\"\"}},\"title\":{\"x\":0.05},\"xaxis\":{\"automargin\":true,\"gridcolor\":\"white\",\"linecolor\":\"white\",\"ticks\":\"\",\"title\":{\"standoff\":15},\"zerolinecolor\":\"white\",\"zerolinewidth\":2},\"yaxis\":{\"automargin\":true,\"gridcolor\":\"white\",\"linecolor\":\"white\",\"ticks\":\"\",\"title\":{\"standoff\":15},\"zerolinecolor\":\"white\",\"zerolinewidth\":2}}},\"title\":{\"font\":{\"color\":\"#4D5663\"}},\"xaxis\":{\"gridcolor\":\"#E1E5ED\",\"showgrid\":true,\"tickfont\":{\"color\":\"#4D5663\"},\"title\":{\"font\":{\"color\":\"#4D5663\"},\"text\":\"\"},\"zerolinecolor\":\"#E1E5ED\"},\"yaxis\":{\"gridcolor\":\"#E1E5ED\",\"showgrid\":true,\"tickfont\":{\"color\":\"#4D5663\"},\"title\":{\"font\":{\"color\":\"#4D5663\"},\"text\":\"\"},\"zerolinecolor\":\"#E1E5ED\"}},                        {\"showLink\": true, \"linkText\": \"Export to plot.ly\", \"plotlyServerURL\": \"https://plot.ly\", \"responsive\": true}                    ).then(function(){\n",
       "                            \n",
       "var gd = document.getElementById('e4b2a427-926d-40ef-8438-fee5c4861a4c');\n",
       "var x = new MutationObserver(function (mutations, observer) {{\n",
       "        var display = window.getComputedStyle(gd).display;\n",
       "        if (!display || display === 'none') {{\n",
       "            console.log([gd, 'removed!']);\n",
       "            Plotly.purge(gd);\n",
       "            observer.disconnect();\n",
       "        }}\n",
       "}});\n",
       "\n",
       "// Listen for the removal of the full notebook cells\n",
       "var notebookContainer = gd.closest('#notebook-container');\n",
       "if (notebookContainer) {{\n",
       "    x.observe(notebookContainer, {childList: true});\n",
       "}}\n",
       "\n",
       "// Listen for the clearing of the current output cell\n",
       "var outputEl = gd.closest('.output');\n",
       "if (outputEl) {{\n",
       "    x.observe(outputEl, {childList: true});\n",
       "}}\n",
       "\n",
       "                        })                };                });            </script>        </div>"
      ]
     },
     "metadata": {},
     "output_type": "display_data"
    }
   ],
   "source": [
    "df.count().iplot(kind='bar')"
   ]
  },
  {
   "cell_type": "markdown",
   "metadata": {},
   "source": [
    "## Boxplots"
   ]
  },
  {
   "cell_type": "code",
   "execution_count": 13,
   "metadata": {
    "collapsed": false,
    "jupyter": {
     "outputs_hidden": false
    }
   },
   "outputs": [
    {
     "data": {
      "application/vnd.plotly.v1+json": {
       "config": {
        "linkText": "Export to plot.ly",
        "plotlyServerURL": "https://plot.ly",
        "showLink": true
       },
       "data": [
        {
         "boxpoints": false,
         "line": {
          "width": 1.3
         },
         "marker": {
          "color": "rgba(255, 153, 51, 1.0)"
         },
         "name": "A",
         "orientation": "v",
         "type": "box",
         "y": [
          -0.014182249911513891,
          -0.7990367681886373,
          0.6591194910503083,
          1.998829472768256,
          1.354928704711035,
          -0.1371167194422425,
          0.4333354482330215,
          0.49267447183888413,
          1.3858792197389416,
          0.4676724923040728,
          0.4849888456465899,
          0.45149705620233,
          -0.1063775758913652,
          -0.6451185663551487,
          0.8357224494240874,
          0.05850278298606873,
          -0.6878280364420764,
          -1.0745550632638445,
          -1.5078604397890385,
          0.40661572837594684,
          0.9800238409731928,
          -1.6325091262235363,
          0.1631019706498342,
          1.4448137969722203,
          0.02513391270452852,
          0.9547946954988611,
          -1.0563585853877604,
          -1.3142901401847198,
          -0.25331664335336507,
          -1.4879385617072196,
          1.7470695903409454,
          -0.48379885894116165,
          -0.9241938987777035,
          0.365712246098989,
          1.221561139279699,
          1.1752904012641878,
          -1.0893692935961712,
          0.05496551530451065,
          -0.2176827297418758,
          -0.0657386185768375,
          1.562769039489702,
          0.13189295528231632,
          -0.4496554338022613,
          1.039717915533698,
          0.6661633287497195,
          1.0294163558425313,
          0.10459497547037343,
          -0.6486758199813077,
          -0.35946559697843306,
          -0.7791403957659999,
          -0.7131422295621813,
          0.3530266789979288,
          -0.5850582350435681,
          -1.228669369831788,
          -0.18193668990025463,
          -1.2251158115222835,
          -2.7313135571757563,
          -1.3901611885307172,
          -0.7668234576924771,
          -0.2740656808576659,
          1.667691642371268,
          0.09675804750002247,
          -0.3993649557252148,
          1.484220094919042,
          -0.07901652159766895,
          -0.26975354473237967,
          0.605978939676668,
          0.008585745532567687,
          -0.49986280262070976,
          0.7050757224054496,
          -0.9825443837523973,
          -0.4903160744754752,
          1.375276764445953,
          0.12104979745920955,
          1.4824150417639876,
          0.2884732149437047,
          1.0647981187455822,
          -0.27941567866192923,
          -0.9575609575401136,
          0.5646814456783594,
          0.08480759312596246,
          0.5456752792982241,
          0.04474730044409539,
          0.3449381645647911,
          1.0989196536617412,
          2.0009367716990374,
          -0.10649601834445481,
          -0.9948925083156563,
          -1.507843017905901,
          -0.04914540079233849,
          0.0015998307786427317,
          0.08871540715131175,
          -0.09513443320348569,
          1.3884170241785447,
          -0.6375754053537689,
          0.5353090243952152,
          0.5058531399900315,
          0.0039000720093066215,
          1.6856477147167694,
          1.0788626909510945
         ]
        },
        {
         "boxpoints": false,
         "line": {
          "width": 1.3
         },
         "marker": {
          "color": "rgba(55, 128, 191, 1.0)"
         },
         "name": "B",
         "orientation": "v",
         "type": "box",
         "y": [
          -1.1379320218666829,
          -0.3695042688257674,
          0.33366871400295456,
          1.0388735929418678,
          0.4271828843031716,
          -0.498185936402757,
          -0.20908624076388696,
          0.2712791092204782,
          0.21699706993337786,
          1.1988640269829076,
          0.5794566696633838,
          -2.051357618538235,
          -0.015027646709790503,
          -0.13221573801207778,
          0.663055581637253,
          2.2383145058851217,
          -0.32920285387233467,
          1.305488093081794,
          -0.6770237846293955,
          1.5655678252443213,
          -0.1579011544726716,
          0.21253336637012768,
          1.1127389828320329,
          -1.5672990177125192,
          0.7781963063214641,
          1.7853350454924075,
          -1.1710195851309133,
          0.686719657893707,
          -0.20731900062966677,
          1.4307503635162753,
          -0.9158903433533209,
          1.4420737367040473,
          -0.6068242423956323,
          1.0694813209111613,
          0.3237652489496514,
          0.18727889105942838,
          1.2922354443050938,
          0.6274525703991168,
          1.014431538504958,
          1.3987744470969865,
          0.4513588324569339,
          -1.021846300012986,
          -1.6695027698585916,
          1.0018097405277842,
          0.42609150355890035,
          1.1071846053066323,
          -0.1509182629517138,
          0.20295227502422822,
          1.4490271833804298,
          0.2893929835183492,
          0.7332741959247728,
          -0.7239745282733993,
          -2.4359443821545694,
          -0.274108614919312,
          -0.713459983647737,
          -0.2231215265407797,
          -0.4897121400859348,
          0.042540095384265224,
          0.7230329717255355,
          0.5938328429046061,
          0.7980677149641997,
          -1.5370942848965226,
          -1.0470516457159909,
          -0.622083709673778,
          -0.6408476173310118,
          -0.7310692143925597,
          2.0558686601072846,
          0.941521271821865,
          0.2797069863850723,
          -1.1987566877959244,
          -0.6453513323275131,
          0.00618299715917338,
          -0.9449907125758524,
          -1.0429632720499713,
          -0.9432951353119565,
          -0.18431998387115714,
          0.19706282189587646,
          1.4093428173112086,
          -2.5459571971591974,
          0.9714641272638906,
          1.3195027949623213,
          1.518096459438159,
          2.892537011972321,
          1.4002055331345225,
          -0.3066405837306535,
          -1.5162024282645241,
          1.1028718578803822,
          1.7491202039361544,
          -0.7352743952166807,
          -1.1327003719731012,
          -0.3439921897436451,
          -0.8142699493133557,
          -0.8421420831214147,
          -2.3611782096734317,
          0.5399222287331542,
          -0.45479909963011805,
          -0.3820645712895226,
          -1.557072716269298,
          -0.4549434306878188,
          0.5782397452939635
         ]
        },
        {
         "boxpoints": false,
         "line": {
          "width": 1.3
         },
         "marker": {
          "color": "rgba(50, 171, 96, 1.0)"
         },
         "name": "C",
         "orientation": "v",
         "type": "box",
         "y": [
          -0.7607527958894249,
          -0.7070143252687979,
          0.9272012698020369,
          0.21914882286396423,
          -0.5179103247789255,
          0.356294717199559,
          -0.2913657335806063,
          0.615671650212997,
          1.6300437774432865,
          -1.20733047509803,
          0.10714857386872174,
          -0.14883163836968605,
          -0.029237448242223914,
          1.0729039566216991,
          -1.1208687152083543,
          0.18328250238357405,
          -0.4537255362327935,
          -0.6033429693845594,
          0.2665249871287445,
          -0.03717218388022126,
          -3.0129873267286196,
          0.20488215053479814,
          -0.1522152064044278,
          0.24185841532262767,
          1.6270732988046244,
          -1.1458764498876082,
          1.276796040856506,
          -0.28148875520174454,
          -0.548738343600119,
          1.380674930062003,
          0.33027139687782614,
          0.5004035180264748,
          -0.1347797094150288,
          -0.33163499606419433,
          -0.7542144755334065,
          0.09636309919988383,
          -0.49054727267449194,
          1.1245919947108491,
          -1.4744546293557332,
          1.9099381989317608,
          -0.7734262917901424,
          -0.9076017148870963,
          -1.8346876911266852,
          -0.6300906543082541,
          0.12820667190314397,
          0.6973881330482086,
          2.004260984196489,
          -0.13553405370576,
          -0.8816929537120686,
          -0.5394996298466653,
          -0.20718808979900927,
          -0.6939747402723065,
          -0.09758639711396831,
          -0.3566888455988846,
          -1.8083956716108365,
          -1.8158027509915093,
          -0.24860659462631232,
          1.332512790069765,
          2.378490943446098,
          1.0890638411756182,
          0.496340149119863,
          -2.275713946946364,
          0.609308109591509,
          0.8260824380473207,
          0.2855790139565881,
          -0.062158990419333204,
          -1.1170492187902588,
          2.2269374856204958,
          0.07058356586829277,
          -0.6980407327713735,
          -1.3018153526869747,
          -0.32361285815799123,
          -0.020598266162581688,
          -1.033214773184867,
          0.2384945575516058,
          -0.30115810030278967,
          -1.308698176806451,
          -0.5206390858316583,
          -0.12985117311091163,
          -1.2175111417431492,
          0.6614508703669855,
          0.3494092579677839,
          0.1860466978933607,
          0.7612711034216268,
          0.37045367429256126,
          -0.6491413856632087,
          -0.6060527423527244,
          -1.7137695802608415,
          0.3241242075283571,
          0.4614032109121203,
          -0.16105175922848006,
          -1.4345970307468745,
          -0.8369483552298032,
          -0.07387646107956655,
          -0.06657310181155189,
          0.16994610203755273,
          -0.2714894942090053,
          -1.1088759265257948,
          -0.004176668473154918,
          1.748833880230194
         ]
        },
        {
         "boxpoints": false,
         "line": {
          "width": 1.3
         },
         "marker": {
          "color": "rgba(128, 0, 128, 1.0)"
         },
         "name": "D",
         "orientation": "v",
         "type": "box",
         "y": [
          0.1751742656209741,
          -0.448826153642509,
          0.5381820031835148,
          0.13244564930818603,
          -0.8900014593731652,
          -0.7047691983918308,
          -0.09990254288735409,
          1.4263274529609322,
          1.465754785817344,
          -0.7384106148318462,
          -1.9257248814183598,
          -1.0721059244982252,
          -0.7089368671559754,
          -0.49095766652426087,
          -1.0779027848109384,
          0.8245267819969098,
          0.048085897075888104,
          -0.07503722459542922,
          -1.7464684708684919,
          -1.3096171450164322,
          -0.9731600008029246,
          -1.2716768795489168,
          -0.8469465703877845,
          0.8259934110119476,
          1.3283555390186081,
          -0.4342034990219628,
          -0.4466879980049857,
          -0.7273986692745659,
          1.2054754634032374,
          -0.1572649646617977,
          -0.6028153073671625,
          0.3844046834517899,
          0.21837463947565822,
          -0.5353319895187307,
          -0.008699530471608843,
          0.7057881249989117,
          -1.2515029914813804,
          -1.140452391309678,
          -0.6877015990283953,
          0.1307615006942522,
          1.238281893532272,
          0.5355594464973679,
          -1.1109889675619573,
          -0.14808944756823528,
          1.1629125454319655,
          0.46648092168703986,
          0.13532924366300256,
          0.6586460674199206,
          -0.743819602647227,
          0.4189556145146561,
          0.3327266813154617,
          -0.859106315287156,
          0.48227535517326187,
          0.8222685585673679,
          -0.6689693042765702,
          1.1202239743167295,
          0.22917434892484292,
          -1.9424668679965322,
          0.9216792137482365,
          1.0855943615810264,
          0.6129005155889627,
          -0.9319676494837966,
          -0.2747626566829559,
          0.8178759920155547,
          -0.6319066271085185,
          0.811518648797966,
          -0.6268533658436848,
          0.5122933366767136,
          -0.2445246966092972,
          -0.9876770467575798,
          0.5252521957727393,
          -2.138622251999045,
          0.005887566403270622,
          0.7316110872017239,
          -1.3923674786636313,
          1.0187317999066703,
          -0.189227893385347,
          1.6982132335644515,
          -0.4460304099092128,
          0.46604748259650813,
          0.870538033993492,
          -0.3076273390858767,
          -0.6373079945184906,
          -2.7947216138514066,
          -0.17292019781564888,
          -0.39499343185230057,
          0.24523800994094805,
          -1.1832402670683073,
          -0.40296143593143285,
          -0.5591908391458149,
          -1.3476129340153435,
          1.5673381755636133,
          0.39947974935198255,
          -1.8527500230542786,
          2.1580101456879994,
          -0.16151710980984083,
          -0.8895491151507277,
          -0.48016846528115864,
          0.6700264562039298,
          0.061022762866370574
         ]
        }
       ],
       "layout": {
        "autosize": true,
        "legend": {
         "bgcolor": "#F5F6F9",
         "font": {
          "color": "#4D5663"
         }
        },
        "paper_bgcolor": "#F5F6F9",
        "plot_bgcolor": "#F5F6F9",
        "template": {
         "data": {
          "bar": [
           {
            "error_x": {
             "color": "#2a3f5f"
            },
            "error_y": {
             "color": "#2a3f5f"
            },
            "marker": {
             "line": {
              "color": "#E5ECF6",
              "width": 0.5
             },
             "pattern": {
              "fillmode": "overlay",
              "size": 10,
              "solidity": 0.2
             }
            },
            "type": "bar"
           }
          ],
          "barpolar": [
           {
            "marker": {
             "line": {
              "color": "#E5ECF6",
              "width": 0.5
             },
             "pattern": {
              "fillmode": "overlay",
              "size": 10,
              "solidity": 0.2
             }
            },
            "type": "barpolar"
           }
          ],
          "carpet": [
           {
            "aaxis": {
             "endlinecolor": "#2a3f5f",
             "gridcolor": "white",
             "linecolor": "white",
             "minorgridcolor": "white",
             "startlinecolor": "#2a3f5f"
            },
            "baxis": {
             "endlinecolor": "#2a3f5f",
             "gridcolor": "white",
             "linecolor": "white",
             "minorgridcolor": "white",
             "startlinecolor": "#2a3f5f"
            },
            "type": "carpet"
           }
          ],
          "choropleth": [
           {
            "colorbar": {
             "outlinewidth": 0,
             "ticks": ""
            },
            "type": "choropleth"
           }
          ],
          "contour": [
           {
            "colorbar": {
             "outlinewidth": 0,
             "ticks": ""
            },
            "colorscale": [
             [
              0,
              "#0d0887"
             ],
             [
              0.1111111111111111,
              "#46039f"
             ],
             [
              0.2222222222222222,
              "#7201a8"
             ],
             [
              0.3333333333333333,
              "#9c179e"
             ],
             [
              0.4444444444444444,
              "#bd3786"
             ],
             [
              0.5555555555555556,
              "#d8576b"
             ],
             [
              0.6666666666666666,
              "#ed7953"
             ],
             [
              0.7777777777777778,
              "#fb9f3a"
             ],
             [
              0.8888888888888888,
              "#fdca26"
             ],
             [
              1,
              "#f0f921"
             ]
            ],
            "type": "contour"
           }
          ],
          "contourcarpet": [
           {
            "colorbar": {
             "outlinewidth": 0,
             "ticks": ""
            },
            "type": "contourcarpet"
           }
          ],
          "heatmap": [
           {
            "colorbar": {
             "outlinewidth": 0,
             "ticks": ""
            },
            "colorscale": [
             [
              0,
              "#0d0887"
             ],
             [
              0.1111111111111111,
              "#46039f"
             ],
             [
              0.2222222222222222,
              "#7201a8"
             ],
             [
              0.3333333333333333,
              "#9c179e"
             ],
             [
              0.4444444444444444,
              "#bd3786"
             ],
             [
              0.5555555555555556,
              "#d8576b"
             ],
             [
              0.6666666666666666,
              "#ed7953"
             ],
             [
              0.7777777777777778,
              "#fb9f3a"
             ],
             [
              0.8888888888888888,
              "#fdca26"
             ],
             [
              1,
              "#f0f921"
             ]
            ],
            "type": "heatmap"
           }
          ],
          "heatmapgl": [
           {
            "colorbar": {
             "outlinewidth": 0,
             "ticks": ""
            },
            "colorscale": [
             [
              0,
              "#0d0887"
             ],
             [
              0.1111111111111111,
              "#46039f"
             ],
             [
              0.2222222222222222,
              "#7201a8"
             ],
             [
              0.3333333333333333,
              "#9c179e"
             ],
             [
              0.4444444444444444,
              "#bd3786"
             ],
             [
              0.5555555555555556,
              "#d8576b"
             ],
             [
              0.6666666666666666,
              "#ed7953"
             ],
             [
              0.7777777777777778,
              "#fb9f3a"
             ],
             [
              0.8888888888888888,
              "#fdca26"
             ],
             [
              1,
              "#f0f921"
             ]
            ],
            "type": "heatmapgl"
           }
          ],
          "histogram": [
           {
            "marker": {
             "pattern": {
              "fillmode": "overlay",
              "size": 10,
              "solidity": 0.2
             }
            },
            "type": "histogram"
           }
          ],
          "histogram2d": [
           {
            "colorbar": {
             "outlinewidth": 0,
             "ticks": ""
            },
            "colorscale": [
             [
              0,
              "#0d0887"
             ],
             [
              0.1111111111111111,
              "#46039f"
             ],
             [
              0.2222222222222222,
              "#7201a8"
             ],
             [
              0.3333333333333333,
              "#9c179e"
             ],
             [
              0.4444444444444444,
              "#bd3786"
             ],
             [
              0.5555555555555556,
              "#d8576b"
             ],
             [
              0.6666666666666666,
              "#ed7953"
             ],
             [
              0.7777777777777778,
              "#fb9f3a"
             ],
             [
              0.8888888888888888,
              "#fdca26"
             ],
             [
              1,
              "#f0f921"
             ]
            ],
            "type": "histogram2d"
           }
          ],
          "histogram2dcontour": [
           {
            "colorbar": {
             "outlinewidth": 0,
             "ticks": ""
            },
            "colorscale": [
             [
              0,
              "#0d0887"
             ],
             [
              0.1111111111111111,
              "#46039f"
             ],
             [
              0.2222222222222222,
              "#7201a8"
             ],
             [
              0.3333333333333333,
              "#9c179e"
             ],
             [
              0.4444444444444444,
              "#bd3786"
             ],
             [
              0.5555555555555556,
              "#d8576b"
             ],
             [
              0.6666666666666666,
              "#ed7953"
             ],
             [
              0.7777777777777778,
              "#fb9f3a"
             ],
             [
              0.8888888888888888,
              "#fdca26"
             ],
             [
              1,
              "#f0f921"
             ]
            ],
            "type": "histogram2dcontour"
           }
          ],
          "mesh3d": [
           {
            "colorbar": {
             "outlinewidth": 0,
             "ticks": ""
            },
            "type": "mesh3d"
           }
          ],
          "parcoords": [
           {
            "line": {
             "colorbar": {
              "outlinewidth": 0,
              "ticks": ""
             }
            },
            "type": "parcoords"
           }
          ],
          "pie": [
           {
            "automargin": true,
            "type": "pie"
           }
          ],
          "scatter": [
           {
            "fillpattern": {
             "fillmode": "overlay",
             "size": 10,
             "solidity": 0.2
            },
            "type": "scatter"
           }
          ],
          "scatter3d": [
           {
            "line": {
             "colorbar": {
              "outlinewidth": 0,
              "ticks": ""
             }
            },
            "marker": {
             "colorbar": {
              "outlinewidth": 0,
              "ticks": ""
             }
            },
            "type": "scatter3d"
           }
          ],
          "scattercarpet": [
           {
            "marker": {
             "colorbar": {
              "outlinewidth": 0,
              "ticks": ""
             }
            },
            "type": "scattercarpet"
           }
          ],
          "scattergeo": [
           {
            "marker": {
             "colorbar": {
              "outlinewidth": 0,
              "ticks": ""
             }
            },
            "type": "scattergeo"
           }
          ],
          "scattergl": [
           {
            "marker": {
             "colorbar": {
              "outlinewidth": 0,
              "ticks": ""
             }
            },
            "type": "scattergl"
           }
          ],
          "scattermapbox": [
           {
            "marker": {
             "colorbar": {
              "outlinewidth": 0,
              "ticks": ""
             }
            },
            "type": "scattermapbox"
           }
          ],
          "scatterpolar": [
           {
            "marker": {
             "colorbar": {
              "outlinewidth": 0,
              "ticks": ""
             }
            },
            "type": "scatterpolar"
           }
          ],
          "scatterpolargl": [
           {
            "marker": {
             "colorbar": {
              "outlinewidth": 0,
              "ticks": ""
             }
            },
            "type": "scatterpolargl"
           }
          ],
          "scatterternary": [
           {
            "marker": {
             "colorbar": {
              "outlinewidth": 0,
              "ticks": ""
             }
            },
            "type": "scatterternary"
           }
          ],
          "surface": [
           {
            "colorbar": {
             "outlinewidth": 0,
             "ticks": ""
            },
            "colorscale": [
             [
              0,
              "#0d0887"
             ],
             [
              0.1111111111111111,
              "#46039f"
             ],
             [
              0.2222222222222222,
              "#7201a8"
             ],
             [
              0.3333333333333333,
              "#9c179e"
             ],
             [
              0.4444444444444444,
              "#bd3786"
             ],
             [
              0.5555555555555556,
              "#d8576b"
             ],
             [
              0.6666666666666666,
              "#ed7953"
             ],
             [
              0.7777777777777778,
              "#fb9f3a"
             ],
             [
              0.8888888888888888,
              "#fdca26"
             ],
             [
              1,
              "#f0f921"
             ]
            ],
            "type": "surface"
           }
          ],
          "table": [
           {
            "cells": {
             "fill": {
              "color": "#EBF0F8"
             },
             "line": {
              "color": "white"
             }
            },
            "header": {
             "fill": {
              "color": "#C8D4E3"
             },
             "line": {
              "color": "white"
             }
            },
            "type": "table"
           }
          ]
         },
         "layout": {
          "annotationdefaults": {
           "arrowcolor": "#2a3f5f",
           "arrowhead": 0,
           "arrowwidth": 1
          },
          "autotypenumbers": "strict",
          "coloraxis": {
           "colorbar": {
            "outlinewidth": 0,
            "ticks": ""
           }
          },
          "colorscale": {
           "diverging": [
            [
             0,
             "#8e0152"
            ],
            [
             0.1,
             "#c51b7d"
            ],
            [
             0.2,
             "#de77ae"
            ],
            [
             0.3,
             "#f1b6da"
            ],
            [
             0.4,
             "#fde0ef"
            ],
            [
             0.5,
             "#f7f7f7"
            ],
            [
             0.6,
             "#e6f5d0"
            ],
            [
             0.7,
             "#b8e186"
            ],
            [
             0.8,
             "#7fbc41"
            ],
            [
             0.9,
             "#4d9221"
            ],
            [
             1,
             "#276419"
            ]
           ],
           "sequential": [
            [
             0,
             "#0d0887"
            ],
            [
             0.1111111111111111,
             "#46039f"
            ],
            [
             0.2222222222222222,
             "#7201a8"
            ],
            [
             0.3333333333333333,
             "#9c179e"
            ],
            [
             0.4444444444444444,
             "#bd3786"
            ],
            [
             0.5555555555555556,
             "#d8576b"
            ],
            [
             0.6666666666666666,
             "#ed7953"
            ],
            [
             0.7777777777777778,
             "#fb9f3a"
            ],
            [
             0.8888888888888888,
             "#fdca26"
            ],
            [
             1,
             "#f0f921"
            ]
           ],
           "sequentialminus": [
            [
             0,
             "#0d0887"
            ],
            [
             0.1111111111111111,
             "#46039f"
            ],
            [
             0.2222222222222222,
             "#7201a8"
            ],
            [
             0.3333333333333333,
             "#9c179e"
            ],
            [
             0.4444444444444444,
             "#bd3786"
            ],
            [
             0.5555555555555556,
             "#d8576b"
            ],
            [
             0.6666666666666666,
             "#ed7953"
            ],
            [
             0.7777777777777778,
             "#fb9f3a"
            ],
            [
             0.8888888888888888,
             "#fdca26"
            ],
            [
             1,
             "#f0f921"
            ]
           ]
          },
          "colorway": [
           "#636efa",
           "#EF553B",
           "#00cc96",
           "#ab63fa",
           "#FFA15A",
           "#19d3f3",
           "#FF6692",
           "#B6E880",
           "#FF97FF",
           "#FECB52"
          ],
          "font": {
           "color": "#2a3f5f"
          },
          "geo": {
           "bgcolor": "white",
           "lakecolor": "white",
           "landcolor": "#E5ECF6",
           "showlakes": true,
           "showland": true,
           "subunitcolor": "white"
          },
          "hoverlabel": {
           "align": "left"
          },
          "hovermode": "closest",
          "mapbox": {
           "style": "light"
          },
          "paper_bgcolor": "white",
          "plot_bgcolor": "#E5ECF6",
          "polar": {
           "angularaxis": {
            "gridcolor": "white",
            "linecolor": "white",
            "ticks": ""
           },
           "bgcolor": "#E5ECF6",
           "radialaxis": {
            "gridcolor": "white",
            "linecolor": "white",
            "ticks": ""
           }
          },
          "scene": {
           "xaxis": {
            "backgroundcolor": "#E5ECF6",
            "gridcolor": "white",
            "gridwidth": 2,
            "linecolor": "white",
            "showbackground": true,
            "ticks": "",
            "zerolinecolor": "white"
           },
           "yaxis": {
            "backgroundcolor": "#E5ECF6",
            "gridcolor": "white",
            "gridwidth": 2,
            "linecolor": "white",
            "showbackground": true,
            "ticks": "",
            "zerolinecolor": "white"
           },
           "zaxis": {
            "backgroundcolor": "#E5ECF6",
            "gridcolor": "white",
            "gridwidth": 2,
            "linecolor": "white",
            "showbackground": true,
            "ticks": "",
            "zerolinecolor": "white"
           }
          },
          "shapedefaults": {
           "line": {
            "color": "#2a3f5f"
           }
          },
          "ternary": {
           "aaxis": {
            "gridcolor": "white",
            "linecolor": "white",
            "ticks": ""
           },
           "baxis": {
            "gridcolor": "white",
            "linecolor": "white",
            "ticks": ""
           },
           "bgcolor": "#E5ECF6",
           "caxis": {
            "gridcolor": "white",
            "linecolor": "white",
            "ticks": ""
           }
          },
          "title": {
           "x": 0.05
          },
          "xaxis": {
           "automargin": true,
           "gridcolor": "white",
           "linecolor": "white",
           "ticks": "",
           "title": {
            "standoff": 15
           },
           "zerolinecolor": "white",
           "zerolinewidth": 2
          },
          "yaxis": {
           "automargin": true,
           "gridcolor": "white",
           "linecolor": "white",
           "ticks": "",
           "title": {
            "standoff": 15
           },
           "zerolinecolor": "white",
           "zerolinewidth": 2
          }
         }
        },
        "title": {
         "font": {
          "color": "#4D5663"
         }
        },
        "xaxis": {
         "autorange": true,
         "gridcolor": "#E1E5ED",
         "range": [
          -0.5,
          3.5
         ],
         "showgrid": true,
         "tickfont": {
          "color": "#4D5663"
         },
         "title": {
          "font": {
           "color": "#4D5663"
          },
          "text": ""
         },
         "type": "category",
         "zerolinecolor": "#E1E5ED"
        },
        "yaxis": {
         "autorange": true,
         "gridcolor": "#E1E5ED",
         "range": [
          -3.3410720122120052,
          3.2206216974557065
         ],
         "showgrid": true,
         "tickfont": {
          "color": "#4D5663"
         },
         "title": {
          "font": {
           "color": "#4D5663"
          },
          "text": ""
         },
         "type": "linear",
         "zerolinecolor": "#E1E5ED"
        }
       }
      },
      "image/png": "[encoded data removed]",
      "text/html": [
       "<div>                            <div id=\"480bfc86-dd8d-4416-8940-d9e3cf5cbf02\" class=\"plotly-graph-div\" style=\"height:525px; width:100%;\"></div>            <script type=\"text/javascript\">                require([\"plotly\"], function(Plotly) {                    window.PLOTLYENV=window.PLOTLYENV || {};\n",
       "                    window.PLOTLYENV.BASE_URL='https://plot.ly';                                    if (document.getElementById(\"480bfc86-dd8d-4416-8940-d9e3cf5cbf02\")) {                    Plotly.newPlot(                        \"480bfc86-dd8d-4416-8940-d9e3cf5cbf02\",                        [{\"boxpoints\":false,\"line\":{\"width\":1.3},\"marker\":{\"color\":\"rgba(255, 153, 51, 1.0)\"},\"name\":\"A\",\"orientation\":\"v\",\"y\":[-0.014182249911513891,-0.7990367681886373,0.6591194910503083,1.998829472768256,1.354928704711035,-0.1371167194422425,0.4333354482330215,0.49267447183888413,1.3858792197389416,0.4676724923040728,0.4849888456465899,0.45149705620233,-0.1063775758913652,-0.6451185663551487,0.8357224494240874,0.05850278298606873,-0.6878280364420764,-1.0745550632638445,-1.5078604397890385,0.40661572837594684,0.9800238409731928,-1.6325091262235363,0.1631019706498342,1.4448137969722203,0.02513391270452852,0.9547946954988611,-1.0563585853877604,-1.3142901401847198,-0.25331664335336507,-1.4879385617072196,1.7470695903409454,-0.48379885894116165,-0.9241938987777035,0.365712246098989,1.221561139279699,1.1752904012641878,-1.0893692935961712,0.05496551530451065,-0.2176827297418758,-0.0657386185768375,1.562769039489702,0.13189295528231632,-0.4496554338022613,1.039717915533698,0.6661633287497195,1.0294163558425313,0.10459497547037343,-0.6486758199813077,-0.35946559697843306,-0.7791403957659999,-0.7131422295621813,0.3530266789979288,-0.5850582350435681,-1.228669369831788,-0.18193668990025463,-1.2251158115222835,-2.7313135571757563,-1.3901611885307172,-0.7668234576924771,-0.2740656808576659,1.667691642371268,0.09675804750002247,-0.3993649557252148,1.484220094919042,-0.07901652159766895,-0.26975354473237967,0.605978939676668,0.008585745532567687,-0.49986280262070976,0.7050757224054496,-0.9825443837523973,-0.4903160744754752,1.375276764445953,0.12104979745920955,1.4824150417639876,0.2884732149437047,1.0647981187455822,-0.27941567866192923,-0.9575609575401136,0.5646814456783594,0.08480759312596246,0.5456752792982241,0.04474730044409539,0.3449381645647911,1.0989196536617412,2.0009367716990374,-0.10649601834445481,-0.9948925083156563,-1.507843017905901,-0.04914540079233849,0.0015998307786427317,0.08871540715131175,-0.09513443320348569,1.3884170241785447,-0.6375754053537689,0.5353090243952152,0.5058531399900315,0.0039000720093066215,1.6856477147167694,1.0788626909510945],\"type\":\"box\"},{\"boxpoints\":false,\"line\":{\"width\":1.3},\"marker\":{\"color\":\"rgba(55, 128, 191, 1.0)\"},\"name\":\"B\",\"orientation\":\"v\",\"y\":[-1.1379320218666829,-0.3695042688257674,0.33366871400295456,1.0388735929418678,0.4271828843031716,-0.498185936402757,-0.20908624076388696,0.2712791092204782,0.21699706993337786,1.1988640269829076,0.5794566696633838,-2.051357618538235,-0.015027646709790503,-0.13221573801207778,0.663055581637253,2.2383145058851217,-0.32920285387233467,1.305488093081794,-0.6770237846293955,1.5655678252443213,-0.1579011544726716,0.21253336637012768,1.1127389828320329,-1.5672990177125192,0.7781963063214641,1.7853350454924075,-1.1710195851309133,0.686719657893707,-0.20731900062966677,1.4307503635162753,-0.9158903433533209,1.4420737367040473,-0.6068242423956323,1.0694813209111613,0.3237652489496514,0.18727889105942838,1.2922354443050938,0.6274525703991168,1.014431538504958,1.3987744470969865,0.4513588324569339,-1.021846300012986,-1.6695027698585916,1.0018097405277842,0.42609150355890035,1.1071846053066323,-0.1509182629517138,0.20295227502422822,1.4490271833804298,0.2893929835183492,0.7332741959247728,-0.7239745282733993,-2.4359443821545694,-0.274108614919312,-0.713459983647737,-0.2231215265407797,-0.4897121400859348,0.042540095384265224,0.7230329717255355,0.5938328429046061,0.7980677149641997,-1.5370942848965226,-1.0470516457159909,-0.622083709673778,-0.6408476173310118,-0.7310692143925597,2.0558686601072846,0.941521271821865,0.2797069863850723,-1.1987566877959244,-0.6453513323275131,0.00618299715917338,-0.9449907125758524,-1.0429632720499713,-0.9432951353119565,-0.18431998387115714,0.19706282189587646,1.4093428173112086,-2.5459571971591974,0.9714641272638906,1.3195027949623213,1.518096459438159,2.892537011972321,1.4002055331345225,-0.3066405837306535,-1.5162024282645241,1.1028718578803822,1.7491202039361544,-0.7352743952166807,-1.1327003719731012,-0.3439921897436451,-0.8142699493133557,-0.8421420831214147,-2.3611782096734317,0.5399222287331542,-0.45479909963011805,-0.3820645712895226,-1.557072716269298,-0.4549434306878188,0.5782397452939635],\"type\":\"box\"},{\"boxpoints\":false,\"line\":{\"width\":1.3},\"marker\":{\"color\":\"rgba(50, 171, 96, 1.0)\"},\"name\":\"C\",\"orientation\":\"v\",\"y\":[-0.7607527958894249,-0.7070143252687979,0.9272012698020369,0.21914882286396423,-0.5179103247789255,0.356294717199559,-0.2913657335806063,0.615671650212997,1.6300437774432865,-1.20733047509803,0.10714857386872174,-0.14883163836968605,-0.029237448242223914,1.0729039566216991,-1.1208687152083543,0.18328250238357405,-0.4537255362327935,-0.6033429693845594,0.2665249871287445,-0.03717218388022126,-3.0129873267286196,0.20488215053479814,-0.1522152064044278,0.24185841532262767,1.6270732988046244,-1.1458764498876082,1.276796040856506,-0.28148875520174454,-0.548738343600119,1.380674930062003,0.33027139687782614,0.5004035180264748,-0.1347797094150288,-0.33163499606419433,-0.7542144755334065,0.09636309919988383,-0.49054727267449194,1.1245919947108491,-1.4744546293557332,1.9099381989317608,-0.7734262917901424,-0.9076017148870963,-1.8346876911266852,-0.6300906543082541,0.12820667190314397,0.6973881330482086,2.004260984196489,-0.13553405370576,-0.8816929537120686,-0.5394996298466653,-0.20718808979900927,-0.6939747402723065,-0.09758639711396831,-0.3566888455988846,-1.8083956716108365,-1.8158027509915093,-0.24860659462631232,1.332512790069765,2.378490943446098,1.0890638411756182,0.496340149119863,-2.275713946946364,0.609308109591509,0.8260824380473207,0.2855790139565881,-0.062158990419333204,-1.1170492187902588,2.2269374856204958,0.07058356586829277,-0.6980407327713735,-1.3018153526869747,-0.32361285815799123,-0.020598266162581688,-1.033214773184867,0.2384945575516058,-0.30115810030278967,-1.308698176806451,-0.5206390858316583,-0.12985117311091163,-1.2175111417431492,0.6614508703669855,0.3494092579677839,0.1860466978933607,0.7612711034216268,0.37045367429256126,-0.6491413856632087,-0.6060527423527244,-1.7137695802608415,0.3241242075283571,0.4614032109121203,-0.16105175922848006,-1.4345970307468745,-0.8369483552298032,-0.07387646107956655,-0.06657310181155189,0.16994610203755273,-0.2714894942090053,-1.1088759265257948,-0.004176668473154918,1.748833880230194],\"type\":\"box\"},{\"boxpoints\":false,\"line\":{\"width\":1.3},\"marker\":{\"color\":\"rgba(128, 0, 128, 1.0)\"},\"name\":\"D\",\"orientation\":\"v\",\"y\":[0.1751742656209741,-0.448826153642509,0.5381820031835148,0.13244564930818603,-0.8900014593731652,-0.7047691983918308,-0.09990254288735409,1.4263274529609322,1.465754785817344,-0.7384106148318462,-1.9257248814183598,-1.0721059244982252,-0.7089368671559754,-0.49095766652426087,-1.0779027848109384,0.8245267819969098,0.048085897075888104,-0.07503722459542922,-1.7464684708684919,-1.3096171450164322,-0.9731600008029246,-1.2716768795489168,-0.8469465703877845,0.8259934110119476,1.3283555390186081,-0.4342034990219628,-0.4466879980049857,-0.7273986692745659,1.2054754634032374,-0.1572649646617977,-0.6028153073671625,0.3844046834517899,0.21837463947565822,-0.5353319895187307,-0.008699530471608843,0.7057881249989117,-1.2515029914813804,-1.140452391309678,-0.6877015990283953,0.1307615006942522,1.238281893532272,0.5355594464973679,-1.1109889675619573,-0.14808944756823528,1.1629125454319655,0.46648092168703986,0.13532924366300256,0.6586460674199206,-0.743819602647227,0.4189556145146561,0.3327266813154617,-0.859106315287156,0.48227535517326187,0.8222685585673679,-0.6689693042765702,1.1202239743167295,0.22917434892484292,-1.9424668679965322,0.9216792137482365,1.0855943615810264,0.6129005155889627,-0.9319676494837966,-0.2747626566829559,0.8178759920155547,-0.6319066271085185,0.811518648797966,-0.6268533658436848,0.5122933366767136,-0.2445246966092972,-0.9876770467575798,0.5252521957727393,-2.138622251999045,0.005887566403270622,0.7316110872017239,-1.3923674786636313,1.0187317999066703,-0.189227893385347,1.6982132335644515,-0.4460304099092128,0.46604748259650813,0.870538033993492,-0.3076273390858767,-0.6373079945184906,-2.7947216138514066,-0.17292019781564888,-0.39499343185230057,0.24523800994094805,-1.1832402670683073,-0.40296143593143285,-0.5591908391458149,-1.3476129340153435,1.5673381755636133,0.39947974935198255,-1.8527500230542786,2.1580101456879994,-0.16151710980984083,-0.8895491151507277,-0.48016846528115864,0.6700264562039298,0.061022762866370574],\"type\":\"box\"}],                        {\"legend\":{\"bgcolor\":\"#F5F6F9\",\"font\":{\"color\":\"#4D5663\"}},\"paper_bgcolor\":\"#F5F6F9\",\"plot_bgcolor\":\"#F5F6F9\",\"template\":{\"data\":{\"barpolar\":[{\"marker\":{\"line\":{\"color\":\"#E5ECF6\",\"width\":0.5},\"pattern\":{\"fillmode\":\"overlay\",\"size\":10,\"solidity\":0.2}},\"type\":\"barpolar\"}],\"bar\":[{\"error_x\":{\"color\":\"#2a3f5f\"},\"error_y\":{\"color\":\"#2a3f5f\"},\"marker\":{\"line\":{\"color\":\"#E5ECF6\",\"width\":0.5},\"pattern\":{\"fillmode\":\"overlay\",\"size\":10,\"solidity\":0.2}},\"type\":\"bar\"}],\"carpet\":[{\"aaxis\":{\"endlinecolor\":\"#2a3f5f\",\"gridcolor\":\"white\",\"linecolor\":\"white\",\"minorgridcolor\":\"white\",\"startlinecolor\":\"#2a3f5f\"},\"baxis\":{\"endlinecolor\":\"#2a3f5f\",\"gridcolor\":\"white\",\"linecolor\":\"white\",\"minorgridcolor\":\"white\",\"startlinecolor\":\"#2a3f5f\"},\"type\":\"carpet\"}],\"choropleth\":[{\"colorbar\":{\"outlinewidth\":0,\"ticks\":\"\"},\"type\":\"choropleth\"}],\"contourcarpet\":[{\"colorbar\":{\"outlinewidth\":0,\"ticks\":\"\"},\"type\":\"contourcarpet\"}],\"contour\":[{\"colorbar\":{\"outlinewidth\":0,\"ticks\":\"\"},\"colorscale\":[[0.0,\"#0d0887\"],[0.1111111111111111,\"#46039f\"],[0.2222222222222222,\"#7201a8\"],[0.3333333333333333,\"#9c179e\"],[0.4444444444444444,\"#bd3786\"],[0.5555555555555556,\"#d8576b\"],[0.6666666666666666,\"#ed7953\"],[0.7777777777777778,\"#fb9f3a\"],[0.8888888888888888,\"#fdca26\"],[1.0,\"#f0f921\"]],\"type\":\"contour\"}],\"heatmapgl\":[{\"colorbar\":{\"outlinewidth\":0,\"ticks\":\"\"},\"colorscale\":[[0.0,\"#0d0887\"],[0.1111111111111111,\"#46039f\"],[0.2222222222222222,\"#7201a8\"],[0.3333333333333333,\"#9c179e\"],[0.4444444444444444,\"#bd3786\"],[0.5555555555555556,\"#d8576b\"],[0.6666666666666666,\"#ed7953\"],[0.7777777777777778,\"#fb9f3a\"],[0.8888888888888888,\"#fdca26\"],[1.0,\"#f0f921\"]],\"type\":\"heatmapgl\"}],\"heatmap\":[{\"colorbar\":{\"outlinewidth\":0,\"ticks\":\"\"},\"colorscale\":[[0.0,\"#0d0887\"],[0.1111111111111111,\"#46039f\"],[0.2222222222222222,\"#7201a8\"],[0.3333333333333333,\"#9c179e\"],[0.4444444444444444,\"#bd3786\"],[0.5555555555555556,\"#d8576b\"],[0.6666666666666666,\"#ed7953\"],[0.7777777777777778,\"#fb9f3a\"],[0.8888888888888888,\"#fdca26\"],[1.0,\"#f0f921\"]],\"type\":\"heatmap\"}],\"histogram2dcontour\":[{\"colorbar\":{\"outlinewidth\":0,\"ticks\":\"\"},\"colorscale\":[[0.0,\"#0d0887\"],[0.1111111111111111,\"#46039f\"],[0.2222222222222222,\"#7201a8\"],[0.3333333333333333,\"#9c179e\"],[0.4444444444444444,\"#bd3786\"],[0.5555555555555556,\"#d8576b\"],[0.6666666666666666,\"#ed7953\"],[0.7777777777777778,\"#fb9f3a\"],[0.8888888888888888,\"#fdca26\"],[1.0,\"#f0f921\"]],\"type\":\"histogram2dcontour\"}],\"histogram2d\":[{\"colorbar\":{\"outlinewidth\":0,\"ticks\":\"\"},\"colorscale\":[[0.0,\"#0d0887\"],[0.1111111111111111,\"#46039f\"],[0.2222222222222222,\"#7201a8\"],[0.3333333333333333,\"#9c179e\"],[0.4444444444444444,\"#bd3786\"],[0.5555555555555556,\"#d8576b\"],[0.6666666666666666,\"#ed7953\"],[0.7777777777777778,\"#fb9f3a\"],[0.8888888888888888,\"#fdca26\"],[1.0,\"#f0f921\"]],\"type\":\"histogram2d\"}],\"histogram\":[{\"marker\":{\"pattern\":{\"fillmode\":\"overlay\",\"size\":10,\"solidity\":0.2}},\"type\":\"histogram\"}],\"mesh3d\":[{\"colorbar\":{\"outlinewidth\":0,\"ticks\":\"\"},\"type\":\"mesh3d\"}],\"parcoords\":[{\"line\":{\"colorbar\":{\"outlinewidth\":0,\"ticks\":\"\"}},\"type\":\"parcoords\"}],\"pie\":[{\"automargin\":true,\"type\":\"pie\"}],\"scatter3d\":[{\"line\":{\"colorbar\":{\"outlinewidth\":0,\"ticks\":\"\"}},\"marker\":{\"colorbar\":{\"outlinewidth\":0,\"ticks\":\"\"}},\"type\":\"scatter3d\"}],\"scattercarpet\":[{\"marker\":{\"colorbar\":{\"outlinewidth\":0,\"ticks\":\"\"}},\"type\":\"scattercarpet\"}],\"scattergeo\":[{\"marker\":{\"colorbar\":{\"outlinewidth\":0,\"ticks\":\"\"}},\"type\":\"scattergeo\"}],\"scattergl\":[{\"marker\":{\"colorbar\":{\"outlinewidth\":0,\"ticks\":\"\"}},\"type\":\"scattergl\"}],\"scattermapbox\":[{\"marker\":{\"colorbar\":{\"outlinewidth\":0,\"ticks\":\"\"}},\"type\":\"scattermapbox\"}],\"scatterpolargl\":[{\"marker\":{\"colorbar\":{\"outlinewidth\":0,\"ticks\":\"\"}},\"type\":\"scatterpolargl\"}],\"scatterpolar\":[{\"marker\":{\"colorbar\":{\"outlinewidth\":0,\"ticks\":\"\"}},\"type\":\"scatterpolar\"}],\"scatter\":[{\"fillpattern\":{\"fillmode\":\"overlay\",\"size\":10,\"solidity\":0.2},\"type\":\"scatter\"}],\"scatterternary\":[{\"marker\":{\"colorbar\":{\"outlinewidth\":0,\"ticks\":\"\"}},\"type\":\"scatterternary\"}],\"surface\":[{\"colorbar\":{\"outlinewidth\":0,\"ticks\":\"\"},\"colorscale\":[[0.0,\"#0d0887\"],[0.1111111111111111,\"#46039f\"],[0.2222222222222222,\"#7201a8\"],[0.3333333333333333,\"#9c179e\"],[0.4444444444444444,\"#bd3786\"],[0.5555555555555556,\"#d8576b\"],[0.6666666666666666,\"#ed7953\"],[0.7777777777777778,\"#fb9f3a\"],[0.8888888888888888,\"#fdca26\"],[1.0,\"#f0f921\"]],\"type\":\"surface\"}],\"table\":[{\"cells\":{\"fill\":{\"color\":\"#EBF0F8\"},\"line\":{\"color\":\"white\"}},\"header\":{\"fill\":{\"color\":\"#C8D4E3\"},\"line\":{\"color\":\"white\"}},\"type\":\"table\"}]},\"layout\":{\"annotationdefaults\":{\"arrowcolor\":\"#2a3f5f\",\"arrowhead\":0,\"arrowwidth\":1},\"autotypenumbers\":\"strict\",\"coloraxis\":{\"colorbar\":{\"outlinewidth\":0,\"ticks\":\"\"}},\"colorscale\":{\"diverging\":[[0,\"#8e0152\"],[0.1,\"#c51b7d\"],[0.2,\"#de77ae\"],[0.3,\"#f1b6da\"],[0.4,\"#fde0ef\"],[0.5,\"#f7f7f7\"],[0.6,\"#e6f5d0\"],[0.7,\"#b8e186\"],[0.8,\"#7fbc41\"],[0.9,\"#4d9221\"],[1,\"#276419\"]],\"sequential\":[[0.0,\"#0d0887\"],[0.1111111111111111,\"#46039f\"],[0.2222222222222222,\"#7201a8\"],[0.3333333333333333,\"#9c179e\"],[0.4444444444444444,\"#bd3786\"],[0.5555555555555556,\"#d8576b\"],[0.6666666666666666,\"#ed7953\"],[0.7777777777777778,\"#fb9f3a\"],[0.8888888888888888,\"#fdca26\"],[1.0,\"#f0f921\"]],\"sequentialminus\":[[0.0,\"#0d0887\"],[0.1111111111111111,\"#46039f\"],[0.2222222222222222,\"#7201a8\"],[0.3333333333333333,\"#9c179e\"],[0.4444444444444444,\"#bd3786\"],[0.5555555555555556,\"#d8576b\"],[0.6666666666666666,\"#ed7953\"],[0.7777777777777778,\"#fb9f3a\"],[0.8888888888888888,\"#fdca26\"],[1.0,\"#f0f921\"]]},\"colorway\":[\"#636efa\",\"#EF553B\",\"#00cc96\",\"#ab63fa\",\"#FFA15A\",\"#19d3f3\",\"#FF6692\",\"#B6E880\",\"#FF97FF\",\"#FECB52\"],\"font\":{\"color\":\"#2a3f5f\"},\"geo\":{\"bgcolor\":\"white\",\"lakecolor\":\"white\",\"landcolor\":\"#E5ECF6\",\"showlakes\":true,\"showland\":true,\"subunitcolor\":\"white\"},\"hoverlabel\":{\"align\":\"left\"},\"hovermode\":\"closest\",\"mapbox\":{\"style\":\"light\"},\"paper_bgcolor\":\"white\",\"plot_bgcolor\":\"#E5ECF6\",\"polar\":{\"angularaxis\":{\"gridcolor\":\"white\",\"linecolor\":\"white\",\"ticks\":\"\"},\"bgcolor\":\"#E5ECF6\",\"radialaxis\":{\"gridcolor\":\"white\",\"linecolor\":\"white\",\"ticks\":\"\"}},\"scene\":{\"xaxis\":{\"backgroundcolor\":\"#E5ECF6\",\"gridcolor\":\"white\",\"gridwidth\":2,\"linecolor\":\"white\",\"showbackground\":true,\"ticks\":\"\",\"zerolinecolor\":\"white\"},\"yaxis\":{\"backgroundcolor\":\"#E5ECF6\",\"gridcolor\":\"white\",\"gridwidth\":2,\"linecolor\":\"white\",\"showbackground\":true,\"ticks\":\"\",\"zerolinecolor\":\"white\"},\"zaxis\":{\"backgroundcolor\":\"#E5ECF6\",\"gridcolor\":\"white\",\"gridwidth\":2,\"linecolor\":\"white\",\"showbackground\":true,\"ticks\":\"\",\"zerolinecolor\":\"white\"}},\"shapedefaults\":{\"line\":{\"color\":\"#2a3f5f\"}},\"ternary\":{\"aaxis\":{\"gridcolor\":\"white\",\"linecolor\":\"white\",\"ticks\":\"\"},\"baxis\":{\"gridcolor\":\"white\",\"linecolor\":\"white\",\"ticks\":\"\"},\"bgcolor\":\"#E5ECF6\",\"caxis\":{\"gridcolor\":\"white\",\"linecolor\":\"white\",\"ticks\":\"\"}},\"title\":{\"x\":0.05},\"xaxis\":{\"automargin\":true,\"gridcolor\":\"white\",\"linecolor\":\"white\",\"ticks\":\"\",\"title\":{\"standoff\":15},\"zerolinecolor\":\"white\",\"zerolinewidth\":2},\"yaxis\":{\"automargin\":true,\"gridcolor\":\"white\",\"linecolor\":\"white\",\"ticks\":\"\",\"title\":{\"standoff\":15},\"zerolinecolor\":\"white\",\"zerolinewidth\":2}}},\"title\":{\"font\":{\"color\":\"#4D5663\"}},\"xaxis\":{\"gridcolor\":\"#E1E5ED\",\"showgrid\":true,\"tickfont\":{\"color\":\"#4D5663\"},\"title\":{\"font\":{\"color\":\"#4D5663\"},\"text\":\"\"},\"zerolinecolor\":\"#E1E5ED\"},\"yaxis\":{\"gridcolor\":\"#E1E5ED\",\"showgrid\":true,\"tickfont\":{\"color\":\"#4D5663\"},\"title\":{\"font\":{\"color\":\"#4D5663\"},\"text\":\"\"},\"zerolinecolor\":\"#E1E5ED\"}},                        {\"showLink\": true, \"linkText\": \"Export to plot.ly\", \"plotlyServerURL\": \"https://plot.ly\", \"responsive\": true}                    ).then(function(){\n",
       "                            \n",
       "var gd = document.getElementById('480bfc86-dd8d-4416-8940-d9e3cf5cbf02');\n",
       "var x = new MutationObserver(function (mutations, observer) {{\n",
       "        var display = window.getComputedStyle(gd).display;\n",
       "        if (!display || display === 'none') {{\n",
       "            console.log([gd, 'removed!']);\n",
       "            Plotly.purge(gd);\n",
       "            observer.disconnect();\n",
       "        }}\n",
       "}});\n",
       "\n",
       "// Listen for the removal of the full notebook cells\n",
       "var notebookContainer = gd.closest('#notebook-container');\n",
       "if (notebookContainer) {{\n",
       "    x.observe(notebookContainer, {childList: true});\n",
       "}}\n",
       "\n",
       "// Listen for the clearing of the current output cell\n",
       "var outputEl = gd.closest('.output');\n",
       "if (outputEl) {{\n",
       "    x.observe(outputEl, {childList: true});\n",
       "}}\n",
       "\n",
       "                        })                };                });            </script>        </div>"
      ]
     },
     "metadata": {},
     "output_type": "display_data"
    }
   ],
   "source": [
    "df.iplot(kind='box')"
   ]
  },
  {
   "cell_type": "markdown",
   "metadata": {},
   "source": [
    "## 3d Surface"
   ]
  },
  {
   "cell_type": "code",
   "execution_count": 14,
   "metadata": {
    "collapsed": false,
    "jupyter": {
     "outputs_hidden": false
    }
   },
   "outputs": [
    {
     "data": {
      "application/vnd.plotly.v1+json": {
       "config": {
        "linkText": "Export to plot.ly",
        "plotlyServerURL": "https://plot.ly",
        "showLink": true
       },
       "data": [
        {
         "colorscale": [
          [
           0,
           "rgb(165,0,38)"
          ],
          [
           0.1,
           "rgb(215,48,39)"
          ],
          [
           0.2,
           "rgb(244,109,67)"
          ],
          [
           0.3,
           "rgb(253,174,97)"
          ],
          [
           0.4,
           "rgb(254,224,144)"
          ],
          [
           0.5,
           "rgb(255,255,191)"
          ],
          [
           0.6,
           "rgb(224,243,248)"
          ],
          [
           0.7,
           "rgb(171,217,233)"
          ],
          [
           0.8,
           "rgb(116,173,209)"
          ],
          [
           0.9,
           "rgb(69,117,180)"
          ],
          [
           1,
           "rgb(49,54,149)"
          ]
         ],
         "type": "surface",
         "x": [
          0,
          1,
          2,
          3,
          4
         ],
         "y": [
          "x",
          "y",
          "z"
         ],
         "z": [
          [
           1,
           2,
           3,
           4,
           5
          ],
          [
           10,
           20,
           30,
           20,
           10
          ],
          [
           5,
           4,
           3,
           2,
           1
          ]
         ]
        }
       ],
       "layout": {
        "autosize": true,
        "legend": {
         "bgcolor": "#F5F6F9",
         "font": {
          "color": "#4D5663"
         }
        },
        "paper_bgcolor": "#F5F6F9",
        "plot_bgcolor": "#F5F6F9",
        "scene": {
         "aspectmode": "auto",
         "aspectratio": {
          "x": 1,
          "y": 1,
          "z": 1
         },
         "camera": {
          "center": {
           "x": 0,
           "y": 0,
           "z": 0
          },
          "eye": {
           "x": 0.8133708530619089,
           "y": 0.8133708530619088,
           "z": 0.8133708530619089
          },
          "projection": {
           "type": "perspective"
          },
          "up": {
           "x": 0,
           "y": 0,
           "z": 1
          }
         }
        },
        "template": {
         "data": {
          "bar": [
           {
            "error_x": {
             "color": "#2a3f5f"
            },
            "error_y": {
             "color": "#2a3f5f"
            },
            "marker": {
             "line": {
              "color": "#E5ECF6",
              "width": 0.5
             },
             "pattern": {
              "fillmode": "overlay",
              "size": 10,
              "solidity": 0.2
             }
            },
            "type": "bar"
           }
          ],
          "barpolar": [
           {
            "marker": {
             "line": {
              "color": "#E5ECF6",
              "width": 0.5
             },
             "pattern": {
              "fillmode": "overlay",
              "size": 10,
              "solidity": 0.2
             }
            },
            "type": "barpolar"
           }
          ],
          "carpet": [
           {
            "aaxis": {
             "endlinecolor": "#2a3f5f",
             "gridcolor": "white",
             "linecolor": "white",
             "minorgridcolor": "white",
             "startlinecolor": "#2a3f5f"
            },
            "baxis": {
             "endlinecolor": "#2a3f5f",
             "gridcolor": "white",
             "linecolor": "white",
             "minorgridcolor": "white",
             "startlinecolor": "#2a3f5f"
            },
            "type": "carpet"
           }
          ],
          "choropleth": [
           {
            "colorbar": {
             "outlinewidth": 0,
             "ticks": ""
            },
            "type": "choropleth"
           }
          ],
          "contour": [
           {
            "colorbar": {
             "outlinewidth": 0,
             "ticks": ""
            },
            "colorscale": [
             [
              0,
              "#0d0887"
             ],
             [
              0.1111111111111111,
              "#46039f"
             ],
             [
              0.2222222222222222,
              "#7201a8"
             ],
             [
              0.3333333333333333,
              "#9c179e"
             ],
             [
              0.4444444444444444,
              "#bd3786"
             ],
             [
              0.5555555555555556,
              "#d8576b"
             ],
             [
              0.6666666666666666,
              "#ed7953"
             ],
             [
              0.7777777777777778,
              "#fb9f3a"
             ],
             [
              0.8888888888888888,
              "#fdca26"
             ],
             [
              1,
              "#f0f921"
             ]
            ],
            "type": "contour"
           }
          ],
          "contourcarpet": [
           {
            "colorbar": {
             "outlinewidth": 0,
             "ticks": ""
            },
            "type": "contourcarpet"
           }
          ],
          "heatmap": [
           {
            "colorbar": {
             "outlinewidth": 0,
             "ticks": ""
            },
            "colorscale": [
             [
              0,
              "#0d0887"
             ],
             [
              0.1111111111111111,
              "#46039f"
             ],
             [
              0.2222222222222222,
              "#7201a8"
             ],
             [
              0.3333333333333333,
              "#9c179e"
             ],
             [
              0.4444444444444444,
              "#bd3786"
             ],
             [
              0.5555555555555556,
              "#d8576b"
             ],
             [
              0.6666666666666666,
              "#ed7953"
             ],
             [
              0.7777777777777778,
              "#fb9f3a"
             ],
             [
              0.8888888888888888,
              "#fdca26"
             ],
             [
              1,
              "#f0f921"
             ]
            ],
            "type": "heatmap"
           }
          ],
          "heatmapgl": [
           {
            "colorbar": {
             "outlinewidth": 0,
             "ticks": ""
            },
            "colorscale": [
             [
              0,
              "#0d0887"
             ],
             [
              0.1111111111111111,
              "#46039f"
             ],
             [
              0.2222222222222222,
              "#7201a8"
             ],
             [
              0.3333333333333333,
              "#9c179e"
             ],
             [
              0.4444444444444444,
              "#bd3786"
             ],
             [
              0.5555555555555556,
              "#d8576b"
             ],
             [
              0.6666666666666666,
              "#ed7953"
             ],
             [
              0.7777777777777778,
              "#fb9f3a"
             ],
             [
              0.8888888888888888,
              "#fdca26"
             ],
             [
              1,
              "#f0f921"
             ]
            ],
            "type": "heatmapgl"
           }
          ],
          "histogram": [
           {
            "marker": {
             "pattern": {
              "fillmode": "overlay",
              "size": 10,
              "solidity": 0.2
             }
            },
            "type": "histogram"
           }
          ],
          "histogram2d": [
           {
            "colorbar": {
             "outlinewidth": 0,
             "ticks": ""
            },
            "colorscale": [
             [
              0,
              "#0d0887"
             ],
             [
              0.1111111111111111,
              "#46039f"
             ],
             [
              0.2222222222222222,
              "#7201a8"
             ],
             [
              0.3333333333333333,
              "#9c179e"
             ],
             [
              0.4444444444444444,
              "#bd3786"
             ],
             [
              0.5555555555555556,
              "#d8576b"
             ],
             [
              0.6666666666666666,
              "#ed7953"
             ],
             [
              0.7777777777777778,
              "#fb9f3a"
             ],
             [
              0.8888888888888888,
              "#fdca26"
             ],
             [
              1,
              "#f0f921"
             ]
            ],
            "type": "histogram2d"
           }
          ],
          "histogram2dcontour": [
           {
            "colorbar": {
             "outlinewidth": 0,
             "ticks": ""
            },
            "colorscale": [
             [
              0,
              "#0d0887"
             ],
             [
              0.1111111111111111,
              "#46039f"
             ],
             [
              0.2222222222222222,
              "#7201a8"
             ],
             [
              0.3333333333333333,
              "#9c179e"
             ],
             [
              0.4444444444444444,
              "#bd3786"
             ],
             [
              0.5555555555555556,
              "#d8576b"
             ],
             [
              0.6666666666666666,
              "#ed7953"
             ],
             [
              0.7777777777777778,
              "#fb9f3a"
             ],
             [
              0.8888888888888888,
              "#fdca26"
             ],
             [
              1,
              "#f0f921"
             ]
            ],
            "type": "histogram2dcontour"
           }
          ],
          "mesh3d": [
           {
            "colorbar": {
             "outlinewidth": 0,
             "ticks": ""
            },
            "type": "mesh3d"
           }
          ],
          "parcoords": [
           {
            "line": {
             "colorbar": {
              "outlinewidth": 0,
              "ticks": ""
             }
            },
            "type": "parcoords"
           }
          ],
          "pie": [
           {
            "automargin": true,
            "type": "pie"
           }
          ],
          "scatter": [
           {
            "fillpattern": {
             "fillmode": "overlay",
             "size": 10,
             "solidity": 0.2
            },
            "type": "scatter"
           }
          ],
          "scatter3d": [
           {
            "line": {
             "colorbar": {
              "outlinewidth": 0,
              "ticks": ""
             }
            },
            "marker": {
             "colorbar": {
              "outlinewidth": 0,
              "ticks": ""
             }
            },
            "type": "scatter3d"
           }
          ],
          "scattercarpet": [
           {
            "marker": {
             "colorbar": {
              "outlinewidth": 0,
              "ticks": ""
             }
            },
            "type": "scattercarpet"
           }
          ],
          "scattergeo": [
           {
            "marker": {
             "colorbar": {
              "outlinewidth": 0,
              "ticks": ""
             }
            },
            "type": "scattergeo"
           }
          ],
          "scattergl": [
           {
            "marker": {
             "colorbar": {
              "outlinewidth": 0,
              "ticks": ""
             }
            },
            "type": "scattergl"
           }
          ],
          "scattermapbox": [
           {
            "marker": {
             "colorbar": {
              "outlinewidth": 0,
              "ticks": ""
             }
            },
            "type": "scattermapbox"
           }
          ],
          "scatterpolar": [
           {
            "marker": {
             "colorbar": {
              "outlinewidth": 0,
              "ticks": ""
             }
            },
            "type": "scatterpolar"
           }
          ],
          "scatterpolargl": [
           {
            "marker": {
             "colorbar": {
              "outlinewidth": 0,
              "ticks": ""
             }
            },
            "type": "scatterpolargl"
           }
          ],
          "scatterternary": [
           {
            "marker": {
             "colorbar": {
              "outlinewidth": 0,
              "ticks": ""
             }
            },
            "type": "scatterternary"
           }
          ],
          "surface": [
           {
            "colorbar": {
             "outlinewidth": 0,
             "ticks": ""
            },
            "colorscale": [
             [
              0,
              "#0d0887"
             ],
             [
              0.1111111111111111,
              "#46039f"
             ],
             [
              0.2222222222222222,
              "#7201a8"
             ],
             [
              0.3333333333333333,
              "#9c179e"
             ],
             [
              0.4444444444444444,
              "#bd3786"
             ],
             [
              0.5555555555555556,
              "#d8576b"
             ],
             [
              0.6666666666666666,
              "#ed7953"
             ],
             [
              0.7777777777777778,
              "#fb9f3a"
             ],
             [
              0.8888888888888888,
              "#fdca26"
             ],
             [
              1,
              "#f0f921"
             ]
            ],
            "type": "surface"
           }
          ],
          "table": [
           {
            "cells": {
             "fill": {
              "color": "#EBF0F8"
             },
             "line": {
              "color": "white"
             }
            },
            "header": {
             "fill": {
              "color": "#C8D4E3"
             },
             "line": {
              "color": "white"
             }
            },
            "type": "table"
           }
          ]
         },
         "layout": {
          "annotationdefaults": {
           "arrowcolor": "#2a3f5f",
           "arrowhead": 0,
           "arrowwidth": 1
          },
          "autotypenumbers": "strict",
          "coloraxis": {
           "colorbar": {
            "outlinewidth": 0,
            "ticks": ""
           }
          },
          "colorscale": {
           "diverging": [
            [
             0,
             "#8e0152"
            ],
            [
             0.1,
             "#c51b7d"
            ],
            [
             0.2,
             "#de77ae"
            ],
            [
             0.3,
             "#f1b6da"
            ],
            [
             0.4,
             "#fde0ef"
            ],
            [
             0.5,
             "#f7f7f7"
            ],
            [
             0.6,
             "#e6f5d0"
            ],
            [
             0.7,
             "#b8e186"
            ],
            [
             0.8,
             "#7fbc41"
            ],
            [
             0.9,
             "#4d9221"
            ],
            [
             1,
             "#276419"
            ]
           ],
           "sequential": [
            [
             0,
             "#0d0887"
            ],
            [
             0.1111111111111111,
             "#46039f"
            ],
            [
             0.2222222222222222,
             "#7201a8"
            ],
            [
             0.3333333333333333,
             "#9c179e"
            ],
            [
             0.4444444444444444,
             "#bd3786"
            ],
            [
             0.5555555555555556,
             "#d8576b"
            ],
            [
             0.6666666666666666,
             "#ed7953"
            ],
            [
             0.7777777777777778,
             "#fb9f3a"
            ],
            [
             0.8888888888888888,
             "#fdca26"
            ],
            [
             1,
             "#f0f921"
            ]
           ],
           "sequentialminus": [
            [
             0,
             "#0d0887"
            ],
            [
             0.1111111111111111,
             "#46039f"
            ],
            [
             0.2222222222222222,
             "#7201a8"
            ],
            [
             0.3333333333333333,
             "#9c179e"
            ],
            [
             0.4444444444444444,
             "#bd3786"
            ],
            [
             0.5555555555555556,
             "#d8576b"
            ],
            [
             0.6666666666666666,
             "#ed7953"
            ],
            [
             0.7777777777777778,
             "#fb9f3a"
            ],
            [
             0.8888888888888888,
             "#fdca26"
            ],
            [
             1,
             "#f0f921"
            ]
           ]
          },
          "colorway": [
           "#636efa",
           "#EF553B",
           "#00cc96",
           "#ab63fa",
           "#FFA15A",
           "#19d3f3",
           "#FF6692",
           "#B6E880",
           "#FF97FF",
           "#FECB52"
          ],
          "font": {
           "color": "#2a3f5f"
          },
          "geo": {
           "bgcolor": "white",
           "lakecolor": "white",
           "landcolor": "#E5ECF6",
           "showlakes": true,
           "showland": true,
           "subunitcolor": "white"
          },
          "hoverlabel": {
           "align": "left"
          },
          "hovermode": "closest",
          "mapbox": {
           "style": "light"
          },
          "paper_bgcolor": "white",
          "plot_bgcolor": "#E5ECF6",
          "polar": {
           "angularaxis": {
            "gridcolor": "white",
            "linecolor": "white",
            "ticks": ""
           },
           "bgcolor": "#E5ECF6",
           "radialaxis": {
            "gridcolor": "white",
            "linecolor": "white",
            "ticks": ""
           }
          },
          "scene": {
           "xaxis": {
            "backgroundcolor": "#E5ECF6",
            "gridcolor": "white",
            "gridwidth": 2,
            "linecolor": "white",
            "showbackground": true,
            "ticks": "",
            "zerolinecolor": "white"
           },
           "yaxis": {
            "backgroundcolor": "#E5ECF6",
            "gridcolor": "white",
            "gridwidth": 2,
            "linecolor": "white",
            "showbackground": true,
            "ticks": "",
            "zerolinecolor": "white"
           },
           "zaxis": {
            "backgroundcolor": "#E5ECF6",
            "gridcolor": "white",
            "gridwidth": 2,
            "linecolor": "white",
            "showbackground": true,
            "ticks": "",
            "zerolinecolor": "white"
           }
          },
          "shapedefaults": {
           "line": {
            "color": "#2a3f5f"
           }
          },
          "ternary": {
           "aaxis": {
            "gridcolor": "white",
            "linecolor": "white",
            "ticks": ""
           },
           "baxis": {
            "gridcolor": "white",
            "linecolor": "white",
            "ticks": ""
           },
           "bgcolor": "#E5ECF6",
           "caxis": {
            "gridcolor": "white",
            "linecolor": "white",
            "ticks": ""
           }
          },
          "title": {
           "x": 0.05
          },
          "xaxis": {
           "automargin": true,
           "gridcolor": "white",
           "linecolor": "white",
           "ticks": "",
           "title": {
            "standoff": 15
           },
           "zerolinecolor": "white",
           "zerolinewidth": 2
          },
          "yaxis": {
           "automargin": true,
           "gridcolor": "white",
           "linecolor": "white",
           "ticks": "",
           "title": {
            "standoff": 15
           },
           "zerolinecolor": "white",
           "zerolinewidth": 2
          }
         }
        },
        "title": {
         "font": {
          "color": "#4D5663"
         }
        },
        "xaxis": {
         "gridcolor": "#E1E5ED",
         "showgrid": true,
         "tickfont": {
          "color": "#4D5663"
         },
         "title": {
          "font": {
           "color": "#4D5663"
          },
          "text": ""
         },
         "zerolinecolor": "#E1E5ED"
        },
        "yaxis": {
         "gridcolor": "#E1E5ED",
         "showgrid": true,
         "tickfont": {
          "color": "#4D5663"
         },
         "title": {
          "font": {
           "color": "#4D5663"
          },
          "text": ""
         },
         "zerolinecolor": "#E1E5ED"
        }
       }
      },
      "image/png": "[encoded data removed]",
      "text/html": [
       "<div>                            <div id=\"f85e5503-e9d2-480d-8195-243a3b9c4106\" class=\"plotly-graph-div\" style=\"height:525px; width:100%;\"></div>            <script type=\"text/javascript\">                require([\"plotly\"], function(Plotly) {                    window.PLOTLYENV=window.PLOTLYENV || {};\n",
       "                    window.PLOTLYENV.BASE_URL='https://plot.ly';                                    if (document.getElementById(\"f85e5503-e9d2-480d-8195-243a3b9c4106\")) {                    Plotly.newPlot(                        \"f85e5503-e9d2-480d-8195-243a3b9c4106\",                        [{\"colorscale\":[[0.0,\"rgb(165,0,38)\"],[0.1,\"rgb(215,48,39)\"],[0.2,\"rgb(244,109,67)\"],[0.3,\"rgb(253,174,97)\"],[0.4,\"rgb(254,224,144)\"],[0.5,\"rgb(255,255,191)\"],[0.6,\"rgb(224,243,248)\"],[0.7,\"rgb(171,217,233)\"],[0.8,\"rgb(116,173,209)\"],[0.9,\"rgb(69,117,180)\"],[1.0,\"rgb(49,54,149)\"]],\"x\":[0,1,2,3,4],\"y\":[\"x\",\"y\",\"z\"],\"z\":[[1,2,3,4,5],[10,20,30,20,10],[5,4,3,2,1]],\"type\":\"surface\"}],                        {\"legend\":{\"bgcolor\":\"#F5F6F9\",\"font\":{\"color\":\"#4D5663\"}},\"paper_bgcolor\":\"#F5F6F9\",\"plot_bgcolor\":\"#F5F6F9\",\"template\":{\"data\":{\"barpolar\":[{\"marker\":{\"line\":{\"color\":\"#E5ECF6\",\"width\":0.5},\"pattern\":{\"fillmode\":\"overlay\",\"size\":10,\"solidity\":0.2}},\"type\":\"barpolar\"}],\"bar\":[{\"error_x\":{\"color\":\"#2a3f5f\"},\"error_y\":{\"color\":\"#2a3f5f\"},\"marker\":{\"line\":{\"color\":\"#E5ECF6\",\"width\":0.5},\"pattern\":{\"fillmode\":\"overlay\",\"size\":10,\"solidity\":0.2}},\"type\":\"bar\"}],\"carpet\":[{\"aaxis\":{\"endlinecolor\":\"#2a3f5f\",\"gridcolor\":\"white\",\"linecolor\":\"white\",\"minorgridcolor\":\"white\",\"startlinecolor\":\"#2a3f5f\"},\"baxis\":{\"endlinecolor\":\"#2a3f5f\",\"gridcolor\":\"white\",\"linecolor\":\"white\",\"minorgridcolor\":\"white\",\"startlinecolor\":\"#2a3f5f\"},\"type\":\"carpet\"}],\"choropleth\":[{\"colorbar\":{\"outlinewidth\":0,\"ticks\":\"\"},\"type\":\"choropleth\"}],\"contourcarpet\":[{\"colorbar\":{\"outlinewidth\":0,\"ticks\":\"\"},\"type\":\"contourcarpet\"}],\"contour\":[{\"colorbar\":{\"outlinewidth\":0,\"ticks\":\"\"},\"colorscale\":[[0.0,\"#0d0887\"],[0.1111111111111111,\"#46039f\"],[0.2222222222222222,\"#7201a8\"],[0.3333333333333333,\"#9c179e\"],[0.4444444444444444,\"#bd3786\"],[0.5555555555555556,\"#d8576b\"],[0.6666666666666666,\"#ed7953\"],[0.7777777777777778,\"#fb9f3a\"],[0.8888888888888888,\"#fdca26\"],[1.0,\"#f0f921\"]],\"type\":\"contour\"}],\"heatmapgl\":[{\"colorbar\":{\"outlinewidth\":0,\"ticks\":\"\"},\"colorscale\":[[0.0,\"#0d0887\"],[0.1111111111111111,\"#46039f\"],[0.2222222222222222,\"#7201a8\"],[0.3333333333333333,\"#9c179e\"],[0.4444444444444444,\"#bd3786\"],[0.5555555555555556,\"#d8576b\"],[0.6666666666666666,\"#ed7953\"],[0.7777777777777778,\"#fb9f3a\"],[0.8888888888888888,\"#fdca26\"],[1.0,\"#f0f921\"]],\"type\":\"heatmapgl\"}],\"heatmap\":[{\"colorbar\":{\"outlinewidth\":0,\"ticks\":\"\"},\"colorscale\":[[0.0,\"#0d0887\"],[0.1111111111111111,\"#46039f\"],[0.2222222222222222,\"#7201a8\"],[0.3333333333333333,\"#9c179e\"],[0.4444444444444444,\"#bd3786\"],[0.5555555555555556,\"#d8576b\"],[0.6666666666666666,\"#ed7953\"],[0.7777777777777778,\"#fb9f3a\"],[0.8888888888888888,\"#fdca26\"],[1.0,\"#f0f921\"]],\"type\":\"heatmap\"}],\"histogram2dcontour\":[{\"colorbar\":{\"outlinewidth\":0,\"ticks\":\"\"},\"colorscale\":[[0.0,\"#0d0887\"],[0.1111111111111111,\"#46039f\"],[0.2222222222222222,\"#7201a8\"],[0.3333333333333333,\"#9c179e\"],[0.4444444444444444,\"#bd3786\"],[0.5555555555555556,\"#d8576b\"],[0.6666666666666666,\"#ed7953\"],[0.7777777777777778,\"#fb9f3a\"],[0.8888888888888888,\"#fdca26\"],[1.0,\"#f0f921\"]],\"type\":\"histogram2dcontour\"}],\"histogram2d\":[{\"colorbar\":{\"outlinewidth\":0,\"ticks\":\"\"},\"colorscale\":[[0.0,\"#0d0887\"],[0.1111111111111111,\"#46039f\"],[0.2222222222222222,\"#7201a8\"],[0.3333333333333333,\"#9c179e\"],[0.4444444444444444,\"#bd3786\"],[0.5555555555555556,\"#d8576b\"],[0.6666666666666666,\"#ed7953\"],[0.7777777777777778,\"#fb9f3a\"],[0.8888888888888888,\"#fdca26\"],[1.0,\"#f0f921\"]],\"type\":\"histogram2d\"}],\"histogram\":[{\"marker\":{\"pattern\":{\"fillmode\":\"overlay\",\"size\":10,\"solidity\":0.2}},\"type\":\"histogram\"}],\"mesh3d\":[{\"colorbar\":{\"outlinewidth\":0,\"ticks\":\"\"},\"type\":\"mesh3d\"}],\"parcoords\":[{\"line\":{\"colorbar\":{\"outlinewidth\":0,\"ticks\":\"\"}},\"type\":\"parcoords\"}],\"pie\":[{\"automargin\":true,\"type\":\"pie\"}],\"scatter3d\":[{\"line\":{\"colorbar\":{\"outlinewidth\":0,\"ticks\":\"\"}},\"marker\":{\"colorbar\":{\"outlinewidth\":0,\"ticks\":\"\"}},\"type\":\"scatter3d\"}],\"scattercarpet\":[{\"marker\":{\"colorbar\":{\"outlinewidth\":0,\"ticks\":\"\"}},\"type\":\"scattercarpet\"}],\"scattergeo\":[{\"marker\":{\"colorbar\":{\"outlinewidth\":0,\"ticks\":\"\"}},\"type\":\"scattergeo\"}],\"scattergl\":[{\"marker\":{\"colorbar\":{\"outlinewidth\":0,\"ticks\":\"\"}},\"type\":\"scattergl\"}],\"scattermapbox\":[{\"marker\":{\"colorbar\":{\"outlinewidth\":0,\"ticks\":\"\"}},\"type\":\"scattermapbox\"}],\"scatterpolargl\":[{\"marker\":{\"colorbar\":{\"outlinewidth\":0,\"ticks\":\"\"}},\"type\":\"scatterpolargl\"}],\"scatterpolar\":[{\"marker\":{\"colorbar\":{\"outlinewidth\":0,\"ticks\":\"\"}},\"type\":\"scatterpolar\"}],\"scatter\":[{\"fillpattern\":{\"fillmode\":\"overlay\",\"size\":10,\"solidity\":0.2},\"type\":\"scatter\"}],\"scatterternary\":[{\"marker\":{\"colorbar\":{\"outlinewidth\":0,\"ticks\":\"\"}},\"type\":\"scatterternary\"}],\"surface\":[{\"colorbar\":{\"outlinewidth\":0,\"ticks\":\"\"},\"colorscale\":[[0.0,\"#0d0887\"],[0.1111111111111111,\"#46039f\"],[0.2222222222222222,\"#7201a8\"],[0.3333333333333333,\"#9c179e\"],[0.4444444444444444,\"#bd3786\"],[0.5555555555555556,\"#d8576b\"],[0.6666666666666666,\"#ed7953\"],[0.7777777777777778,\"#fb9f3a\"],[0.8888888888888888,\"#fdca26\"],[1.0,\"#f0f921\"]],\"type\":\"surface\"}],\"table\":[{\"cells\":{\"fill\":{\"color\":\"#EBF0F8\"},\"line\":{\"color\":\"white\"}},\"header\":{\"fill\":{\"color\":\"#C8D4E3\"},\"line\":{\"color\":\"white\"}},\"type\":\"table\"}]},\"layout\":{\"annotationdefaults\":{\"arrowcolor\":\"#2a3f5f\",\"arrowhead\":0,\"arrowwidth\":1},\"autotypenumbers\":\"strict\",\"coloraxis\":{\"colorbar\":{\"outlinewidth\":0,\"ticks\":\"\"}},\"colorscale\":{\"diverging\":[[0,\"#8e0152\"],[0.1,\"#c51b7d\"],[0.2,\"#de77ae\"],[0.3,\"#f1b6da\"],[0.4,\"#fde0ef\"],[0.5,\"#f7f7f7\"],[0.6,\"#e6f5d0\"],[0.7,\"#b8e186\"],[0.8,\"#7fbc41\"],[0.9,\"#4d9221\"],[1,\"#276419\"]],\"sequential\":[[0.0,\"#0d0887\"],[0.1111111111111111,\"#46039f\"],[0.2222222222222222,\"#7201a8\"],[0.3333333333333333,\"#9c179e\"],[0.4444444444444444,\"#bd3786\"],[0.5555555555555556,\"#d8576b\"],[0.6666666666666666,\"#ed7953\"],[0.7777777777777778,\"#fb9f3a\"],[0.8888888888888888,\"#fdca26\"],[1.0,\"#f0f921\"]],\"sequentialminus\":[[0.0,\"#0d0887\"],[0.1111111111111111,\"#46039f\"],[0.2222222222222222,\"#7201a8\"],[0.3333333333333333,\"#9c179e\"],[0.4444444444444444,\"#bd3786\"],[0.5555555555555556,\"#d8576b\"],[0.6666666666666666,\"#ed7953\"],[0.7777777777777778,\"#fb9f3a\"],[0.8888888888888888,\"#fdca26\"],[1.0,\"#f0f921\"]]},\"colorway\":[\"#636efa\",\"#EF553B\",\"#00cc96\",\"#ab63fa\",\"#FFA15A\",\"#19d3f3\",\"#FF6692\",\"#B6E880\",\"#FF97FF\",\"#FECB52\"],\"font\":{\"color\":\"#2a3f5f\"},\"geo\":{\"bgcolor\":\"white\",\"lakecolor\":\"white\",\"landcolor\":\"#E5ECF6\",\"showlakes\":true,\"showland\":true,\"subunitcolor\":\"white\"},\"hoverlabel\":{\"align\":\"left\"},\"hovermode\":\"closest\",\"mapbox\":{\"style\":\"light\"},\"paper_bgcolor\":\"white\",\"plot_bgcolor\":\"#E5ECF6\",\"polar\":{\"angularaxis\":{\"gridcolor\":\"white\",\"linecolor\":\"white\",\"ticks\":\"\"},\"bgcolor\":\"#E5ECF6\",\"radialaxis\":{\"gridcolor\":\"white\",\"linecolor\":\"white\",\"ticks\":\"\"}},\"scene\":{\"xaxis\":{\"backgroundcolor\":\"#E5ECF6\",\"gridcolor\":\"white\",\"gridwidth\":2,\"linecolor\":\"white\",\"showbackground\":true,\"ticks\":\"\",\"zerolinecolor\":\"white\"},\"yaxis\":{\"backgroundcolor\":\"#E5ECF6\",\"gridcolor\":\"white\",\"gridwidth\":2,\"linecolor\":\"white\",\"showbackground\":true,\"ticks\":\"\",\"zerolinecolor\":\"white\"},\"zaxis\":{\"backgroundcolor\":\"#E5ECF6\",\"gridcolor\":\"white\",\"gridwidth\":2,\"linecolor\":\"white\",\"showbackground\":true,\"ticks\":\"\",\"zerolinecolor\":\"white\"}},\"shapedefaults\":{\"line\":{\"color\":\"#2a3f5f\"}},\"ternary\":{\"aaxis\":{\"gridcolor\":\"white\",\"linecolor\":\"white\",\"ticks\":\"\"},\"baxis\":{\"gridcolor\":\"white\",\"linecolor\":\"white\",\"ticks\":\"\"},\"bgcolor\":\"#E5ECF6\",\"caxis\":{\"gridcolor\":\"white\",\"linecolor\":\"white\",\"ticks\":\"\"}},\"title\":{\"x\":0.05},\"xaxis\":{\"automargin\":true,\"gridcolor\":\"white\",\"linecolor\":\"white\",\"ticks\":\"\",\"title\":{\"standoff\":15},\"zerolinecolor\":\"white\",\"zerolinewidth\":2},\"yaxis\":{\"automargin\":true,\"gridcolor\":\"white\",\"linecolor\":\"white\",\"ticks\":\"\",\"title\":{\"standoff\":15},\"zerolinecolor\":\"white\",\"zerolinewidth\":2}}},\"title\":{\"font\":{\"color\":\"#4D5663\"}},\"xaxis\":{\"gridcolor\":\"#E1E5ED\",\"showgrid\":true,\"tickfont\":{\"color\":\"#4D5663\"},\"title\":{\"font\":{\"color\":\"#4D5663\"},\"text\":\"\"},\"zerolinecolor\":\"#E1E5ED\"},\"yaxis\":{\"gridcolor\":\"#E1E5ED\",\"showgrid\":true,\"tickfont\":{\"color\":\"#4D5663\"},\"title\":{\"font\":{\"color\":\"#4D5663\"},\"text\":\"\"},\"zerolinecolor\":\"#E1E5ED\"}},                        {\"showLink\": true, \"linkText\": \"Export to plot.ly\", \"plotlyServerURL\": \"https://plot.ly\", \"responsive\": true}                    ).then(function(){\n",
       "                            \n",
       "var gd = document.getElementById('f85e5503-e9d2-480d-8195-243a3b9c4106');\n",
       "var x = new MutationObserver(function (mutations, observer) {{\n",
       "        var display = window.getComputedStyle(gd).display;\n",
       "        if (!display || display === 'none') {{\n",
       "            console.log([gd, 'removed!']);\n",
       "            Plotly.purge(gd);\n",
       "            observer.disconnect();\n",
       "        }}\n",
       "}});\n",
       "\n",
       "// Listen for the removal of the full notebook cells\n",
       "var notebookContainer = gd.closest('#notebook-container');\n",
       "if (notebookContainer) {{\n",
       "    x.observe(notebookContainer, {childList: true});\n",
       "}}\n",
       "\n",
       "// Listen for the clearing of the current output cell\n",
       "var outputEl = gd.closest('.output');\n",
       "if (outputEl) {{\n",
       "    x.observe(outputEl, {childList: true});\n",
       "}}\n",
       "\n",
       "                        })                };                });            </script>        </div>"
      ]
     },
     "metadata": {},
     "output_type": "display_data"
    }
   ],
   "source": [
    "df3 = pd.DataFrame({'x':[1,2,3,4,5],'y':[10,20,30,20,10],'z':[5,4,3,2,1]})\n",
    "df3.iplot(kind='surface',colorscale='rdylbu')"
   ]
  },
  {
   "cell_type": "markdown",
   "metadata": {},
   "source": [
    "## histogram"
   ]
  },
  {
   "cell_type": "code",
   "execution_count": 16,
   "metadata": {
    "collapsed": false,
    "jupyter": {
     "outputs_hidden": false
    }
   },
   "outputs": [
    {
     "data": {
      "application/vnd.plotly.v1+json": {
       "config": {
        "linkText": "Export to plot.ly",
        "plotlyServerURL": "https://plot.ly",
        "showLink": true
       },
       "data": [
        {
         "histfunc": "count",
         "histnorm": "",
         "marker": {
          "color": "rgba(255, 153, 51, 1.0)",
          "line": {
           "color": "#4D5663",
           "width": 1.3
          }
         },
         "name": "A",
         "nbinsx": 25,
         "opacity": 0.8,
         "orientation": "v",
         "type": "histogram",
         "x": [
          -0.014182249911513891,
          -0.7990367681886373,
          0.6591194910503083,
          1.998829472768256,
          1.354928704711035,
          -0.1371167194422425,
          0.4333354482330215,
          0.49267447183888413,
          1.3858792197389416,
          0.4676724923040728,
          0.4849888456465899,
          0.45149705620233,
          -0.1063775758913652,
          -0.6451185663551487,
          0.8357224494240874,
          0.05850278298606873,
          -0.6878280364420764,
          -1.0745550632638445,
          -1.5078604397890385,
          0.40661572837594684,
          0.9800238409731928,
          -1.6325091262235363,
          0.1631019706498342,
          1.4448137969722203,
          0.02513391270452852,
          0.9547946954988611,
          -1.0563585853877604,
          -1.3142901401847198,
          -0.25331664335336507,
          -1.4879385617072196,
          1.7470695903409454,
          -0.48379885894116165,
          -0.9241938987777035,
          0.365712246098989,
          1.221561139279699,
          1.1752904012641878,
          -1.0893692935961712,
          0.05496551530451065,
          -0.2176827297418758,
          -0.0657386185768375,
          1.562769039489702,
          0.13189295528231632,
          -0.4496554338022613,
          1.039717915533698,
          0.6661633287497195,
          1.0294163558425313,
          0.10459497547037343,
          -0.6486758199813077,
          -0.35946559697843306,
          -0.7791403957659999,
          -0.7131422295621813,
          0.3530266789979288,
          -0.5850582350435681,
          -1.228669369831788,
          -0.18193668990025463,
          -1.2251158115222835,
          -2.7313135571757563,
          -1.3901611885307172,
          -0.7668234576924771,
          -0.2740656808576659,
          1.667691642371268,
          0.09675804750002247,
          -0.3993649557252148,
          1.484220094919042,
          -0.07901652159766895,
          -0.26975354473237967,
          0.605978939676668,
          0.008585745532567687,
          -0.49986280262070976,
          0.7050757224054496,
          -0.9825443837523973,
          -0.4903160744754752,
          1.375276764445953,
          0.12104979745920955,
          1.4824150417639876,
          0.2884732149437047,
          1.0647981187455822,
          -0.27941567866192923,
          -0.9575609575401136,
          0.5646814456783594,
          0.08480759312596246,
          0.5456752792982241,
          0.04474730044409539,
          0.3449381645647911,
          1.0989196536617412,
          2.0009367716990374,
          -0.10649601834445481,
          -0.9948925083156563,
          -1.507843017905901,
          -0.04914540079233849,
          0.0015998307786427317,
          0.08871540715131175,
          -0.09513443320348569,
          1.3884170241785447,
          -0.6375754053537689,
          0.5353090243952152,
          0.5058531399900315,
          0.0039000720093066215,
          1.6856477147167694,
          1.0788626909510945
         ]
        }
       ],
       "layout": {
        "autosize": true,
        "barmode": "overlay",
        "legend": {
         "bgcolor": "#F5F6F9",
         "font": {
          "color": "#4D5663"
         }
        },
        "paper_bgcolor": "#F5F6F9",
        "plot_bgcolor": "#F5F6F9",
        "template": {
         "data": {
          "bar": [
           {
            "error_x": {
             "color": "#2a3f5f"
            },
            "error_y": {
             "color": "#2a3f5f"
            },
            "marker": {
             "line": {
              "color": "#E5ECF6",
              "width": 0.5
             },
             "pattern": {
              "fillmode": "overlay",
              "size": 10,
              "solidity": 0.2
             }
            },
            "type": "bar"
           }
          ],
          "barpolar": [
           {
            "marker": {
             "line": {
              "color": "#E5ECF6",
              "width": 0.5
             },
             "pattern": {
              "fillmode": "overlay",
              "size": 10,
              "solidity": 0.2
             }
            },
            "type": "barpolar"
           }
          ],
          "carpet": [
           {
            "aaxis": {
             "endlinecolor": "#2a3f5f",
             "gridcolor": "white",
             "linecolor": "white",
             "minorgridcolor": "white",
             "startlinecolor": "#2a3f5f"
            },
            "baxis": {
             "endlinecolor": "#2a3f5f",
             "gridcolor": "white",
             "linecolor": "white",
             "minorgridcolor": "white",
             "startlinecolor": "#2a3f5f"
            },
            "type": "carpet"
           }
          ],
          "choropleth": [
           {
            "colorbar": {
             "outlinewidth": 0,
             "ticks": ""
            },
            "type": "choropleth"
           }
          ],
          "contour": [
           {
            "colorbar": {
             "outlinewidth": 0,
             "ticks": ""
            },
            "colorscale": [
             [
              0,
              "#0d0887"
             ],
             [
              0.1111111111111111,
              "#46039f"
             ],
             [
              0.2222222222222222,
              "#7201a8"
             ],
             [
              0.3333333333333333,
              "#9c179e"
             ],
             [
              0.4444444444444444,
              "#bd3786"
             ],
             [
              0.5555555555555556,
              "#d8576b"
             ],
             [
              0.6666666666666666,
              "#ed7953"
             ],
             [
              0.7777777777777778,
              "#fb9f3a"
             ],
             [
              0.8888888888888888,
              "#fdca26"
             ],
             [
              1,
              "#f0f921"
             ]
            ],
            "type": "contour"
           }
          ],
          "contourcarpet": [
           {
            "colorbar": {
             "outlinewidth": 0,
             "ticks": ""
            },
            "type": "contourcarpet"
           }
          ],
          "heatmap": [
           {
            "colorbar": {
             "outlinewidth": 0,
             "ticks": ""
            },
            "colorscale": [
             [
              0,
              "#0d0887"
             ],
             [
              0.1111111111111111,
              "#46039f"
             ],
             [
              0.2222222222222222,
              "#7201a8"
             ],
             [
              0.3333333333333333,
              "#9c179e"
             ],
             [
              0.4444444444444444,
              "#bd3786"
             ],
             [
              0.5555555555555556,
              "#d8576b"
             ],
             [
              0.6666666666666666,
              "#ed7953"
             ],
             [
              0.7777777777777778,
              "#fb9f3a"
             ],
             [
              0.8888888888888888,
              "#fdca26"
             ],
             [
              1,
              "#f0f921"
             ]
            ],
            "type": "heatmap"
           }
          ],
          "heatmapgl": [
           {
            "colorbar": {
             "outlinewidth": 0,
             "ticks": ""
            },
            "colorscale": [
             [
              0,
              "#0d0887"
             ],
             [
              0.1111111111111111,
              "#46039f"
             ],
             [
              0.2222222222222222,
              "#7201a8"
             ],
             [
              0.3333333333333333,
              "#9c179e"
             ],
             [
              0.4444444444444444,
              "#bd3786"
             ],
             [
              0.5555555555555556,
              "#d8576b"
             ],
             [
              0.6666666666666666,
              "#ed7953"
             ],
             [
              0.7777777777777778,
              "#fb9f3a"
             ],
             [
              0.8888888888888888,
              "#fdca26"
             ],
             [
              1,
              "#f0f921"
             ]
            ],
            "type": "heatmapgl"
           }
          ],
          "histogram": [
           {
            "marker": {
             "pattern": {
              "fillmode": "overlay",
              "size": 10,
              "solidity": 0.2
             }
            },
            "type": "histogram"
           }
          ],
          "histogram2d": [
           {
            "colorbar": {
             "outlinewidth": 0,
             "ticks": ""
            },
            "colorscale": [
             [
              0,
              "#0d0887"
             ],
             [
              0.1111111111111111,
              "#46039f"
             ],
             [
              0.2222222222222222,
              "#7201a8"
             ],
             [
              0.3333333333333333,
              "#9c179e"
             ],
             [
              0.4444444444444444,
              "#bd3786"
             ],
             [
              0.5555555555555556,
              "#d8576b"
             ],
             [
              0.6666666666666666,
              "#ed7953"
             ],
             [
              0.7777777777777778,
              "#fb9f3a"
             ],
             [
              0.8888888888888888,
              "#fdca26"
             ],
             [
              1,
              "#f0f921"
             ]
            ],
            "type": "histogram2d"
           }
          ],
          "histogram2dcontour": [
           {
            "colorbar": {
             "outlinewidth": 0,
             "ticks": ""
            },
            "colorscale": [
             [
              0,
              "#0d0887"
             ],
             [
              0.1111111111111111,
              "#46039f"
             ],
             [
              0.2222222222222222,
              "#7201a8"
             ],
             [
              0.3333333333333333,
              "#9c179e"
             ],
             [
              0.4444444444444444,
              "#bd3786"
             ],
             [
              0.5555555555555556,
              "#d8576b"
             ],
             [
              0.6666666666666666,
              "#ed7953"
             ],
             [
              0.7777777777777778,
              "#fb9f3a"
             ],
             [
              0.8888888888888888,
              "#fdca26"
             ],
             [
              1,
              "#f0f921"
             ]
            ],
            "type": "histogram2dcontour"
           }
          ],
          "mesh3d": [
           {
            "colorbar": {
             "outlinewidth": 0,
             "ticks": ""
            },
            "type": "mesh3d"
           }
          ],
          "parcoords": [
           {
            "line": {
             "colorbar": {
              "outlinewidth": 0,
              "ticks": ""
             }
            },
            "type": "parcoords"
           }
          ],
          "pie": [
           {
            "automargin": true,
            "type": "pie"
           }
          ],
          "scatter": [
           {
            "fillpattern": {
             "fillmode": "overlay",
             "size": 10,
             "solidity": 0.2
            },
            "type": "scatter"
           }
          ],
          "scatter3d": [
           {
            "line": {
             "colorbar": {
              "outlinewidth": 0,
              "ticks": ""
             }
            },
            "marker": {
             "colorbar": {
              "outlinewidth": 0,
              "ticks": ""
             }
            },
            "type": "scatter3d"
           }
          ],
          "scattercarpet": [
           {
            "marker": {
             "colorbar": {
              "outlinewidth": 0,
              "ticks": ""
             }
            },
            "type": "scattercarpet"
           }
          ],
          "scattergeo": [
           {
            "marker": {
             "colorbar": {
              "outlinewidth": 0,
              "ticks": ""
             }
            },
            "type": "scattergeo"
           }
          ],
          "scattergl": [
           {
            "marker": {
             "colorbar": {
              "outlinewidth": 0,
              "ticks": ""
             }
            },
            "type": "scattergl"
           }
          ],
          "scattermapbox": [
           {
            "marker": {
             "colorbar": {
              "outlinewidth": 0,
              "ticks": ""
             }
            },
            "type": "scattermapbox"
           }
          ],
          "scatterpolar": [
           {
            "marker": {
             "colorbar": {
              "outlinewidth": 0,
              "ticks": ""
             }
            },
            "type": "scatterpolar"
           }
          ],
          "scatterpolargl": [
           {
            "marker": {
             "colorbar": {
              "outlinewidth": 0,
              "ticks": ""
             }
            },
            "type": "scatterpolargl"
           }
          ],
          "scatterternary": [
           {
            "marker": {
             "colorbar": {
              "outlinewidth": 0,
              "ticks": ""
             }
            },
            "type": "scatterternary"
           }
          ],
          "surface": [
           {
            "colorbar": {
             "outlinewidth": 0,
             "ticks": ""
            },
            "colorscale": [
             [
              0,
              "#0d0887"
             ],
             [
              0.1111111111111111,
              "#46039f"
             ],
             [
              0.2222222222222222,
              "#7201a8"
             ],
             [
              0.3333333333333333,
              "#9c179e"
             ],
             [
              0.4444444444444444,
              "#bd3786"
             ],
             [
              0.5555555555555556,
              "#d8576b"
             ],
             [
              0.6666666666666666,
              "#ed7953"
             ],
             [
              0.7777777777777778,
              "#fb9f3a"
             ],
             [
              0.8888888888888888,
              "#fdca26"
             ],
             [
              1,
              "#f0f921"
             ]
            ],
            "type": "surface"
           }
          ],
          "table": [
           {
            "cells": {
             "fill": {
              "color": "#EBF0F8"
             },
             "line": {
              "color": "white"
             }
            },
            "header": {
             "fill": {
              "color": "#C8D4E3"
             },
             "line": {
              "color": "white"
             }
            },
            "type": "table"
           }
          ]
         },
         "layout": {
          "annotationdefaults": {
           "arrowcolor": "#2a3f5f",
           "arrowhead": 0,
           "arrowwidth": 1
          },
          "autotypenumbers": "strict",
          "coloraxis": {
           "colorbar": {
            "outlinewidth": 0,
            "ticks": ""
           }
          },
          "colorscale": {
           "diverging": [
            [
             0,
             "#8e0152"
            ],
            [
             0.1,
             "#c51b7d"
            ],
            [
             0.2,
             "#de77ae"
            ],
            [
             0.3,
             "#f1b6da"
            ],
            [
             0.4,
             "#fde0ef"
            ],
            [
             0.5,
             "#f7f7f7"
            ],
            [
             0.6,
             "#e6f5d0"
            ],
            [
             0.7,
             "#b8e186"
            ],
            [
             0.8,
             "#7fbc41"
            ],
            [
             0.9,
             "#4d9221"
            ],
            [
             1,
             "#276419"
            ]
           ],
           "sequential": [
            [
             0,
             "#0d0887"
            ],
            [
             0.1111111111111111,
             "#46039f"
            ],
            [
             0.2222222222222222,
             "#7201a8"
            ],
            [
             0.3333333333333333,
             "#9c179e"
            ],
            [
             0.4444444444444444,
             "#bd3786"
            ],
            [
             0.5555555555555556,
             "#d8576b"
            ],
            [
             0.6666666666666666,
             "#ed7953"
            ],
            [
             0.7777777777777778,
             "#fb9f3a"
            ],
            [
             0.8888888888888888,
             "#fdca26"
            ],
            [
             1,
             "#f0f921"
            ]
           ],
           "sequentialminus": [
            [
             0,
             "#0d0887"
            ],
            [
             0.1111111111111111,
             "#46039f"
            ],
            [
             0.2222222222222222,
             "#7201a8"
            ],
            [
             0.3333333333333333,
             "#9c179e"
            ],
            [
             0.4444444444444444,
             "#bd3786"
            ],
            [
             0.5555555555555556,
             "#d8576b"
            ],
            [
             0.6666666666666666,
             "#ed7953"
            ],
            [
             0.7777777777777778,
             "#fb9f3a"
            ],
            [
             0.8888888888888888,
             "#fdca26"
            ],
            [
             1,
             "#f0f921"
            ]
           ]
          },
          "colorway": [
           "#636efa",
           "#EF553B",
           "#00cc96",
           "#ab63fa",
           "#FFA15A",
           "#19d3f3",
           "#FF6692",
           "#B6E880",
           "#FF97FF",
           "#FECB52"
          ],
          "font": {
           "color": "#2a3f5f"
          },
          "geo": {
           "bgcolor": "white",
           "lakecolor": "white",
           "landcolor": "#E5ECF6",
           "showlakes": true,
           "showland": true,
           "subunitcolor": "white"
          },
          "hoverlabel": {
           "align": "left"
          },
          "hovermode": "closest",
          "mapbox": {
           "style": "light"
          },
          "paper_bgcolor": "white",
          "plot_bgcolor": "#E5ECF6",
          "polar": {
           "angularaxis": {
            "gridcolor": "white",
            "linecolor": "white",
            "ticks": ""
           },
           "bgcolor": "#E5ECF6",
           "radialaxis": {
            "gridcolor": "white",
            "linecolor": "white",
            "ticks": ""
           }
          },
          "scene": {
           "xaxis": {
            "backgroundcolor": "#E5ECF6",
            "gridcolor": "white",
            "gridwidth": 2,
            "linecolor": "white",
            "showbackground": true,
            "ticks": "",
            "zerolinecolor": "white"
           },
           "yaxis": {
            "backgroundcolor": "#E5ECF6",
            "gridcolor": "white",
            "gridwidth": 2,
            "linecolor": "white",
            "showbackground": true,
            "ticks": "",
            "zerolinecolor": "white"
           },
           "zaxis": {
            "backgroundcolor": "#E5ECF6",
            "gridcolor": "white",
            "gridwidth": 2,
            "linecolor": "white",
            "showbackground": true,
            "ticks": "",
            "zerolinecolor": "white"
           }
          },
          "shapedefaults": {
           "line": {
            "color": "#2a3f5f"
           }
          },
          "ternary": {
           "aaxis": {
            "gridcolor": "white",
            "linecolor": "white",
            "ticks": ""
           },
           "baxis": {
            "gridcolor": "white",
            "linecolor": "white",
            "ticks": ""
           },
           "bgcolor": "#E5ECF6",
           "caxis": {
            "gridcolor": "white",
            "linecolor": "white",
            "ticks": ""
           }
          },
          "title": {
           "x": 0.05
          },
          "xaxis": {
           "automargin": true,
           "gridcolor": "white",
           "linecolor": "white",
           "ticks": "",
           "title": {
            "standoff": 15
           },
           "zerolinecolor": "white",
           "zerolinewidth": 2
          },
          "yaxis": {
           "automargin": true,
           "gridcolor": "white",
           "linecolor": "white",
           "ticks": "",
           "title": {
            "standoff": 15
           },
           "zerolinecolor": "white",
           "zerolinewidth": 2
          }
         }
        },
        "title": {
         "font": {
          "color": "#4D5663"
         }
        },
        "xaxis": {
         "autorange": true,
         "gridcolor": "#E1E5ED",
         "range": [
          -2.8999999999999995,
          2.0999999999999996
         ],
         "showgrid": true,
         "tickfont": {
          "color": "#4D5663"
         },
         "title": {
          "font": {
           "color": "#4D5663"
          },
          "text": ""
         },
         "type": "linear",
         "zerolinecolor": "#E1E5ED"
        },
        "yaxis": {
         "autorange": true,
         "gridcolor": "#E1E5ED",
         "range": [
          0,
          15.789473684210526
         ],
         "showgrid": true,
         "tickfont": {
          "color": "#4D5663"
         },
         "title": {
          "font": {
           "color": "#4D5663"
          },
          "text": ""
         },
         "zerolinecolor": "#E1E5ED"
        }
       }
      },
      "image/png": "[encoded data removed]",
      "text/html": [
       "<div>                            <div id=\"4a11158e-be91-45bb-8910-3e2ec9610096\" class=\"plotly-graph-div\" style=\"height:525px; width:100%;\"></div>            <script type=\"text/javascript\">                require([\"plotly\"], function(Plotly) {                    window.PLOTLYENV=window.PLOTLYENV || {};\n",
       "                    window.PLOTLYENV.BASE_URL='https://plot.ly';                                    if (document.getElementById(\"4a11158e-be91-45bb-8910-3e2ec9610096\")) {                    Plotly.newPlot(                        \"4a11158e-be91-45bb-8910-3e2ec9610096\",                        [{\"histfunc\":\"count\",\"histnorm\":\"\",\"marker\":{\"color\":\"rgba(255, 153, 51, 1.0)\",\"line\":{\"color\":\"#4D5663\",\"width\":1.3}},\"name\":\"A\",\"nbinsx\":25,\"opacity\":0.8,\"orientation\":\"v\",\"x\":[-0.014182249911513891,-0.7990367681886373,0.6591194910503083,1.998829472768256,1.354928704711035,-0.1371167194422425,0.4333354482330215,0.49267447183888413,1.3858792197389416,0.4676724923040728,0.4849888456465899,0.45149705620233,-0.1063775758913652,-0.6451185663551487,0.8357224494240874,0.05850278298606873,-0.6878280364420764,-1.0745550632638445,-1.5078604397890385,0.40661572837594684,0.9800238409731928,-1.6325091262235363,0.1631019706498342,1.4448137969722203,0.02513391270452852,0.9547946954988611,-1.0563585853877604,-1.3142901401847198,-0.25331664335336507,-1.4879385617072196,1.7470695903409454,-0.48379885894116165,-0.9241938987777035,0.365712246098989,1.221561139279699,1.1752904012641878,-1.0893692935961712,0.05496551530451065,-0.2176827297418758,-0.0657386185768375,1.562769039489702,0.13189295528231632,-0.4496554338022613,1.039717915533698,0.6661633287497195,1.0294163558425313,0.10459497547037343,-0.6486758199813077,-0.35946559697843306,-0.7791403957659999,-0.7131422295621813,0.3530266789979288,-0.5850582350435681,-1.228669369831788,-0.18193668990025463,-1.2251158115222835,-2.7313135571757563,-1.3901611885307172,-0.7668234576924771,-0.2740656808576659,1.667691642371268,0.09675804750002247,-0.3993649557252148,1.484220094919042,-0.07901652159766895,-0.26975354473237967,0.605978939676668,0.008585745532567687,-0.49986280262070976,0.7050757224054496,-0.9825443837523973,-0.4903160744754752,1.375276764445953,0.12104979745920955,1.4824150417639876,0.2884732149437047,1.0647981187455822,-0.27941567866192923,-0.9575609575401136,0.5646814456783594,0.08480759312596246,0.5456752792982241,0.04474730044409539,0.3449381645647911,1.0989196536617412,2.0009367716990374,-0.10649601834445481,-0.9948925083156563,-1.507843017905901,-0.04914540079233849,0.0015998307786427317,0.08871540715131175,-0.09513443320348569,1.3884170241785447,-0.6375754053537689,0.5353090243952152,0.5058531399900315,0.0039000720093066215,1.6856477147167694,1.0788626909510945],\"type\":\"histogram\"}],                        {\"barmode\":\"overlay\",\"legend\":{\"bgcolor\":\"#F5F6F9\",\"font\":{\"color\":\"#4D5663\"}},\"paper_bgcolor\":\"#F5F6F9\",\"plot_bgcolor\":\"#F5F6F9\",\"template\":{\"data\":{\"barpolar\":[{\"marker\":{\"line\":{\"color\":\"#E5ECF6\",\"width\":0.5},\"pattern\":{\"fillmode\":\"overlay\",\"size\":10,\"solidity\":0.2}},\"type\":\"barpolar\"}],\"bar\":[{\"error_x\":{\"color\":\"#2a3f5f\"},\"error_y\":{\"color\":\"#2a3f5f\"},\"marker\":{\"line\":{\"color\":\"#E5ECF6\",\"width\":0.5},\"pattern\":{\"fillmode\":\"overlay\",\"size\":10,\"solidity\":0.2}},\"type\":\"bar\"}],\"carpet\":[{\"aaxis\":{\"endlinecolor\":\"#2a3f5f\",\"gridcolor\":\"white\",\"linecolor\":\"white\",\"minorgridcolor\":\"white\",\"startlinecolor\":\"#2a3f5f\"},\"baxis\":{\"endlinecolor\":\"#2a3f5f\",\"gridcolor\":\"white\",\"linecolor\":\"white\",\"minorgridcolor\":\"white\",\"startlinecolor\":\"#2a3f5f\"},\"type\":\"carpet\"}],\"choropleth\":[{\"colorbar\":{\"outlinewidth\":0,\"ticks\":\"\"},\"type\":\"choropleth\"}],\"contourcarpet\":[{\"colorbar\":{\"outlinewidth\":0,\"ticks\":\"\"},\"type\":\"contourcarpet\"}],\"contour\":[{\"colorbar\":{\"outlinewidth\":0,\"ticks\":\"\"},\"colorscale\":[[0.0,\"#0d0887\"],[0.1111111111111111,\"#46039f\"],[0.2222222222222222,\"#7201a8\"],[0.3333333333333333,\"#9c179e\"],[0.4444444444444444,\"#bd3786\"],[0.5555555555555556,\"#d8576b\"],[0.6666666666666666,\"#ed7953\"],[0.7777777777777778,\"#fb9f3a\"],[0.8888888888888888,\"#fdca26\"],[1.0,\"#f0f921\"]],\"type\":\"contour\"}],\"heatmapgl\":[{\"colorbar\":{\"outlinewidth\":0,\"ticks\":\"\"},\"colorscale\":[[0.0,\"#0d0887\"],[0.1111111111111111,\"#46039f\"],[0.2222222222222222,\"#7201a8\"],[0.3333333333333333,\"#9c179e\"],[0.4444444444444444,\"#bd3786\"],[0.5555555555555556,\"#d8576b\"],[0.6666666666666666,\"#ed7953\"],[0.7777777777777778,\"#fb9f3a\"],[0.8888888888888888,\"#fdca26\"],[1.0,\"#f0f921\"]],\"type\":\"heatmapgl\"}],\"heatmap\":[{\"colorbar\":{\"outlinewidth\":0,\"ticks\":\"\"},\"colorscale\":[[0.0,\"#0d0887\"],[0.1111111111111111,\"#46039f\"],[0.2222222222222222,\"#7201a8\"],[0.3333333333333333,\"#9c179e\"],[0.4444444444444444,\"#bd3786\"],[0.5555555555555556,\"#d8576b\"],[0.6666666666666666,\"#ed7953\"],[0.7777777777777778,\"#fb9f3a\"],[0.8888888888888888,\"#fdca26\"],[1.0,\"#f0f921\"]],\"type\":\"heatmap\"}],\"histogram2dcontour\":[{\"colorbar\":{\"outlinewidth\":0,\"ticks\":\"\"},\"colorscale\":[[0.0,\"#0d0887\"],[0.1111111111111111,\"#46039f\"],[0.2222222222222222,\"#7201a8\"],[0.3333333333333333,\"#9c179e\"],[0.4444444444444444,\"#bd3786\"],[0.5555555555555556,\"#d8576b\"],[0.6666666666666666,\"#ed7953\"],[0.7777777777777778,\"#fb9f3a\"],[0.8888888888888888,\"#fdca26\"],[1.0,\"#f0f921\"]],\"type\":\"histogram2dcontour\"}],\"histogram2d\":[{\"colorbar\":{\"outlinewidth\":0,\"ticks\":\"\"},\"colorscale\":[[0.0,\"#0d0887\"],[0.1111111111111111,\"#46039f\"],[0.2222222222222222,\"#7201a8\"],[0.3333333333333333,\"#9c179e\"],[0.4444444444444444,\"#bd3786\"],[0.5555555555555556,\"#d8576b\"],[0.6666666666666666,\"#ed7953\"],[0.7777777777777778,\"#fb9f3a\"],[0.8888888888888888,\"#fdca26\"],[1.0,\"#f0f921\"]],\"type\":\"histogram2d\"}],\"histogram\":[{\"marker\":{\"pattern\":{\"fillmode\":\"overlay\",\"size\":10,\"solidity\":0.2}},\"type\":\"histogram\"}],\"mesh3d\":[{\"colorbar\":{\"outlinewidth\":0,\"ticks\":\"\"},\"type\":\"mesh3d\"}],\"parcoords\":[{\"line\":{\"colorbar\":{\"outlinewidth\":0,\"ticks\":\"\"}},\"type\":\"parcoords\"}],\"pie\":[{\"automargin\":true,\"type\":\"pie\"}],\"scatter3d\":[{\"line\":{\"colorbar\":{\"outlinewidth\":0,\"ticks\":\"\"}},\"marker\":{\"colorbar\":{\"outlinewidth\":0,\"ticks\":\"\"}},\"type\":\"scatter3d\"}],\"scattercarpet\":[{\"marker\":{\"colorbar\":{\"outlinewidth\":0,\"ticks\":\"\"}},\"type\":\"scattercarpet\"}],\"scattergeo\":[{\"marker\":{\"colorbar\":{\"outlinewidth\":0,\"ticks\":\"\"}},\"type\":\"scattergeo\"}],\"scattergl\":[{\"marker\":{\"colorbar\":{\"outlinewidth\":0,\"ticks\":\"\"}},\"type\":\"scattergl\"}],\"scattermapbox\":[{\"marker\":{\"colorbar\":{\"outlinewidth\":0,\"ticks\":\"\"}},\"type\":\"scattermapbox\"}],\"scatterpolargl\":[{\"marker\":{\"colorbar\":{\"outlinewidth\":0,\"ticks\":\"\"}},\"type\":\"scatterpolargl\"}],\"scatterpolar\":[{\"marker\":{\"colorbar\":{\"outlinewidth\":0,\"ticks\":\"\"}},\"type\":\"scatterpolar\"}],\"scatter\":[{\"fillpattern\":{\"fillmode\":\"overlay\",\"size\":10,\"solidity\":0.2},\"type\":\"scatter\"}],\"scatterternary\":[{\"marker\":{\"colorbar\":{\"outlinewidth\":0,\"ticks\":\"\"}},\"type\":\"scatterternary\"}],\"surface\":[{\"colorbar\":{\"outlinewidth\":0,\"ticks\":\"\"},\"colorscale\":[[0.0,\"#0d0887\"],[0.1111111111111111,\"#46039f\"],[0.2222222222222222,\"#7201a8\"],[0.3333333333333333,\"#9c179e\"],[0.4444444444444444,\"#bd3786\"],[0.5555555555555556,\"#d8576b\"],[0.6666666666666666,\"#ed7953\"],[0.7777777777777778,\"#fb9f3a\"],[0.8888888888888888,\"#fdca26\"],[1.0,\"#f0f921\"]],\"type\":\"surface\"}],\"table\":[{\"cells\":{\"fill\":{\"color\":\"#EBF0F8\"},\"line\":{\"color\":\"white\"}},\"header\":{\"fill\":{\"color\":\"#C8D4E3\"},\"line\":{\"color\":\"white\"}},\"type\":\"table\"}]},\"layout\":{\"annotationdefaults\":{\"arrowcolor\":\"#2a3f5f\",\"arrowhead\":0,\"arrowwidth\":1},\"autotypenumbers\":\"strict\",\"coloraxis\":{\"colorbar\":{\"outlinewidth\":0,\"ticks\":\"\"}},\"colorscale\":{\"diverging\":[[0,\"#8e0152\"],[0.1,\"#c51b7d\"],[0.2,\"#de77ae\"],[0.3,\"#f1b6da\"],[0.4,\"#fde0ef\"],[0.5,\"#f7f7f7\"],[0.6,\"#e6f5d0\"],[0.7,\"#b8e186\"],[0.8,\"#7fbc41\"],[0.9,\"#4d9221\"],[1,\"#276419\"]],\"sequential\":[[0.0,\"#0d0887\"],[0.1111111111111111,\"#46039f\"],[0.2222222222222222,\"#7201a8\"],[0.3333333333333333,\"#9c179e\"],[0.4444444444444444,\"#bd3786\"],[0.5555555555555556,\"#d8576b\"],[0.6666666666666666,\"#ed7953\"],[0.7777777777777778,\"#fb9f3a\"],[0.8888888888888888,\"#fdca26\"],[1.0,\"#f0f921\"]],\"sequentialminus\":[[0.0,\"#0d0887\"],[0.1111111111111111,\"#46039f\"],[0.2222222222222222,\"#7201a8\"],[0.3333333333333333,\"#9c179e\"],[0.4444444444444444,\"#bd3786\"],[0.5555555555555556,\"#d8576b\"],[0.6666666666666666,\"#ed7953\"],[0.7777777777777778,\"#fb9f3a\"],[0.8888888888888888,\"#fdca26\"],[1.0,\"#f0f921\"]]},\"colorway\":[\"#636efa\",\"#EF553B\",\"#00cc96\",\"#ab63fa\",\"#FFA15A\",\"#19d3f3\",\"#FF6692\",\"#B6E880\",\"#FF97FF\",\"#FECB52\"],\"font\":{\"color\":\"#2a3f5f\"},\"geo\":{\"bgcolor\":\"white\",\"lakecolor\":\"white\",\"landcolor\":\"#E5ECF6\",\"showlakes\":true,\"showland\":true,\"subunitcolor\":\"white\"},\"hoverlabel\":{\"align\":\"left\"},\"hovermode\":\"closest\",\"mapbox\":{\"style\":\"light\"},\"paper_bgcolor\":\"white\",\"plot_bgcolor\":\"#E5ECF6\",\"polar\":{\"angularaxis\":{\"gridcolor\":\"white\",\"linecolor\":\"white\",\"ticks\":\"\"},\"bgcolor\":\"#E5ECF6\",\"radialaxis\":{\"gridcolor\":\"white\",\"linecolor\":\"white\",\"ticks\":\"\"}},\"scene\":{\"xaxis\":{\"backgroundcolor\":\"#E5ECF6\",\"gridcolor\":\"white\",\"gridwidth\":2,\"linecolor\":\"white\",\"showbackground\":true,\"ticks\":\"\",\"zerolinecolor\":\"white\"},\"yaxis\":{\"backgroundcolor\":\"#E5ECF6\",\"gridcolor\":\"white\",\"gridwidth\":2,\"linecolor\":\"white\",\"showbackground\":true,\"ticks\":\"\",\"zerolinecolor\":\"white\"},\"zaxis\":{\"backgroundcolor\":\"#E5ECF6\",\"gridcolor\":\"white\",\"gridwidth\":2,\"linecolor\":\"white\",\"showbackground\":true,\"ticks\":\"\",\"zerolinecolor\":\"white\"}},\"shapedefaults\":{\"line\":{\"color\":\"#2a3f5f\"}},\"ternary\":{\"aaxis\":{\"gridcolor\":\"white\",\"linecolor\":\"white\",\"ticks\":\"\"},\"baxis\":{\"gridcolor\":\"white\",\"linecolor\":\"white\",\"ticks\":\"\"},\"bgcolor\":\"#E5ECF6\",\"caxis\":{\"gridcolor\":\"white\",\"linecolor\":\"white\",\"ticks\":\"\"}},\"title\":{\"x\":0.05},\"xaxis\":{\"automargin\":true,\"gridcolor\":\"white\",\"linecolor\":\"white\",\"ticks\":\"\",\"title\":{\"standoff\":15},\"zerolinecolor\":\"white\",\"zerolinewidth\":2},\"yaxis\":{\"automargin\":true,\"gridcolor\":\"white\",\"linecolor\":\"white\",\"ticks\":\"\",\"title\":{\"standoff\":15},\"zerolinecolor\":\"white\",\"zerolinewidth\":2}}},\"title\":{\"font\":{\"color\":\"#4D5663\"}},\"xaxis\":{\"gridcolor\":\"#E1E5ED\",\"showgrid\":true,\"tickfont\":{\"color\":\"#4D5663\"},\"title\":{\"font\":{\"color\":\"#4D5663\"},\"text\":\"\"},\"zerolinecolor\":\"#E1E5ED\"},\"yaxis\":{\"gridcolor\":\"#E1E5ED\",\"showgrid\":true,\"tickfont\":{\"color\":\"#4D5663\"},\"title\":{\"font\":{\"color\":\"#4D5663\"},\"text\":\"\"},\"zerolinecolor\":\"#E1E5ED\"}},                        {\"showLink\": true, \"linkText\": \"Export to plot.ly\", \"plotlyServerURL\": \"https://plot.ly\", \"responsive\": true}                    ).then(function(){\n",
       "                            \n",
       "var gd = document.getElementById('4a11158e-be91-45bb-8910-3e2ec9610096');\n",
       "var x = new MutationObserver(function (mutations, observer) {{\n",
       "        var display = window.getComputedStyle(gd).display;\n",
       "        if (!display || display === 'none') {{\n",
       "            console.log([gd, 'removed!']);\n",
       "            Plotly.purge(gd);\n",
       "            observer.disconnect();\n",
       "        }}\n",
       "}});\n",
       "\n",
       "// Listen for the removal of the full notebook cells\n",
       "var notebookContainer = gd.closest('#notebook-container');\n",
       "if (notebookContainer) {{\n",
       "    x.observe(notebookContainer, {childList: true});\n",
       "}}\n",
       "\n",
       "// Listen for the clearing of the current output cell\n",
       "var outputEl = gd.closest('.output');\n",
       "if (outputEl) {{\n",
       "    x.observe(outputEl, {childList: true});\n",
       "}}\n",
       "\n",
       "                        })                };                });            </script>        </div>"
      ]
     },
     "metadata": {},
     "output_type": "display_data"
    }
   ],
   "source": [
    "df['A'].iplot(kind='hist',bins=25)"
   ]
  },
  {
   "cell_type": "code",
   "execution_count": 17,
   "metadata": {
    "collapsed": false,
    "jupyter": {
     "outputs_hidden": false
    }
   },
   "outputs": [
    {
     "data": {
      "application/vnd.plotly.v1+json": {
       "config": {
        "linkText": "Export to plot.ly",
        "plotlyServerURL": "https://plot.ly",
        "showLink": true
       },
       "data": [
        {
         "marker": {
          "color": [
           "rgb(255, 153, 51)",
           "rgb(55, 128, 191)",
           "rgb(50, 171, 96)",
           "rgb(128, 0, 128)",
           "rgb(219, 64, 82)",
           "rgb(0, 128, 128)",
           "rgb(255, 255, 51)",
           "rgb(128, 128, 0)",
           "rgb(251, 128, 114)",
           "rgb(128, 177, 211)"
          ],
          "line": {
           "width": 1.3
          },
          "size": [
           53,
           54,
           85,
           71,
           58,
           74,
           62,
           79,
           98,
           45,
           69,
           65,
           67,
           87,
           47,
           71,
           59,
           56,
           72,
           67,
           12,
           71,
           65,
           72,
           98,
           46,
           91,
           62,
           57,
           93,
           74,
           77,
           65,
           61,
           53,
           69,
           58,
           88,
           40,
           103,
           53,
           51,
           33,
           56,
           70,
           80,
           105,
           65,
           51,
           57,
           64,
           55,
           66,
           61,
           34,
           34,
           63,
           92,
           112,
           88,
           77,
           25,
           79,
           83,
           73,
           66,
           47,
           109,
           69,
           54,
           43,
           61,
           67,
           48,
           72,
           62,
           43,
           58,
           65,
           45,
           80,
           74,
           71,
           82,
           74,
           55,
           56,
           36,
           73,
           76,
           64,
           41,
           52,
           66,
           66,
           71,
           62,
           47,
           67,
           100
          ],
          "symbol": "circle"
         },
         "mode": "markers",
         "text": "",
         "type": "scatter",
         "x": [
          -0.014182249911513891,
          -0.7990367681886373,
          0.6591194910503083,
          1.998829472768256,
          1.354928704711035,
          -0.1371167194422425,
          0.4333354482330215,
          0.49267447183888413,
          1.3858792197389416,
          0.4676724923040728,
          0.4849888456465899,
          0.45149705620233,
          -0.1063775758913652,
          -0.6451185663551487,
          0.8357224494240874,
          0.05850278298606873,
          -0.6878280364420764,
          -1.0745550632638445,
          -1.5078604397890385,
          0.40661572837594684,
          0.9800238409731928,
          -1.6325091262235363,
          0.1631019706498342,
          1.4448137969722203,
          0.02513391270452852,
          0.9547946954988611,
          -1.0563585853877604,
          -1.3142901401847198,
          -0.25331664335336507,
          -1.4879385617072196,
          1.7470695903409454,
          -0.48379885894116165,
          -0.9241938987777035,
          0.365712246098989,
          1.221561139279699,
          1.1752904012641878,
          -1.0893692935961712,
          0.05496551530451065,
          -0.2176827297418758,
          -0.0657386185768375,
          1.562769039489702,
          0.13189295528231632,
          -0.4496554338022613,
          1.039717915533698,
          0.6661633287497195,
          1.0294163558425313,
          0.10459497547037343,
          -0.6486758199813077,
          -0.35946559697843306,
          -0.7791403957659999,
          -0.7131422295621813,
          0.3530266789979288,
          -0.5850582350435681,
          -1.228669369831788,
          -0.18193668990025463,
          -1.2251158115222835,
          -2.7313135571757563,
          -1.3901611885307172,
          -0.7668234576924771,
          -0.2740656808576659,
          1.667691642371268,
          0.09675804750002247,
          -0.3993649557252148,
          1.484220094919042,
          -0.07901652159766895,
          -0.26975354473237967,
          0.605978939676668,
          0.008585745532567687,
          -0.49986280262070976,
          0.7050757224054496,
          -0.9825443837523973,
          -0.4903160744754752,
          1.375276764445953,
          0.12104979745920955,
          1.4824150417639876,
          0.2884732149437047,
          1.0647981187455822,
          -0.27941567866192923,
          -0.9575609575401136,
          0.5646814456783594,
          0.08480759312596246,
          0.5456752792982241,
          0.04474730044409539,
          0.3449381645647911,
          1.0989196536617412,
          2.0009367716990374,
          -0.10649601834445481,
          -0.9948925083156563,
          -1.507843017905901,
          -0.04914540079233849,
          0.0015998307786427317,
          0.08871540715131175,
          -0.09513443320348569,
          1.3884170241785447,
          -0.6375754053537689,
          0.5353090243952152,
          0.5058531399900315,
          0.0039000720093066215,
          1.6856477147167694,
          1.0788626909510945
         ],
         "y": [
          -1.1379320218666829,
          -0.3695042688257674,
          0.33366871400295456,
          1.0388735929418678,
          0.4271828843031716,
          -0.498185936402757,
          -0.20908624076388696,
          0.2712791092204782,
          0.21699706993337786,
          1.1988640269829076,
          0.5794566696633838,
          -2.051357618538235,
          -0.015027646709790503,
          -0.13221573801207778,
          0.663055581637253,
          2.2383145058851217,
          -0.32920285387233467,
          1.305488093081794,
          -0.6770237846293955,
          1.5655678252443213,
          -0.1579011544726716,
          0.21253336637012768,
          1.1127389828320329,
          -1.5672990177125192,
          0.7781963063214641,
          1.7853350454924075,
          -1.1710195851309133,
          0.686719657893707,
          -0.20731900062966677,
          1.4307503635162753,
          -0.9158903433533209,
          1.4420737367040473,
          -0.6068242423956323,
          1.0694813209111613,
          0.3237652489496514,
          0.18727889105942838,
          1.2922354443050938,
          0.6274525703991168,
          1.014431538504958,
          1.3987744470969865,
          0.4513588324569339,
          -1.021846300012986,
          -1.6695027698585916,
          1.0018097405277842,
          0.42609150355890035,
          1.1071846053066323,
          -0.1509182629517138,
          0.20295227502422822,
          1.4490271833804298,
          0.2893929835183492,
          0.7332741959247728,
          -0.7239745282733993,
          -2.4359443821545694,
          -0.274108614919312,
          -0.713459983647737,
          -0.2231215265407797,
          -0.4897121400859348,
          0.042540095384265224,
          0.7230329717255355,
          0.5938328429046061,
          0.7980677149641997,
          -1.5370942848965226,
          -1.0470516457159909,
          -0.622083709673778,
          -0.6408476173310118,
          -0.7310692143925597,
          2.0558686601072846,
          0.941521271821865,
          0.2797069863850723,
          -1.1987566877959244,
          -0.6453513323275131,
          0.00618299715917338,
          -0.9449907125758524,
          -1.0429632720499713,
          -0.9432951353119565,
          -0.18431998387115714,
          0.19706282189587646,
          1.4093428173112086,
          -2.5459571971591974,
          0.9714641272638906,
          1.3195027949623213,
          1.518096459438159,
          2.892537011972321,
          1.4002055331345225,
          -0.3066405837306535,
          -1.5162024282645241,
          1.1028718578803822,
          1.7491202039361544,
          -0.7352743952166807,
          -1.1327003719731012,
          -0.3439921897436451,
          -0.8142699493133557,
          -0.8421420831214147,
          -2.3611782096734317,
          0.5399222287331542,
          -0.45479909963011805,
          -0.3820645712895226,
          -1.557072716269298,
          -0.4549434306878188,
          0.5782397452939635
         ]
        }
       ],
       "layout": {
        "autosize": true,
        "legend": {
         "bgcolor": "#F5F6F9",
         "font": {
          "color": "#4D5663"
         }
        },
        "paper_bgcolor": "#F5F6F9",
        "plot_bgcolor": "#F5F6F9",
        "template": {
         "data": {
          "bar": [
           {
            "error_x": {
             "color": "#2a3f5f"
            },
            "error_y": {
             "color": "#2a3f5f"
            },
            "marker": {
             "line": {
              "color": "#E5ECF6",
              "width": 0.5
             },
             "pattern": {
              "fillmode": "overlay",
              "size": 10,
              "solidity": 0.2
             }
            },
            "type": "bar"
           }
          ],
          "barpolar": [
           {
            "marker": {
             "line": {
              "color": "#E5ECF6",
              "width": 0.5
             },
             "pattern": {
              "fillmode": "overlay",
              "size": 10,
              "solidity": 0.2
             }
            },
            "type": "barpolar"
           }
          ],
          "carpet": [
           {
            "aaxis": {
             "endlinecolor": "#2a3f5f",
             "gridcolor": "white",
             "linecolor": "white",
             "minorgridcolor": "white",
             "startlinecolor": "#2a3f5f"
            },
            "baxis": {
             "endlinecolor": "#2a3f5f",
             "gridcolor": "white",
             "linecolor": "white",
             "minorgridcolor": "white",
             "startlinecolor": "#2a3f5f"
            },
            "type": "carpet"
           }
          ],
          "choropleth": [
           {
            "colorbar": {
             "outlinewidth": 0,
             "ticks": ""
            },
            "type": "choropleth"
           }
          ],
          "contour": [
           {
            "colorbar": {
             "outlinewidth": 0,
             "ticks": ""
            },
            "colorscale": [
             [
              0,
              "#0d0887"
             ],
             [
              0.1111111111111111,
              "#46039f"
             ],
             [
              0.2222222222222222,
              "#7201a8"
             ],
             [
              0.3333333333333333,
              "#9c179e"
             ],
             [
              0.4444444444444444,
              "#bd3786"
             ],
             [
              0.5555555555555556,
              "#d8576b"
             ],
             [
              0.6666666666666666,
              "#ed7953"
             ],
             [
              0.7777777777777778,
              "#fb9f3a"
             ],
             [
              0.8888888888888888,
              "#fdca26"
             ],
             [
              1,
              "#f0f921"
             ]
            ],
            "type": "contour"
           }
          ],
          "contourcarpet": [
           {
            "colorbar": {
             "outlinewidth": 0,
             "ticks": ""
            },
            "type": "contourcarpet"
           }
          ],
          "heatmap": [
           {
            "colorbar": {
             "outlinewidth": 0,
             "ticks": ""
            },
            "colorscale": [
             [
              0,
              "#0d0887"
             ],
             [
              0.1111111111111111,
              "#46039f"
             ],
             [
              0.2222222222222222,
              "#7201a8"
             ],
             [
              0.3333333333333333,
              "#9c179e"
             ],
             [
              0.4444444444444444,
              "#bd3786"
             ],
             [
              0.5555555555555556,
              "#d8576b"
             ],
             [
              0.6666666666666666,
              "#ed7953"
             ],
             [
              0.7777777777777778,
              "#fb9f3a"
             ],
             [
              0.8888888888888888,
              "#fdca26"
             ],
             [
              1,
              "#f0f921"
             ]
            ],
            "type": "heatmap"
           }
          ],
          "heatmapgl": [
           {
            "colorbar": {
             "outlinewidth": 0,
             "ticks": ""
            },
            "colorscale": [
             [
              0,
              "#0d0887"
             ],
             [
              0.1111111111111111,
              "#46039f"
             ],
             [
              0.2222222222222222,
              "#7201a8"
             ],
             [
              0.3333333333333333,
              "#9c179e"
             ],
             [
              0.4444444444444444,
              "#bd3786"
             ],
             [
              0.5555555555555556,
              "#d8576b"
             ],
             [
              0.6666666666666666,
              "#ed7953"
             ],
             [
              0.7777777777777778,
              "#fb9f3a"
             ],
             [
              0.8888888888888888,
              "#fdca26"
             ],
             [
              1,
              "#f0f921"
             ]
            ],
            "type": "heatmapgl"
           }
          ],
          "histogram": [
           {
            "marker": {
             "pattern": {
              "fillmode": "overlay",
              "size": 10,
              "solidity": 0.2
             }
            },
            "type": "histogram"
           }
          ],
          "histogram2d": [
           {
            "colorbar": {
             "outlinewidth": 0,
             "ticks": ""
            },
            "colorscale": [
             [
              0,
              "#0d0887"
             ],
             [
              0.1111111111111111,
              "#46039f"
             ],
             [
              0.2222222222222222,
              "#7201a8"
             ],
             [
              0.3333333333333333,
              "#9c179e"
             ],
             [
              0.4444444444444444,
              "#bd3786"
             ],
             [
              0.5555555555555556,
              "#d8576b"
             ],
             [
              0.6666666666666666,
              "#ed7953"
             ],
             [
              0.7777777777777778,
              "#fb9f3a"
             ],
             [
              0.8888888888888888,
              "#fdca26"
             ],
             [
              1,
              "#f0f921"
             ]
            ],
            "type": "histogram2d"
           }
          ],
          "histogram2dcontour": [
           {
            "colorbar": {
             "outlinewidth": 0,
             "ticks": ""
            },
            "colorscale": [
             [
              0,
              "#0d0887"
             ],
             [
              0.1111111111111111,
              "#46039f"
             ],
             [
              0.2222222222222222,
              "#7201a8"
             ],
             [
              0.3333333333333333,
              "#9c179e"
             ],
             [
              0.4444444444444444,
              "#bd3786"
             ],
             [
              0.5555555555555556,
              "#d8576b"
             ],
             [
              0.6666666666666666,
              "#ed7953"
             ],
             [
              0.7777777777777778,
              "#fb9f3a"
             ],
             [
              0.8888888888888888,
              "#fdca26"
             ],
             [
              1,
              "#f0f921"
             ]
            ],
            "type": "histogram2dcontour"
           }
          ],
          "mesh3d": [
           {
            "colorbar": {
             "outlinewidth": 0,
             "ticks": ""
            },
            "type": "mesh3d"
           }
          ],
          "parcoords": [
           {
            "line": {
             "colorbar": {
              "outlinewidth": 0,
              "ticks": ""
             }
            },
            "type": "parcoords"
           }
          ],
          "pie": [
           {
            "automargin": true,
            "type": "pie"
           }
          ],
          "scatter": [
           {
            "fillpattern": {
             "fillmode": "overlay",
             "size": 10,
             "solidity": 0.2
            },
            "type": "scatter"
           }
          ],
          "scatter3d": [
           {
            "line": {
             "colorbar": {
              "outlinewidth": 0,
              "ticks": ""
             }
            },
            "marker": {
             "colorbar": {
              "outlinewidth": 0,
              "ticks": ""
             }
            },
            "type": "scatter3d"
           }
          ],
          "scattercarpet": [
           {
            "marker": {
             "colorbar": {
              "outlinewidth": 0,
              "ticks": ""
             }
            },
            "type": "scattercarpet"
           }
          ],
          "scattergeo": [
           {
            "marker": {
             "colorbar": {
              "outlinewidth": 0,
              "ticks": ""
             }
            },
            "type": "scattergeo"
           }
          ],
          "scattergl": [
           {
            "marker": {
             "colorbar": {
              "outlinewidth": 0,
              "ticks": ""
             }
            },
            "type": "scattergl"
           }
          ],
          "scattermapbox": [
           {
            "marker": {
             "colorbar": {
              "outlinewidth": 0,
              "ticks": ""
             }
            },
            "type": "scattermapbox"
           }
          ],
          "scatterpolar": [
           {
            "marker": {
             "colorbar": {
              "outlinewidth": 0,
              "ticks": ""
             }
            },
            "type": "scatterpolar"
           }
          ],
          "scatterpolargl": [
           {
            "marker": {
             "colorbar": {
              "outlinewidth": 0,
              "ticks": ""
             }
            },
            "type": "scatterpolargl"
           }
          ],
          "scatterternary": [
           {
            "marker": {
             "colorbar": {
              "outlinewidth": 0,
              "ticks": ""
             }
            },
            "type": "scatterternary"
           }
          ],
          "surface": [
           {
            "colorbar": {
             "outlinewidth": 0,
             "ticks": ""
            },
            "colorscale": [
             [
              0,
              "#0d0887"
             ],
             [
              0.1111111111111111,
              "#46039f"
             ],
             [
              0.2222222222222222,
              "#7201a8"
             ],
             [
              0.3333333333333333,
              "#9c179e"
             ],
             [
              0.4444444444444444,
              "#bd3786"
             ],
             [
              0.5555555555555556,
              "#d8576b"
             ],
             [
              0.6666666666666666,
              "#ed7953"
             ],
             [
              0.7777777777777778,
              "#fb9f3a"
             ],
             [
              0.8888888888888888,
              "#fdca26"
             ],
             [
              1,
              "#f0f921"
             ]
            ],
            "type": "surface"
           }
          ],
          "table": [
           {
            "cells": {
             "fill": {
              "color": "#EBF0F8"
             },
             "line": {
              "color": "white"
             }
            },
            "header": {
             "fill": {
              "color": "#C8D4E3"
             },
             "line": {
              "color": "white"
             }
            },
            "type": "table"
           }
          ]
         },
         "layout": {
          "annotationdefaults": {
           "arrowcolor": "#2a3f5f",
           "arrowhead": 0,
           "arrowwidth": 1
          },
          "autotypenumbers": "strict",
          "coloraxis": {
           "colorbar": {
            "outlinewidth": 0,
            "ticks": ""
           }
          },
          "colorscale": {
           "diverging": [
            [
             0,
             "#8e0152"
            ],
            [
             0.1,
             "#c51b7d"
            ],
            [
             0.2,
             "#de77ae"
            ],
            [
             0.3,
             "#f1b6da"
            ],
            [
             0.4,
             "#fde0ef"
            ],
            [
             0.5,
             "#f7f7f7"
            ],
            [
             0.6,
             "#e6f5d0"
            ],
            [
             0.7,
             "#b8e186"
            ],
            [
             0.8,
             "#7fbc41"
            ],
            [
             0.9,
             "#4d9221"
            ],
            [
             1,
             "#276419"
            ]
           ],
           "sequential": [
            [
             0,
             "#0d0887"
            ],
            [
             0.1111111111111111,
             "#46039f"
            ],
            [
             0.2222222222222222,
             "#7201a8"
            ],
            [
             0.3333333333333333,
             "#9c179e"
            ],
            [
             0.4444444444444444,
             "#bd3786"
            ],
            [
             0.5555555555555556,
             "#d8576b"
            ],
            [
             0.6666666666666666,
             "#ed7953"
            ],
            [
             0.7777777777777778,
             "#fb9f3a"
            ],
            [
             0.8888888888888888,
             "#fdca26"
            ],
            [
             1,
             "#f0f921"
            ]
           ],
           "sequentialminus": [
            [
             0,
             "#0d0887"
            ],
            [
             0.1111111111111111,
             "#46039f"
            ],
            [
             0.2222222222222222,
             "#7201a8"
            ],
            [
             0.3333333333333333,
             "#9c179e"
            ],
            [
             0.4444444444444444,
             "#bd3786"
            ],
            [
             0.5555555555555556,
             "#d8576b"
            ],
            [
             0.6666666666666666,
             "#ed7953"
            ],
            [
             0.7777777777777778,
             "#fb9f3a"
            ],
            [
             0.8888888888888888,
             "#fdca26"
            ],
            [
             1,
             "#f0f921"
            ]
           ]
          },
          "colorway": [
           "#636efa",
           "#EF553B",
           "#00cc96",
           "#ab63fa",
           "#FFA15A",
           "#19d3f3",
           "#FF6692",
           "#B6E880",
           "#FF97FF",
           "#FECB52"
          ],
          "font": {
           "color": "#2a3f5f"
          },
          "geo": {
           "bgcolor": "white",
           "lakecolor": "white",
           "landcolor": "#E5ECF6",
           "showlakes": true,
           "showland": true,
           "subunitcolor": "white"
          },
          "hoverlabel": {
           "align": "left"
          },
          "hovermode": "closest",
          "mapbox": {
           "style": "light"
          },
          "paper_bgcolor": "white",
          "plot_bgcolor": "#E5ECF6",
          "polar": {
           "angularaxis": {
            "gridcolor": "white",
            "linecolor": "white",
            "ticks": ""
           },
           "bgcolor": "#E5ECF6",
           "radialaxis": {
            "gridcolor": "white",
            "linecolor": "white",
            "ticks": ""
           }
          },
          "scene": {
           "xaxis": {
            "backgroundcolor": "#E5ECF6",
            "gridcolor": "white",
            "gridwidth": 2,
            "linecolor": "white",
            "showbackground": true,
            "ticks": "",
            "zerolinecolor": "white"
           },
           "yaxis": {
            "backgroundcolor": "#E5ECF6",
            "gridcolor": "white",
            "gridwidth": 2,
            "linecolor": "white",
            "showbackground": true,
            "ticks": "",
            "zerolinecolor": "white"
           },
           "zaxis": {
            "backgroundcolor": "#E5ECF6",
            "gridcolor": "white",
            "gridwidth": 2,
            "linecolor": "white",
            "showbackground": true,
            "ticks": "",
            "zerolinecolor": "white"
           }
          },
          "shapedefaults": {
           "line": {
            "color": "#2a3f5f"
           }
          },
          "ternary": {
           "aaxis": {
            "gridcolor": "white",
            "linecolor": "white",
            "ticks": ""
           },
           "baxis": {
            "gridcolor": "white",
            "linecolor": "white",
            "ticks": ""
           },
           "bgcolor": "#E5ECF6",
           "caxis": {
            "gridcolor": "white",
            "linecolor": "white",
            "ticks": ""
           }
          },
          "title": {
           "x": 0.05
          },
          "xaxis": {
           "automargin": true,
           "gridcolor": "white",
           "linecolor": "white",
           "ticks": "",
           "title": {
            "standoff": 15
           },
           "zerolinecolor": "white",
           "zerolinewidth": 2
          },
          "yaxis": {
           "automargin": true,
           "gridcolor": "white",
           "linecolor": "white",
           "ticks": "",
           "title": {
            "standoff": 15
           },
           "zerolinecolor": "white",
           "zerolinewidth": 2
          }
         }
        },
        "title": {
         "font": {
          "color": "#4D5663"
         }
        },
        "xaxis": {
         "autorange": true,
         "gridcolor": "#E1E5ED",
         "range": [
          -3.2669914859746965,
          2.5654983144279973
         ],
         "showgrid": true,
         "tickfont": {
          "color": "#4D5663"
         },
         "title": {
          "font": {
           "color": "#4D5663"
          },
          "text": ""
         },
         "type": "linear",
         "zerolinecolor": "#E1E5ED"
        },
        "yaxis": {
         "autorange": true,
         "gridcolor": "#E1E5ED",
         "range": [
          -6.050960770252075,
          6.662402316029396
         ],
         "showgrid": true,
         "tickfont": {
          "color": "#4D5663"
         },
         "title": {
          "font": {
           "color": "#4D5663"
          },
          "text": ""
         },
         "type": "linear",
         "zerolinecolor": "#E1E5ED"
        }
       }
      },
      "image/png": "[encoded data removed]",
      "text/html": [
       "<div>                            <div id=\"7b065b89-dcf8-4cd5-b0c5-e4b165168e06\" class=\"plotly-graph-div\" style=\"height:525px; width:100%;\"></div>            <script type=\"text/javascript\">                require([\"plotly\"], function(Plotly) {                    window.PLOTLYENV=window.PLOTLYENV || {};\n",
       "                    window.PLOTLYENV.BASE_URL='https://plot.ly';                                    if (document.getElementById(\"7b065b89-dcf8-4cd5-b0c5-e4b165168e06\")) {                    Plotly.newPlot(                        \"7b065b89-dcf8-4cd5-b0c5-e4b165168e06\",                        [{\"marker\":{\"color\":[\"rgb(255, 153, 51)\",\"rgb(55, 128, 191)\",\"rgb(50, 171, 96)\",\"rgb(128, 0, 128)\",\"rgb(219, 64, 82)\",\"rgb(0, 128, 128)\",\"rgb(255, 255, 51)\",\"rgb(128, 128, 0)\",\"rgb(251, 128, 114)\",\"rgb(128, 177, 211)\"],\"line\":{\"width\":1.3},\"size\":[53,54,85,71,58,74,62,79,98,45,69,65,67,87,47,71,59,56,72,67,12,71,65,72,98,46,91,62,57,93,74,77,65,61,53,69,58,88,40,103,53,51,33,56,70,80,105,65,51,57,64,55,66,61,34,34,63,92,112,88,77,25,79,83,73,66,47,109,69,54,43,61,67,48,72,62,43,58,65,45,80,74,71,82,74,55,56,36,73,76,64,41,52,66,66,71,62,47,67,100],\"symbol\":\"circle\"},\"mode\":\"markers\",\"text\":\"\",\"x\":[-0.014182249911513891,-0.7990367681886373,0.6591194910503083,1.998829472768256,1.354928704711035,-0.1371167194422425,0.4333354482330215,0.49267447183888413,1.3858792197389416,0.4676724923040728,0.4849888456465899,0.45149705620233,-0.1063775758913652,-0.6451185663551487,0.8357224494240874,0.05850278298606873,-0.6878280364420764,-1.0745550632638445,-1.5078604397890385,0.40661572837594684,0.9800238409731928,-1.6325091262235363,0.1631019706498342,1.4448137969722203,0.02513391270452852,0.9547946954988611,-1.0563585853877604,-1.3142901401847198,-0.25331664335336507,-1.4879385617072196,1.7470695903409454,-0.48379885894116165,-0.9241938987777035,0.365712246098989,1.221561139279699,1.1752904012641878,-1.0893692935961712,0.05496551530451065,-0.2176827297418758,-0.0657386185768375,1.562769039489702,0.13189295528231632,-0.4496554338022613,1.039717915533698,0.6661633287497195,1.0294163558425313,0.10459497547037343,-0.6486758199813077,-0.35946559697843306,-0.7791403957659999,-0.7131422295621813,0.3530266789979288,-0.5850582350435681,-1.228669369831788,-0.18193668990025463,-1.2251158115222835,-2.7313135571757563,-1.3901611885307172,-0.7668234576924771,-0.2740656808576659,1.667691642371268,0.09675804750002247,-0.3993649557252148,1.484220094919042,-0.07901652159766895,-0.26975354473237967,0.605978939676668,0.008585745532567687,-0.49986280262070976,0.7050757224054496,-0.9825443837523973,-0.4903160744754752,1.375276764445953,0.12104979745920955,1.4824150417639876,0.2884732149437047,1.0647981187455822,-0.27941567866192923,-0.9575609575401136,0.5646814456783594,0.08480759312596246,0.5456752792982241,0.04474730044409539,0.3449381645647911,1.0989196536617412,2.0009367716990374,-0.10649601834445481,-0.9948925083156563,-1.507843017905901,-0.04914540079233849,0.0015998307786427317,0.08871540715131175,-0.09513443320348569,1.3884170241785447,-0.6375754053537689,0.5353090243952152,0.5058531399900315,0.0039000720093066215,1.6856477147167694,1.0788626909510945],\"y\":[-1.1379320218666829,-0.3695042688257674,0.33366871400295456,1.0388735929418678,0.4271828843031716,-0.498185936402757,-0.20908624076388696,0.2712791092204782,0.21699706993337786,1.1988640269829076,0.5794566696633838,-2.051357618538235,-0.015027646709790503,-0.13221573801207778,0.663055581637253,2.2383145058851217,-0.32920285387233467,1.305488093081794,-0.6770237846293955,1.5655678252443213,-0.1579011544726716,0.21253336637012768,1.1127389828320329,-1.5672990177125192,0.7781963063214641,1.7853350454924075,-1.1710195851309133,0.686719657893707,-0.20731900062966677,1.4307503635162753,-0.9158903433533209,1.4420737367040473,-0.6068242423956323,1.0694813209111613,0.3237652489496514,0.18727889105942838,1.2922354443050938,0.6274525703991168,1.014431538504958,1.3987744470969865,0.4513588324569339,-1.021846300012986,-1.6695027698585916,1.0018097405277842,0.42609150355890035,1.1071846053066323,-0.1509182629517138,0.20295227502422822,1.4490271833804298,0.2893929835183492,0.7332741959247728,-0.7239745282733993,-2.4359443821545694,-0.274108614919312,-0.713459983647737,-0.2231215265407797,-0.4897121400859348,0.042540095384265224,0.7230329717255355,0.5938328429046061,0.7980677149641997,-1.5370942848965226,-1.0470516457159909,-0.622083709673778,-0.6408476173310118,-0.7310692143925597,2.0558686601072846,0.941521271821865,0.2797069863850723,-1.1987566877959244,-0.6453513323275131,0.00618299715917338,-0.9449907125758524,-1.0429632720499713,-0.9432951353119565,-0.18431998387115714,0.19706282189587646,1.4093428173112086,-2.5459571971591974,0.9714641272638906,1.3195027949623213,1.518096459438159,2.892537011972321,1.4002055331345225,-0.3066405837306535,-1.5162024282645241,1.1028718578803822,1.7491202039361544,-0.7352743952166807,-1.1327003719731012,-0.3439921897436451,-0.8142699493133557,-0.8421420831214147,-2.3611782096734317,0.5399222287331542,-0.45479909963011805,-0.3820645712895226,-1.557072716269298,-0.4549434306878188,0.5782397452939635],\"type\":\"scatter\"}],                        {\"legend\":{\"bgcolor\":\"#F5F6F9\",\"font\":{\"color\":\"#4D5663\"}},\"paper_bgcolor\":\"#F5F6F9\",\"plot_bgcolor\":\"#F5F6F9\",\"template\":{\"data\":{\"barpolar\":[{\"marker\":{\"line\":{\"color\":\"#E5ECF6\",\"width\":0.5},\"pattern\":{\"fillmode\":\"overlay\",\"size\":10,\"solidity\":0.2}},\"type\":\"barpolar\"}],\"bar\":[{\"error_x\":{\"color\":\"#2a3f5f\"},\"error_y\":{\"color\":\"#2a3f5f\"},\"marker\":{\"line\":{\"color\":\"#E5ECF6\",\"width\":0.5},\"pattern\":{\"fillmode\":\"overlay\",\"size\":10,\"solidity\":0.2}},\"type\":\"bar\"}],\"carpet\":[{\"aaxis\":{\"endlinecolor\":\"#2a3f5f\",\"gridcolor\":\"white\",\"linecolor\":\"white\",\"minorgridcolor\":\"white\",\"startlinecolor\":\"#2a3f5f\"},\"baxis\":{\"endlinecolor\":\"#2a3f5f\",\"gridcolor\":\"white\",\"linecolor\":\"white\",\"minorgridcolor\":\"white\",\"startlinecolor\":\"#2a3f5f\"},\"type\":\"carpet\"}],\"choropleth\":[{\"colorbar\":{\"outlinewidth\":0,\"ticks\":\"\"},\"type\":\"choropleth\"}],\"contourcarpet\":[{\"colorbar\":{\"outlinewidth\":0,\"ticks\":\"\"},\"type\":\"contourcarpet\"}],\"contour\":[{\"colorbar\":{\"outlinewidth\":0,\"ticks\":\"\"},\"colorscale\":[[0.0,\"#0d0887\"],[0.1111111111111111,\"#46039f\"],[0.2222222222222222,\"#7201a8\"],[0.3333333333333333,\"#9c179e\"],[0.4444444444444444,\"#bd3786\"],[0.5555555555555556,\"#d8576b\"],[0.6666666666666666,\"#ed7953\"],[0.7777777777777778,\"#fb9f3a\"],[0.8888888888888888,\"#fdca26\"],[1.0,\"#f0f921\"]],\"type\":\"contour\"}],\"heatmapgl\":[{\"colorbar\":{\"outlinewidth\":0,\"ticks\":\"\"},\"colorscale\":[[0.0,\"#0d0887\"],[0.1111111111111111,\"#46039f\"],[0.2222222222222222,\"#7201a8\"],[0.3333333333333333,\"#9c179e\"],[0.4444444444444444,\"#bd3786\"],[0.5555555555555556,\"#d8576b\"],[0.6666666666666666,\"#ed7953\"],[0.7777777777777778,\"#fb9f3a\"],[0.8888888888888888,\"#fdca26\"],[1.0,\"#f0f921\"]],\"type\":\"heatmapgl\"}],\"heatmap\":[{\"colorbar\":{\"outlinewidth\":0,\"ticks\":\"\"},\"colorscale\":[[0.0,\"#0d0887\"],[0.1111111111111111,\"#46039f\"],[0.2222222222222222,\"#7201a8\"],[0.3333333333333333,\"#9c179e\"],[0.4444444444444444,\"#bd3786\"],[0.5555555555555556,\"#d8576b\"],[0.6666666666666666,\"#ed7953\"],[0.7777777777777778,\"#fb9f3a\"],[0.8888888888888888,\"#fdca26\"],[1.0,\"#f0f921\"]],\"type\":\"heatmap\"}],\"histogram2dcontour\":[{\"colorbar\":{\"outlinewidth\":0,\"ticks\":\"\"},\"colorscale\":[[0.0,\"#0d0887\"],[0.1111111111111111,\"#46039f\"],[0.2222222222222222,\"#7201a8\"],[0.3333333333333333,\"#9c179e\"],[0.4444444444444444,\"#bd3786\"],[0.5555555555555556,\"#d8576b\"],[0.6666666666666666,\"#ed7953\"],[0.7777777777777778,\"#fb9f3a\"],[0.8888888888888888,\"#fdca26\"],[1.0,\"#f0f921\"]],\"type\":\"histogram2dcontour\"}],\"histogram2d\":[{\"colorbar\":{\"outlinewidth\":0,\"ticks\":\"\"},\"colorscale\":[[0.0,\"#0d0887\"],[0.1111111111111111,\"#46039f\"],[0.2222222222222222,\"#7201a8\"],[0.3333333333333333,\"#9c179e\"],[0.4444444444444444,\"#bd3786\"],[0.5555555555555556,\"#d8576b\"],[0.6666666666666666,\"#ed7953\"],[0.7777777777777778,\"#fb9f3a\"],[0.8888888888888888,\"#fdca26\"],[1.0,\"#f0f921\"]],\"type\":\"histogram2d\"}],\"histogram\":[{\"marker\":{\"pattern\":{\"fillmode\":\"overlay\",\"size\":10,\"solidity\":0.2}},\"type\":\"histogram\"}],\"mesh3d\":[{\"colorbar\":{\"outlinewidth\":0,\"ticks\":\"\"},\"type\":\"mesh3d\"}],\"parcoords\":[{\"line\":{\"colorbar\":{\"outlinewidth\":0,\"ticks\":\"\"}},\"type\":\"parcoords\"}],\"pie\":[{\"automargin\":true,\"type\":\"pie\"}],\"scatter3d\":[{\"line\":{\"colorbar\":{\"outlinewidth\":0,\"ticks\":\"\"}},\"marker\":{\"colorbar\":{\"outlinewidth\":0,\"ticks\":\"\"}},\"type\":\"scatter3d\"}],\"scattercarpet\":[{\"marker\":{\"colorbar\":{\"outlinewidth\":0,\"ticks\":\"\"}},\"type\":\"scattercarpet\"}],\"scattergeo\":[{\"marker\":{\"colorbar\":{\"outlinewidth\":0,\"ticks\":\"\"}},\"type\":\"scattergeo\"}],\"scattergl\":[{\"marker\":{\"colorbar\":{\"outlinewidth\":0,\"ticks\":\"\"}},\"type\":\"scattergl\"}],\"scattermapbox\":[{\"marker\":{\"colorbar\":{\"outlinewidth\":0,\"ticks\":\"\"}},\"type\":\"scattermapbox\"}],\"scatterpolargl\":[{\"marker\":{\"colorbar\":{\"outlinewidth\":0,\"ticks\":\"\"}},\"type\":\"scatterpolargl\"}],\"scatterpolar\":[{\"marker\":{\"colorbar\":{\"outlinewidth\":0,\"ticks\":\"\"}},\"type\":\"scatterpolar\"}],\"scatter\":[{\"fillpattern\":{\"fillmode\":\"overlay\",\"size\":10,\"solidity\":0.2},\"type\":\"scatter\"}],\"scatterternary\":[{\"marker\":{\"colorbar\":{\"outlinewidth\":0,\"ticks\":\"\"}},\"type\":\"scatterternary\"}],\"surface\":[{\"colorbar\":{\"outlinewidth\":0,\"ticks\":\"\"},\"colorscale\":[[0.0,\"#0d0887\"],[0.1111111111111111,\"#46039f\"],[0.2222222222222222,\"#7201a8\"],[0.3333333333333333,\"#9c179e\"],[0.4444444444444444,\"#bd3786\"],[0.5555555555555556,\"#d8576b\"],[0.6666666666666666,\"#ed7953\"],[0.7777777777777778,\"#fb9f3a\"],[0.8888888888888888,\"#fdca26\"],[1.0,\"#f0f921\"]],\"type\":\"surface\"}],\"table\":[{\"cells\":{\"fill\":{\"color\":\"#EBF0F8\"},\"line\":{\"color\":\"white\"}},\"header\":{\"fill\":{\"color\":\"#C8D4E3\"},\"line\":{\"color\":\"white\"}},\"type\":\"table\"}]},\"layout\":{\"annotationdefaults\":{\"arrowcolor\":\"#2a3f5f\",\"arrowhead\":0,\"arrowwidth\":1},\"autotypenumbers\":\"strict\",\"coloraxis\":{\"colorbar\":{\"outlinewidth\":0,\"ticks\":\"\"}},\"colorscale\":{\"diverging\":[[0,\"#8e0152\"],[0.1,\"#c51b7d\"],[0.2,\"#de77ae\"],[0.3,\"#f1b6da\"],[0.4,\"#fde0ef\"],[0.5,\"#f7f7f7\"],[0.6,\"#e6f5d0\"],[0.7,\"#b8e186\"],[0.8,\"#7fbc41\"],[0.9,\"#4d9221\"],[1,\"#276419\"]],\"sequential\":[[0.0,\"#0d0887\"],[0.1111111111111111,\"#46039f\"],[0.2222222222222222,\"#7201a8\"],[0.3333333333333333,\"#9c179e\"],[0.4444444444444444,\"#bd3786\"],[0.5555555555555556,\"#d8576b\"],[0.6666666666666666,\"#ed7953\"],[0.7777777777777778,\"#fb9f3a\"],[0.8888888888888888,\"#fdca26\"],[1.0,\"#f0f921\"]],\"sequentialminus\":[[0.0,\"#0d0887\"],[0.1111111111111111,\"#46039f\"],[0.2222222222222222,\"#7201a8\"],[0.3333333333333333,\"#9c179e\"],[0.4444444444444444,\"#bd3786\"],[0.5555555555555556,\"#d8576b\"],[0.6666666666666666,\"#ed7953\"],[0.7777777777777778,\"#fb9f3a\"],[0.8888888888888888,\"#fdca26\"],[1.0,\"#f0f921\"]]},\"colorway\":[\"#636efa\",\"#EF553B\",\"#00cc96\",\"#ab63fa\",\"#FFA15A\",\"#19d3f3\",\"#FF6692\",\"#B6E880\",\"#FF97FF\",\"#FECB52\"],\"font\":{\"color\":\"#2a3f5f\"},\"geo\":{\"bgcolor\":\"white\",\"lakecolor\":\"white\",\"landcolor\":\"#E5ECF6\",\"showlakes\":true,\"showland\":true,\"subunitcolor\":\"white\"},\"hoverlabel\":{\"align\":\"left\"},\"hovermode\":\"closest\",\"mapbox\":{\"style\":\"light\"},\"paper_bgcolor\":\"white\",\"plot_bgcolor\":\"#E5ECF6\",\"polar\":{\"angularaxis\":{\"gridcolor\":\"white\",\"linecolor\":\"white\",\"ticks\":\"\"},\"bgcolor\":\"#E5ECF6\",\"radialaxis\":{\"gridcolor\":\"white\",\"linecolor\":\"white\",\"ticks\":\"\"}},\"scene\":{\"xaxis\":{\"backgroundcolor\":\"#E5ECF6\",\"gridcolor\":\"white\",\"gridwidth\":2,\"linecolor\":\"white\",\"showbackground\":true,\"ticks\":\"\",\"zerolinecolor\":\"white\"},\"yaxis\":{\"backgroundcolor\":\"#E5ECF6\",\"gridcolor\":\"white\",\"gridwidth\":2,\"linecolor\":\"white\",\"showbackground\":true,\"ticks\":\"\",\"zerolinecolor\":\"white\"},\"zaxis\":{\"backgroundcolor\":\"#E5ECF6\",\"gridcolor\":\"white\",\"gridwidth\":2,\"linecolor\":\"white\",\"showbackground\":true,\"ticks\":\"\",\"zerolinecolor\":\"white\"}},\"shapedefaults\":{\"line\":{\"color\":\"#2a3f5f\"}},\"ternary\":{\"aaxis\":{\"gridcolor\":\"white\",\"linecolor\":\"white\",\"ticks\":\"\"},\"baxis\":{\"gridcolor\":\"white\",\"linecolor\":\"white\",\"ticks\":\"\"},\"bgcolor\":\"#E5ECF6\",\"caxis\":{\"gridcolor\":\"white\",\"linecolor\":\"white\",\"ticks\":\"\"}},\"title\":{\"x\":0.05},\"xaxis\":{\"automargin\":true,\"gridcolor\":\"white\",\"linecolor\":\"white\",\"ticks\":\"\",\"title\":{\"standoff\":15},\"zerolinecolor\":\"white\",\"zerolinewidth\":2},\"yaxis\":{\"automargin\":true,\"gridcolor\":\"white\",\"linecolor\":\"white\",\"ticks\":\"\",\"title\":{\"standoff\":15},\"zerolinecolor\":\"white\",\"zerolinewidth\":2}}},\"title\":{\"font\":{\"color\":\"#4D5663\"}},\"xaxis\":{\"gridcolor\":\"#E1E5ED\",\"showgrid\":true,\"tickfont\":{\"color\":\"#4D5663\"},\"title\":{\"font\":{\"color\":\"#4D5663\"},\"text\":\"\"},\"zerolinecolor\":\"#E1E5ED\"},\"yaxis\":{\"gridcolor\":\"#E1E5ED\",\"showgrid\":true,\"tickfont\":{\"color\":\"#4D5663\"},\"title\":{\"font\":{\"color\":\"#4D5663\"},\"text\":\"\"},\"zerolinecolor\":\"#E1E5ED\"}},                        {\"showLink\": true, \"linkText\": \"Export to plot.ly\", \"plotlyServerURL\": \"https://plot.ly\", \"responsive\": true}                    ).then(function(){\n",
       "                            \n",
       "var gd = document.getElementById('7b065b89-dcf8-4cd5-b0c5-e4b165168e06');\n",
       "var x = new MutationObserver(function (mutations, observer) {{\n",
       "        var display = window.getComputedStyle(gd).display;\n",
       "        if (!display || display === 'none') {{\n",
       "            console.log([gd, 'removed!']);\n",
       "            Plotly.purge(gd);\n",
       "            observer.disconnect();\n",
       "        }}\n",
       "}});\n",
       "\n",
       "// Listen for the removal of the full notebook cells\n",
       "var notebookContainer = gd.closest('#notebook-container');\n",
       "if (notebookContainer) {{\n",
       "    x.observe(notebookContainer, {childList: true});\n",
       "}}\n",
       "\n",
       "// Listen for the clearing of the current output cell\n",
       "var outputEl = gd.closest('.output');\n",
       "if (outputEl) {{\n",
       "    x.observe(outputEl, {childList: true});\n",
       "}}\n",
       "\n",
       "                        })                };                });            </script>        </div>"
      ]
     },
     "metadata": {},
     "output_type": "display_data"
    }
   ],
   "source": [
    "df.iplot(kind='bubble',x='A',y='B',size='C')"
   ]
  },
  {
   "cell_type": "markdown",
   "metadata": {},
   "source": [
    "## scatter_matrix()\n",
    "\n",
    "Similar to sns.pairplot()"
   ]
  },
  {
   "cell_type": "code",
   "execution_count": 18,
   "metadata": {
    "collapsed": false,
    "jupyter": {
     "outputs_hidden": false
    }
   },
   "outputs": [
    {
     "data": {
      "application/vnd.plotly.v1+json": {
       "config": {
        "linkText": "Export to plot.ly",
        "plotlyServerURL": "https://plot.ly",
        "showLink": true
       },
       "data": [
        {
         "histfunc": "count",
         "histnorm": "",
         "marker": {
          "color": "rgba(255, 153, 51, 1.0)",
          "line": {
           "color": "#4D5663",
           "width": 1.3
          }
         },
         "name": "A",
         "nbinsx": 10,
         "opacity": 0.8,
         "orientation": "v",
         "type": "histogram",
         "x": [
          -0.014182249911513891,
          -0.7990367681886373,
          0.6591194910503083,
          1.998829472768256,
          1.354928704711035,
          -0.1371167194422425,
          0.4333354482330215,
          0.49267447183888413,
          1.3858792197389416,
          0.4676724923040728,
          0.4849888456465899,
          0.45149705620233,
          -0.1063775758913652,
          -0.6451185663551487,
          0.8357224494240874,
          0.05850278298606873,
          -0.6878280364420764,
          -1.0745550632638445,
          -1.5078604397890385,
          0.40661572837594684,
          0.9800238409731928,
          -1.6325091262235363,
          0.1631019706498342,
          1.4448137969722203,
          0.02513391270452852,
          0.9547946954988611,
          -1.0563585853877604,
          -1.3142901401847198,
          -0.25331664335336507,
          -1.4879385617072196,
          1.7470695903409454,
          -0.48379885894116165,
          -0.9241938987777035,
          0.365712246098989,
          1.221561139279699,
          1.1752904012641878,
          -1.0893692935961712,
          0.05496551530451065,
          -0.2176827297418758,
          -0.0657386185768375,
          1.562769039489702,
          0.13189295528231632,
          -0.4496554338022613,
          1.039717915533698,
          0.6661633287497195,
          1.0294163558425313,
          0.10459497547037343,
          -0.6486758199813077,
          -0.35946559697843306,
          -0.7791403957659999,
          -0.7131422295621813,
          0.3530266789979288,
          -0.5850582350435681,
          -1.228669369831788,
          -0.18193668990025463,
          -1.2251158115222835,
          -2.7313135571757563,
          -1.3901611885307172,
          -0.7668234576924771,
          -0.2740656808576659,
          1.667691642371268,
          0.09675804750002247,
          -0.3993649557252148,
          1.484220094919042,
          -0.07901652159766895,
          -0.26975354473237967,
          0.605978939676668,
          0.008585745532567687,
          -0.49986280262070976,
          0.7050757224054496,
          -0.9825443837523973,
          -0.4903160744754752,
          1.375276764445953,
          0.12104979745920955,
          1.4824150417639876,
          0.2884732149437047,
          1.0647981187455822,
          -0.27941567866192923,
          -0.9575609575401136,
          0.5646814456783594,
          0.08480759312596246,
          0.5456752792982241,
          0.04474730044409539,
          0.3449381645647911,
          1.0989196536617412,
          2.0009367716990374,
          -0.10649601834445481,
          -0.9948925083156563,
          -1.507843017905901,
          -0.04914540079233849,
          0.0015998307786427317,
          0.08871540715131175,
          -0.09513443320348569,
          1.3884170241785447,
          -0.6375754053537689,
          0.5353090243952152,
          0.5058531399900315,
          0.0039000720093066215,
          1.6856477147167694,
          1.0788626909510945
         ],
         "xaxis": "x",
         "yaxis": "y"
        },
        {
         "line": {
          "color": "rgba(128, 128, 128, 1.0)",
          "dash": "solid",
          "shape": "linear",
          "width": 1.3
         },
         "marker": {
          "size": 2,
          "symbol": "circle"
         },
         "mode": "markers",
         "name": "A",
         "text": "",
         "type": "scatter",
         "x": [
          -1.1379320218666829,
          -0.3695042688257674,
          0.33366871400295456,
          1.0388735929418678,
          0.4271828843031716,
          -0.498185936402757,
          -0.20908624076388696,
          0.2712791092204782,
          0.21699706993337786,
          1.1988640269829076,
          0.5794566696633838,
          -2.051357618538235,
          -0.015027646709790503,
          -0.13221573801207778,
          0.663055581637253,
          2.2383145058851217,
          -0.32920285387233467,
          1.305488093081794,
          -0.6770237846293955,
          1.5655678252443213,
          -0.1579011544726716,
          0.21253336637012768,
          1.1127389828320329,
          -1.5672990177125192,
          0.7781963063214641,
          1.7853350454924075,
          -1.1710195851309133,
          0.686719657893707,
          -0.20731900062966677,
          1.4307503635162753,
          -0.9158903433533209,
          1.4420737367040473,
          -0.6068242423956323,
          1.0694813209111613,
          0.3237652489496514,
          0.18727889105942838,
          1.2922354443050938,
          0.6274525703991168,
          1.014431538504958,
          1.3987744470969865,
          0.4513588324569339,
          -1.021846300012986,
          -1.6695027698585916,
          1.0018097405277842,
          0.42609150355890035,
          1.1071846053066323,
          -0.1509182629517138,
          0.20295227502422822,
          1.4490271833804298,
          0.2893929835183492,
          0.7332741959247728,
          -0.7239745282733993,
          -2.4359443821545694,
          -0.274108614919312,
          -0.713459983647737,
          -0.2231215265407797,
          -0.4897121400859348,
          0.042540095384265224,
          0.7230329717255355,
          0.5938328429046061,
          0.7980677149641997,
          -1.5370942848965226,
          -1.0470516457159909,
          -0.622083709673778,
          -0.6408476173310118,
          -0.7310692143925597,
          2.0558686601072846,
          0.941521271821865,
          0.2797069863850723,
          -1.1987566877959244,
          -0.6453513323275131,
          0.00618299715917338,
          -0.9449907125758524,
          -1.0429632720499713,
          -0.9432951353119565,
          -0.18431998387115714,
          0.19706282189587646,
          1.4093428173112086,
          -2.5459571971591974,
          0.9714641272638906,
          1.3195027949623213,
          1.518096459438159,
          2.892537011972321,
          1.4002055331345225,
          -0.3066405837306535,
          -1.5162024282645241,
          1.1028718578803822,
          1.7491202039361544,
          -0.7352743952166807,
          -1.1327003719731012,
          -0.3439921897436451,
          -0.8142699493133557,
          -0.8421420831214147,
          -2.3611782096734317,
          0.5399222287331542,
          -0.45479909963011805,
          -0.3820645712895226,
          -1.557072716269298,
          -0.4549434306878188,
          0.5782397452939635
         ],
         "xaxis": "x2",
         "y": [
          -0.014182249911513891,
          -0.7990367681886373,
          0.6591194910503083,
          1.998829472768256,
          1.354928704711035,
          -0.1371167194422425,
          0.4333354482330215,
          0.49267447183888413,
          1.3858792197389416,
          0.4676724923040728,
          0.4849888456465899,
          0.45149705620233,
          -0.1063775758913652,
          -0.6451185663551487,
          0.8357224494240874,
          0.05850278298606873,
          -0.6878280364420764,
          -1.0745550632638445,
          -1.5078604397890385,
          0.40661572837594684,
          0.9800238409731928,
          -1.6325091262235363,
          0.1631019706498342,
          1.4448137969722203,
          0.02513391270452852,
          0.9547946954988611,
          -1.0563585853877604,
          -1.3142901401847198,
          -0.25331664335336507,
          -1.4879385617072196,
          1.7470695903409454,
          -0.48379885894116165,
          -0.9241938987777035,
          0.365712246098989,
          1.221561139279699,
          1.1752904012641878,
          -1.0893692935961712,
          0.05496551530451065,
          -0.2176827297418758,
          -0.0657386185768375,
          1.562769039489702,
          0.13189295528231632,
          -0.4496554338022613,
          1.039717915533698,
          0.6661633287497195,
          1.0294163558425313,
          0.10459497547037343,
          -0.6486758199813077,
          -0.35946559697843306,
          -0.7791403957659999,
          -0.7131422295621813,
          0.3530266789979288,
          -0.5850582350435681,
          -1.228669369831788,
          -0.18193668990025463,
          -1.2251158115222835,
          -2.7313135571757563,
          -1.3901611885307172,
          -0.7668234576924771,
          -0.2740656808576659,
          1.667691642371268,
          0.09675804750002247,
          -0.3993649557252148,
          1.484220094919042,
          -0.07901652159766895,
          -0.26975354473237967,
          0.605978939676668,
          0.008585745532567687,
          -0.49986280262070976,
          0.7050757224054496,
          -0.9825443837523973,
          -0.4903160744754752,
          1.375276764445953,
          0.12104979745920955,
          1.4824150417639876,
          0.2884732149437047,
          1.0647981187455822,
          -0.27941567866192923,
          -0.9575609575401136,
          0.5646814456783594,
          0.08480759312596246,
          0.5456752792982241,
          0.04474730044409539,
          0.3449381645647911,
          1.0989196536617412,
          2.0009367716990374,
          -0.10649601834445481,
          -0.9948925083156563,
          -1.507843017905901,
          -0.04914540079233849,
          0.0015998307786427317,
          0.08871540715131175,
          -0.09513443320348569,
          1.3884170241785447,
          -0.6375754053537689,
          0.5353090243952152,
          0.5058531399900315,
          0.0039000720093066215,
          1.6856477147167694,
          1.0788626909510945
         ],
         "yaxis": "y2"
        },
        {
         "line": {
          "color": "rgba(128, 128, 128, 1.0)",
          "dash": "solid",
          "shape": "linear",
          "width": 1.3
         },
         "marker": {
          "size": 2,
          "symbol": "circle"
         },
         "mode": "markers",
         "name": "A",
         "text": "",
         "type": "scatter",
         "x": [
          -0.7607527958894249,
          -0.7070143252687979,
          0.9272012698020369,
          0.21914882286396423,
          -0.5179103247789255,
          0.356294717199559,
          -0.2913657335806063,
          0.615671650212997,
          1.6300437774432865,
          -1.20733047509803,
          0.10714857386872174,
          -0.14883163836968605,
          -0.029237448242223914,
          1.0729039566216991,
          -1.1208687152083543,
          0.18328250238357405,
          -0.4537255362327935,
          -0.6033429693845594,
          0.2665249871287445,
          -0.03717218388022126,
          -3.0129873267286196,
          0.20488215053479814,
          -0.1522152064044278,
          0.24185841532262767,
          1.6270732988046244,
          -1.1458764498876082,
          1.276796040856506,
          -0.28148875520174454,
          -0.548738343600119,
          1.380674930062003,
          0.33027139687782614,
          0.5004035180264748,
          -0.1347797094150288,
          -0.33163499606419433,
          -0.7542144755334065,
          0.09636309919988383,
          -0.49054727267449194,
          1.1245919947108491,
          -1.4744546293557332,
          1.9099381989317608,
          -0.7734262917901424,
          -0.9076017148870963,
          -1.8346876911266852,
          -0.6300906543082541,
          0.12820667190314397,
          0.6973881330482086,
          2.004260984196489,
          -0.13553405370576,
          -0.8816929537120686,
          -0.5394996298466653,
          -0.20718808979900927,
          -0.6939747402723065,
          -0.09758639711396831,
          -0.3566888455988846,
          -1.8083956716108365,
          -1.8158027509915093,
          -0.24860659462631232,
          1.332512790069765,
          2.378490943446098,
          1.0890638411756182,
          0.496340149119863,
          -2.275713946946364,
          0.609308109591509,
          0.8260824380473207,
          0.2855790139565881,
          -0.062158990419333204,
          -1.1170492187902588,
          2.2269374856204958,
          0.07058356586829277,
          -0.6980407327713735,
          -1.3018153526869747,
          -0.32361285815799123,
          -0.020598266162581688,
          -1.033214773184867,
          0.2384945575516058,
          -0.30115810030278967,
          -1.308698176806451,
          -0.5206390858316583,
          -0.12985117311091163,
          -1.2175111417431492,
          0.6614508703669855,
          0.3494092579677839,
          0.1860466978933607,
          0.7612711034216268,
          0.37045367429256126,
          -0.6491413856632087,
          -0.6060527423527244,
          -1.7137695802608415,
          0.3241242075283571,
          0.4614032109121203,
          -0.16105175922848006,
          -1.4345970307468745,
          -0.8369483552298032,
          -0.07387646107956655,
          -0.06657310181155189,
          0.16994610203755273,
          -0.2714894942090053,
          -1.1088759265257948,
          -0.004176668473154918,
          1.748833880230194
         ],
         "xaxis": "x3",
         "y": [
          -0.014182249911513891,
          -0.7990367681886373,
          0.6591194910503083,
          1.998829472768256,
          1.354928704711035,
          -0.1371167194422425,
          0.4333354482330215,
          0.49267447183888413,
          1.3858792197389416,
          0.4676724923040728,
          0.4849888456465899,
          0.45149705620233,
          -0.1063775758913652,
          -0.6451185663551487,
          0.8357224494240874,
          0.05850278298606873,
          -0.6878280364420764,
          -1.0745550632638445,
          -1.5078604397890385,
          0.40661572837594684,
          0.9800238409731928,
          -1.6325091262235363,
          0.1631019706498342,
          1.4448137969722203,
          0.02513391270452852,
          0.9547946954988611,
          -1.0563585853877604,
          -1.3142901401847198,
          -0.25331664335336507,
          -1.4879385617072196,
          1.7470695903409454,
          -0.48379885894116165,
          -0.9241938987777035,
          0.365712246098989,
          1.221561139279699,
          1.1752904012641878,
          -1.0893692935961712,
          0.05496551530451065,
          -0.2176827297418758,
          -0.0657386185768375,
          1.562769039489702,
          0.13189295528231632,
          -0.4496554338022613,
          1.039717915533698,
          0.6661633287497195,
          1.0294163558425313,
          0.10459497547037343,
          -0.6486758199813077,
          -0.35946559697843306,
          -0.7791403957659999,
          -0.7131422295621813,
          0.3530266789979288,
          -0.5850582350435681,
          -1.228669369831788,
          -0.18193668990025463,
          -1.2251158115222835,
          -2.7313135571757563,
          -1.3901611885307172,
          -0.7668234576924771,
          -0.2740656808576659,
          1.667691642371268,
          0.09675804750002247,
          -0.3993649557252148,
          1.484220094919042,
          -0.07901652159766895,
          -0.26975354473237967,
          0.605978939676668,
          0.008585745532567687,
          -0.49986280262070976,
          0.7050757224054496,
          -0.9825443837523973,
          -0.4903160744754752,
          1.375276764445953,
          0.12104979745920955,
          1.4824150417639876,
          0.2884732149437047,
          1.0647981187455822,
          -0.27941567866192923,
          -0.9575609575401136,
          0.5646814456783594,
          0.08480759312596246,
          0.5456752792982241,
          0.04474730044409539,
          0.3449381645647911,
          1.0989196536617412,
          2.0009367716990374,
          -0.10649601834445481,
          -0.9948925083156563,
          -1.507843017905901,
          -0.04914540079233849,
          0.0015998307786427317,
          0.08871540715131175,
          -0.09513443320348569,
          1.3884170241785447,
          -0.6375754053537689,
          0.5353090243952152,
          0.5058531399900315,
          0.0039000720093066215,
          1.6856477147167694,
          1.0788626909510945
         ],
         "yaxis": "y3"
        },
        {
         "line": {
          "color": "rgba(128, 128, 128, 1.0)",
          "dash": "solid",
          "shape": "linear",
          "width": 1.3
         },
         "marker": {
          "size": 2,
          "symbol": "circle"
         },
         "mode": "markers",
         "name": "A",
         "text": "",
         "type": "scatter",
         "x": [
          0.1751742656209741,
          -0.448826153642509,
          0.5381820031835148,
          0.13244564930818603,
          -0.8900014593731652,
          -0.7047691983918308,
          -0.09990254288735409,
          1.4263274529609322,
          1.465754785817344,
          -0.7384106148318462,
          -1.9257248814183598,
          -1.0721059244982252,
          -0.7089368671559754,
          -0.49095766652426087,
          -1.0779027848109384,
          0.8245267819969098,
          0.048085897075888104,
          -0.07503722459542922,
          -1.7464684708684919,
          -1.3096171450164322,
          -0.9731600008029246,
          -1.2716768795489168,
          -0.8469465703877845,
          0.8259934110119476,
          1.3283555390186081,
          -0.4342034990219628,
          -0.4466879980049857,
          -0.7273986692745659,
          1.2054754634032374,
          -0.1572649646617977,
          -0.6028153073671625,
          0.3844046834517899,
          0.21837463947565822,
          -0.5353319895187307,
          -0.008699530471608843,
          0.7057881249989117,
          -1.2515029914813804,
          -1.140452391309678,
          -0.6877015990283953,
          0.1307615006942522,
          1.238281893532272,
          0.5355594464973679,
          -1.1109889675619573,
          -0.14808944756823528,
          1.1629125454319655,
          0.46648092168703986,
          0.13532924366300256,
          0.6586460674199206,
          -0.743819602647227,
          0.4189556145146561,
          0.3327266813154617,
          -0.859106315287156,
          0.48227535517326187,
          0.8222685585673679,
          -0.6689693042765702,
          1.1202239743167295,
          0.22917434892484292,
          -1.9424668679965322,
          0.9216792137482365,
          1.0855943615810264,
          0.6129005155889627,
          -0.9319676494837966,
          -0.2747626566829559,
          0.8178759920155547,
          -0.6319066271085185,
          0.811518648797966,
          -0.6268533658436848,
          0.5122933366767136,
          -0.2445246966092972,
          -0.9876770467575798,
          0.5252521957727393,
          -2.138622251999045,
          0.005887566403270622,
          0.7316110872017239,
          -1.3923674786636313,
          1.0187317999066703,
          -0.189227893385347,
          1.6982132335644515,
          -0.4460304099092128,
          0.46604748259650813,
          0.870538033993492,
          -0.3076273390858767,
          -0.6373079945184906,
          -2.7947216138514066,
          -0.17292019781564888,
          -0.39499343185230057,
          0.24523800994094805,
          -1.1832402670683073,
          -0.40296143593143285,
          -0.5591908391458149,
          -1.3476129340153435,
          1.5673381755636133,
          0.39947974935198255,
          -1.8527500230542786,
          2.1580101456879994,
          -0.16151710980984083,
          -0.8895491151507277,
          -0.48016846528115864,
          0.6700264562039298,
          0.061022762866370574
         ],
         "xaxis": "x4",
         "y": [
          -0.014182249911513891,
          -0.7990367681886373,
          0.6591194910503083,
          1.998829472768256,
          1.354928704711035,
          -0.1371167194422425,
          0.4333354482330215,
          0.49267447183888413,
          1.3858792197389416,
          0.4676724923040728,
          0.4849888456465899,
          0.45149705620233,
          -0.1063775758913652,
          -0.6451185663551487,
          0.8357224494240874,
          0.05850278298606873,
          -0.6878280364420764,
          -1.0745550632638445,
          -1.5078604397890385,
          0.40661572837594684,
          0.9800238409731928,
          -1.6325091262235363,
          0.1631019706498342,
          1.4448137969722203,
          0.02513391270452852,
          0.9547946954988611,
          -1.0563585853877604,
          -1.3142901401847198,
          -0.25331664335336507,
          -1.4879385617072196,
          1.7470695903409454,
          -0.48379885894116165,
          -0.9241938987777035,
          0.365712246098989,
          1.221561139279699,
          1.1752904012641878,
          -1.0893692935961712,
          0.05496551530451065,
          -0.2176827297418758,
          -0.0657386185768375,
          1.562769039489702,
          0.13189295528231632,
          -0.4496554338022613,
          1.039717915533698,
          0.6661633287497195,
          1.0294163558425313,
          0.10459497547037343,
          -0.6486758199813077,
          -0.35946559697843306,
          -0.7791403957659999,
          -0.7131422295621813,
          0.3530266789979288,
          -0.5850582350435681,
          -1.228669369831788,
          -0.18193668990025463,
          -1.2251158115222835,
          -2.7313135571757563,
          -1.3901611885307172,
          -0.7668234576924771,
          -0.2740656808576659,
          1.667691642371268,
          0.09675804750002247,
          -0.3993649557252148,
          1.484220094919042,
          -0.07901652159766895,
          -0.26975354473237967,
          0.605978939676668,
          0.008585745532567687,
          -0.49986280262070976,
          0.7050757224054496,
          -0.9825443837523973,
          -0.4903160744754752,
          1.375276764445953,
          0.12104979745920955,
          1.4824150417639876,
          0.2884732149437047,
          1.0647981187455822,
          -0.27941567866192923,
          -0.9575609575401136,
          0.5646814456783594,
          0.08480759312596246,
          0.5456752792982241,
          0.04474730044409539,
          0.3449381645647911,
          1.0989196536617412,
          2.0009367716990374,
          -0.10649601834445481,
          -0.9948925083156563,
          -1.507843017905901,
          -0.04914540079233849,
          0.0015998307786427317,
          0.08871540715131175,
          -0.09513443320348569,
          1.3884170241785447,
          -0.6375754053537689,
          0.5353090243952152,
          0.5058531399900315,
          0.0039000720093066215,
          1.6856477147167694,
          1.0788626909510945
         ],
         "yaxis": "y4"
        },
        {
         "line": {
          "color": "rgba(128, 128, 128, 1.0)",
          "dash": "solid",
          "shape": "linear",
          "width": 1.3
         },
         "marker": {
          "size": 2,
          "symbol": "circle"
         },
         "mode": "markers",
         "name": "B",
         "text": "",
         "type": "scatter",
         "x": [
          -0.014182249911513891,
          -0.7990367681886373,
          0.6591194910503083,
          1.998829472768256,
          1.354928704711035,
          -0.1371167194422425,
          0.4333354482330215,
          0.49267447183888413,
          1.3858792197389416,
          0.4676724923040728,
          0.4849888456465899,
          0.45149705620233,
          -0.1063775758913652,
          -0.6451185663551487,
          0.8357224494240874,
          0.05850278298606873,
          -0.6878280364420764,
          -1.0745550632638445,
          -1.5078604397890385,
          0.40661572837594684,
          0.9800238409731928,
          -1.6325091262235363,
          0.1631019706498342,
          1.4448137969722203,
          0.02513391270452852,
          0.9547946954988611,
          -1.0563585853877604,
          -1.3142901401847198,
          -0.25331664335336507,
          -1.4879385617072196,
          1.7470695903409454,
          -0.48379885894116165,
          -0.9241938987777035,
          0.365712246098989,
          1.221561139279699,
          1.1752904012641878,
          -1.0893692935961712,
          0.05496551530451065,
          -0.2176827297418758,
          -0.0657386185768375,
          1.562769039489702,
          0.13189295528231632,
          -0.4496554338022613,
          1.039717915533698,
          0.6661633287497195,
          1.0294163558425313,
          0.10459497547037343,
          -0.6486758199813077,
          -0.35946559697843306,
          -0.7791403957659999,
          -0.7131422295621813,
          0.3530266789979288,
          -0.5850582350435681,
          -1.228669369831788,
          -0.18193668990025463,
          -1.2251158115222835,
          -2.7313135571757563,
          -1.3901611885307172,
          -0.7668234576924771,
          -0.2740656808576659,
          1.667691642371268,
          0.09675804750002247,
          -0.3993649557252148,
          1.484220094919042,
          -0.07901652159766895,
          -0.26975354473237967,
          0.605978939676668,
          0.008585745532567687,
          -0.49986280262070976,
          0.7050757224054496,
          -0.9825443837523973,
          -0.4903160744754752,
          1.375276764445953,
          0.12104979745920955,
          1.4824150417639876,
          0.2884732149437047,
          1.0647981187455822,
          -0.27941567866192923,
          -0.9575609575401136,
          0.5646814456783594,
          0.08480759312596246,
          0.5456752792982241,
          0.04474730044409539,
          0.3449381645647911,
          1.0989196536617412,
          2.0009367716990374,
          -0.10649601834445481,
          -0.9948925083156563,
          -1.507843017905901,
          -0.04914540079233849,
          0.0015998307786427317,
          0.08871540715131175,
          -0.09513443320348569,
          1.3884170241785447,
          -0.6375754053537689,
          0.5353090243952152,
          0.5058531399900315,
          0.0039000720093066215,
          1.6856477147167694,
          1.0788626909510945
         ],
         "xaxis": "x5",
         "y": [
          -1.1379320218666829,
          -0.3695042688257674,
          0.33366871400295456,
          1.0388735929418678,
          0.4271828843031716,
          -0.498185936402757,
          -0.20908624076388696,
          0.2712791092204782,
          0.21699706993337786,
          1.1988640269829076,
          0.5794566696633838,
          -2.051357618538235,
          -0.015027646709790503,
          -0.13221573801207778,
          0.663055581637253,
          2.2383145058851217,
          -0.32920285387233467,
          1.305488093081794,
          -0.6770237846293955,
          1.5655678252443213,
          -0.1579011544726716,
          0.21253336637012768,
          1.1127389828320329,
          -1.5672990177125192,
          0.7781963063214641,
          1.7853350454924075,
          -1.1710195851309133,
          0.686719657893707,
          -0.20731900062966677,
          1.4307503635162753,
          -0.9158903433533209,
          1.4420737367040473,
          -0.6068242423956323,
          1.0694813209111613,
          0.3237652489496514,
          0.18727889105942838,
          1.2922354443050938,
          0.6274525703991168,
          1.014431538504958,
          1.3987744470969865,
          0.4513588324569339,
          -1.021846300012986,
          -1.6695027698585916,
          1.0018097405277842,
          0.42609150355890035,
          1.1071846053066323,
          -0.1509182629517138,
          0.20295227502422822,
          1.4490271833804298,
          0.2893929835183492,
          0.7332741959247728,
          -0.7239745282733993,
          -2.4359443821545694,
          -0.274108614919312,
          -0.713459983647737,
          -0.2231215265407797,
          -0.4897121400859348,
          0.042540095384265224,
          0.7230329717255355,
          0.5938328429046061,
          0.7980677149641997,
          -1.5370942848965226,
          -1.0470516457159909,
          -0.622083709673778,
          -0.6408476173310118,
          -0.7310692143925597,
          2.0558686601072846,
          0.941521271821865,
          0.2797069863850723,
          -1.1987566877959244,
          -0.6453513323275131,
          0.00618299715917338,
          -0.9449907125758524,
          -1.0429632720499713,
          -0.9432951353119565,
          -0.18431998387115714,
          0.19706282189587646,
          1.4093428173112086,
          -2.5459571971591974,
          0.9714641272638906,
          1.3195027949623213,
          1.518096459438159,
          2.892537011972321,
          1.4002055331345225,
          -0.3066405837306535,
          -1.5162024282645241,
          1.1028718578803822,
          1.7491202039361544,
          -0.7352743952166807,
          -1.1327003719731012,
          -0.3439921897436451,
          -0.8142699493133557,
          -0.8421420831214147,
          -2.3611782096734317,
          0.5399222287331542,
          -0.45479909963011805,
          -0.3820645712895226,
          -1.557072716269298,
          -0.4549434306878188,
          0.5782397452939635
         ],
         "yaxis": "y5"
        },
        {
         "histfunc": "count",
         "histnorm": "",
         "marker": {
          "color": "rgba(55, 128, 191, 1.0)",
          "line": {
           "color": "#4D5663",
           "width": 1.3
          }
         },
         "name": "B",
         "nbinsx": 10,
         "opacity": 0.8,
         "orientation": "v",
         "type": "histogram",
         "x": [
          -1.1379320218666829,
          -0.3695042688257674,
          0.33366871400295456,
          1.0388735929418678,
          0.4271828843031716,
          -0.498185936402757,
          -0.20908624076388696,
          0.2712791092204782,
          0.21699706993337786,
          1.1988640269829076,
          0.5794566696633838,
          -2.051357618538235,
          -0.015027646709790503,
          -0.13221573801207778,
          0.663055581637253,
          2.2383145058851217,
          -0.32920285387233467,
          1.305488093081794,
          -0.6770237846293955,
          1.5655678252443213,
          -0.1579011544726716,
          0.21253336637012768,
          1.1127389828320329,
          -1.5672990177125192,
          0.7781963063214641,
          1.7853350454924075,
          -1.1710195851309133,
          0.686719657893707,
          -0.20731900062966677,
          1.4307503635162753,
          -0.9158903433533209,
          1.4420737367040473,
          -0.6068242423956323,
          1.0694813209111613,
          0.3237652489496514,
          0.18727889105942838,
          1.2922354443050938,
          0.6274525703991168,
          1.014431538504958,
          1.3987744470969865,
          0.4513588324569339,
          -1.021846300012986,
          -1.6695027698585916,
          1.0018097405277842,
          0.42609150355890035,
          1.1071846053066323,
          -0.1509182629517138,
          0.20295227502422822,
          1.4490271833804298,
          0.2893929835183492,
          0.7332741959247728,
          -0.7239745282733993,
          -2.4359443821545694,
          -0.274108614919312,
          -0.713459983647737,
          -0.2231215265407797,
          -0.4897121400859348,
          0.042540095384265224,
          0.7230329717255355,
          0.5938328429046061,
          0.7980677149641997,
          -1.5370942848965226,
          -1.0470516457159909,
          -0.622083709673778,
          -0.6408476173310118,
          -0.7310692143925597,
          2.0558686601072846,
          0.941521271821865,
          0.2797069863850723,
          -1.1987566877959244,
          -0.6453513323275131,
          0.00618299715917338,
          -0.9449907125758524,
          -1.0429632720499713,
          -0.9432951353119565,
          -0.18431998387115714,
          0.19706282189587646,
          1.4093428173112086,
          -2.5459571971591974,
          0.9714641272638906,
          1.3195027949623213,
          1.518096459438159,
          2.892537011972321,
          1.4002055331345225,
          -0.3066405837306535,
          -1.5162024282645241,
          1.1028718578803822,
          1.7491202039361544,
          -0.7352743952166807,
          -1.1327003719731012,
          -0.3439921897436451,
          -0.8142699493133557,
          -0.8421420831214147,
          -2.3611782096734317,
          0.5399222287331542,
          -0.45479909963011805,
          -0.3820645712895226,
          -1.557072716269298,
          -0.4549434306878188,
          0.5782397452939635
         ],
         "xaxis": "x6",
         "yaxis": "y6"
        },
        {
         "line": {
          "color": "rgba(128, 128, 128, 1.0)",
          "dash": "solid",
          "shape": "linear",
          "width": 1.3
         },
         "marker": {
          "size": 2,
          "symbol": "circle"
         },
         "mode": "markers",
         "name": "B",
         "text": "",
         "type": "scatter",
         "x": [
          -0.7607527958894249,
          -0.7070143252687979,
          0.9272012698020369,
          0.21914882286396423,
          -0.5179103247789255,
          0.356294717199559,
          -0.2913657335806063,
          0.615671650212997,
          1.6300437774432865,
          -1.20733047509803,
          0.10714857386872174,
          -0.14883163836968605,
          -0.029237448242223914,
          1.0729039566216991,
          -1.1208687152083543,
          0.18328250238357405,
          -0.4537255362327935,
          -0.6033429693845594,
          0.2665249871287445,
          -0.03717218388022126,
          -3.0129873267286196,
          0.20488215053479814,
          -0.1522152064044278,
          0.24185841532262767,
          1.6270732988046244,
          -1.1458764498876082,
          1.276796040856506,
          -0.28148875520174454,
          -0.548738343600119,
          1.380674930062003,
          0.33027139687782614,
          0.5004035180264748,
          -0.1347797094150288,
          -0.33163499606419433,
          -0.7542144755334065,
          0.09636309919988383,
          -0.49054727267449194,
          1.1245919947108491,
          -1.4744546293557332,
          1.9099381989317608,
          -0.7734262917901424,
          -0.9076017148870963,
          -1.8346876911266852,
          -0.6300906543082541,
          0.12820667190314397,
          0.6973881330482086,
          2.004260984196489,
          -0.13553405370576,
          -0.8816929537120686,
          -0.5394996298466653,
          -0.20718808979900927,
          -0.6939747402723065,
          -0.09758639711396831,
          -0.3566888455988846,
          -1.8083956716108365,
          -1.8158027509915093,
          -0.24860659462631232,
          1.332512790069765,
          2.378490943446098,
          1.0890638411756182,
          0.496340149119863,
          -2.275713946946364,
          0.609308109591509,
          0.8260824380473207,
          0.2855790139565881,
          -0.062158990419333204,
          -1.1170492187902588,
          2.2269374856204958,
          0.07058356586829277,
          -0.6980407327713735,
          -1.3018153526869747,
          -0.32361285815799123,
          -0.020598266162581688,
          -1.033214773184867,
          0.2384945575516058,
          -0.30115810030278967,
          -1.308698176806451,
          -0.5206390858316583,
          -0.12985117311091163,
          -1.2175111417431492,
          0.6614508703669855,
          0.3494092579677839,
          0.1860466978933607,
          0.7612711034216268,
          0.37045367429256126,
          -0.6491413856632087,
          -0.6060527423527244,
          -1.7137695802608415,
          0.3241242075283571,
          0.4614032109121203,
          -0.16105175922848006,
          -1.4345970307468745,
          -0.8369483552298032,
          -0.07387646107956655,
          -0.06657310181155189,
          0.16994610203755273,
          -0.2714894942090053,
          -1.1088759265257948,
          -0.004176668473154918,
          1.748833880230194
         ],
         "xaxis": "x7",
         "y": [
          -1.1379320218666829,
          -0.3695042688257674,
          0.33366871400295456,
          1.0388735929418678,
          0.4271828843031716,
          -0.498185936402757,
          -0.20908624076388696,
          0.2712791092204782,
          0.21699706993337786,
          1.1988640269829076,
          0.5794566696633838,
          -2.051357618538235,
          -0.015027646709790503,
          -0.13221573801207778,
          0.663055581637253,
          2.2383145058851217,
          -0.32920285387233467,
          1.305488093081794,
          -0.6770237846293955,
          1.5655678252443213,
          -0.1579011544726716,
          0.21253336637012768,
          1.1127389828320329,
          -1.5672990177125192,
          0.7781963063214641,
          1.7853350454924075,
          -1.1710195851309133,
          0.686719657893707,
          -0.20731900062966677,
          1.4307503635162753,
          -0.9158903433533209,
          1.4420737367040473,
          -0.6068242423956323,
          1.0694813209111613,
          0.3237652489496514,
          0.18727889105942838,
          1.2922354443050938,
          0.6274525703991168,
          1.014431538504958,
          1.3987744470969865,
          0.4513588324569339,
          -1.021846300012986,
          -1.6695027698585916,
          1.0018097405277842,
          0.42609150355890035,
          1.1071846053066323,
          -0.1509182629517138,
          0.20295227502422822,
          1.4490271833804298,
          0.2893929835183492,
          0.7332741959247728,
          -0.7239745282733993,
          -2.4359443821545694,
          -0.274108614919312,
          -0.713459983647737,
          -0.2231215265407797,
          -0.4897121400859348,
          0.042540095384265224,
          0.7230329717255355,
          0.5938328429046061,
          0.7980677149641997,
          -1.5370942848965226,
          -1.0470516457159909,
          -0.622083709673778,
          -0.6408476173310118,
          -0.7310692143925597,
          2.0558686601072846,
          0.941521271821865,
          0.2797069863850723,
          -1.1987566877959244,
          -0.6453513323275131,
          0.00618299715917338,
          -0.9449907125758524,
          -1.0429632720499713,
          -0.9432951353119565,
          -0.18431998387115714,
          0.19706282189587646,
          1.4093428173112086,
          -2.5459571971591974,
          0.9714641272638906,
          1.3195027949623213,
          1.518096459438159,
          2.892537011972321,
          1.4002055331345225,
          -0.3066405837306535,
          -1.5162024282645241,
          1.1028718578803822,
          1.7491202039361544,
          -0.7352743952166807,
          -1.1327003719731012,
          -0.3439921897436451,
          -0.8142699493133557,
          -0.8421420831214147,
          -2.3611782096734317,
          0.5399222287331542,
          -0.45479909963011805,
          -0.3820645712895226,
          -1.557072716269298,
          -0.4549434306878188,
          0.5782397452939635
         ],
         "yaxis": "y7"
        },
        {
         "line": {
          "color": "rgba(128, 128, 128, 1.0)",
          "dash": "solid",
          "shape": "linear",
          "width": 1.3
         },
         "marker": {
          "size": 2,
          "symbol": "circle"
         },
         "mode": "markers",
         "name": "B",
         "text": "",
         "type": "scatter",
         "x": [
          0.1751742656209741,
          -0.448826153642509,
          0.5381820031835148,
          0.13244564930818603,
          -0.8900014593731652,
          -0.7047691983918308,
          -0.09990254288735409,
          1.4263274529609322,
          1.465754785817344,
          -0.7384106148318462,
          -1.9257248814183598,
          -1.0721059244982252,
          -0.7089368671559754,
          -0.49095766652426087,
          -1.0779027848109384,
          0.8245267819969098,
          0.048085897075888104,
          -0.07503722459542922,
          -1.7464684708684919,
          -1.3096171450164322,
          -0.9731600008029246,
          -1.2716768795489168,
          -0.8469465703877845,
          0.8259934110119476,
          1.3283555390186081,
          -0.4342034990219628,
          -0.4466879980049857,
          -0.7273986692745659,
          1.2054754634032374,
          -0.1572649646617977,
          -0.6028153073671625,
          0.3844046834517899,
          0.21837463947565822,
          -0.5353319895187307,
          -0.008699530471608843,
          0.7057881249989117,
          -1.2515029914813804,
          -1.140452391309678,
          -0.6877015990283953,
          0.1307615006942522,
          1.238281893532272,
          0.5355594464973679,
          -1.1109889675619573,
          -0.14808944756823528,
          1.1629125454319655,
          0.46648092168703986,
          0.13532924366300256,
          0.6586460674199206,
          -0.743819602647227,
          0.4189556145146561,
          0.3327266813154617,
          -0.859106315287156,
          0.48227535517326187,
          0.8222685585673679,
          -0.6689693042765702,
          1.1202239743167295,
          0.22917434892484292,
          -1.9424668679965322,
          0.9216792137482365,
          1.0855943615810264,
          0.6129005155889627,
          -0.9319676494837966,
          -0.2747626566829559,
          0.8178759920155547,
          -0.6319066271085185,
          0.811518648797966,
          -0.6268533658436848,
          0.5122933366767136,
          -0.2445246966092972,
          -0.9876770467575798,
          0.5252521957727393,
          -2.138622251999045,
          0.005887566403270622,
          0.7316110872017239,
          -1.3923674786636313,
          1.0187317999066703,
          -0.189227893385347,
          1.6982132335644515,
          -0.4460304099092128,
          0.46604748259650813,
          0.870538033993492,
          -0.3076273390858767,
          -0.6373079945184906,
          -2.7947216138514066,
          -0.17292019781564888,
          -0.39499343185230057,
          0.24523800994094805,
          -1.1832402670683073,
          -0.40296143593143285,
          -0.5591908391458149,
          -1.3476129340153435,
          1.5673381755636133,
          0.39947974935198255,
          -1.8527500230542786,
          2.1580101456879994,
          -0.16151710980984083,
          -0.8895491151507277,
          -0.48016846528115864,
          0.6700264562039298,
          0.061022762866370574
         ],
         "xaxis": "x8",
         "y": [
          -1.1379320218666829,
          -0.3695042688257674,
          0.33366871400295456,
          1.0388735929418678,
          0.4271828843031716,
          -0.498185936402757,
          -0.20908624076388696,
          0.2712791092204782,
          0.21699706993337786,
          1.1988640269829076,
          0.5794566696633838,
          -2.051357618538235,
          -0.015027646709790503,
          -0.13221573801207778,
          0.663055581637253,
          2.2383145058851217,
          -0.32920285387233467,
          1.305488093081794,
          -0.6770237846293955,
          1.5655678252443213,
          -0.1579011544726716,
          0.21253336637012768,
          1.1127389828320329,
          -1.5672990177125192,
          0.7781963063214641,
          1.7853350454924075,
          -1.1710195851309133,
          0.686719657893707,
          -0.20731900062966677,
          1.4307503635162753,
          -0.9158903433533209,
          1.4420737367040473,
          -0.6068242423956323,
          1.0694813209111613,
          0.3237652489496514,
          0.18727889105942838,
          1.2922354443050938,
          0.6274525703991168,
          1.014431538504958,
          1.3987744470969865,
          0.4513588324569339,
          -1.021846300012986,
          -1.6695027698585916,
          1.0018097405277842,
          0.42609150355890035,
          1.1071846053066323,
          -0.1509182629517138,
          0.20295227502422822,
          1.4490271833804298,
          0.2893929835183492,
          0.7332741959247728,
          -0.7239745282733993,
          -2.4359443821545694,
          -0.274108614919312,
          -0.713459983647737,
          -0.2231215265407797,
          -0.4897121400859348,
          0.042540095384265224,
          0.7230329717255355,
          0.5938328429046061,
          0.7980677149641997,
          -1.5370942848965226,
          -1.0470516457159909,
          -0.622083709673778,
          -0.6408476173310118,
          -0.7310692143925597,
          2.0558686601072846,
          0.941521271821865,
          0.2797069863850723,
          -1.1987566877959244,
          -0.6453513323275131,
          0.00618299715917338,
          -0.9449907125758524,
          -1.0429632720499713,
          -0.9432951353119565,
          -0.18431998387115714,
          0.19706282189587646,
          1.4093428173112086,
          -2.5459571971591974,
          0.9714641272638906,
          1.3195027949623213,
          1.518096459438159,
          2.892537011972321,
          1.4002055331345225,
          -0.3066405837306535,
          -1.5162024282645241,
          1.1028718578803822,
          1.7491202039361544,
          -0.7352743952166807,
          -1.1327003719731012,
          -0.3439921897436451,
          -0.8142699493133557,
          -0.8421420831214147,
          -2.3611782096734317,
          0.5399222287331542,
          -0.45479909963011805,
          -0.3820645712895226,
          -1.557072716269298,
          -0.4549434306878188,
          0.5782397452939635
         ],
         "yaxis": "y8"
        },
        {
         "line": {
          "color": "rgba(128, 128, 128, 1.0)",
          "dash": "solid",
          "shape": "linear",
          "width": 1.3
         },
         "marker": {
          "size": 2,
          "symbol": "circle"
         },
         "mode": "markers",
         "name": "C",
         "text": "",
         "type": "scatter",
         "x": [
          -0.014182249911513891,
          -0.7990367681886373,
          0.6591194910503083,
          1.998829472768256,
          1.354928704711035,
          -0.1371167194422425,
          0.4333354482330215,
          0.49267447183888413,
          1.3858792197389416,
          0.4676724923040728,
          0.4849888456465899,
          0.45149705620233,
          -0.1063775758913652,
          -0.6451185663551487,
          0.8357224494240874,
          0.05850278298606873,
          -0.6878280364420764,
          -1.0745550632638445,
          -1.5078604397890385,
          0.40661572837594684,
          0.9800238409731928,
          -1.6325091262235363,
          0.1631019706498342,
          1.4448137969722203,
          0.02513391270452852,
          0.9547946954988611,
          -1.0563585853877604,
          -1.3142901401847198,
          -0.25331664335336507,
          -1.4879385617072196,
          1.7470695903409454,
          -0.48379885894116165,
          -0.9241938987777035,
          0.365712246098989,
          1.221561139279699,
          1.1752904012641878,
          -1.0893692935961712,
          0.05496551530451065,
          -0.2176827297418758,
          -0.0657386185768375,
          1.562769039489702,
          0.13189295528231632,
          -0.4496554338022613,
          1.039717915533698,
          0.6661633287497195,
          1.0294163558425313,
          0.10459497547037343,
          -0.6486758199813077,
          -0.35946559697843306,
          -0.7791403957659999,
          -0.7131422295621813,
          0.3530266789979288,
          -0.5850582350435681,
          -1.228669369831788,
          -0.18193668990025463,
          -1.2251158115222835,
          -2.7313135571757563,
          -1.3901611885307172,
          -0.7668234576924771,
          -0.2740656808576659,
          1.667691642371268,
          0.09675804750002247,
          -0.3993649557252148,
          1.484220094919042,
          -0.07901652159766895,
          -0.26975354473237967,
          0.605978939676668,
          0.008585745532567687,
          -0.49986280262070976,
          0.7050757224054496,
          -0.9825443837523973,
          -0.4903160744754752,
          1.375276764445953,
          0.12104979745920955,
          1.4824150417639876,
          0.2884732149437047,
          1.0647981187455822,
          -0.27941567866192923,
          -0.9575609575401136,
          0.5646814456783594,
          0.08480759312596246,
          0.5456752792982241,
          0.04474730044409539,
          0.3449381645647911,
          1.0989196536617412,
          2.0009367716990374,
          -0.10649601834445481,
          -0.9948925083156563,
          -1.507843017905901,
          -0.04914540079233849,
          0.0015998307786427317,
          0.08871540715131175,
          -0.09513443320348569,
          1.3884170241785447,
          -0.6375754053537689,
          0.5353090243952152,
          0.5058531399900315,
          0.0039000720093066215,
          1.6856477147167694,
          1.0788626909510945
         ],
         "xaxis": "x9",
         "y": [
          -0.7607527958894249,
          -0.7070143252687979,
          0.9272012698020369,
          0.21914882286396423,
          -0.5179103247789255,
          0.356294717199559,
          -0.2913657335806063,
          0.615671650212997,
          1.6300437774432865,
          -1.20733047509803,
          0.10714857386872174,
          -0.14883163836968605,
          -0.029237448242223914,
          1.0729039566216991,
          -1.1208687152083543,
          0.18328250238357405,
          -0.4537255362327935,
          -0.6033429693845594,
          0.2665249871287445,
          -0.03717218388022126,
          -3.0129873267286196,
          0.20488215053479814,
          -0.1522152064044278,
          0.24185841532262767,
          1.6270732988046244,
          -1.1458764498876082,
          1.276796040856506,
          -0.28148875520174454,
          -0.548738343600119,
          1.380674930062003,
          0.33027139687782614,
          0.5004035180264748,
          -0.1347797094150288,
          -0.33163499606419433,
          -0.7542144755334065,
          0.09636309919988383,
          -0.49054727267449194,
          1.1245919947108491,
          -1.4744546293557332,
          1.9099381989317608,
          -0.7734262917901424,
          -0.9076017148870963,
          -1.8346876911266852,
          -0.6300906543082541,
          0.12820667190314397,
          0.6973881330482086,
          2.004260984196489,
          -0.13553405370576,
          -0.8816929537120686,
          -0.5394996298466653,
          -0.20718808979900927,
          -0.6939747402723065,
          -0.09758639711396831,
          -0.3566888455988846,
          -1.8083956716108365,
          -1.8158027509915093,
          -0.24860659462631232,
          1.332512790069765,
          2.378490943446098,
          1.0890638411756182,
          0.496340149119863,
          -2.275713946946364,
          0.609308109591509,
          0.8260824380473207,
          0.2855790139565881,
          -0.062158990419333204,
          -1.1170492187902588,
          2.2269374856204958,
          0.07058356586829277,
          -0.6980407327713735,
          -1.3018153526869747,
          -0.32361285815799123,
          -0.020598266162581688,
          -1.033214773184867,
          0.2384945575516058,
          -0.30115810030278967,
          -1.308698176806451,
          -0.5206390858316583,
          -0.12985117311091163,
          -1.2175111417431492,
          0.6614508703669855,
          0.3494092579677839,
          0.1860466978933607,
          0.7612711034216268,
          0.37045367429256126,
          -0.6491413856632087,
          -0.6060527423527244,
          -1.7137695802608415,
          0.3241242075283571,
          0.4614032109121203,
          -0.16105175922848006,
          -1.4345970307468745,
          -0.8369483552298032,
          -0.07387646107956655,
          -0.06657310181155189,
          0.16994610203755273,
          -0.2714894942090053,
          -1.1088759265257948,
          -0.004176668473154918,
          1.748833880230194
         ],
         "yaxis": "y9"
        },
        {
         "line": {
          "color": "rgba(128, 128, 128, 1.0)",
          "dash": "solid",
          "shape": "linear",
          "width": 1.3
         },
         "marker": {
          "size": 2,
          "symbol": "circle"
         },
         "mode": "markers",
         "name": "C",
         "text": "",
         "type": "scatter",
         "x": [
          -1.1379320218666829,
          -0.3695042688257674,
          0.33366871400295456,
          1.0388735929418678,
          0.4271828843031716,
          -0.498185936402757,
          -0.20908624076388696,
          0.2712791092204782,
          0.21699706993337786,
          1.1988640269829076,
          0.5794566696633838,
          -2.051357618538235,
          -0.015027646709790503,
          -0.13221573801207778,
          0.663055581637253,
          2.2383145058851217,
          -0.32920285387233467,
          1.305488093081794,
          -0.6770237846293955,
          1.5655678252443213,
          -0.1579011544726716,
          0.21253336637012768,
          1.1127389828320329,
          -1.5672990177125192,
          0.7781963063214641,
          1.7853350454924075,
          -1.1710195851309133,
          0.686719657893707,
          -0.20731900062966677,
          1.4307503635162753,
          -0.9158903433533209,
          1.4420737367040473,
          -0.6068242423956323,
          1.0694813209111613,
          0.3237652489496514,
          0.18727889105942838,
          1.2922354443050938,
          0.6274525703991168,
          1.014431538504958,
          1.3987744470969865,
          0.4513588324569339,
          -1.021846300012986,
          -1.6695027698585916,
          1.0018097405277842,
          0.42609150355890035,
          1.1071846053066323,
          -0.1509182629517138,
          0.20295227502422822,
          1.4490271833804298,
          0.2893929835183492,
          0.7332741959247728,
          -0.7239745282733993,
          -2.4359443821545694,
          -0.274108614919312,
          -0.713459983647737,
          -0.2231215265407797,
          -0.4897121400859348,
          0.042540095384265224,
          0.7230329717255355,
          0.5938328429046061,
          0.7980677149641997,
          -1.5370942848965226,
          -1.0470516457159909,
          -0.622083709673778,
          -0.6408476173310118,
          -0.7310692143925597,
          2.0558686601072846,
          0.941521271821865,
          0.2797069863850723,
          -1.1987566877959244,
          -0.6453513323275131,
          0.00618299715917338,
          -0.9449907125758524,
          -1.0429632720499713,
          -0.9432951353119565,
          -0.18431998387115714,
          0.19706282189587646,
          1.4093428173112086,
          -2.5459571971591974,
          0.9714641272638906,
          1.3195027949623213,
          1.518096459438159,
          2.892537011972321,
          1.4002055331345225,
          -0.3066405837306535,
          -1.5162024282645241,
          1.1028718578803822,
          1.7491202039361544,
          -0.7352743952166807,
          -1.1327003719731012,
          -0.3439921897436451,
          -0.8142699493133557,
          -0.8421420831214147,
          -2.3611782096734317,
          0.5399222287331542,
          -0.45479909963011805,
          -0.3820645712895226,
          -1.557072716269298,
          -0.4549434306878188,
          0.5782397452939635
         ],
         "xaxis": "x10",
         "y": [
          -0.7607527958894249,
          -0.7070143252687979,
          0.9272012698020369,
          0.21914882286396423,
          -0.5179103247789255,
          0.356294717199559,
          -0.2913657335806063,
          0.615671650212997,
          1.6300437774432865,
          -1.20733047509803,
          0.10714857386872174,
          -0.14883163836968605,
          -0.029237448242223914,
          1.0729039566216991,
          -1.1208687152083543,
          0.18328250238357405,
          -0.4537255362327935,
          -0.6033429693845594,
          0.2665249871287445,
          -0.03717218388022126,
          -3.0129873267286196,
          0.20488215053479814,
          -0.1522152064044278,
          0.24185841532262767,
          1.6270732988046244,
          -1.1458764498876082,
          1.276796040856506,
          -0.28148875520174454,
          -0.548738343600119,
          1.380674930062003,
          0.33027139687782614,
          0.5004035180264748,
          -0.1347797094150288,
          -0.33163499606419433,
          -0.7542144755334065,
          0.09636309919988383,
          -0.49054727267449194,
          1.1245919947108491,
          -1.4744546293557332,
          1.9099381989317608,
          -0.7734262917901424,
          -0.9076017148870963,
          -1.8346876911266852,
          -0.6300906543082541,
          0.12820667190314397,
          0.6973881330482086,
          2.004260984196489,
          -0.13553405370576,
          -0.8816929537120686,
          -0.5394996298466653,
          -0.20718808979900927,
          -0.6939747402723065,
          -0.09758639711396831,
          -0.3566888455988846,
          -1.8083956716108365,
          -1.8158027509915093,
          -0.24860659462631232,
          1.332512790069765,
          2.378490943446098,
          1.0890638411756182,
          0.496340149119863,
          -2.275713946946364,
          0.609308109591509,
          0.8260824380473207,
          0.2855790139565881,
          -0.062158990419333204,
          -1.1170492187902588,
          2.2269374856204958,
          0.07058356586829277,
          -0.6980407327713735,
          -1.3018153526869747,
          -0.32361285815799123,
          -0.020598266162581688,
          -1.033214773184867,
          0.2384945575516058,
          -0.30115810030278967,
          -1.308698176806451,
          -0.5206390858316583,
          -0.12985117311091163,
          -1.2175111417431492,
          0.6614508703669855,
          0.3494092579677839,
          0.1860466978933607,
          0.7612711034216268,
          0.37045367429256126,
          -0.6491413856632087,
          -0.6060527423527244,
          -1.7137695802608415,
          0.3241242075283571,
          0.4614032109121203,
          -0.16105175922848006,
          -1.4345970307468745,
          -0.8369483552298032,
          -0.07387646107956655,
          -0.06657310181155189,
          0.16994610203755273,
          -0.2714894942090053,
          -1.1088759265257948,
          -0.004176668473154918,
          1.748833880230194
         ],
         "yaxis": "y10"
        },
        {
         "histfunc": "count",
         "histnorm": "",
         "marker": {
          "color": "rgba(50, 171, 96, 1.0)",
          "line": {
           "color": "#4D5663",
           "width": 1.3
          }
         },
         "name": "C",
         "nbinsx": 10,
         "opacity": 0.8,
         "orientation": "v",
         "type": "histogram",
         "x": [
          -0.7607527958894249,
          -0.7070143252687979,
          0.9272012698020369,
          0.21914882286396423,
          -0.5179103247789255,
          0.356294717199559,
          -0.2913657335806063,
          0.615671650212997,
          1.6300437774432865,
          -1.20733047509803,
          0.10714857386872174,
          -0.14883163836968605,
          -0.029237448242223914,
          1.0729039566216991,
          -1.1208687152083543,
          0.18328250238357405,
          -0.4537255362327935,
          -0.6033429693845594,
          0.2665249871287445,
          -0.03717218388022126,
          -3.0129873267286196,
          0.20488215053479814,
          -0.1522152064044278,
          0.24185841532262767,
          1.6270732988046244,
          -1.1458764498876082,
          1.276796040856506,
          -0.28148875520174454,
          -0.548738343600119,
          1.380674930062003,
          0.33027139687782614,
          0.5004035180264748,
          -0.1347797094150288,
          -0.33163499606419433,
          -0.7542144755334065,
          0.09636309919988383,
          -0.49054727267449194,
          1.1245919947108491,
          -1.4744546293557332,
          1.9099381989317608,
          -0.7734262917901424,
          -0.9076017148870963,
          -1.8346876911266852,
          -0.6300906543082541,
          0.12820667190314397,
          0.6973881330482086,
          2.004260984196489,
          -0.13553405370576,
          -0.8816929537120686,
          -0.5394996298466653,
          -0.20718808979900927,
          -0.6939747402723065,
          -0.09758639711396831,
          -0.3566888455988846,
          -1.8083956716108365,
          -1.8158027509915093,
          -0.24860659462631232,
          1.332512790069765,
          2.378490943446098,
          1.0890638411756182,
          0.496340149119863,
          -2.275713946946364,
          0.609308109591509,
          0.8260824380473207,
          0.2855790139565881,
          -0.062158990419333204,
          -1.1170492187902588,
          2.2269374856204958,
          0.07058356586829277,
          -0.6980407327713735,
          -1.3018153526869747,
          -0.32361285815799123,
          -0.020598266162581688,
          -1.033214773184867,
          0.2384945575516058,
          -0.30115810030278967,
          -1.308698176806451,
          -0.5206390858316583,
          -0.12985117311091163,
          -1.2175111417431492,
          0.6614508703669855,
          0.3494092579677839,
          0.1860466978933607,
          0.7612711034216268,
          0.37045367429256126,
          -0.6491413856632087,
          -0.6060527423527244,
          -1.7137695802608415,
          0.3241242075283571,
          0.4614032109121203,
          -0.16105175922848006,
          -1.4345970307468745,
          -0.8369483552298032,
          -0.07387646107956655,
          -0.06657310181155189,
          0.16994610203755273,
          -0.2714894942090053,
          -1.1088759265257948,
          -0.004176668473154918,
          1.748833880230194
         ],
         "xaxis": "x11",
         "yaxis": "y11"
        },
        {
         "line": {
          "color": "rgba(128, 128, 128, 1.0)",
          "dash": "solid",
          "shape": "linear",
          "width": 1.3
         },
         "marker": {
          "size": 2,
          "symbol": "circle"
         },
         "mode": "markers",
         "name": "C",
         "text": "",
         "type": "scatter",
         "x": [
          0.1751742656209741,
          -0.448826153642509,
          0.5381820031835148,
          0.13244564930818603,
          -0.8900014593731652,
          -0.7047691983918308,
          -0.09990254288735409,
          1.4263274529609322,
          1.465754785817344,
          -0.7384106148318462,
          -1.9257248814183598,
          -1.0721059244982252,
          -0.7089368671559754,
          -0.49095766652426087,
          -1.0779027848109384,
          0.8245267819969098,
          0.048085897075888104,
          -0.07503722459542922,
          -1.7464684708684919,
          -1.3096171450164322,
          -0.9731600008029246,
          -1.2716768795489168,
          -0.8469465703877845,
          0.8259934110119476,
          1.3283555390186081,
          -0.4342034990219628,
          -0.4466879980049857,
          -0.7273986692745659,
          1.2054754634032374,
          -0.1572649646617977,
          -0.6028153073671625,
          0.3844046834517899,
          0.21837463947565822,
          -0.5353319895187307,
          -0.008699530471608843,
          0.7057881249989117,
          -1.2515029914813804,
          -1.140452391309678,
          -0.6877015990283953,
          0.1307615006942522,
          1.238281893532272,
          0.5355594464973679,
          -1.1109889675619573,
          -0.14808944756823528,
          1.1629125454319655,
          0.46648092168703986,
          0.13532924366300256,
          0.6586460674199206,
          -0.743819602647227,
          0.4189556145146561,
          0.3327266813154617,
          -0.859106315287156,
          0.48227535517326187,
          0.8222685585673679,
          -0.6689693042765702,
          1.1202239743167295,
          0.22917434892484292,
          -1.9424668679965322,
          0.9216792137482365,
          1.0855943615810264,
          0.6129005155889627,
          -0.9319676494837966,
          -0.2747626566829559,
          0.8178759920155547,
          -0.6319066271085185,
          0.811518648797966,
          -0.6268533658436848,
          0.5122933366767136,
          -0.2445246966092972,
          -0.9876770467575798,
          0.5252521957727393,
          -2.138622251999045,
          0.005887566403270622,
          0.7316110872017239,
          -1.3923674786636313,
          1.0187317999066703,
          -0.189227893385347,
          1.6982132335644515,
          -0.4460304099092128,
          0.46604748259650813,
          0.870538033993492,
          -0.3076273390858767,
          -0.6373079945184906,
          -2.7947216138514066,
          -0.17292019781564888,
          -0.39499343185230057,
          0.24523800994094805,
          -1.1832402670683073,
          -0.40296143593143285,
          -0.5591908391458149,
          -1.3476129340153435,
          1.5673381755636133,
          0.39947974935198255,
          -1.8527500230542786,
          2.1580101456879994,
          -0.16151710980984083,
          -0.8895491151507277,
          -0.48016846528115864,
          0.6700264562039298,
          0.061022762866370574
         ],
         "xaxis": "x12",
         "y": [
          -0.7607527958894249,
          -0.7070143252687979,
          0.9272012698020369,
          0.21914882286396423,
          -0.5179103247789255,
          0.356294717199559,
          -0.2913657335806063,
          0.615671650212997,
          1.6300437774432865,
          -1.20733047509803,
          0.10714857386872174,
          -0.14883163836968605,
          -0.029237448242223914,
          1.0729039566216991,
          -1.1208687152083543,
          0.18328250238357405,
          -0.4537255362327935,
          -0.6033429693845594,
          0.2665249871287445,
          -0.03717218388022126,
          -3.0129873267286196,
          0.20488215053479814,
          -0.1522152064044278,
          0.24185841532262767,
          1.6270732988046244,
          -1.1458764498876082,
          1.276796040856506,
          -0.28148875520174454,
          -0.548738343600119,
          1.380674930062003,
          0.33027139687782614,
          0.5004035180264748,
          -0.1347797094150288,
          -0.33163499606419433,
          -0.7542144755334065,
          0.09636309919988383,
          -0.49054727267449194,
          1.1245919947108491,
          -1.4744546293557332,
          1.9099381989317608,
          -0.7734262917901424,
          -0.9076017148870963,
          -1.8346876911266852,
          -0.6300906543082541,
          0.12820667190314397,
          0.6973881330482086,
          2.004260984196489,
          -0.13553405370576,
          -0.8816929537120686,
          -0.5394996298466653,
          -0.20718808979900927,
          -0.6939747402723065,
          -0.09758639711396831,
          -0.3566888455988846,
          -1.8083956716108365,
          -1.8158027509915093,
          -0.24860659462631232,
          1.332512790069765,
          2.378490943446098,
          1.0890638411756182,
          0.496340149119863,
          -2.275713946946364,
          0.609308109591509,
          0.8260824380473207,
          0.2855790139565881,
          -0.062158990419333204,
          -1.1170492187902588,
          2.2269374856204958,
          0.07058356586829277,
          -0.6980407327713735,
          -1.3018153526869747,
          -0.32361285815799123,
          -0.020598266162581688,
          -1.033214773184867,
          0.2384945575516058,
          -0.30115810030278967,
          -1.308698176806451,
          -0.5206390858316583,
          -0.12985117311091163,
          -1.2175111417431492,
          0.6614508703669855,
          0.3494092579677839,
          0.1860466978933607,
          0.7612711034216268,
          0.37045367429256126,
          -0.6491413856632087,
          -0.6060527423527244,
          -1.7137695802608415,
          0.3241242075283571,
          0.4614032109121203,
          -0.16105175922848006,
          -1.4345970307468745,
          -0.8369483552298032,
          -0.07387646107956655,
          -0.06657310181155189,
          0.16994610203755273,
          -0.2714894942090053,
          -1.1088759265257948,
          -0.004176668473154918,
          1.748833880230194
         ],
         "yaxis": "y12"
        },
        {
         "line": {
          "color": "rgba(128, 128, 128, 1.0)",
          "dash": "solid",
          "shape": "linear",
          "width": 1.3
         },
         "marker": {
          "size": 2,
          "symbol": "circle"
         },
         "mode": "markers",
         "name": "D",
         "text": "",
         "type": "scatter",
         "x": [
          -0.014182249911513891,
          -0.7990367681886373,
          0.6591194910503083,
          1.998829472768256,
          1.354928704711035,
          -0.1371167194422425,
          0.4333354482330215,
          0.49267447183888413,
          1.3858792197389416,
          0.4676724923040728,
          0.4849888456465899,
          0.45149705620233,
          -0.1063775758913652,
          -0.6451185663551487,
          0.8357224494240874,
          0.05850278298606873,
          -0.6878280364420764,
          -1.0745550632638445,
          -1.5078604397890385,
          0.40661572837594684,
          0.9800238409731928,
          -1.6325091262235363,
          0.1631019706498342,
          1.4448137969722203,
          0.02513391270452852,
          0.9547946954988611,
          -1.0563585853877604,
          -1.3142901401847198,
          -0.25331664335336507,
          -1.4879385617072196,
          1.7470695903409454,
          -0.48379885894116165,
          -0.9241938987777035,
          0.365712246098989,
          1.221561139279699,
          1.1752904012641878,
          -1.0893692935961712,
          0.05496551530451065,
          -0.2176827297418758,
          -0.0657386185768375,
          1.562769039489702,
          0.13189295528231632,
          -0.4496554338022613,
          1.039717915533698,
          0.6661633287497195,
          1.0294163558425313,
          0.10459497547037343,
          -0.6486758199813077,
          -0.35946559697843306,
          -0.7791403957659999,
          -0.7131422295621813,
          0.3530266789979288,
          -0.5850582350435681,
          -1.228669369831788,
          -0.18193668990025463,
          -1.2251158115222835,
          -2.7313135571757563,
          -1.3901611885307172,
          -0.7668234576924771,
          -0.2740656808576659,
          1.667691642371268,
          0.09675804750002247,
          -0.3993649557252148,
          1.484220094919042,
          -0.07901652159766895,
          -0.26975354473237967,
          0.605978939676668,
          0.008585745532567687,
          -0.49986280262070976,
          0.7050757224054496,
          -0.9825443837523973,
          -0.4903160744754752,
          1.375276764445953,
          0.12104979745920955,
          1.4824150417639876,
          0.2884732149437047,
          1.0647981187455822,
          -0.27941567866192923,
          -0.9575609575401136,
          0.5646814456783594,
          0.08480759312596246,
          0.5456752792982241,
          0.04474730044409539,
          0.3449381645647911,
          1.0989196536617412,
          2.0009367716990374,
          -0.10649601834445481,
          -0.9948925083156563,
          -1.507843017905901,
          -0.04914540079233849,
          0.0015998307786427317,
          0.08871540715131175,
          -0.09513443320348569,
          1.3884170241785447,
          -0.6375754053537689,
          0.5353090243952152,
          0.5058531399900315,
          0.0039000720093066215,
          1.6856477147167694,
          1.0788626909510945
         ],
         "xaxis": "x13",
         "y": [
          0.1751742656209741,
          -0.448826153642509,
          0.5381820031835148,
          0.13244564930818603,
          -0.8900014593731652,
          -0.7047691983918308,
          -0.09990254288735409,
          1.4263274529609322,
          1.465754785817344,
          -0.7384106148318462,
          -1.9257248814183598,
          -1.0721059244982252,
          -0.7089368671559754,
          -0.49095766652426087,
          -1.0779027848109384,
          0.8245267819969098,
          0.048085897075888104,
          -0.07503722459542922,
          -1.7464684708684919,
          -1.3096171450164322,
          -0.9731600008029246,
          -1.2716768795489168,
          -0.8469465703877845,
          0.8259934110119476,
          1.3283555390186081,
          -0.4342034990219628,
          -0.4466879980049857,
          -0.7273986692745659,
          1.2054754634032374,
          -0.1572649646617977,
          -0.6028153073671625,
          0.3844046834517899,
          0.21837463947565822,
          -0.5353319895187307,
          -0.008699530471608843,
          0.7057881249989117,
          -1.2515029914813804,
          -1.140452391309678,
          -0.6877015990283953,
          0.1307615006942522,
          1.238281893532272,
          0.5355594464973679,
          -1.1109889675619573,
          -0.14808944756823528,
          1.1629125454319655,
          0.46648092168703986,
          0.13532924366300256,
          0.6586460674199206,
          -0.743819602647227,
          0.4189556145146561,
          0.3327266813154617,
          -0.859106315287156,
          0.48227535517326187,
          0.8222685585673679,
          -0.6689693042765702,
          1.1202239743167295,
          0.22917434892484292,
          -1.9424668679965322,
          0.9216792137482365,
          1.0855943615810264,
          0.6129005155889627,
          -0.9319676494837966,
          -0.2747626566829559,
          0.8178759920155547,
          -0.6319066271085185,
          0.811518648797966,
          -0.6268533658436848,
          0.5122933366767136,
          -0.2445246966092972,
          -0.9876770467575798,
          0.5252521957727393,
          -2.138622251999045,
          0.005887566403270622,
          0.7316110872017239,
          -1.3923674786636313,
          1.0187317999066703,
          -0.189227893385347,
          1.6982132335644515,
          -0.4460304099092128,
          0.46604748259650813,
          0.870538033993492,
          -0.3076273390858767,
          -0.6373079945184906,
          -2.7947216138514066,
          -0.17292019781564888,
          -0.39499343185230057,
          0.24523800994094805,
          -1.1832402670683073,
          -0.40296143593143285,
          -0.5591908391458149,
          -1.3476129340153435,
          1.5673381755636133,
          0.39947974935198255,
          -1.8527500230542786,
          2.1580101456879994,
          -0.16151710980984083,
          -0.8895491151507277,
          -0.48016846528115864,
          0.6700264562039298,
          0.061022762866370574
         ],
         "yaxis": "y13"
        },
        {
         "line": {
          "color": "rgba(128, 128, 128, 1.0)",
          "dash": "solid",
          "shape": "linear",
          "width": 1.3
         },
         "marker": {
          "size": 2,
          "symbol": "circle"
         },
         "mode": "markers",
         "name": "D",
         "text": "",
         "type": "scatter",
         "x": [
          -1.1379320218666829,
          -0.3695042688257674,
          0.33366871400295456,
          1.0388735929418678,
          0.4271828843031716,
          -0.498185936402757,
          -0.20908624076388696,
          0.2712791092204782,
          0.21699706993337786,
          1.1988640269829076,
          0.5794566696633838,
          -2.051357618538235,
          -0.015027646709790503,
          -0.13221573801207778,
          0.663055581637253,
          2.2383145058851217,
          -0.32920285387233467,
          1.305488093081794,
          -0.6770237846293955,
          1.5655678252443213,
          -0.1579011544726716,
          0.21253336637012768,
          1.1127389828320329,
          -1.5672990177125192,
          0.7781963063214641,
          1.7853350454924075,
          -1.1710195851309133,
          0.686719657893707,
          -0.20731900062966677,
          1.4307503635162753,
          -0.9158903433533209,
          1.4420737367040473,
          -0.6068242423956323,
          1.0694813209111613,
          0.3237652489496514,
          0.18727889105942838,
          1.2922354443050938,
          0.6274525703991168,
          1.014431538504958,
          1.3987744470969865,
          0.4513588324569339,
          -1.021846300012986,
          -1.6695027698585916,
          1.0018097405277842,
          0.42609150355890035,
          1.1071846053066323,
          -0.1509182629517138,
          0.20295227502422822,
          1.4490271833804298,
          0.2893929835183492,
          0.7332741959247728,
          -0.7239745282733993,
          -2.4359443821545694,
          -0.274108614919312,
          -0.713459983647737,
          -0.2231215265407797,
          -0.4897121400859348,
          0.042540095384265224,
          0.7230329717255355,
          0.5938328429046061,
          0.7980677149641997,
          -1.5370942848965226,
          -1.0470516457159909,
          -0.622083709673778,
          -0.6408476173310118,
          -0.7310692143925597,
          2.0558686601072846,
          0.941521271821865,
          0.2797069863850723,
          -1.1987566877959244,
          -0.6453513323275131,
          0.00618299715917338,
          -0.9449907125758524,
          -1.0429632720499713,
          -0.9432951353119565,
          -0.18431998387115714,
          0.19706282189587646,
          1.4093428173112086,
          -2.5459571971591974,
          0.9714641272638906,
          1.3195027949623213,
          1.518096459438159,
          2.892537011972321,
          1.4002055331345225,
          -0.3066405837306535,
          -1.5162024282645241,
          1.1028718578803822,
          1.7491202039361544,
          -0.7352743952166807,
          -1.1327003719731012,
          -0.3439921897436451,
          -0.8142699493133557,
          -0.8421420831214147,
          -2.3611782096734317,
          0.5399222287331542,
          -0.45479909963011805,
          -0.3820645712895226,
          -1.557072716269298,
          -0.4549434306878188,
          0.5782397452939635
         ],
         "xaxis": "x14",
         "y": [
          0.1751742656209741,
          -0.448826153642509,
          0.5381820031835148,
          0.13244564930818603,
          -0.8900014593731652,
          -0.7047691983918308,
          -0.09990254288735409,
          1.4263274529609322,
          1.465754785817344,
          -0.7384106148318462,
          -1.9257248814183598,
          -1.0721059244982252,
          -0.7089368671559754,
          -0.49095766652426087,
          -1.0779027848109384,
          0.8245267819969098,
          0.048085897075888104,
          -0.07503722459542922,
          -1.7464684708684919,
          -1.3096171450164322,
          -0.9731600008029246,
          -1.2716768795489168,
          -0.8469465703877845,
          0.8259934110119476,
          1.3283555390186081,
          -0.4342034990219628,
          -0.4466879980049857,
          -0.7273986692745659,
          1.2054754634032374,
          -0.1572649646617977,
          -0.6028153073671625,
          0.3844046834517899,
          0.21837463947565822,
          -0.5353319895187307,
          -0.008699530471608843,
          0.7057881249989117,
          -1.2515029914813804,
          -1.140452391309678,
          -0.6877015990283953,
          0.1307615006942522,
          1.238281893532272,
          0.5355594464973679,
          -1.1109889675619573,
          -0.14808944756823528,
          1.1629125454319655,
          0.46648092168703986,
          0.13532924366300256,
          0.6586460674199206,
          -0.743819602647227,
          0.4189556145146561,
          0.3327266813154617,
          -0.859106315287156,
          0.48227535517326187,
          0.8222685585673679,
          -0.6689693042765702,
          1.1202239743167295,
          0.22917434892484292,
          -1.9424668679965322,
          0.9216792137482365,
          1.0855943615810264,
          0.6129005155889627,
          -0.9319676494837966,
          -0.2747626566829559,
          0.8178759920155547,
          -0.6319066271085185,
          0.811518648797966,
          -0.6268533658436848,
          0.5122933366767136,
          -0.2445246966092972,
          -0.9876770467575798,
          0.5252521957727393,
          -2.138622251999045,
          0.005887566403270622,
          0.7316110872017239,
          -1.3923674786636313,
          1.0187317999066703,
          -0.189227893385347,
          1.6982132335644515,
          -0.4460304099092128,
          0.46604748259650813,
          0.870538033993492,
          -0.3076273390858767,
          -0.6373079945184906,
          -2.7947216138514066,
          -0.17292019781564888,
          -0.39499343185230057,
          0.24523800994094805,
          -1.1832402670683073,
          -0.40296143593143285,
          -0.5591908391458149,
          -1.3476129340153435,
          1.5673381755636133,
          0.39947974935198255,
          -1.8527500230542786,
          2.1580101456879994,
          -0.16151710980984083,
          -0.8895491151507277,
          -0.48016846528115864,
          0.6700264562039298,
          0.061022762866370574
         ],
         "yaxis": "y14"
        },
        {
         "line": {
          "color": "rgba(128, 128, 128, 1.0)",
          "dash": "solid",
          "shape": "linear",
          "width": 1.3
         },
         "marker": {
          "size": 2,
          "symbol": "circle"
         },
         "mode": "markers",
         "name": "D",
         "text": "",
         "type": "scatter",
         "x": [
          -0.7607527958894249,
          -0.7070143252687979,
          0.9272012698020369,
          0.21914882286396423,
          -0.5179103247789255,
          0.356294717199559,
          -0.2913657335806063,
          0.615671650212997,
          1.6300437774432865,
          -1.20733047509803,
          0.10714857386872174,
          -0.14883163836968605,
          -0.029237448242223914,
          1.0729039566216991,
          -1.1208687152083543,
          0.18328250238357405,
          -0.4537255362327935,
          -0.6033429693845594,
          0.2665249871287445,
          -0.03717218388022126,
          -3.0129873267286196,
          0.20488215053479814,
          -0.1522152064044278,
          0.24185841532262767,
          1.6270732988046244,
          -1.1458764498876082,
          1.276796040856506,
          -0.28148875520174454,
          -0.548738343600119,
          1.380674930062003,
          0.33027139687782614,
          0.5004035180264748,
          -0.1347797094150288,
          -0.33163499606419433,
          -0.7542144755334065,
          0.09636309919988383,
          -0.49054727267449194,
          1.1245919947108491,
          -1.4744546293557332,
          1.9099381989317608,
          -0.7734262917901424,
          -0.9076017148870963,
          -1.8346876911266852,
          -0.6300906543082541,
          0.12820667190314397,
          0.6973881330482086,
          2.004260984196489,
          -0.13553405370576,
          -0.8816929537120686,
          -0.5394996298466653,
          -0.20718808979900927,
          -0.6939747402723065,
          -0.09758639711396831,
          -0.3566888455988846,
          -1.8083956716108365,
          -1.8158027509915093,
          -0.24860659462631232,
          1.332512790069765,
          2.378490943446098,
          1.0890638411756182,
          0.496340149119863,
          -2.275713946946364,
          0.609308109591509,
          0.8260824380473207,
          0.2855790139565881,
          -0.062158990419333204,
          -1.1170492187902588,
          2.2269374856204958,
          0.07058356586829277,
          -0.6980407327713735,
          -1.3018153526869747,
          -0.32361285815799123,
          -0.020598266162581688,
          -1.033214773184867,
          0.2384945575516058,
          -0.30115810030278967,
          -1.308698176806451,
          -0.5206390858316583,
          -0.12985117311091163,
          -1.2175111417431492,
          0.6614508703669855,
          0.3494092579677839,
          0.1860466978933607,
          0.7612711034216268,
          0.37045367429256126,
          -0.6491413856632087,
          -0.6060527423527244,
          -1.7137695802608415,
          0.3241242075283571,
          0.4614032109121203,
          -0.16105175922848006,
          -1.4345970307468745,
          -0.8369483552298032,
          -0.07387646107956655,
          -0.06657310181155189,
          0.16994610203755273,
          -0.2714894942090053,
          -1.1088759265257948,
          -0.004176668473154918,
          1.748833880230194
         ],
         "xaxis": "x15",
         "y": [
          0.1751742656209741,
          -0.448826153642509,
          0.5381820031835148,
          0.13244564930818603,
          -0.8900014593731652,
          -0.7047691983918308,
          -0.09990254288735409,
          1.4263274529609322,
          1.465754785817344,
          -0.7384106148318462,
          -1.9257248814183598,
          -1.0721059244982252,
          -0.7089368671559754,
          -0.49095766652426087,
          -1.0779027848109384,
          0.8245267819969098,
          0.048085897075888104,
          -0.07503722459542922,
          -1.7464684708684919,
          -1.3096171450164322,
          -0.9731600008029246,
          -1.2716768795489168,
          -0.8469465703877845,
          0.8259934110119476,
          1.3283555390186081,
          -0.4342034990219628,
          -0.4466879980049857,
          -0.7273986692745659,
          1.2054754634032374,
          -0.1572649646617977,
          -0.6028153073671625,
          0.3844046834517899,
          0.21837463947565822,
          -0.5353319895187307,
          -0.008699530471608843,
          0.7057881249989117,
          -1.2515029914813804,
          -1.140452391309678,
          -0.6877015990283953,
          0.1307615006942522,
          1.238281893532272,
          0.5355594464973679,
          -1.1109889675619573,
          -0.14808944756823528,
          1.1629125454319655,
          0.46648092168703986,
          0.13532924366300256,
          0.6586460674199206,
          -0.743819602647227,
          0.4189556145146561,
          0.3327266813154617,
          -0.859106315287156,
          0.48227535517326187,
          0.8222685585673679,
          -0.6689693042765702,
          1.1202239743167295,
          0.22917434892484292,
          -1.9424668679965322,
          0.9216792137482365,
          1.0855943615810264,
          0.6129005155889627,
          -0.9319676494837966,
          -0.2747626566829559,
          0.8178759920155547,
          -0.6319066271085185,
          0.811518648797966,
          -0.6268533658436848,
          0.5122933366767136,
          -0.2445246966092972,
          -0.9876770467575798,
          0.5252521957727393,
          -2.138622251999045,
          0.005887566403270622,
          0.7316110872017239,
          -1.3923674786636313,
          1.0187317999066703,
          -0.189227893385347,
          1.6982132335644515,
          -0.4460304099092128,
          0.46604748259650813,
          0.870538033993492,
          -0.3076273390858767,
          -0.6373079945184906,
          -2.7947216138514066,
          -0.17292019781564888,
          -0.39499343185230057,
          0.24523800994094805,
          -1.1832402670683073,
          -0.40296143593143285,
          -0.5591908391458149,
          -1.3476129340153435,
          1.5673381755636133,
          0.39947974935198255,
          -1.8527500230542786,
          2.1580101456879994,
          -0.16151710980984083,
          -0.8895491151507277,
          -0.48016846528115864,
          0.6700264562039298,
          0.061022762866370574
         ],
         "yaxis": "y15"
        },
        {
         "histfunc": "count",
         "histnorm": "",
         "marker": {
          "color": "rgba(128, 0, 128, 1.0)",
          "line": {
           "color": "#4D5663",
           "width": 1.3
          }
         },
         "name": "D",
         "nbinsx": 10,
         "opacity": 0.8,
         "orientation": "v",
         "type": "histogram",
         "x": [
          0.1751742656209741,
          -0.448826153642509,
          0.5381820031835148,
          0.13244564930818603,
          -0.8900014593731652,
          -0.7047691983918308,
          -0.09990254288735409,
          1.4263274529609322,
          1.465754785817344,
          -0.7384106148318462,
          -1.9257248814183598,
          -1.0721059244982252,
          -0.7089368671559754,
          -0.49095766652426087,
          -1.0779027848109384,
          0.8245267819969098,
          0.048085897075888104,
          -0.07503722459542922,
          -1.7464684708684919,
          -1.3096171450164322,
          -0.9731600008029246,
          -1.2716768795489168,
          -0.8469465703877845,
          0.8259934110119476,
          1.3283555390186081,
          -0.4342034990219628,
          -0.4466879980049857,
          -0.7273986692745659,
          1.2054754634032374,
          -0.1572649646617977,
          -0.6028153073671625,
          0.3844046834517899,
          0.21837463947565822,
          -0.5353319895187307,
          -0.008699530471608843,
          0.7057881249989117,
          -1.2515029914813804,
          -1.140452391309678,
          -0.6877015990283953,
          0.1307615006942522,
          1.238281893532272,
          0.5355594464973679,
          -1.1109889675619573,
          -0.14808944756823528,
          1.1629125454319655,
          0.46648092168703986,
          0.13532924366300256,
          0.6586460674199206,
          -0.743819602647227,
          0.4189556145146561,
          0.3327266813154617,
          -0.859106315287156,
          0.48227535517326187,
          0.8222685585673679,
          -0.6689693042765702,
          1.1202239743167295,
          0.22917434892484292,
          -1.9424668679965322,
          0.9216792137482365,
          1.0855943615810264,
          0.6129005155889627,
          -0.9319676494837966,
          -0.2747626566829559,
          0.8178759920155547,
          -0.6319066271085185,
          0.811518648797966,
          -0.6268533658436848,
          0.5122933366767136,
          -0.2445246966092972,
          -0.9876770467575798,
          0.5252521957727393,
          -2.138622251999045,
          0.005887566403270622,
          0.7316110872017239,
          -1.3923674786636313,
          1.0187317999066703,
          -0.189227893385347,
          1.6982132335644515,
          -0.4460304099092128,
          0.46604748259650813,
          0.870538033993492,
          -0.3076273390858767,
          -0.6373079945184906,
          -2.7947216138514066,
          -0.17292019781564888,
          -0.39499343185230057,
          0.24523800994094805,
          -1.1832402670683073,
          -0.40296143593143285,
          -0.5591908391458149,
          -1.3476129340153435,
          1.5673381755636133,
          0.39947974935198255,
          -1.8527500230542786,
          2.1580101456879994,
          -0.16151710980984083,
          -0.8895491151507277,
          -0.48016846528115864,
          0.6700264562039298,
          0.061022762866370574
         ],
         "xaxis": "x16",
         "yaxis": "y16"
        }
       ],
       "layout": {
        "autosize": true,
        "bargap": 0.02,
        "legend": {
         "bgcolor": "#F5F6F9",
         "font": {
          "color": "#4D5663"
         }
        },
        "paper_bgcolor": "#F5F6F9",
        "plot_bgcolor": "#F5F6F9",
        "showlegend": false,
        "template": {
         "data": {
          "bar": [
           {
            "error_x": {
             "color": "#2a3f5f"
            },
            "error_y": {
             "color": "#2a3f5f"
            },
            "marker": {
             "line": {
              "color": "#E5ECF6",
              "width": 0.5
             },
             "pattern": {
              "fillmode": "overlay",
              "size": 10,
              "solidity": 0.2
             }
            },
            "type": "bar"
           }
          ],
          "barpolar": [
           {
            "marker": {
             "line": {
              "color": "#E5ECF6",
              "width": 0.5
             },
             "pattern": {
              "fillmode": "overlay",
              "size": 10,
              "solidity": 0.2
             }
            },
            "type": "barpolar"
           }
          ],
          "carpet": [
           {
            "aaxis": {
             "endlinecolor": "#2a3f5f",
             "gridcolor": "white",
             "linecolor": "white",
             "minorgridcolor": "white",
             "startlinecolor": "#2a3f5f"
            },
            "baxis": {
             "endlinecolor": "#2a3f5f",
             "gridcolor": "white",
             "linecolor": "white",
             "minorgridcolor": "white",
             "startlinecolor": "#2a3f5f"
            },
            "type": "carpet"
           }
          ],
          "choropleth": [
           {
            "colorbar": {
             "outlinewidth": 0,
             "ticks": ""
            },
            "type": "choropleth"
           }
          ],
          "contour": [
           {
            "colorbar": {
             "outlinewidth": 0,
             "ticks": ""
            },
            "colorscale": [
             [
              0,
              "#0d0887"
             ],
             [
              0.1111111111111111,
              "#46039f"
             ],
             [
              0.2222222222222222,
              "#7201a8"
             ],
             [
              0.3333333333333333,
              "#9c179e"
             ],
             [
              0.4444444444444444,
              "#bd3786"
             ],
             [
              0.5555555555555556,
              "#d8576b"
             ],
             [
              0.6666666666666666,
              "#ed7953"
             ],
             [
              0.7777777777777778,
              "#fb9f3a"
             ],
             [
              0.8888888888888888,
              "#fdca26"
             ],
             [
              1,
              "#f0f921"
             ]
            ],
            "type": "contour"
           }
          ],
          "contourcarpet": [
           {
            "colorbar": {
             "outlinewidth": 0,
             "ticks": ""
            },
            "type": "contourcarpet"
           }
          ],
          "heatmap": [
           {
            "colorbar": {
             "outlinewidth": 0,
             "ticks": ""
            },
            "colorscale": [
             [
              0,
              "#0d0887"
             ],
             [
              0.1111111111111111,
              "#46039f"
             ],
             [
              0.2222222222222222,
              "#7201a8"
             ],
             [
              0.3333333333333333,
              "#9c179e"
             ],
             [
              0.4444444444444444,
              "#bd3786"
             ],
             [
              0.5555555555555556,
              "#d8576b"
             ],
             [
              0.6666666666666666,
              "#ed7953"
             ],
             [
              0.7777777777777778,
              "#fb9f3a"
             ],
             [
              0.8888888888888888,
              "#fdca26"
             ],
             [
              1,
              "#f0f921"
             ]
            ],
            "type": "heatmap"
           }
          ],
          "heatmapgl": [
           {
            "colorbar": {
             "outlinewidth": 0,
             "ticks": ""
            },
            "colorscale": [
             [
              0,
              "#0d0887"
             ],
             [
              0.1111111111111111,
              "#46039f"
             ],
             [
              0.2222222222222222,
              "#7201a8"
             ],
             [
              0.3333333333333333,
              "#9c179e"
             ],
             [
              0.4444444444444444,
              "#bd3786"
             ],
             [
              0.5555555555555556,
              "#d8576b"
             ],
             [
              0.6666666666666666,
              "#ed7953"
             ],
             [
              0.7777777777777778,
              "#fb9f3a"
             ],
             [
              0.8888888888888888,
              "#fdca26"
             ],
             [
              1,
              "#f0f921"
             ]
            ],
            "type": "heatmapgl"
           }
          ],
          "histogram": [
           {
            "marker": {
             "pattern": {
              "fillmode": "overlay",
              "size": 10,
              "solidity": 0.2
             }
            },
            "type": "histogram"
           }
          ],
          "histogram2d": [
           {
            "colorbar": {
             "outlinewidth": 0,
             "ticks": ""
            },
            "colorscale": [
             [
              0,
              "#0d0887"
             ],
             [
              0.1111111111111111,
              "#46039f"
             ],
             [
              0.2222222222222222,
              "#7201a8"
             ],
             [
              0.3333333333333333,
              "#9c179e"
             ],
             [
              0.4444444444444444,
              "#bd3786"
             ],
             [
              0.5555555555555556,
              "#d8576b"
             ],
             [
              0.6666666666666666,
              "#ed7953"
             ],
             [
              0.7777777777777778,
              "#fb9f3a"
             ],
             [
              0.8888888888888888,
              "#fdca26"
             ],
             [
              1,
              "#f0f921"
             ]
            ],
            "type": "histogram2d"
           }
          ],
          "histogram2dcontour": [
           {
            "colorbar": {
             "outlinewidth": 0,
             "ticks": ""
            },
            "colorscale": [
             [
              0,
              "#0d0887"
             ],
             [
              0.1111111111111111,
              "#46039f"
             ],
             [
              0.2222222222222222,
              "#7201a8"
             ],
             [
              0.3333333333333333,
              "#9c179e"
             ],
             [
              0.4444444444444444,
              "#bd3786"
             ],
             [
              0.5555555555555556,
              "#d8576b"
             ],
             [
              0.6666666666666666,
              "#ed7953"
             ],
             [
              0.7777777777777778,
              "#fb9f3a"
             ],
             [
              0.8888888888888888,
              "#fdca26"
             ],
             [
              1,
              "#f0f921"
             ]
            ],
            "type": "histogram2dcontour"
           }
          ],
          "mesh3d": [
           {
            "colorbar": {
             "outlinewidth": 0,
             "ticks": ""
            },
            "type": "mesh3d"
           }
          ],
          "parcoords": [
           {
            "line": {
             "colorbar": {
              "outlinewidth": 0,
              "ticks": ""
             }
            },
            "type": "parcoords"
           }
          ],
          "pie": [
           {
            "automargin": true,
            "type": "pie"
           }
          ],
          "scatter": [
           {
            "fillpattern": {
             "fillmode": "overlay",
             "size": 10,
             "solidity": 0.2
            },
            "type": "scatter"
           }
          ],
          "scatter3d": [
           {
            "line": {
             "colorbar": {
              "outlinewidth": 0,
              "ticks": ""
             }
            },
            "marker": {
             "colorbar": {
              "outlinewidth": 0,
              "ticks": ""
             }
            },
            "type": "scatter3d"
           }
          ],
          "scattercarpet": [
           {
            "marker": {
             "colorbar": {
              "outlinewidth": 0,
              "ticks": ""
             }
            },
            "type": "scattercarpet"
           }
          ],
          "scattergeo": [
           {
            "marker": {
             "colorbar": {
              "outlinewidth": 0,
              "ticks": ""
             }
            },
            "type": "scattergeo"
           }
          ],
          "scattergl": [
           {
            "marker": {
             "colorbar": {
              "outlinewidth": 0,
              "ticks": ""
             }
            },
            "type": "scattergl"
           }
          ],
          "scattermapbox": [
           {
            "marker": {
             "colorbar": {
              "outlinewidth": 0,
              "ticks": ""
             }
            },
            "type": "scattermapbox"
           }
          ],
          "scatterpolar": [
           {
            "marker": {
             "colorbar": {
              "outlinewidth": 0,
              "ticks": ""
             }
            },
            "type": "scatterpolar"
           }
          ],
          "scatterpolargl": [
           {
            "marker": {
             "colorbar": {
              "outlinewidth": 0,
              "ticks": ""
             }
            },
            "type": "scatterpolargl"
           }
          ],
          "scatterternary": [
           {
            "marker": {
             "colorbar": {
              "outlinewidth": 0,
              "ticks": ""
             }
            },
            "type": "scatterternary"
           }
          ],
          "surface": [
           {
            "colorbar": {
             "outlinewidth": 0,
             "ticks": ""
            },
            "colorscale": [
             [
              0,
              "#0d0887"
             ],
             [
              0.1111111111111111,
              "#46039f"
             ],
             [
              0.2222222222222222,
              "#7201a8"
             ],
             [
              0.3333333333333333,
              "#9c179e"
             ],
             [
              0.4444444444444444,
              "#bd3786"
             ],
             [
              0.5555555555555556,
              "#d8576b"
             ],
             [
              0.6666666666666666,
              "#ed7953"
             ],
             [
              0.7777777777777778,
              "#fb9f3a"
             ],
             [
              0.8888888888888888,
              "#fdca26"
             ],
             [
              1,
              "#f0f921"
             ]
            ],
            "type": "surface"
           }
          ],
          "table": [
           {
            "cells": {
             "fill": {
              "color": "#EBF0F8"
             },
             "line": {
              "color": "white"
             }
            },
            "header": {
             "fill": {
              "color": "#C8D4E3"
             },
             "line": {
              "color": "white"
             }
            },
            "type": "table"
           }
          ]
         },
         "layout": {
          "annotationdefaults": {
           "arrowcolor": "#2a3f5f",
           "arrowhead": 0,
           "arrowwidth": 1
          },
          "autotypenumbers": "strict",
          "coloraxis": {
           "colorbar": {
            "outlinewidth": 0,
            "ticks": ""
           }
          },
          "colorscale": {
           "diverging": [
            [
             0,
             "#8e0152"
            ],
            [
             0.1,
             "#c51b7d"
            ],
            [
             0.2,
             "#de77ae"
            ],
            [
             0.3,
             "#f1b6da"
            ],
            [
             0.4,
             "#fde0ef"
            ],
            [
             0.5,
             "#f7f7f7"
            ],
            [
             0.6,
             "#e6f5d0"
            ],
            [
             0.7,
             "#b8e186"
            ],
            [
             0.8,
             "#7fbc41"
            ],
            [
             0.9,
             "#4d9221"
            ],
            [
             1,
             "#276419"
            ]
           ],
           "sequential": [
            [
             0,
             "#0d0887"
            ],
            [
             0.1111111111111111,
             "#46039f"
            ],
            [
             0.2222222222222222,
             "#7201a8"
            ],
            [
             0.3333333333333333,
             "#9c179e"
            ],
            [
             0.4444444444444444,
             "#bd3786"
            ],
            [
             0.5555555555555556,
             "#d8576b"
            ],
            [
             0.6666666666666666,
             "#ed7953"
            ],
            [
             0.7777777777777778,
             "#fb9f3a"
            ],
            [
             0.8888888888888888,
             "#fdca26"
            ],
            [
             1,
             "#f0f921"
            ]
           ],
           "sequentialminus": [
            [
             0,
             "#0d0887"
            ],
            [
             0.1111111111111111,
             "#46039f"
            ],
            [
             0.2222222222222222,
             "#7201a8"
            ],
            [
             0.3333333333333333,
             "#9c179e"
            ],
            [
             0.4444444444444444,
             "#bd3786"
            ],
            [
             0.5555555555555556,
             "#d8576b"
            ],
            [
             0.6666666666666666,
             "#ed7953"
            ],
            [
             0.7777777777777778,
             "#fb9f3a"
            ],
            [
             0.8888888888888888,
             "#fdca26"
            ],
            [
             1,
             "#f0f921"
            ]
           ]
          },
          "colorway": [
           "#636efa",
           "#EF553B",
           "#00cc96",
           "#ab63fa",
           "#FFA15A",
           "#19d3f3",
           "#FF6692",
           "#B6E880",
           "#FF97FF",
           "#FECB52"
          ],
          "font": {
           "color": "#2a3f5f"
          },
          "geo": {
           "bgcolor": "white",
           "lakecolor": "white",
           "landcolor": "#E5ECF6",
           "showlakes": true,
           "showland": true,
           "subunitcolor": "white"
          },
          "hoverlabel": {
           "align": "left"
          },
          "hovermode": "closest",
          "mapbox": {
           "style": "light"
          },
          "paper_bgcolor": "white",
          "plot_bgcolor": "#E5ECF6",
          "polar": {
           "angularaxis": {
            "gridcolor": "white",
            "linecolor": "white",
            "ticks": ""
           },
           "bgcolor": "#E5ECF6",
           "radialaxis": {
            "gridcolor": "white",
            "linecolor": "white",
            "ticks": ""
           }
          },
          "scene": {
           "xaxis": {
            "backgroundcolor": "#E5ECF6",
            "gridcolor": "white",
            "gridwidth": 2,
            "linecolor": "white",
            "showbackground": true,
            "ticks": "",
            "zerolinecolor": "white"
           },
           "yaxis": {
            "backgroundcolor": "#E5ECF6",
            "gridcolor": "white",
            "gridwidth": 2,
            "linecolor": "white",
            "showbackground": true,
            "ticks": "",
            "zerolinecolor": "white"
           },
           "zaxis": {
            "backgroundcolor": "#E5ECF6",
            "gridcolor": "white",
            "gridwidth": 2,
            "linecolor": "white",
            "showbackground": true,
            "ticks": "",
            "zerolinecolor": "white"
           }
          },
          "shapedefaults": {
           "line": {
            "color": "#2a3f5f"
           }
          },
          "ternary": {
           "aaxis": {
            "gridcolor": "white",
            "linecolor": "white",
            "ticks": ""
           },
           "baxis": {
            "gridcolor": "white",
            "linecolor": "white",
            "ticks": ""
           },
           "bgcolor": "#E5ECF6",
           "caxis": {
            "gridcolor": "white",
            "linecolor": "white",
            "ticks": ""
           }
          },
          "title": {
           "x": 0.05
          },
          "xaxis": {
           "automargin": true,
           "gridcolor": "white",
           "linecolor": "white",
           "ticks": "",
           "title": {
            "standoff": 15
           },
           "zerolinecolor": "white",
           "zerolinewidth": 2
          },
          "yaxis": {
           "automargin": true,
           "gridcolor": "white",
           "linecolor": "white",
           "ticks": "",
           "title": {
            "standoff": 15
           },
           "zerolinecolor": "white",
           "zerolinewidth": 2
          }
         }
        },
        "title": {
         "font": {
          "color": "#4D5663"
         }
        },
        "xaxis": {
         "anchor": "y",
         "autorange": true,
         "domain": [
          0,
          0.2125
         ],
         "gridcolor": "#E1E5ED",
         "range": [
          -2.75,
          2.25
         ],
         "showgrid": false,
         "tickfont": {
          "color": "#4D5663"
         },
         "title": {
          "font": {
           "color": "#4D5663"
          },
          "text": ""
         },
         "type": "linear",
         "zerolinecolor": "#E1E5ED"
        },
        "xaxis10": {
         "anchor": "y10",
         "autorange": true,
         "domain": [
          0.2625,
          0.475
         ],
         "gridcolor": "#E1E5ED",
         "range": [
          -2.952301689507958,
          3.2988815043210815
         ],
         "showgrid": false,
         "tickfont": {
          "color": "#4D5663"
         },
         "title": {
          "font": {
           "color": "#4D5663"
          },
          "text": ""
         },
         "type": "linear",
         "zerolinecolor": "#E1E5ED"
        },
        "xaxis11": {
         "anchor": "y11",
         "autorange": true,
         "domain": [
          0.525,
          0.7375
         ],
         "gridcolor": "#E1E5ED",
         "range": [
          -4,
          3
         ],
         "showgrid": false,
         "tickfont": {
          "color": "#4D5663"
         },
         "title": {
          "font": {
           "color": "#4D5663"
          },
          "text": ""
         },
         "type": "linear",
         "zerolinecolor": "#E1E5ED"
        },
        "xaxis12": {
         "anchor": "y12",
         "autorange": true,
         "domain": [
          0.7875,
          1
         ],
         "gridcolor": "#E1E5ED",
         "range": [
          -3.164771704038228,
          2.528060235874821
         ],
         "showgrid": false,
         "tickfont": {
          "color": "#4D5663"
         },
         "title": {
          "font": {
           "color": "#4D5663"
          },
          "text": ""
         },
         "type": "linear",
         "zerolinecolor": "#E1E5ED"
        },
        "xaxis13": {
         "anchor": "y13",
         "autorange": true,
         "domain": [
          0,
          0.2125
         ],
         "gridcolor": "#E1E5ED",
         "range": [
          -3.0848900773686423,
          2.3545132918919234
         ],
         "showgrid": false,
         "tickfont": {
          "color": "#4D5663"
         },
         "title": {
          "font": {
           "color": "#4D5663"
          },
          "text": ""
         },
         "type": "linear",
         "zerolinecolor": "#E1E5ED"
        },
        "xaxis14": {
         "anchor": "y14",
         "autorange": true,
         "domain": [
          0.2625,
          0.475
         ],
         "gridcolor": "#E1E5ED",
         "range": [
          -2.952301689507958,
          3.2988815043210815
         ],
         "showgrid": false,
         "tickfont": {
          "color": "#4D5663"
         },
         "title": {
          "font": {
           "color": "#4D5663"
          },
          "text": ""
         },
         "type": "linear",
         "zerolinecolor": "#E1E5ED"
        },
        "xaxis15": {
         "anchor": "y15",
         "autorange": true,
         "domain": [
          0.525,
          0.7375
         ],
         "gridcolor": "#E1E5ED",
         "range": [
          -3.415818959246506,
          2.7813225759639844
         ],
         "showgrid": false,
         "tickfont": {
          "color": "#4D5663"
         },
         "title": {
          "font": {
           "color": "#4D5663"
          },
          "text": ""
         },
         "type": "linear",
         "zerolinecolor": "#E1E5ED"
        },
        "xaxis16": {
         "anchor": "y16",
         "autorange": true,
         "domain": [
          0.7875,
          1
         ],
         "gridcolor": "#E1E5ED",
         "range": [
          -3,
          2.5
         ],
         "showgrid": false,
         "tickfont": {
          "color": "#4D5663"
         },
         "title": {
          "font": {
           "color": "#4D5663"
          },
          "text": ""
         },
         "type": "linear",
         "zerolinecolor": "#E1E5ED"
        },
        "xaxis2": {
         "anchor": "y2",
         "autorange": true,
         "domain": [
          0.2625,
          0.475
         ],
         "gridcolor": "#E1E5ED",
         "range": [
          -2.952301689507958,
          3.2988815043210815
         ],
         "showgrid": false,
         "tickfont": {
          "color": "#4D5663"
         },
         "title": {
          "font": {
           "color": "#4D5663"
          },
          "text": ""
         },
         "type": "linear",
         "zerolinecolor": "#E1E5ED"
        },
        "xaxis3": {
         "anchor": "y3",
         "autorange": true,
         "domain": [
          0.525,
          0.7375
         ],
         "gridcolor": "#E1E5ED",
         "range": [
          -3.415818959246506,
          2.7813225759639844
         ],
         "showgrid": false,
         "tickfont": {
          "color": "#4D5663"
         },
         "title": {
          "font": {
           "color": "#4D5663"
          },
          "text": ""
         },
         "type": "linear",
         "zerolinecolor": "#E1E5ED"
        },
        "xaxis4": {
         "anchor": "y4",
         "autorange": true,
         "domain": [
          0.7875,
          1
         ],
         "gridcolor": "#E1E5ED",
         "range": [
          -3.164771704038228,
          2.528060235874821
         ],
         "showgrid": false,
         "tickfont": {
          "color": "#4D5663"
         },
         "title": {
          "font": {
           "color": "#4D5663"
          },
          "text": ""
         },
         "type": "linear",
         "zerolinecolor": "#E1E5ED"
        },
        "xaxis5": {
         "anchor": "y5",
         "autorange": true,
         "domain": [
          0,
          0.2125
         ],
         "gridcolor": "#E1E5ED",
         "range": [
          -3.0848900773686423,
          2.3545132918919234
         ],
         "showgrid": false,
         "tickfont": {
          "color": "#4D5663"
         },
         "title": {
          "font": {
           "color": "#4D5663"
          },
          "text": ""
         },
         "type": "linear",
         "zerolinecolor": "#E1E5ED"
        },
        "xaxis6": {
         "anchor": "y6",
         "autorange": true,
         "domain": [
          0.2625,
          0.475
         ],
         "gridcolor": "#E1E5ED",
         "range": [
          -3,
          3
         ],
         "showgrid": false,
         "tickfont": {
          "color": "#4D5663"
         },
         "title": {
          "font": {
           "color": "#4D5663"
          },
          "text": ""
         },
         "type": "linear",
         "zerolinecolor": "#E1E5ED"
        },
        "xaxis7": {
         "anchor": "y7",
         "autorange": true,
         "domain": [
          0.525,
          0.7375
         ],
         "gridcolor": "#E1E5ED",
         "range": [
          -3.415818959246506,
          2.7813225759639844
         ],
         "showgrid": false,
         "tickfont": {
          "color": "#4D5663"
         },
         "title": {
          "font": {
           "color": "#4D5663"
          },
          "text": ""
         },
         "type": "linear",
         "zerolinecolor": "#E1E5ED"
        },
        "xaxis8": {
         "anchor": "y8",
         "autorange": true,
         "domain": [
          0.7875,
          1
         ],
         "gridcolor": "#E1E5ED",
         "range": [
          -3.164771704038228,
          2.528060235874821
         ],
         "showgrid": false,
         "tickfont": {
          "color": "#4D5663"
         },
         "title": {
          "font": {
           "color": "#4D5663"
          },
          "text": ""
         },
         "type": "linear",
         "zerolinecolor": "#E1E5ED"
        },
        "xaxis9": {
         "anchor": "y9",
         "autorange": true,
         "domain": [
          0,
          0.2125
         ],
         "gridcolor": "#E1E5ED",
         "range": [
          -3.0848900773686423,
          2.3545132918919234
         ],
         "showgrid": false,
         "tickfont": {
          "color": "#4D5663"
         },
         "title": {
          "font": {
           "color": "#4D5663"
          },
          "text": ""
         },
         "type": "linear",
         "zerolinecolor": "#E1E5ED"
        },
        "yaxis": {
         "anchor": "x",
         "autorange": true,
         "domain": [
          0.8025,
          1
         ],
         "gridcolor": "#E1E5ED",
         "range": [
          0,
          25.263157894736842
         ],
         "showgrid": false,
         "tickfont": {
          "color": "#4D5663"
         },
         "title": {
          "font": {
           "color": "#4D5663"
          },
          "text": ""
         },
         "zerolinecolor": "#E1E5ED"
        },
        "yaxis10": {
         "anchor": "x10",
         "autorange": true,
         "domain": [
          0.2675,
          0.465
         ],
         "gridcolor": "#E1E5ED",
         "range": [
          -4.003862011697256,
          3.3693656284147346
         ],
         "showgrid": false,
         "tickfont": {
          "color": "#4D5663"
         },
         "title": {
          "font": {
           "color": "#4D5663"
          },
          "text": ""
         },
         "type": "linear",
         "zerolinecolor": "#E1E5ED"
        },
        "yaxis11": {
         "anchor": "x11",
         "autorange": true,
         "domain": [
          0.2675,
          0.465
         ],
         "gridcolor": "#E1E5ED",
         "range": [
          0,
          44.21052631578947
         ],
         "showgrid": false,
         "tickfont": {
          "color": "#4D5663"
         },
         "title": {
          "font": {
           "color": "#4D5663"
          },
          "text": ""
         },
         "zerolinecolor": "#E1E5ED"
        },
        "yaxis12": {
         "anchor": "x12",
         "autorange": true,
         "domain": [
          0.2675,
          0.465
         ],
         "gridcolor": "#E1E5ED",
         "range": [
          -4.003862011697256,
          3.3693656284147346
         ],
         "showgrid": false,
         "tickfont": {
          "color": "#4D5663"
         },
         "title": {
          "font": {
           "color": "#4D5663"
          },
          "text": ""
         },
         "type": "linear",
         "zerolinecolor": "#E1E5ED"
        },
        "yaxis13": {
         "anchor": "x13",
         "autorange": true,
         "domain": [
          0,
          0.1975
         ],
         "gridcolor": "#E1E5ED",
         "range": [
          -3.7049611207257866,
          3.0682496525623795
         ],
         "showgrid": false,
         "tickfont": {
          "color": "#4D5663"
         },
         "title": {
          "font": {
           "color": "#4D5663"
          },
          "text": ""
         },
         "type": "linear",
         "zerolinecolor": "#E1E5ED"
        },
        "yaxis14": {
         "anchor": "x14",
         "autorange": true,
         "domain": [
          0,
          0.1975
         ],
         "gridcolor": "#E1E5ED",
         "range": [
          -3.7049611207257866,
          3.0682496525623795
         ],
         "showgrid": false,
         "tickfont": {
          "color": "#4D5663"
         },
         "title": {
          "font": {
           "color": "#4D5663"
          },
          "text": ""
         },
         "type": "linear",
         "zerolinecolor": "#E1E5ED"
        },
        "yaxis15": {
         "anchor": "x15",
         "autorange": true,
         "domain": [
          0,
          0.1975
         ],
         "gridcolor": "#E1E5ED",
         "range": [
          -3.7049611207257866,
          3.0682496525623795
         ],
         "showgrid": false,
         "tickfont": {
          "color": "#4D5663"
         },
         "title": {
          "font": {
           "color": "#4D5663"
          },
          "text": ""
         },
         "type": "linear",
         "zerolinecolor": "#E1E5ED"
        },
        "yaxis16": {
         "anchor": "x16",
         "autorange": true,
         "domain": [
          0,
          0.1975
         ],
         "gridcolor": "#E1E5ED",
         "range": [
          0,
          21.05263157894737
         ],
         "showgrid": false,
         "tickfont": {
          "color": "#4D5663"
         },
         "title": {
          "font": {
           "color": "#4D5663"
          },
          "text": ""
         },
         "zerolinecolor": "#E1E5ED"
        },
        "yaxis2": {
         "anchor": "x2",
         "autorange": true,
         "domain": [
          0.8025,
          1
         ],
         "gridcolor": "#E1E5ED",
         "range": [
          -3.601031808616392,
          2.870655023139673
         ],
         "showgrid": false,
         "tickfont": {
          "color": "#4D5663"
         },
         "title": {
          "font": {
           "color": "#4D5663"
          },
          "text": ""
         },
         "type": "linear",
         "zerolinecolor": "#E1E5ED"
        },
        "yaxis3": {
         "anchor": "x3",
         "autorange": true,
         "domain": [
          0.8025,
          1
         ],
         "gridcolor": "#E1E5ED",
         "range": [
          -3.601031808616392,
          2.870655023139673
         ],
         "showgrid": false,
         "tickfont": {
          "color": "#4D5663"
         },
         "title": {
          "font": {
           "color": "#4D5663"
          },
          "text": ""
         },
         "type": "linear",
         "zerolinecolor": "#E1E5ED"
        },
        "yaxis4": {
         "anchor": "x4",
         "autorange": true,
         "domain": [
          0.8025,
          1
         ],
         "gridcolor": "#E1E5ED",
         "range": [
          -3.601031808616392,
          2.870655023139673
         ],
         "showgrid": false,
         "tickfont": {
          "color": "#4D5663"
         },
         "title": {
          "font": {
           "color": "#4D5663"
          },
          "text": ""
         },
         "type": "linear",
         "zerolinecolor": "#E1E5ED"
        },
        "yaxis5": {
         "anchor": "x5",
         "autorange": true,
         "domain": [
          0.535,
          0.7325
         ],
         "gridcolor": "#E1E5ED",
         "range": [
          -3.545472722611239,
          3.8920525374243624
         ],
         "showgrid": false,
         "tickfont": {
          "color": "#4D5663"
         },
         "title": {
          "font": {
           "color": "#4D5663"
          },
          "text": ""
         },
         "type": "linear",
         "zerolinecolor": "#E1E5ED"
        },
        "yaxis6": {
         "anchor": "x6",
         "autorange": true,
         "domain": [
          0.535,
          0.7325
         ],
         "gridcolor": "#E1E5ED",
         "range": [
          0,
          33.68421052631579
         ],
         "showgrid": false,
         "tickfont": {
          "color": "#4D5663"
         },
         "title": {
          "font": {
           "color": "#4D5663"
          },
          "text": ""
         },
         "zerolinecolor": "#E1E5ED"
        },
        "yaxis7": {
         "anchor": "x7",
         "autorange": true,
         "domain": [
          0.535,
          0.7325
         ],
         "gridcolor": "#E1E5ED",
         "range": [
          -3.545472722611239,
          3.8920525374243624
         ],
         "showgrid": false,
         "tickfont": {
          "color": "#4D5663"
         },
         "title": {
          "font": {
           "color": "#4D5663"
          },
          "text": ""
         },
         "type": "linear",
         "zerolinecolor": "#E1E5ED"
        },
        "yaxis8": {
         "anchor": "x8",
         "autorange": true,
         "domain": [
          0.535,
          0.7325
         ],
         "gridcolor": "#E1E5ED",
         "range": [
          -3.545472722611239,
          3.8920525374243624
         ],
         "showgrid": false,
         "tickfont": {
          "color": "#4D5663"
         },
         "title": {
          "font": {
           "color": "#4D5663"
          },
          "text": ""
         },
         "type": "linear",
         "zerolinecolor": "#E1E5ED"
        },
        "yaxis9": {
         "anchor": "x9",
         "autorange": true,
         "domain": [
          0.2675,
          0.465
         ],
         "gridcolor": "#E1E5ED",
         "range": [
          -4.003862011697256,
          3.3693656284147346
         ],
         "showgrid": false,
         "tickfont": {
          "color": "#4D5663"
         },
         "title": {
          "font": {
           "color": "#4D5663"
          },
          "text": ""
         },
         "type": "linear",
         "zerolinecolor": "#E1E5ED"
        }
       }
      },
      "image/png": "[encoded data removed]",
      "text/html": [
       "<div>                            <div id=\"9127fadd-f9cf-4da1-9c0b-93b033f956f5\" class=\"plotly-graph-div\" style=\"height:525px; width:100%;\"></div>            <script type=\"text/javascript\">                require([\"plotly\"], function(Plotly) {                    window.PLOTLYENV=window.PLOTLYENV || {};\n",
       "                    window.PLOTLYENV.BASE_URL='https://plot.ly';                                    if (document.getElementById(\"9127fadd-f9cf-4da1-9c0b-93b033f956f5\")) {                    Plotly.newPlot(                        \"9127fadd-f9cf-4da1-9c0b-93b033f956f5\",                        [{\"histfunc\":\"count\",\"histnorm\":\"\",\"marker\":{\"color\":\"rgba(255, 153, 51, 1.0)\",\"line\":{\"color\":\"#4D5663\",\"width\":1.3}},\"name\":\"A\",\"nbinsx\":10,\"opacity\":0.8,\"orientation\":\"v\",\"x\":[-0.014182249911513891,-0.7990367681886373,0.6591194910503083,1.998829472768256,1.354928704711035,-0.1371167194422425,0.4333354482330215,0.49267447183888413,1.3858792197389416,0.4676724923040728,0.4849888456465899,0.45149705620233,-0.1063775758913652,-0.6451185663551487,0.8357224494240874,0.05850278298606873,-0.6878280364420764,-1.0745550632638445,-1.5078604397890385,0.40661572837594684,0.9800238409731928,-1.6325091262235363,0.1631019706498342,1.4448137969722203,0.02513391270452852,0.9547946954988611,-1.0563585853877604,-1.3142901401847198,-0.25331664335336507,-1.4879385617072196,1.7470695903409454,-0.48379885894116165,-0.9241938987777035,0.365712246098989,1.221561139279699,1.1752904012641878,-1.0893692935961712,0.05496551530451065,-0.2176827297418758,-0.0657386185768375,1.562769039489702,0.13189295528231632,-0.4496554338022613,1.039717915533698,0.6661633287497195,1.0294163558425313,0.10459497547037343,-0.6486758199813077,-0.35946559697843306,-0.7791403957659999,-0.7131422295621813,0.3530266789979288,-0.5850582350435681,-1.228669369831788,-0.18193668990025463,-1.2251158115222835,-2.7313135571757563,-1.3901611885307172,-0.7668234576924771,-0.2740656808576659,1.667691642371268,0.09675804750002247,-0.3993649557252148,1.484220094919042,-0.07901652159766895,-0.26975354473237967,0.605978939676668,0.008585745532567687,-0.49986280262070976,0.7050757224054496,-0.9825443837523973,-0.4903160744754752,1.375276764445953,0.12104979745920955,1.4824150417639876,0.2884732149437047,1.0647981187455822,-0.27941567866192923,-0.9575609575401136,0.5646814456783594,0.08480759312596246,0.5456752792982241,0.04474730044409539,0.3449381645647911,1.0989196536617412,2.0009367716990374,-0.10649601834445481,-0.9948925083156563,-1.507843017905901,-0.04914540079233849,0.0015998307786427317,0.08871540715131175,-0.09513443320348569,1.3884170241785447,-0.6375754053537689,0.5353090243952152,0.5058531399900315,0.0039000720093066215,1.6856477147167694,1.0788626909510945],\"xaxis\":\"x\",\"yaxis\":\"y\",\"type\":\"histogram\"},{\"line\":{\"color\":\"rgba(128, 128, 128, 1.0)\",\"dash\":\"solid\",\"shape\":\"linear\",\"width\":1.3},\"marker\":{\"size\":2,\"symbol\":\"circle\"},\"mode\":\"markers\",\"name\":\"A\",\"text\":\"\",\"x\":[-1.1379320218666829,-0.3695042688257674,0.33366871400295456,1.0388735929418678,0.4271828843031716,-0.498185936402757,-0.20908624076388696,0.2712791092204782,0.21699706993337786,1.1988640269829076,0.5794566696633838,-2.051357618538235,-0.015027646709790503,-0.13221573801207778,0.663055581637253,2.2383145058851217,-0.32920285387233467,1.305488093081794,-0.6770237846293955,1.5655678252443213,-0.1579011544726716,0.21253336637012768,1.1127389828320329,-1.5672990177125192,0.7781963063214641,1.7853350454924075,-1.1710195851309133,0.686719657893707,-0.20731900062966677,1.4307503635162753,-0.9158903433533209,1.4420737367040473,-0.6068242423956323,1.0694813209111613,0.3237652489496514,0.18727889105942838,1.2922354443050938,0.6274525703991168,1.014431538504958,1.3987744470969865,0.4513588324569339,-1.021846300012986,-1.6695027698585916,1.0018097405277842,0.42609150355890035,1.1071846053066323,-0.1509182629517138,0.20295227502422822,1.4490271833804298,0.2893929835183492,0.7332741959247728,-0.7239745282733993,-2.4359443821545694,-0.274108614919312,-0.713459983647737,-0.2231215265407797,-0.4897121400859348,0.042540095384265224,0.7230329717255355,0.5938328429046061,0.7980677149641997,-1.5370942848965226,-1.0470516457159909,-0.622083709673778,-0.6408476173310118,-0.7310692143925597,2.0558686601072846,0.941521271821865,0.2797069863850723,-1.1987566877959244,-0.6453513323275131,0.00618299715917338,-0.9449907125758524,-1.0429632720499713,-0.9432951353119565,-0.18431998387115714,0.19706282189587646,1.4093428173112086,-2.5459571971591974,0.9714641272638906,1.3195027949623213,1.518096459438159,2.892537011972321,1.4002055331345225,-0.3066405837306535,-1.5162024282645241,1.1028718578803822,1.7491202039361544,-0.7352743952166807,-1.1327003719731012,-0.3439921897436451,-0.8142699493133557,-0.8421420831214147,-2.3611782096734317,0.5399222287331542,-0.45479909963011805,-0.3820645712895226,-1.557072716269298,-0.4549434306878188,0.5782397452939635],\"xaxis\":\"x2\",\"y\":[-0.014182249911513891,-0.7990367681886373,0.6591194910503083,1.998829472768256,1.354928704711035,-0.1371167194422425,0.4333354482330215,0.49267447183888413,1.3858792197389416,0.4676724923040728,0.4849888456465899,0.45149705620233,-0.1063775758913652,-0.6451185663551487,0.8357224494240874,0.05850278298606873,-0.6878280364420764,-1.0745550632638445,-1.5078604397890385,0.40661572837594684,0.9800238409731928,-1.6325091262235363,0.1631019706498342,1.4448137969722203,0.02513391270452852,0.9547946954988611,-1.0563585853877604,-1.3142901401847198,-0.25331664335336507,-1.4879385617072196,1.7470695903409454,-0.48379885894116165,-0.9241938987777035,0.365712246098989,1.221561139279699,1.1752904012641878,-1.0893692935961712,0.05496551530451065,-0.2176827297418758,-0.0657386185768375,1.562769039489702,0.13189295528231632,-0.4496554338022613,1.039717915533698,0.6661633287497195,1.0294163558425313,0.10459497547037343,-0.6486758199813077,-0.35946559697843306,-0.7791403957659999,-0.7131422295621813,0.3530266789979288,-0.5850582350435681,-1.228669369831788,-0.18193668990025463,-1.2251158115222835,-2.7313135571757563,-1.3901611885307172,-0.7668234576924771,-0.2740656808576659,1.667691642371268,0.09675804750002247,-0.3993649557252148,1.484220094919042,-0.07901652159766895,-0.26975354473237967,0.605978939676668,0.008585745532567687,-0.49986280262070976,0.7050757224054496,-0.9825443837523973,-0.4903160744754752,1.375276764445953,0.12104979745920955,1.4824150417639876,0.2884732149437047,1.0647981187455822,-0.27941567866192923,-0.9575609575401136,0.5646814456783594,0.08480759312596246,0.5456752792982241,0.04474730044409539,0.3449381645647911,1.0989196536617412,2.0009367716990374,-0.10649601834445481,-0.9948925083156563,-1.507843017905901,-0.04914540079233849,0.0015998307786427317,0.08871540715131175,-0.09513443320348569,1.3884170241785447,-0.6375754053537689,0.5353090243952152,0.5058531399900315,0.0039000720093066215,1.6856477147167694,1.0788626909510945],\"yaxis\":\"y2\",\"type\":\"scatter\"},{\"line\":{\"color\":\"rgba(128, 128, 128, 1.0)\",\"dash\":\"solid\",\"shape\":\"linear\",\"width\":1.3},\"marker\":{\"size\":2,\"symbol\":\"circle\"},\"mode\":\"markers\",\"name\":\"A\",\"text\":\"\",\"x\":[-0.7607527958894249,-0.7070143252687979,0.9272012698020369,0.21914882286396423,-0.5179103247789255,0.356294717199559,-0.2913657335806063,0.615671650212997,1.6300437774432865,-1.20733047509803,0.10714857386872174,-0.14883163836968605,-0.029237448242223914,1.0729039566216991,-1.1208687152083543,0.18328250238357405,-0.4537255362327935,-0.6033429693845594,0.2665249871287445,-0.03717218388022126,-3.0129873267286196,0.20488215053479814,-0.1522152064044278,0.24185841532262767,1.6270732988046244,-1.1458764498876082,1.276796040856506,-0.28148875520174454,-0.548738343600119,1.380674930062003,0.33027139687782614,0.5004035180264748,-0.1347797094150288,-0.33163499606419433,-0.7542144755334065,0.09636309919988383,-0.49054727267449194,1.1245919947108491,-1.4744546293557332,1.9099381989317608,-0.7734262917901424,-0.9076017148870963,-1.8346876911266852,-0.6300906543082541,0.12820667190314397,0.6973881330482086,2.004260984196489,-0.13553405370576,-0.8816929537120686,-0.5394996298466653,-0.20718808979900927,-0.6939747402723065,-0.09758639711396831,-0.3566888455988846,-1.8083956716108365,-1.8158027509915093,-0.24860659462631232,1.332512790069765,2.378490943446098,1.0890638411756182,0.496340149119863,-2.275713946946364,0.609308109591509,0.8260824380473207,0.2855790139565881,-0.062158990419333204,-1.1170492187902588,2.2269374856204958,0.07058356586829277,-0.6980407327713735,-1.3018153526869747,-0.32361285815799123,-0.020598266162581688,-1.033214773184867,0.2384945575516058,-0.30115810030278967,-1.308698176806451,-0.5206390858316583,-0.12985117311091163,-1.2175111417431492,0.6614508703669855,0.3494092579677839,0.1860466978933607,0.7612711034216268,0.37045367429256126,-0.6491413856632087,-0.6060527423527244,-1.7137695802608415,0.3241242075283571,0.4614032109121203,-0.16105175922848006,-1.4345970307468745,-0.8369483552298032,-0.07387646107956655,-0.06657310181155189,0.16994610203755273,-0.2714894942090053,-1.1088759265257948,-0.004176668473154918,1.748833880230194],\"xaxis\":\"x3\",\"y\":[-0.014182249911513891,-0.7990367681886373,0.6591194910503083,1.998829472768256,1.354928704711035,-0.1371167194422425,0.4333354482330215,0.49267447183888413,1.3858792197389416,0.4676724923040728,0.4849888456465899,0.45149705620233,-0.1063775758913652,-0.6451185663551487,0.8357224494240874,0.05850278298606873,-0.6878280364420764,-1.0745550632638445,-1.5078604397890385,0.40661572837594684,0.9800238409731928,-1.6325091262235363,0.1631019706498342,1.4448137969722203,0.02513391270452852,0.9547946954988611,-1.0563585853877604,-1.3142901401847198,-0.25331664335336507,-1.4879385617072196,1.7470695903409454,-0.48379885894116165,-0.9241938987777035,0.365712246098989,1.221561139279699,1.1752904012641878,-1.0893692935961712,0.05496551530451065,-0.2176827297418758,-0.0657386185768375,1.562769039489702,0.13189295528231632,-0.4496554338022613,1.039717915533698,0.6661633287497195,1.0294163558425313,0.10459497547037343,-0.6486758199813077,-0.35946559697843306,-0.7791403957659999,-0.7131422295621813,0.3530266789979288,-0.5850582350435681,-1.228669369831788,-0.18193668990025463,-1.2251158115222835,-2.7313135571757563,-1.3901611885307172,-0.7668234576924771,-0.2740656808576659,1.667691642371268,0.09675804750002247,-0.3993649557252148,1.484220094919042,-0.07901652159766895,-0.26975354473237967,0.605978939676668,0.008585745532567687,-0.49986280262070976,0.7050757224054496,-0.9825443837523973,-0.4903160744754752,1.375276764445953,0.12104979745920955,1.4824150417639876,0.2884732149437047,1.0647981187455822,-0.27941567866192923,-0.9575609575401136,0.5646814456783594,0.08480759312596246,0.5456752792982241,0.04474730044409539,0.3449381645647911,1.0989196536617412,2.0009367716990374,-0.10649601834445481,-0.9948925083156563,-1.507843017905901,-0.04914540079233849,0.0015998307786427317,0.08871540715131175,-0.09513443320348569,1.3884170241785447,-0.6375754053537689,0.5353090243952152,0.5058531399900315,0.0039000720093066215,1.6856477147167694,1.0788626909510945],\"yaxis\":\"y3\",\"type\":\"scatter\"},{\"line\":{\"color\":\"rgba(128, 128, 128, 1.0)\",\"dash\":\"solid\",\"shape\":\"linear\",\"width\":1.3},\"marker\":{\"size\":2,\"symbol\":\"circle\"},\"mode\":\"markers\",\"name\":\"A\",\"text\":\"\",\"x\":[0.1751742656209741,-0.448826153642509,0.5381820031835148,0.13244564930818603,-0.8900014593731652,-0.7047691983918308,-0.09990254288735409,1.4263274529609322,1.465754785817344,-0.7384106148318462,-1.9257248814183598,-1.0721059244982252,-0.7089368671559754,-0.49095766652426087,-1.0779027848109384,0.8245267819969098,0.048085897075888104,-0.07503722459542922,-1.7464684708684919,-1.3096171450164322,-0.9731600008029246,-1.2716768795489168,-0.8469465703877845,0.8259934110119476,1.3283555390186081,-0.4342034990219628,-0.4466879980049857,-0.7273986692745659,1.2054754634032374,-0.1572649646617977,-0.6028153073671625,0.3844046834517899,0.21837463947565822,-0.5353319895187307,-0.008699530471608843,0.7057881249989117,-1.2515029914813804,-1.140452391309678,-0.6877015990283953,0.1307615006942522,1.238281893532272,0.5355594464973679,-1.1109889675619573,-0.14808944756823528,1.1629125454319655,0.46648092168703986,0.13532924366300256,0.6586460674199206,-0.743819602647227,0.4189556145146561,0.3327266813154617,-0.859106315287156,0.48227535517326187,0.8222685585673679,-0.6689693042765702,1.1202239743167295,0.22917434892484292,-1.9424668679965322,0.9216792137482365,1.0855943615810264,0.6129005155889627,-0.9319676494837966,-0.2747626566829559,0.8178759920155547,-0.6319066271085185,0.811518648797966,-0.6268533658436848,0.5122933366767136,-0.2445246966092972,-0.9876770467575798,0.5252521957727393,-2.138622251999045,0.005887566403270622,0.7316110872017239,-1.3923674786636313,1.0187317999066703,-0.189227893385347,1.6982132335644515,-0.4460304099092128,0.46604748259650813,0.870538033993492,-0.3076273390858767,-0.6373079945184906,-2.7947216138514066,-0.17292019781564888,-0.39499343185230057,0.24523800994094805,-1.1832402670683073,-0.40296143593143285,-0.5591908391458149,-1.3476129340153435,1.5673381755636133,0.39947974935198255,-1.8527500230542786,2.1580101456879994,-0.16151710980984083,-0.8895491151507277,-0.48016846528115864,0.6700264562039298,0.061022762866370574],\"xaxis\":\"x4\",\"y\":[-0.014182249911513891,-0.7990367681886373,0.6591194910503083,1.998829472768256,1.354928704711035,-0.1371167194422425,0.4333354482330215,0.49267447183888413,1.3858792197389416,0.4676724923040728,0.4849888456465899,0.45149705620233,-0.1063775758913652,-0.6451185663551487,0.8357224494240874,0.05850278298606873,-0.6878280364420764,-1.0745550632638445,-1.5078604397890385,0.40661572837594684,0.9800238409731928,-1.6325091262235363,0.1631019706498342,1.4448137969722203,0.02513391270452852,0.9547946954988611,-1.0563585853877604,-1.3142901401847198,-0.25331664335336507,-1.4879385617072196,1.7470695903409454,-0.48379885894116165,-0.9241938987777035,0.365712246098989,1.221561139279699,1.1752904012641878,-1.0893692935961712,0.05496551530451065,-0.2176827297418758,-0.0657386185768375,1.562769039489702,0.13189295528231632,-0.4496554338022613,1.039717915533698,0.6661633287497195,1.0294163558425313,0.10459497547037343,-0.6486758199813077,-0.35946559697843306,-0.7791403957659999,-0.7131422295621813,0.3530266789979288,-0.5850582350435681,-1.228669369831788,-0.18193668990025463,-1.2251158115222835,-2.7313135571757563,-1.3901611885307172,-0.7668234576924771,-0.2740656808576659,1.667691642371268,0.09675804750002247,-0.3993649557252148,1.484220094919042,-0.07901652159766895,-0.26975354473237967,0.605978939676668,0.008585745532567687,-0.49986280262070976,0.7050757224054496,-0.9825443837523973,-0.4903160744754752,1.375276764445953,0.12104979745920955,1.4824150417639876,0.2884732149437047,1.0647981187455822,-0.27941567866192923,-0.9575609575401136,0.5646814456783594,0.08480759312596246,0.5456752792982241,0.04474730044409539,0.3449381645647911,1.0989196536617412,2.0009367716990374,-0.10649601834445481,-0.9948925083156563,-1.507843017905901,-0.04914540079233849,0.0015998307786427317,0.08871540715131175,-0.09513443320348569,1.3884170241785447,-0.6375754053537689,0.5353090243952152,0.5058531399900315,0.0039000720093066215,1.6856477147167694,1.0788626909510945],\"yaxis\":\"y4\",\"type\":\"scatter\"},{\"line\":{\"color\":\"rgba(128, 128, 128, 1.0)\",\"dash\":\"solid\",\"shape\":\"linear\",\"width\":1.3},\"marker\":{\"size\":2,\"symbol\":\"circle\"},\"mode\":\"markers\",\"name\":\"B\",\"text\":\"\",\"x\":[-0.014182249911513891,-0.7990367681886373,0.6591194910503083,1.998829472768256,1.354928704711035,-0.1371167194422425,0.4333354482330215,0.49267447183888413,1.3858792197389416,0.4676724923040728,0.4849888456465899,0.45149705620233,-0.1063775758913652,-0.6451185663551487,0.8357224494240874,0.05850278298606873,-0.6878280364420764,-1.0745550632638445,-1.5078604397890385,0.40661572837594684,0.9800238409731928,-1.6325091262235363,0.1631019706498342,1.4448137969722203,0.02513391270452852,0.9547946954988611,-1.0563585853877604,-1.3142901401847198,-0.25331664335336507,-1.4879385617072196,1.7470695903409454,-0.48379885894116165,-0.9241938987777035,0.365712246098989,1.221561139279699,1.1752904012641878,-1.0893692935961712,0.05496551530451065,-0.2176827297418758,-0.0657386185768375,1.562769039489702,0.13189295528231632,-0.4496554338022613,1.039717915533698,0.6661633287497195,1.0294163558425313,0.10459497547037343,-0.6486758199813077,-0.35946559697843306,-0.7791403957659999,-0.7131422295621813,0.3530266789979288,-0.5850582350435681,-1.228669369831788,-0.18193668990025463,-1.2251158115222835,-2.7313135571757563,-1.3901611885307172,-0.7668234576924771,-0.2740656808576659,1.667691642371268,0.09675804750002247,-0.3993649557252148,1.484220094919042,-0.07901652159766895,-0.26975354473237967,0.605978939676668,0.008585745532567687,-0.49986280262070976,0.7050757224054496,-0.9825443837523973,-0.4903160744754752,1.375276764445953,0.12104979745920955,1.4824150417639876,0.2884732149437047,1.0647981187455822,-0.27941567866192923,-0.9575609575401136,0.5646814456783594,0.08480759312596246,0.5456752792982241,0.04474730044409539,0.3449381645647911,1.0989196536617412,2.0009367716990374,-0.10649601834445481,-0.9948925083156563,-1.507843017905901,-0.04914540079233849,0.0015998307786427317,0.08871540715131175,-0.09513443320348569,1.3884170241785447,-0.6375754053537689,0.5353090243952152,0.5058531399900315,0.0039000720093066215,1.6856477147167694,1.0788626909510945],\"xaxis\":\"x5\",\"y\":[-1.1379320218666829,-0.3695042688257674,0.33366871400295456,1.0388735929418678,0.4271828843031716,-0.498185936402757,-0.20908624076388696,0.2712791092204782,0.21699706993337786,1.1988640269829076,0.5794566696633838,-2.051357618538235,-0.015027646709790503,-0.13221573801207778,0.663055581637253,2.2383145058851217,-0.32920285387233467,1.305488093081794,-0.6770237846293955,1.5655678252443213,-0.1579011544726716,0.21253336637012768,1.1127389828320329,-1.5672990177125192,0.7781963063214641,1.7853350454924075,-1.1710195851309133,0.686719657893707,-0.20731900062966677,1.4307503635162753,-0.9158903433533209,1.4420737367040473,-0.6068242423956323,1.0694813209111613,0.3237652489496514,0.18727889105942838,1.2922354443050938,0.6274525703991168,1.014431538504958,1.3987744470969865,0.4513588324569339,-1.021846300012986,-1.6695027698585916,1.0018097405277842,0.42609150355890035,1.1071846053066323,-0.1509182629517138,0.20295227502422822,1.4490271833804298,0.2893929835183492,0.7332741959247728,-0.7239745282733993,-2.4359443821545694,-0.274108614919312,-0.713459983647737,-0.2231215265407797,-0.4897121400859348,0.042540095384265224,0.7230329717255355,0.5938328429046061,0.7980677149641997,-1.5370942848965226,-1.0470516457159909,-0.622083709673778,-0.6408476173310118,-0.7310692143925597,2.0558686601072846,0.941521271821865,0.2797069863850723,-1.1987566877959244,-0.6453513323275131,0.00618299715917338,-0.9449907125758524,-1.0429632720499713,-0.9432951353119565,-0.18431998387115714,0.19706282189587646,1.4093428173112086,-2.5459571971591974,0.9714641272638906,1.3195027949623213,1.518096459438159,2.892537011972321,1.4002055331345225,-0.3066405837306535,-1.5162024282645241,1.1028718578803822,1.7491202039361544,-0.7352743952166807,-1.1327003719731012,-0.3439921897436451,-0.8142699493133557,-0.8421420831214147,-2.3611782096734317,0.5399222287331542,-0.45479909963011805,-0.3820645712895226,-1.557072716269298,-0.4549434306878188,0.5782397452939635],\"yaxis\":\"y5\",\"type\":\"scatter\"},{\"histfunc\":\"count\",\"histnorm\":\"\",\"marker\":{\"color\":\"rgba(55, 128, 191, 1.0)\",\"line\":{\"color\":\"#4D5663\",\"width\":1.3}},\"name\":\"B\",\"nbinsx\":10,\"opacity\":0.8,\"orientation\":\"v\",\"x\":[-1.1379320218666829,-0.3695042688257674,0.33366871400295456,1.0388735929418678,0.4271828843031716,-0.498185936402757,-0.20908624076388696,0.2712791092204782,0.21699706993337786,1.1988640269829076,0.5794566696633838,-2.051357618538235,-0.015027646709790503,-0.13221573801207778,0.663055581637253,2.2383145058851217,-0.32920285387233467,1.305488093081794,-0.6770237846293955,1.5655678252443213,-0.1579011544726716,0.21253336637012768,1.1127389828320329,-1.5672990177125192,0.7781963063214641,1.7853350454924075,-1.1710195851309133,0.686719657893707,-0.20731900062966677,1.4307503635162753,-0.9158903433533209,1.4420737367040473,-0.6068242423956323,1.0694813209111613,0.3237652489496514,0.18727889105942838,1.2922354443050938,0.6274525703991168,1.014431538504958,1.3987744470969865,0.4513588324569339,-1.021846300012986,-1.6695027698585916,1.0018097405277842,0.42609150355890035,1.1071846053066323,-0.1509182629517138,0.20295227502422822,1.4490271833804298,0.2893929835183492,0.7332741959247728,-0.7239745282733993,-2.4359443821545694,-0.274108614919312,-0.713459983647737,-0.2231215265407797,-0.4897121400859348,0.042540095384265224,0.7230329717255355,0.5938328429046061,0.7980677149641997,-1.5370942848965226,-1.0470516457159909,-0.622083709673778,-0.6408476173310118,-0.7310692143925597,2.0558686601072846,0.941521271821865,0.2797069863850723,-1.1987566877959244,-0.6453513323275131,0.00618299715917338,-0.9449907125758524,-1.0429632720499713,-0.9432951353119565,-0.18431998387115714,0.19706282189587646,1.4093428173112086,-2.5459571971591974,0.9714641272638906,1.3195027949623213,1.518096459438159,2.892537011972321,1.4002055331345225,-0.3066405837306535,-1.5162024282645241,1.1028718578803822,1.7491202039361544,-0.7352743952166807,-1.1327003719731012,-0.3439921897436451,-0.8142699493133557,-0.8421420831214147,-2.3611782096734317,0.5399222287331542,-0.45479909963011805,-0.3820645712895226,-1.557072716269298,-0.4549434306878188,0.5782397452939635],\"xaxis\":\"x6\",\"yaxis\":\"y6\",\"type\":\"histogram\"},{\"line\":{\"color\":\"rgba(128, 128, 128, 1.0)\",\"dash\":\"solid\",\"shape\":\"linear\",\"width\":1.3},\"marker\":{\"size\":2,\"symbol\":\"circle\"},\"mode\":\"markers\",\"name\":\"B\",\"text\":\"\",\"x\":[-0.7607527958894249,-0.7070143252687979,0.9272012698020369,0.21914882286396423,-0.5179103247789255,0.356294717199559,-0.2913657335806063,0.615671650212997,1.6300437774432865,-1.20733047509803,0.10714857386872174,-0.14883163836968605,-0.029237448242223914,1.0729039566216991,-1.1208687152083543,0.18328250238357405,-0.4537255362327935,-0.6033429693845594,0.2665249871287445,-0.03717218388022126,-3.0129873267286196,0.20488215053479814,-0.1522152064044278,0.24185841532262767,1.6270732988046244,-1.1458764498876082,1.276796040856506,-0.28148875520174454,-0.548738343600119,1.380674930062003,0.33027139687782614,0.5004035180264748,-0.1347797094150288,-0.33163499606419433,-0.7542144755334065,0.09636309919988383,-0.49054727267449194,1.1245919947108491,-1.4744546293557332,1.9099381989317608,-0.7734262917901424,-0.9076017148870963,-1.8346876911266852,-0.6300906543082541,0.12820667190314397,0.6973881330482086,2.004260984196489,-0.13553405370576,-0.8816929537120686,-0.5394996298466653,-0.20718808979900927,-0.6939747402723065,-0.09758639711396831,-0.3566888455988846,-1.8083956716108365,-1.8158027509915093,-0.24860659462631232,1.332512790069765,2.378490943446098,1.0890638411756182,0.496340149119863,-2.275713946946364,0.609308109591509,0.8260824380473207,0.2855790139565881,-0.062158990419333204,-1.1170492187902588,2.2269374856204958,0.07058356586829277,-0.6980407327713735,-1.3018153526869747,-0.32361285815799123,-0.020598266162581688,-1.033214773184867,0.2384945575516058,-0.30115810030278967,-1.308698176806451,-0.5206390858316583,-0.12985117311091163,-1.2175111417431492,0.6614508703669855,0.3494092579677839,0.1860466978933607,0.7612711034216268,0.37045367429256126,-0.6491413856632087,-0.6060527423527244,-1.7137695802608415,0.3241242075283571,0.4614032109121203,-0.16105175922848006,-1.4345970307468745,-0.8369483552298032,-0.07387646107956655,-0.06657310181155189,0.16994610203755273,-0.2714894942090053,-1.1088759265257948,-0.004176668473154918,1.748833880230194],\"xaxis\":\"x7\",\"y\":[-1.1379320218666829,-0.3695042688257674,0.33366871400295456,1.0388735929418678,0.4271828843031716,-0.498185936402757,-0.20908624076388696,0.2712791092204782,0.21699706993337786,1.1988640269829076,0.5794566696633838,-2.051357618538235,-0.015027646709790503,-0.13221573801207778,0.663055581637253,2.2383145058851217,-0.32920285387233467,1.305488093081794,-0.6770237846293955,1.5655678252443213,-0.1579011544726716,0.21253336637012768,1.1127389828320329,-1.5672990177125192,0.7781963063214641,1.7853350454924075,-1.1710195851309133,0.686719657893707,-0.20731900062966677,1.4307503635162753,-0.9158903433533209,1.4420737367040473,-0.6068242423956323,1.0694813209111613,0.3237652489496514,0.18727889105942838,1.2922354443050938,0.6274525703991168,1.014431538504958,1.3987744470969865,0.4513588324569339,-1.021846300012986,-1.6695027698585916,1.0018097405277842,0.42609150355890035,1.1071846053066323,-0.1509182629517138,0.20295227502422822,1.4490271833804298,0.2893929835183492,0.7332741959247728,-0.7239745282733993,-2.4359443821545694,-0.274108614919312,-0.713459983647737,-0.2231215265407797,-0.4897121400859348,0.042540095384265224,0.7230329717255355,0.5938328429046061,0.7980677149641997,-1.5370942848965226,-1.0470516457159909,-0.622083709673778,-0.6408476173310118,-0.7310692143925597,2.0558686601072846,0.941521271821865,0.2797069863850723,-1.1987566877959244,-0.6453513323275131,0.00618299715917338,-0.9449907125758524,-1.0429632720499713,-0.9432951353119565,-0.18431998387115714,0.19706282189587646,1.4093428173112086,-2.5459571971591974,0.9714641272638906,1.3195027949623213,1.518096459438159,2.892537011972321,1.4002055331345225,-0.3066405837306535,-1.5162024282645241,1.1028718578803822,1.7491202039361544,-0.7352743952166807,-1.1327003719731012,-0.3439921897436451,-0.8142699493133557,-0.8421420831214147,-2.3611782096734317,0.5399222287331542,-0.45479909963011805,-0.3820645712895226,-1.557072716269298,-0.4549434306878188,0.5782397452939635],\"yaxis\":\"y7\",\"type\":\"scatter\"},{\"line\":{\"color\":\"rgba(128, 128, 128, 1.0)\",\"dash\":\"solid\",\"shape\":\"linear\",\"width\":1.3},\"marker\":{\"size\":2,\"symbol\":\"circle\"},\"mode\":\"markers\",\"name\":\"B\",\"text\":\"\",\"x\":[0.1751742656209741,-0.448826153642509,0.5381820031835148,0.13244564930818603,-0.8900014593731652,-0.7047691983918308,-0.09990254288735409,1.4263274529609322,1.465754785817344,-0.7384106148318462,-1.9257248814183598,-1.0721059244982252,-0.7089368671559754,-0.49095766652426087,-1.0779027848109384,0.8245267819969098,0.048085897075888104,-0.07503722459542922,-1.7464684708684919,-1.3096171450164322,-0.9731600008029246,-1.2716768795489168,-0.8469465703877845,0.8259934110119476,1.3283555390186081,-0.4342034990219628,-0.4466879980049857,-0.7273986692745659,1.2054754634032374,-0.1572649646617977,-0.6028153073671625,0.3844046834517899,0.21837463947565822,-0.5353319895187307,-0.008699530471608843,0.7057881249989117,-1.2515029914813804,-1.140452391309678,-0.6877015990283953,0.1307615006942522,1.238281893532272,0.5355594464973679,-1.1109889675619573,-0.14808944756823528,1.1629125454319655,0.46648092168703986,0.13532924366300256,0.6586460674199206,-0.743819602647227,0.4189556145146561,0.3327266813154617,-0.859106315287156,0.48227535517326187,0.8222685585673679,-0.6689693042765702,1.1202239743167295,0.22917434892484292,-1.9424668679965322,0.9216792137482365,1.0855943615810264,0.6129005155889627,-0.9319676494837966,-0.2747626566829559,0.8178759920155547,-0.6319066271085185,0.811518648797966,-0.6268533658436848,0.5122933366767136,-0.2445246966092972,-0.9876770467575798,0.5252521957727393,-2.138622251999045,0.005887566403270622,0.7316110872017239,-1.3923674786636313,1.0187317999066703,-0.189227893385347,1.6982132335644515,-0.4460304099092128,0.46604748259650813,0.870538033993492,-0.3076273390858767,-0.6373079945184906,-2.7947216138514066,-0.17292019781564888,-0.39499343185230057,0.24523800994094805,-1.1832402670683073,-0.40296143593143285,-0.5591908391458149,-1.3476129340153435,1.5673381755636133,0.39947974935198255,-1.8527500230542786,2.1580101456879994,-0.16151710980984083,-0.8895491151507277,-0.48016846528115864,0.6700264562039298,0.061022762866370574],\"xaxis\":\"x8\",\"y\":[-1.1379320218666829,-0.3695042688257674,0.33366871400295456,1.0388735929418678,0.4271828843031716,-0.498185936402757,-0.20908624076388696,0.2712791092204782,0.21699706993337786,1.1988640269829076,0.5794566696633838,-2.051357618538235,-0.015027646709790503,-0.13221573801207778,0.663055581637253,2.2383145058851217,-0.32920285387233467,1.305488093081794,-0.6770237846293955,1.5655678252443213,-0.1579011544726716,0.21253336637012768,1.1127389828320329,-1.5672990177125192,0.7781963063214641,1.7853350454924075,-1.1710195851309133,0.686719657893707,-0.20731900062966677,1.4307503635162753,-0.9158903433533209,1.4420737367040473,-0.6068242423956323,1.0694813209111613,0.3237652489496514,0.18727889105942838,1.2922354443050938,0.6274525703991168,1.014431538504958,1.3987744470969865,0.4513588324569339,-1.021846300012986,-1.6695027698585916,1.0018097405277842,0.42609150355890035,1.1071846053066323,-0.1509182629517138,0.20295227502422822,1.4490271833804298,0.2893929835183492,0.7332741959247728,-0.7239745282733993,-2.4359443821545694,-0.274108614919312,-0.713459983647737,-0.2231215265407797,-0.4897121400859348,0.042540095384265224,0.7230329717255355,0.5938328429046061,0.7980677149641997,-1.5370942848965226,-1.0470516457159909,-0.622083709673778,-0.6408476173310118,-0.7310692143925597,2.0558686601072846,0.941521271821865,0.2797069863850723,-1.1987566877959244,-0.6453513323275131,0.00618299715917338,-0.9449907125758524,-1.0429632720499713,-0.9432951353119565,-0.18431998387115714,0.19706282189587646,1.4093428173112086,-2.5459571971591974,0.9714641272638906,1.3195027949623213,1.518096459438159,2.892537011972321,1.4002055331345225,-0.3066405837306535,-1.5162024282645241,1.1028718578803822,1.7491202039361544,-0.7352743952166807,-1.1327003719731012,-0.3439921897436451,-0.8142699493133557,-0.8421420831214147,-2.3611782096734317,0.5399222287331542,-0.45479909963011805,-0.3820645712895226,-1.557072716269298,-0.4549434306878188,0.5782397452939635],\"yaxis\":\"y8\",\"type\":\"scatter\"},{\"line\":{\"color\":\"rgba(128, 128, 128, 1.0)\",\"dash\":\"solid\",\"shape\":\"linear\",\"width\":1.3},\"marker\":{\"size\":2,\"symbol\":\"circle\"},\"mode\":\"markers\",\"name\":\"C\",\"text\":\"\",\"x\":[-0.014182249911513891,-0.7990367681886373,0.6591194910503083,1.998829472768256,1.354928704711035,-0.1371167194422425,0.4333354482330215,0.49267447183888413,1.3858792197389416,0.4676724923040728,0.4849888456465899,0.45149705620233,-0.1063775758913652,-0.6451185663551487,0.8357224494240874,0.05850278298606873,-0.6878280364420764,-1.0745550632638445,-1.5078604397890385,0.40661572837594684,0.9800238409731928,-1.6325091262235363,0.1631019706498342,1.4448137969722203,0.02513391270452852,0.9547946954988611,-1.0563585853877604,-1.3142901401847198,-0.25331664335336507,-1.4879385617072196,1.7470695903409454,-0.48379885894116165,-0.9241938987777035,0.365712246098989,1.221561139279699,1.1752904012641878,-1.0893692935961712,0.05496551530451065,-0.2176827297418758,-0.0657386185768375,1.562769039489702,0.13189295528231632,-0.4496554338022613,1.039717915533698,0.6661633287497195,1.0294163558425313,0.10459497547037343,-0.6486758199813077,-0.35946559697843306,-0.7791403957659999,-0.7131422295621813,0.3530266789979288,-0.5850582350435681,-1.228669369831788,-0.18193668990025463,-1.2251158115222835,-2.7313135571757563,-1.3901611885307172,-0.7668234576924771,-0.2740656808576659,1.667691642371268,0.09675804750002247,-0.3993649557252148,1.484220094919042,-0.07901652159766895,-0.26975354473237967,0.605978939676668,0.008585745532567687,-0.49986280262070976,0.7050757224054496,-0.9825443837523973,-0.4903160744754752,1.375276764445953,0.12104979745920955,1.4824150417639876,0.2884732149437047,1.0647981187455822,-0.27941567866192923,-0.9575609575401136,0.5646814456783594,0.08480759312596246,0.5456752792982241,0.04474730044409539,0.3449381645647911,1.0989196536617412,2.0009367716990374,-0.10649601834445481,-0.9948925083156563,-1.507843017905901,-0.04914540079233849,0.0015998307786427317,0.08871540715131175,-0.09513443320348569,1.3884170241785447,-0.6375754053537689,0.5353090243952152,0.5058531399900315,0.0039000720093066215,1.6856477147167694,1.0788626909510945],\"xaxis\":\"x9\",\"y\":[-0.7607527958894249,-0.7070143252687979,0.9272012698020369,0.21914882286396423,-0.5179103247789255,0.356294717199559,-0.2913657335806063,0.615671650212997,1.6300437774432865,-1.20733047509803,0.10714857386872174,-0.14883163836968605,-0.029237448242223914,1.0729039566216991,-1.1208687152083543,0.18328250238357405,-0.4537255362327935,-0.6033429693845594,0.2665249871287445,-0.03717218388022126,-3.0129873267286196,0.20488215053479814,-0.1522152064044278,0.24185841532262767,1.6270732988046244,-1.1458764498876082,1.276796040856506,-0.28148875520174454,-0.548738343600119,1.380674930062003,0.33027139687782614,0.5004035180264748,-0.1347797094150288,-0.33163499606419433,-0.7542144755334065,0.09636309919988383,-0.49054727267449194,1.1245919947108491,-1.4744546293557332,1.9099381989317608,-0.7734262917901424,-0.9076017148870963,-1.8346876911266852,-0.6300906543082541,0.12820667190314397,0.6973881330482086,2.004260984196489,-0.13553405370576,-0.8816929537120686,-0.5394996298466653,-0.20718808979900927,-0.6939747402723065,-0.09758639711396831,-0.3566888455988846,-1.8083956716108365,-1.8158027509915093,-0.24860659462631232,1.332512790069765,2.378490943446098,1.0890638411756182,0.496340149119863,-2.275713946946364,0.609308109591509,0.8260824380473207,0.2855790139565881,-0.062158990419333204,-1.1170492187902588,2.2269374856204958,0.07058356586829277,-0.6980407327713735,-1.3018153526869747,-0.32361285815799123,-0.020598266162581688,-1.033214773184867,0.2384945575516058,-0.30115810030278967,-1.308698176806451,-0.5206390858316583,-0.12985117311091163,-1.2175111417431492,0.6614508703669855,0.3494092579677839,0.1860466978933607,0.7612711034216268,0.37045367429256126,-0.6491413856632087,-0.6060527423527244,-1.7137695802608415,0.3241242075283571,0.4614032109121203,-0.16105175922848006,-1.4345970307468745,-0.8369483552298032,-0.07387646107956655,-0.06657310181155189,0.16994610203755273,-0.2714894942090053,-1.1088759265257948,-0.004176668473154918,1.748833880230194],\"yaxis\":\"y9\",\"type\":\"scatter\"},{\"line\":{\"color\":\"rgba(128, 128, 128, 1.0)\",\"dash\":\"solid\",\"shape\":\"linear\",\"width\":1.3},\"marker\":{\"size\":2,\"symbol\":\"circle\"},\"mode\":\"markers\",\"name\":\"C\",\"text\":\"\",\"x\":[-1.1379320218666829,-0.3695042688257674,0.33366871400295456,1.0388735929418678,0.4271828843031716,-0.498185936402757,-0.20908624076388696,0.2712791092204782,0.21699706993337786,1.1988640269829076,0.5794566696633838,-2.051357618538235,-0.015027646709790503,-0.13221573801207778,0.663055581637253,2.2383145058851217,-0.32920285387233467,1.305488093081794,-0.6770237846293955,1.5655678252443213,-0.1579011544726716,0.21253336637012768,1.1127389828320329,-1.5672990177125192,0.7781963063214641,1.7853350454924075,-1.1710195851309133,0.686719657893707,-0.20731900062966677,1.4307503635162753,-0.9158903433533209,1.4420737367040473,-0.6068242423956323,1.0694813209111613,0.3237652489496514,0.18727889105942838,1.2922354443050938,0.6274525703991168,1.014431538504958,1.3987744470969865,0.4513588324569339,-1.021846300012986,-1.6695027698585916,1.0018097405277842,0.42609150355890035,1.1071846053066323,-0.1509182629517138,0.20295227502422822,1.4490271833804298,0.2893929835183492,0.7332741959247728,-0.7239745282733993,-2.4359443821545694,-0.274108614919312,-0.713459983647737,-0.2231215265407797,-0.4897121400859348,0.042540095384265224,0.7230329717255355,0.5938328429046061,0.7980677149641997,-1.5370942848965226,-1.0470516457159909,-0.622083709673778,-0.6408476173310118,-0.7310692143925597,2.0558686601072846,0.941521271821865,0.2797069863850723,-1.1987566877959244,-0.6453513323275131,0.00618299715917338,-0.9449907125758524,-1.0429632720499713,-0.9432951353119565,-0.18431998387115714,0.19706282189587646,1.4093428173112086,-2.5459571971591974,0.9714641272638906,1.3195027949623213,1.518096459438159,2.892537011972321,1.4002055331345225,-0.3066405837306535,-1.5162024282645241,1.1028718578803822,1.7491202039361544,-0.7352743952166807,-1.1327003719731012,-0.3439921897436451,-0.8142699493133557,-0.8421420831214147,-2.3611782096734317,0.5399222287331542,-0.45479909963011805,-0.3820645712895226,-1.557072716269298,-0.4549434306878188,0.5782397452939635],\"xaxis\":\"x10\",\"y\":[-0.7607527958894249,-0.7070143252687979,0.9272012698020369,0.21914882286396423,-0.5179103247789255,0.356294717199559,-0.2913657335806063,0.615671650212997,1.6300437774432865,-1.20733047509803,0.10714857386872174,-0.14883163836968605,-0.029237448242223914,1.0729039566216991,-1.1208687152083543,0.18328250238357405,-0.4537255362327935,-0.6033429693845594,0.2665249871287445,-0.03717218388022126,-3.0129873267286196,0.20488215053479814,-0.1522152064044278,0.24185841532262767,1.6270732988046244,-1.1458764498876082,1.276796040856506,-0.28148875520174454,-0.548738343600119,1.380674930062003,0.33027139687782614,0.5004035180264748,-0.1347797094150288,-0.33163499606419433,-0.7542144755334065,0.09636309919988383,-0.49054727267449194,1.1245919947108491,-1.4744546293557332,1.9099381989317608,-0.7734262917901424,-0.9076017148870963,-1.8346876911266852,-0.6300906543082541,0.12820667190314397,0.6973881330482086,2.004260984196489,-0.13553405370576,-0.8816929537120686,-0.5394996298466653,-0.20718808979900927,-0.6939747402723065,-0.09758639711396831,-0.3566888455988846,-1.8083956716108365,-1.8158027509915093,-0.24860659462631232,1.332512790069765,2.378490943446098,1.0890638411756182,0.496340149119863,-2.275713946946364,0.609308109591509,0.8260824380473207,0.2855790139565881,-0.062158990419333204,-1.1170492187902588,2.2269374856204958,0.07058356586829277,-0.6980407327713735,-1.3018153526869747,-0.32361285815799123,-0.020598266162581688,-1.033214773184867,0.2384945575516058,-0.30115810030278967,-1.308698176806451,-0.5206390858316583,-0.12985117311091163,-1.2175111417431492,0.6614508703669855,0.3494092579677839,0.1860466978933607,0.7612711034216268,0.37045367429256126,-0.6491413856632087,-0.6060527423527244,-1.7137695802608415,0.3241242075283571,0.4614032109121203,-0.16105175922848006,-1.4345970307468745,-0.8369483552298032,-0.07387646107956655,-0.06657310181155189,0.16994610203755273,-0.2714894942090053,-1.1088759265257948,-0.004176668473154918,1.748833880230194],\"yaxis\":\"y10\",\"type\":\"scatter\"},{\"histfunc\":\"count\",\"histnorm\":\"\",\"marker\":{\"color\":\"rgba(50, 171, 96, 1.0)\",\"line\":{\"color\":\"#4D5663\",\"width\":1.3}},\"name\":\"C\",\"nbinsx\":10,\"opacity\":0.8,\"orientation\":\"v\",\"x\":[-0.7607527958894249,-0.7070143252687979,0.9272012698020369,0.21914882286396423,-0.5179103247789255,0.356294717199559,-0.2913657335806063,0.615671650212997,1.6300437774432865,-1.20733047509803,0.10714857386872174,-0.14883163836968605,-0.029237448242223914,1.0729039566216991,-1.1208687152083543,0.18328250238357405,-0.4537255362327935,-0.6033429693845594,0.2665249871287445,-0.03717218388022126,-3.0129873267286196,0.20488215053479814,-0.1522152064044278,0.24185841532262767,1.6270732988046244,-1.1458764498876082,1.276796040856506,-0.28148875520174454,-0.548738343600119,1.380674930062003,0.33027139687782614,0.5004035180264748,-0.1347797094150288,-0.33163499606419433,-0.7542144755334065,0.09636309919988383,-0.49054727267449194,1.1245919947108491,-1.4744546293557332,1.9099381989317608,-0.7734262917901424,-0.9076017148870963,-1.8346876911266852,-0.6300906543082541,0.12820667190314397,0.6973881330482086,2.004260984196489,-0.13553405370576,-0.8816929537120686,-0.5394996298466653,-0.20718808979900927,-0.6939747402723065,-0.09758639711396831,-0.3566888455988846,-1.8083956716108365,-1.8158027509915093,-0.24860659462631232,1.332512790069765,2.378490943446098,1.0890638411756182,0.496340149119863,-2.275713946946364,0.609308109591509,0.8260824380473207,0.2855790139565881,-0.062158990419333204,-1.1170492187902588,2.2269374856204958,0.07058356586829277,-0.6980407327713735,-1.3018153526869747,-0.32361285815799123,-0.020598266162581688,-1.033214773184867,0.2384945575516058,-0.30115810030278967,-1.308698176806451,-0.5206390858316583,-0.12985117311091163,-1.2175111417431492,0.6614508703669855,0.3494092579677839,0.1860466978933607,0.7612711034216268,0.37045367429256126,-0.6491413856632087,-0.6060527423527244,-1.7137695802608415,0.3241242075283571,0.4614032109121203,-0.16105175922848006,-1.4345970307468745,-0.8369483552298032,-0.07387646107956655,-0.06657310181155189,0.16994610203755273,-0.2714894942090053,-1.1088759265257948,-0.004176668473154918,1.748833880230194],\"xaxis\":\"x11\",\"yaxis\":\"y11\",\"type\":\"histogram\"},{\"line\":{\"color\":\"rgba(128, 128, 128, 1.0)\",\"dash\":\"solid\",\"shape\":\"linear\",\"width\":1.3},\"marker\":{\"size\":2,\"symbol\":\"circle\"},\"mode\":\"markers\",\"name\":\"C\",\"text\":\"\",\"x\":[0.1751742656209741,-0.448826153642509,0.5381820031835148,0.13244564930818603,-0.8900014593731652,-0.7047691983918308,-0.09990254288735409,1.4263274529609322,1.465754785817344,-0.7384106148318462,-1.9257248814183598,-1.0721059244982252,-0.7089368671559754,-0.49095766652426087,-1.0779027848109384,0.8245267819969098,0.048085897075888104,-0.07503722459542922,-1.7464684708684919,-1.3096171450164322,-0.9731600008029246,-1.2716768795489168,-0.8469465703877845,0.8259934110119476,1.3283555390186081,-0.4342034990219628,-0.4466879980049857,-0.7273986692745659,1.2054754634032374,-0.1572649646617977,-0.6028153073671625,0.3844046834517899,0.21837463947565822,-0.5353319895187307,-0.008699530471608843,0.7057881249989117,-1.2515029914813804,-1.140452391309678,-0.6877015990283953,0.1307615006942522,1.238281893532272,0.5355594464973679,-1.1109889675619573,-0.14808944756823528,1.1629125454319655,0.46648092168703986,0.13532924366300256,0.6586460674199206,-0.743819602647227,0.4189556145146561,0.3327266813154617,-0.859106315287156,0.48227535517326187,0.8222685585673679,-0.6689693042765702,1.1202239743167295,0.22917434892484292,-1.9424668679965322,0.9216792137482365,1.0855943615810264,0.6129005155889627,-0.9319676494837966,-0.2747626566829559,0.8178759920155547,-0.6319066271085185,0.811518648797966,-0.6268533658436848,0.5122933366767136,-0.2445246966092972,-0.9876770467575798,0.5252521957727393,-2.138622251999045,0.005887566403270622,0.7316110872017239,-1.3923674786636313,1.0187317999066703,-0.189227893385347,1.6982132335644515,-0.4460304099092128,0.46604748259650813,0.870538033993492,-0.3076273390858767,-0.6373079945184906,-2.7947216138514066,-0.17292019781564888,-0.39499343185230057,0.24523800994094805,-1.1832402670683073,-0.40296143593143285,-0.5591908391458149,-1.3476129340153435,1.5673381755636133,0.39947974935198255,-1.8527500230542786,2.1580101456879994,-0.16151710980984083,-0.8895491151507277,-0.48016846528115864,0.6700264562039298,0.061022762866370574],\"xaxis\":\"x12\",\"y\":[-0.7607527958894249,-0.7070143252687979,0.9272012698020369,0.21914882286396423,-0.5179103247789255,0.356294717199559,-0.2913657335806063,0.615671650212997,1.6300437774432865,-1.20733047509803,0.10714857386872174,-0.14883163836968605,-0.029237448242223914,1.0729039566216991,-1.1208687152083543,0.18328250238357405,-0.4537255362327935,-0.6033429693845594,0.2665249871287445,-0.03717218388022126,-3.0129873267286196,0.20488215053479814,-0.1522152064044278,0.24185841532262767,1.6270732988046244,-1.1458764498876082,1.276796040856506,-0.28148875520174454,-0.548738343600119,1.380674930062003,0.33027139687782614,0.5004035180264748,-0.1347797094150288,-0.33163499606419433,-0.7542144755334065,0.09636309919988383,-0.49054727267449194,1.1245919947108491,-1.4744546293557332,1.9099381989317608,-0.7734262917901424,-0.9076017148870963,-1.8346876911266852,-0.6300906543082541,0.12820667190314397,0.6973881330482086,2.004260984196489,-0.13553405370576,-0.8816929537120686,-0.5394996298466653,-0.20718808979900927,-0.6939747402723065,-0.09758639711396831,-0.3566888455988846,-1.8083956716108365,-1.8158027509915093,-0.24860659462631232,1.332512790069765,2.378490943446098,1.0890638411756182,0.496340149119863,-2.275713946946364,0.609308109591509,0.8260824380473207,0.2855790139565881,-0.062158990419333204,-1.1170492187902588,2.2269374856204958,0.07058356586829277,-0.6980407327713735,-1.3018153526869747,-0.32361285815799123,-0.020598266162581688,-1.033214773184867,0.2384945575516058,-0.30115810030278967,-1.308698176806451,-0.5206390858316583,-0.12985117311091163,-1.2175111417431492,0.6614508703669855,0.3494092579677839,0.1860466978933607,0.7612711034216268,0.37045367429256126,-0.6491413856632087,-0.6060527423527244,-1.7137695802608415,0.3241242075283571,0.4614032109121203,-0.16105175922848006,-1.4345970307468745,-0.8369483552298032,-0.07387646107956655,-0.06657310181155189,0.16994610203755273,-0.2714894942090053,-1.1088759265257948,-0.004176668473154918,1.748833880230194],\"yaxis\":\"y12\",\"type\":\"scatter\"},{\"line\":{\"color\":\"rgba(128, 128, 128, 1.0)\",\"dash\":\"solid\",\"shape\":\"linear\",\"width\":1.3},\"marker\":{\"size\":2,\"symbol\":\"circle\"},\"mode\":\"markers\",\"name\":\"D\",\"text\":\"\",\"x\":[-0.014182249911513891,-0.7990367681886373,0.6591194910503083,1.998829472768256,1.354928704711035,-0.1371167194422425,0.4333354482330215,0.49267447183888413,1.3858792197389416,0.4676724923040728,0.4849888456465899,0.45149705620233,-0.1063775758913652,-0.6451185663551487,0.8357224494240874,0.05850278298606873,-0.6878280364420764,-1.0745550632638445,-1.5078604397890385,0.40661572837594684,0.9800238409731928,-1.6325091262235363,0.1631019706498342,1.4448137969722203,0.02513391270452852,0.9547946954988611,-1.0563585853877604,-1.3142901401847198,-0.25331664335336507,-1.4879385617072196,1.7470695903409454,-0.48379885894116165,-0.9241938987777035,0.365712246098989,1.221561139279699,1.1752904012641878,-1.0893692935961712,0.05496551530451065,-0.2176827297418758,-0.0657386185768375,1.562769039489702,0.13189295528231632,-0.4496554338022613,1.039717915533698,0.6661633287497195,1.0294163558425313,0.10459497547037343,-0.6486758199813077,-0.35946559697843306,-0.7791403957659999,-0.7131422295621813,0.3530266789979288,-0.5850582350435681,-1.228669369831788,-0.18193668990025463,-1.2251158115222835,-2.7313135571757563,-1.3901611885307172,-0.7668234576924771,-0.2740656808576659,1.667691642371268,0.09675804750002247,-0.3993649557252148,1.484220094919042,-0.07901652159766895,-0.26975354473237967,0.605978939676668,0.008585745532567687,-0.49986280262070976,0.7050757224054496,-0.9825443837523973,-0.4903160744754752,1.375276764445953,0.12104979745920955,1.4824150417639876,0.2884732149437047,1.0647981187455822,-0.27941567866192923,-0.9575609575401136,0.5646814456783594,0.08480759312596246,0.5456752792982241,0.04474730044409539,0.3449381645647911,1.0989196536617412,2.0009367716990374,-0.10649601834445481,-0.9948925083156563,-1.507843017905901,-0.04914540079233849,0.0015998307786427317,0.08871540715131175,-0.09513443320348569,1.3884170241785447,-0.6375754053537689,0.5353090243952152,0.5058531399900315,0.0039000720093066215,1.6856477147167694,1.0788626909510945],\"xaxis\":\"x13\",\"y\":[0.1751742656209741,-0.448826153642509,0.5381820031835148,0.13244564930818603,-0.8900014593731652,-0.7047691983918308,-0.09990254288735409,1.4263274529609322,1.465754785817344,-0.7384106148318462,-1.9257248814183598,-1.0721059244982252,-0.7089368671559754,-0.49095766652426087,-1.0779027848109384,0.8245267819969098,0.048085897075888104,-0.07503722459542922,-1.7464684708684919,-1.3096171450164322,-0.9731600008029246,-1.2716768795489168,-0.8469465703877845,0.8259934110119476,1.3283555390186081,-0.4342034990219628,-0.4466879980049857,-0.7273986692745659,1.2054754634032374,-0.1572649646617977,-0.6028153073671625,0.3844046834517899,0.21837463947565822,-0.5353319895187307,-0.008699530471608843,0.7057881249989117,-1.2515029914813804,-1.140452391309678,-0.6877015990283953,0.1307615006942522,1.238281893532272,0.5355594464973679,-1.1109889675619573,-0.14808944756823528,1.1629125454319655,0.46648092168703986,0.13532924366300256,0.6586460674199206,-0.743819602647227,0.4189556145146561,0.3327266813154617,-0.859106315287156,0.48227535517326187,0.8222685585673679,-0.6689693042765702,1.1202239743167295,0.22917434892484292,-1.9424668679965322,0.9216792137482365,1.0855943615810264,0.6129005155889627,-0.9319676494837966,-0.2747626566829559,0.8178759920155547,-0.6319066271085185,0.811518648797966,-0.6268533658436848,0.5122933366767136,-0.2445246966092972,-0.9876770467575798,0.5252521957727393,-2.138622251999045,0.005887566403270622,0.7316110872017239,-1.3923674786636313,1.0187317999066703,-0.189227893385347,1.6982132335644515,-0.4460304099092128,0.46604748259650813,0.870538033993492,-0.3076273390858767,-0.6373079945184906,-2.7947216138514066,-0.17292019781564888,-0.39499343185230057,0.24523800994094805,-1.1832402670683073,-0.40296143593143285,-0.5591908391458149,-1.3476129340153435,1.5673381755636133,0.39947974935198255,-1.8527500230542786,2.1580101456879994,-0.16151710980984083,-0.8895491151507277,-0.48016846528115864,0.6700264562039298,0.061022762866370574],\"yaxis\":\"y13\",\"type\":\"scatter\"},{\"line\":{\"color\":\"rgba(128, 128, 128, 1.0)\",\"dash\":\"solid\",\"shape\":\"linear\",\"width\":1.3},\"marker\":{\"size\":2,\"symbol\":\"circle\"},\"mode\":\"markers\",\"name\":\"D\",\"text\":\"\",\"x\":[-1.1379320218666829,-0.3695042688257674,0.33366871400295456,1.0388735929418678,0.4271828843031716,-0.498185936402757,-0.20908624076388696,0.2712791092204782,0.21699706993337786,1.1988640269829076,0.5794566696633838,-2.051357618538235,-0.015027646709790503,-0.13221573801207778,0.663055581637253,2.2383145058851217,-0.32920285387233467,1.305488093081794,-0.6770237846293955,1.5655678252443213,-0.1579011544726716,0.21253336637012768,1.1127389828320329,-1.5672990177125192,0.7781963063214641,1.7853350454924075,-1.1710195851309133,0.686719657893707,-0.20731900062966677,1.4307503635162753,-0.9158903433533209,1.4420737367040473,-0.6068242423956323,1.0694813209111613,0.3237652489496514,0.18727889105942838,1.2922354443050938,0.6274525703991168,1.014431538504958,1.3987744470969865,0.4513588324569339,-1.021846300012986,-1.6695027698585916,1.0018097405277842,0.42609150355890035,1.1071846053066323,-0.1509182629517138,0.20295227502422822,1.4490271833804298,0.2893929835183492,0.7332741959247728,-0.7239745282733993,-2.4359443821545694,-0.274108614919312,-0.713459983647737,-0.2231215265407797,-0.4897121400859348,0.042540095384265224,0.7230329717255355,0.5938328429046061,0.7980677149641997,-1.5370942848965226,-1.0470516457159909,-0.622083709673778,-0.6408476173310118,-0.7310692143925597,2.0558686601072846,0.941521271821865,0.2797069863850723,-1.1987566877959244,-0.6453513323275131,0.00618299715917338,-0.9449907125758524,-1.0429632720499713,-0.9432951353119565,-0.18431998387115714,0.19706282189587646,1.4093428173112086,-2.5459571971591974,0.9714641272638906,1.3195027949623213,1.518096459438159,2.892537011972321,1.4002055331345225,-0.3066405837306535,-1.5162024282645241,1.1028718578803822,1.7491202039361544,-0.7352743952166807,-1.1327003719731012,-0.3439921897436451,-0.8142699493133557,-0.8421420831214147,-2.3611782096734317,0.5399222287331542,-0.45479909963011805,-0.3820645712895226,-1.557072716269298,-0.4549434306878188,0.5782397452939635],\"xaxis\":\"x14\",\"y\":[0.1751742656209741,-0.448826153642509,0.5381820031835148,0.13244564930818603,-0.8900014593731652,-0.7047691983918308,-0.09990254288735409,1.4263274529609322,1.465754785817344,-0.7384106148318462,-1.9257248814183598,-1.0721059244982252,-0.7089368671559754,-0.49095766652426087,-1.0779027848109384,0.8245267819969098,0.048085897075888104,-0.07503722459542922,-1.7464684708684919,-1.3096171450164322,-0.9731600008029246,-1.2716768795489168,-0.8469465703877845,0.8259934110119476,1.3283555390186081,-0.4342034990219628,-0.4466879980049857,-0.7273986692745659,1.2054754634032374,-0.1572649646617977,-0.6028153073671625,0.3844046834517899,0.21837463947565822,-0.5353319895187307,-0.008699530471608843,0.7057881249989117,-1.2515029914813804,-1.140452391309678,-0.6877015990283953,0.1307615006942522,1.238281893532272,0.5355594464973679,-1.1109889675619573,-0.14808944756823528,1.1629125454319655,0.46648092168703986,0.13532924366300256,0.6586460674199206,-0.743819602647227,0.4189556145146561,0.3327266813154617,-0.859106315287156,0.48227535517326187,0.8222685585673679,-0.6689693042765702,1.1202239743167295,0.22917434892484292,-1.9424668679965322,0.9216792137482365,1.0855943615810264,0.6129005155889627,-0.9319676494837966,-0.2747626566829559,0.8178759920155547,-0.6319066271085185,0.811518648797966,-0.6268533658436848,0.5122933366767136,-0.2445246966092972,-0.9876770467575798,0.5252521957727393,-2.138622251999045,0.005887566403270622,0.7316110872017239,-1.3923674786636313,1.0187317999066703,-0.189227893385347,1.6982132335644515,-0.4460304099092128,0.46604748259650813,0.870538033993492,-0.3076273390858767,-0.6373079945184906,-2.7947216138514066,-0.17292019781564888,-0.39499343185230057,0.24523800994094805,-1.1832402670683073,-0.40296143593143285,-0.5591908391458149,-1.3476129340153435,1.5673381755636133,0.39947974935198255,-1.8527500230542786,2.1580101456879994,-0.16151710980984083,-0.8895491151507277,-0.48016846528115864,0.6700264562039298,0.061022762866370574],\"yaxis\":\"y14\",\"type\":\"scatter\"},{\"line\":{\"color\":\"rgba(128, 128, 128, 1.0)\",\"dash\":\"solid\",\"shape\":\"linear\",\"width\":1.3},\"marker\":{\"size\":2,\"symbol\":\"circle\"},\"mode\":\"markers\",\"name\":\"D\",\"text\":\"\",\"x\":[-0.7607527958894249,-0.7070143252687979,0.9272012698020369,0.21914882286396423,-0.5179103247789255,0.356294717199559,-0.2913657335806063,0.615671650212997,1.6300437774432865,-1.20733047509803,0.10714857386872174,-0.14883163836968605,-0.029237448242223914,1.0729039566216991,-1.1208687152083543,0.18328250238357405,-0.4537255362327935,-0.6033429693845594,0.2665249871287445,-0.03717218388022126,-3.0129873267286196,0.20488215053479814,-0.1522152064044278,0.24185841532262767,1.6270732988046244,-1.1458764498876082,1.276796040856506,-0.28148875520174454,-0.548738343600119,1.380674930062003,0.33027139687782614,0.5004035180264748,-0.1347797094150288,-0.33163499606419433,-0.7542144755334065,0.09636309919988383,-0.49054727267449194,1.1245919947108491,-1.4744546293557332,1.9099381989317608,-0.7734262917901424,-0.9076017148870963,-1.8346876911266852,-0.6300906543082541,0.12820667190314397,0.6973881330482086,2.004260984196489,-0.13553405370576,-0.8816929537120686,-0.5394996298466653,-0.20718808979900927,-0.6939747402723065,-0.09758639711396831,-0.3566888455988846,-1.8083956716108365,-1.8158027509915093,-0.24860659462631232,1.332512790069765,2.378490943446098,1.0890638411756182,0.496340149119863,-2.275713946946364,0.609308109591509,0.8260824380473207,0.2855790139565881,-0.062158990419333204,-1.1170492187902588,2.2269374856204958,0.07058356586829277,-0.6980407327713735,-1.3018153526869747,-0.32361285815799123,-0.020598266162581688,-1.033214773184867,0.2384945575516058,-0.30115810030278967,-1.308698176806451,-0.5206390858316583,-0.12985117311091163,-1.2175111417431492,0.6614508703669855,0.3494092579677839,0.1860466978933607,0.7612711034216268,0.37045367429256126,-0.6491413856632087,-0.6060527423527244,-1.7137695802608415,0.3241242075283571,0.4614032109121203,-0.16105175922848006,-1.4345970307468745,-0.8369483552298032,-0.07387646107956655,-0.06657310181155189,0.16994610203755273,-0.2714894942090053,-1.1088759265257948,-0.004176668473154918,1.748833880230194],\"xaxis\":\"x15\",\"y\":[0.1751742656209741,-0.448826153642509,0.5381820031835148,0.13244564930818603,-0.8900014593731652,-0.7047691983918308,-0.09990254288735409,1.4263274529609322,1.465754785817344,-0.7384106148318462,-1.9257248814183598,-1.0721059244982252,-0.7089368671559754,-0.49095766652426087,-1.0779027848109384,0.8245267819969098,0.048085897075888104,-0.07503722459542922,-1.7464684708684919,-1.3096171450164322,-0.9731600008029246,-1.2716768795489168,-0.8469465703877845,0.8259934110119476,1.3283555390186081,-0.4342034990219628,-0.4466879980049857,-0.7273986692745659,1.2054754634032374,-0.1572649646617977,-0.6028153073671625,0.3844046834517899,0.21837463947565822,-0.5353319895187307,-0.008699530471608843,0.7057881249989117,-1.2515029914813804,-1.140452391309678,-0.6877015990283953,0.1307615006942522,1.238281893532272,0.5355594464973679,-1.1109889675619573,-0.14808944756823528,1.1629125454319655,0.46648092168703986,0.13532924366300256,0.6586460674199206,-0.743819602647227,0.4189556145146561,0.3327266813154617,-0.859106315287156,0.48227535517326187,0.8222685585673679,-0.6689693042765702,1.1202239743167295,0.22917434892484292,-1.9424668679965322,0.9216792137482365,1.0855943615810264,0.6129005155889627,-0.9319676494837966,-0.2747626566829559,0.8178759920155547,-0.6319066271085185,0.811518648797966,-0.6268533658436848,0.5122933366767136,-0.2445246966092972,-0.9876770467575798,0.5252521957727393,-2.138622251999045,0.005887566403270622,0.7316110872017239,-1.3923674786636313,1.0187317999066703,-0.189227893385347,1.6982132335644515,-0.4460304099092128,0.46604748259650813,0.870538033993492,-0.3076273390858767,-0.6373079945184906,-2.7947216138514066,-0.17292019781564888,-0.39499343185230057,0.24523800994094805,-1.1832402670683073,-0.40296143593143285,-0.5591908391458149,-1.3476129340153435,1.5673381755636133,0.39947974935198255,-1.8527500230542786,2.1580101456879994,-0.16151710980984083,-0.8895491151507277,-0.48016846528115864,0.6700264562039298,0.061022762866370574],\"yaxis\":\"y15\",\"type\":\"scatter\"},{\"histfunc\":\"count\",\"histnorm\":\"\",\"marker\":{\"color\":\"rgba(128, 0, 128, 1.0)\",\"line\":{\"color\":\"#4D5663\",\"width\":1.3}},\"name\":\"D\",\"nbinsx\":10,\"opacity\":0.8,\"orientation\":\"v\",\"x\":[0.1751742656209741,-0.448826153642509,0.5381820031835148,0.13244564930818603,-0.8900014593731652,-0.7047691983918308,-0.09990254288735409,1.4263274529609322,1.465754785817344,-0.7384106148318462,-1.9257248814183598,-1.0721059244982252,-0.7089368671559754,-0.49095766652426087,-1.0779027848109384,0.8245267819969098,0.048085897075888104,-0.07503722459542922,-1.7464684708684919,-1.3096171450164322,-0.9731600008029246,-1.2716768795489168,-0.8469465703877845,0.8259934110119476,1.3283555390186081,-0.4342034990219628,-0.4466879980049857,-0.7273986692745659,1.2054754634032374,-0.1572649646617977,-0.6028153073671625,0.3844046834517899,0.21837463947565822,-0.5353319895187307,-0.008699530471608843,0.7057881249989117,-1.2515029914813804,-1.140452391309678,-0.6877015990283953,0.1307615006942522,1.238281893532272,0.5355594464973679,-1.1109889675619573,-0.14808944756823528,1.1629125454319655,0.46648092168703986,0.13532924366300256,0.6586460674199206,-0.743819602647227,0.4189556145146561,0.3327266813154617,-0.859106315287156,0.48227535517326187,0.8222685585673679,-0.6689693042765702,1.1202239743167295,0.22917434892484292,-1.9424668679965322,0.9216792137482365,1.0855943615810264,0.6129005155889627,-0.9319676494837966,-0.2747626566829559,0.8178759920155547,-0.6319066271085185,0.811518648797966,-0.6268533658436848,0.5122933366767136,-0.2445246966092972,-0.9876770467575798,0.5252521957727393,-2.138622251999045,0.005887566403270622,0.7316110872017239,-1.3923674786636313,1.0187317999066703,-0.189227893385347,1.6982132335644515,-0.4460304099092128,0.46604748259650813,0.870538033993492,-0.3076273390858767,-0.6373079945184906,-2.7947216138514066,-0.17292019781564888,-0.39499343185230057,0.24523800994094805,-1.1832402670683073,-0.40296143593143285,-0.5591908391458149,-1.3476129340153435,1.5673381755636133,0.39947974935198255,-1.8527500230542786,2.1580101456879994,-0.16151710980984083,-0.8895491151507277,-0.48016846528115864,0.6700264562039298,0.061022762866370574],\"xaxis\":\"x16\",\"yaxis\":\"y16\",\"type\":\"histogram\"}],                        {\"bargap\":0.02,\"legend\":{\"bgcolor\":\"#F5F6F9\",\"font\":{\"color\":\"#4D5663\"}},\"paper_bgcolor\":\"#F5F6F9\",\"plot_bgcolor\":\"#F5F6F9\",\"showlegend\":false,\"template\":{\"data\":{\"barpolar\":[{\"marker\":{\"line\":{\"color\":\"#E5ECF6\",\"width\":0.5},\"pattern\":{\"fillmode\":\"overlay\",\"size\":10,\"solidity\":0.2}},\"type\":\"barpolar\"}],\"bar\":[{\"error_x\":{\"color\":\"#2a3f5f\"},\"error_y\":{\"color\":\"#2a3f5f\"},\"marker\":{\"line\":{\"color\":\"#E5ECF6\",\"width\":0.5},\"pattern\":{\"fillmode\":\"overlay\",\"size\":10,\"solidity\":0.2}},\"type\":\"bar\"}],\"carpet\":[{\"aaxis\":{\"endlinecolor\":\"#2a3f5f\",\"gridcolor\":\"white\",\"linecolor\":\"white\",\"minorgridcolor\":\"white\",\"startlinecolor\":\"#2a3f5f\"},\"baxis\":{\"endlinecolor\":\"#2a3f5f\",\"gridcolor\":\"white\",\"linecolor\":\"white\",\"minorgridcolor\":\"white\",\"startlinecolor\":\"#2a3f5f\"},\"type\":\"carpet\"}],\"choropleth\":[{\"colorbar\":{\"outlinewidth\":0,\"ticks\":\"\"},\"type\":\"choropleth\"}],\"contourcarpet\":[{\"colorbar\":{\"outlinewidth\":0,\"ticks\":\"\"},\"type\":\"contourcarpet\"}],\"contour\":[{\"colorbar\":{\"outlinewidth\":0,\"ticks\":\"\"},\"colorscale\":[[0.0,\"#0d0887\"],[0.1111111111111111,\"#46039f\"],[0.2222222222222222,\"#7201a8\"],[0.3333333333333333,\"#9c179e\"],[0.4444444444444444,\"#bd3786\"],[0.5555555555555556,\"#d8576b\"],[0.6666666666666666,\"#ed7953\"],[0.7777777777777778,\"#fb9f3a\"],[0.8888888888888888,\"#fdca26\"],[1.0,\"#f0f921\"]],\"type\":\"contour\"}],\"heatmapgl\":[{\"colorbar\":{\"outlinewidth\":0,\"ticks\":\"\"},\"colorscale\":[[0.0,\"#0d0887\"],[0.1111111111111111,\"#46039f\"],[0.2222222222222222,\"#7201a8\"],[0.3333333333333333,\"#9c179e\"],[0.4444444444444444,\"#bd3786\"],[0.5555555555555556,\"#d8576b\"],[0.6666666666666666,\"#ed7953\"],[0.7777777777777778,\"#fb9f3a\"],[0.8888888888888888,\"#fdca26\"],[1.0,\"#f0f921\"]],\"type\":\"heatmapgl\"}],\"heatmap\":[{\"colorbar\":{\"outlinewidth\":0,\"ticks\":\"\"},\"colorscale\":[[0.0,\"#0d0887\"],[0.1111111111111111,\"#46039f\"],[0.2222222222222222,\"#7201a8\"],[0.3333333333333333,\"#9c179e\"],[0.4444444444444444,\"#bd3786\"],[0.5555555555555556,\"#d8576b\"],[0.6666666666666666,\"#ed7953\"],[0.7777777777777778,\"#fb9f3a\"],[0.8888888888888888,\"#fdca26\"],[1.0,\"#f0f921\"]],\"type\":\"heatmap\"}],\"histogram2dcontour\":[{\"colorbar\":{\"outlinewidth\":0,\"ticks\":\"\"},\"colorscale\":[[0.0,\"#0d0887\"],[0.1111111111111111,\"#46039f\"],[0.2222222222222222,\"#7201a8\"],[0.3333333333333333,\"#9c179e\"],[0.4444444444444444,\"#bd3786\"],[0.5555555555555556,\"#d8576b\"],[0.6666666666666666,\"#ed7953\"],[0.7777777777777778,\"#fb9f3a\"],[0.8888888888888888,\"#fdca26\"],[1.0,\"#f0f921\"]],\"type\":\"histogram2dcontour\"}],\"histogram2d\":[{\"colorbar\":{\"outlinewidth\":0,\"ticks\":\"\"},\"colorscale\":[[0.0,\"#0d0887\"],[0.1111111111111111,\"#46039f\"],[0.2222222222222222,\"#7201a8\"],[0.3333333333333333,\"#9c179e\"],[0.4444444444444444,\"#bd3786\"],[0.5555555555555556,\"#d8576b\"],[0.6666666666666666,\"#ed7953\"],[0.7777777777777778,\"#fb9f3a\"],[0.8888888888888888,\"#fdca26\"],[1.0,\"#f0f921\"]],\"type\":\"histogram2d\"}],\"histogram\":[{\"marker\":{\"pattern\":{\"fillmode\":\"overlay\",\"size\":10,\"solidity\":0.2}},\"type\":\"histogram\"}],\"mesh3d\":[{\"colorbar\":{\"outlinewidth\":0,\"ticks\":\"\"},\"type\":\"mesh3d\"}],\"parcoords\":[{\"line\":{\"colorbar\":{\"outlinewidth\":0,\"ticks\":\"\"}},\"type\":\"parcoords\"}],\"pie\":[{\"automargin\":true,\"type\":\"pie\"}],\"scatter3d\":[{\"line\":{\"colorbar\":{\"outlinewidth\":0,\"ticks\":\"\"}},\"marker\":{\"colorbar\":{\"outlinewidth\":0,\"ticks\":\"\"}},\"type\":\"scatter3d\"}],\"scattercarpet\":[{\"marker\":{\"colorbar\":{\"outlinewidth\":0,\"ticks\":\"\"}},\"type\":\"scattercarpet\"}],\"scattergeo\":[{\"marker\":{\"colorbar\":{\"outlinewidth\":0,\"ticks\":\"\"}},\"type\":\"scattergeo\"}],\"scattergl\":[{\"marker\":{\"colorbar\":{\"outlinewidth\":0,\"ticks\":\"\"}},\"type\":\"scattergl\"}],\"scattermapbox\":[{\"marker\":{\"colorbar\":{\"outlinewidth\":0,\"ticks\":\"\"}},\"type\":\"scattermapbox\"}],\"scatterpolargl\":[{\"marker\":{\"colorbar\":{\"outlinewidth\":0,\"ticks\":\"\"}},\"type\":\"scatterpolargl\"}],\"scatterpolar\":[{\"marker\":{\"colorbar\":{\"outlinewidth\":0,\"ticks\":\"\"}},\"type\":\"scatterpolar\"}],\"scatter\":[{\"fillpattern\":{\"fillmode\":\"overlay\",\"size\":10,\"solidity\":0.2},\"type\":\"scatter\"}],\"scatterternary\":[{\"marker\":{\"colorbar\":{\"outlinewidth\":0,\"ticks\":\"\"}},\"type\":\"scatterternary\"}],\"surface\":[{\"colorbar\":{\"outlinewidth\":0,\"ticks\":\"\"},\"colorscale\":[[0.0,\"#0d0887\"],[0.1111111111111111,\"#46039f\"],[0.2222222222222222,\"#7201a8\"],[0.3333333333333333,\"#9c179e\"],[0.4444444444444444,\"#bd3786\"],[0.5555555555555556,\"#d8576b\"],[0.6666666666666666,\"#ed7953\"],[0.7777777777777778,\"#fb9f3a\"],[0.8888888888888888,\"#fdca26\"],[1.0,\"#f0f921\"]],\"type\":\"surface\"}],\"table\":[{\"cells\":{\"fill\":{\"color\":\"#EBF0F8\"},\"line\":{\"color\":\"white\"}},\"header\":{\"fill\":{\"color\":\"#C8D4E3\"},\"line\":{\"color\":\"white\"}},\"type\":\"table\"}]},\"layout\":{\"annotationdefaults\":{\"arrowcolor\":\"#2a3f5f\",\"arrowhead\":0,\"arrowwidth\":1},\"autotypenumbers\":\"strict\",\"coloraxis\":{\"colorbar\":{\"outlinewidth\":0,\"ticks\":\"\"}},\"colorscale\":{\"diverging\":[[0,\"#8e0152\"],[0.1,\"#c51b7d\"],[0.2,\"#de77ae\"],[0.3,\"#f1b6da\"],[0.4,\"#fde0ef\"],[0.5,\"#f7f7f7\"],[0.6,\"#e6f5d0\"],[0.7,\"#b8e186\"],[0.8,\"#7fbc41\"],[0.9,\"#4d9221\"],[1,\"#276419\"]],\"sequential\":[[0.0,\"#0d0887\"],[0.1111111111111111,\"#46039f\"],[0.2222222222222222,\"#7201a8\"],[0.3333333333333333,\"#9c179e\"],[0.4444444444444444,\"#bd3786\"],[0.5555555555555556,\"#d8576b\"],[0.6666666666666666,\"#ed7953\"],[0.7777777777777778,\"#fb9f3a\"],[0.8888888888888888,\"#fdca26\"],[1.0,\"#f0f921\"]],\"sequentialminus\":[[0.0,\"#0d0887\"],[0.1111111111111111,\"#46039f\"],[0.2222222222222222,\"#7201a8\"],[0.3333333333333333,\"#9c179e\"],[0.4444444444444444,\"#bd3786\"],[0.5555555555555556,\"#d8576b\"],[0.6666666666666666,\"#ed7953\"],[0.7777777777777778,\"#fb9f3a\"],[0.8888888888888888,\"#fdca26\"],[1.0,\"#f0f921\"]]},\"colorway\":[\"#636efa\",\"#EF553B\",\"#00cc96\",\"#ab63fa\",\"#FFA15A\",\"#19d3f3\",\"#FF6692\",\"#B6E880\",\"#FF97FF\",\"#FECB52\"],\"font\":{\"color\":\"#2a3f5f\"},\"geo\":{\"bgcolor\":\"white\",\"lakecolor\":\"white\",\"landcolor\":\"#E5ECF6\",\"showlakes\":true,\"showland\":true,\"subunitcolor\":\"white\"},\"hoverlabel\":{\"align\":\"left\"},\"hovermode\":\"closest\",\"mapbox\":{\"style\":\"light\"},\"paper_bgcolor\":\"white\",\"plot_bgcolor\":\"#E5ECF6\",\"polar\":{\"angularaxis\":{\"gridcolor\":\"white\",\"linecolor\":\"white\",\"ticks\":\"\"},\"bgcolor\":\"#E5ECF6\",\"radialaxis\":{\"gridcolor\":\"white\",\"linecolor\":\"white\",\"ticks\":\"\"}},\"scene\":{\"xaxis\":{\"backgroundcolor\":\"#E5ECF6\",\"gridcolor\":\"white\",\"gridwidth\":2,\"linecolor\":\"white\",\"showbackground\":true,\"ticks\":\"\",\"zerolinecolor\":\"white\"},\"yaxis\":{\"backgroundcolor\":\"#E5ECF6\",\"gridcolor\":\"white\",\"gridwidth\":2,\"linecolor\":\"white\",\"showbackground\":true,\"ticks\":\"\",\"zerolinecolor\":\"white\"},\"zaxis\":{\"backgroundcolor\":\"#E5ECF6\",\"gridcolor\":\"white\",\"gridwidth\":2,\"linecolor\":\"white\",\"showbackground\":true,\"ticks\":\"\",\"zerolinecolor\":\"white\"}},\"shapedefaults\":{\"line\":{\"color\":\"#2a3f5f\"}},\"ternary\":{\"aaxis\":{\"gridcolor\":\"white\",\"linecolor\":\"white\",\"ticks\":\"\"},\"baxis\":{\"gridcolor\":\"white\",\"linecolor\":\"white\",\"ticks\":\"\"},\"bgcolor\":\"#E5ECF6\",\"caxis\":{\"gridcolor\":\"white\",\"linecolor\":\"white\",\"ticks\":\"\"}},\"title\":{\"x\":0.05},\"xaxis\":{\"automargin\":true,\"gridcolor\":\"white\",\"linecolor\":\"white\",\"ticks\":\"\",\"title\":{\"standoff\":15},\"zerolinecolor\":\"white\",\"zerolinewidth\":2},\"yaxis\":{\"automargin\":true,\"gridcolor\":\"white\",\"linecolor\":\"white\",\"ticks\":\"\",\"title\":{\"standoff\":15},\"zerolinecolor\":\"white\",\"zerolinewidth\":2}}},\"title\":{\"font\":{\"color\":\"#4D5663\"}},\"xaxis\":{\"anchor\":\"y\",\"domain\":[0.0,0.2125],\"gridcolor\":\"#E1E5ED\",\"showgrid\":false,\"tickfont\":{\"color\":\"#4D5663\"},\"title\":{\"font\":{\"color\":\"#4D5663\"},\"text\":\"\"},\"zerolinecolor\":\"#E1E5ED\"},\"yaxis\":{\"anchor\":\"x\",\"domain\":[0.8025,1.0],\"gridcolor\":\"#E1E5ED\",\"showgrid\":false,\"tickfont\":{\"color\":\"#4D5663\"},\"title\":{\"font\":{\"color\":\"#4D5663\"},\"text\":\"\"},\"zerolinecolor\":\"#E1E5ED\"},\"xaxis2\":{\"anchor\":\"y2\",\"domain\":[0.2625,0.475],\"gridcolor\":\"#E1E5ED\",\"showgrid\":false,\"tickfont\":{\"color\":\"#4D5663\"},\"title\":{\"font\":{\"color\":\"#4D5663\"},\"text\":\"\"},\"zerolinecolor\":\"#E1E5ED\"},\"yaxis2\":{\"anchor\":\"x2\",\"domain\":[0.8025,1.0],\"gridcolor\":\"#E1E5ED\",\"showgrid\":false,\"tickfont\":{\"color\":\"#4D5663\"},\"title\":{\"font\":{\"color\":\"#4D5663\"},\"text\":\"\"},\"zerolinecolor\":\"#E1E5ED\"},\"xaxis3\":{\"anchor\":\"y3\",\"domain\":[0.525,0.7375],\"gridcolor\":\"#E1E5ED\",\"showgrid\":false,\"tickfont\":{\"color\":\"#4D5663\"},\"title\":{\"font\":{\"color\":\"#4D5663\"},\"text\":\"\"},\"zerolinecolor\":\"#E1E5ED\"},\"yaxis3\":{\"anchor\":\"x3\",\"domain\":[0.8025,1.0],\"gridcolor\":\"#E1E5ED\",\"showgrid\":false,\"tickfont\":{\"color\":\"#4D5663\"},\"title\":{\"font\":{\"color\":\"#4D5663\"},\"text\":\"\"},\"zerolinecolor\":\"#E1E5ED\"},\"xaxis4\":{\"anchor\":\"y4\",\"domain\":[0.7875,1.0],\"gridcolor\":\"#E1E5ED\",\"showgrid\":false,\"tickfont\":{\"color\":\"#4D5663\"},\"title\":{\"font\":{\"color\":\"#4D5663\"},\"text\":\"\"},\"zerolinecolor\":\"#E1E5ED\"},\"yaxis4\":{\"anchor\":\"x4\",\"domain\":[0.8025,1.0],\"gridcolor\":\"#E1E5ED\",\"showgrid\":false,\"tickfont\":{\"color\":\"#4D5663\"},\"title\":{\"font\":{\"color\":\"#4D5663\"},\"text\":\"\"},\"zerolinecolor\":\"#E1E5ED\"},\"xaxis5\":{\"anchor\":\"y5\",\"domain\":[0.0,0.2125],\"gridcolor\":\"#E1E5ED\",\"showgrid\":false,\"tickfont\":{\"color\":\"#4D5663\"},\"title\":{\"font\":{\"color\":\"#4D5663\"},\"text\":\"\"},\"zerolinecolor\":\"#E1E5ED\"},\"yaxis5\":{\"anchor\":\"x5\",\"domain\":[0.535,0.7325],\"gridcolor\":\"#E1E5ED\",\"showgrid\":false,\"tickfont\":{\"color\":\"#4D5663\"},\"title\":{\"font\":{\"color\":\"#4D5663\"},\"text\":\"\"},\"zerolinecolor\":\"#E1E5ED\"},\"xaxis6\":{\"anchor\":\"y6\",\"domain\":[0.2625,0.475],\"gridcolor\":\"#E1E5ED\",\"showgrid\":false,\"tickfont\":{\"color\":\"#4D5663\"},\"title\":{\"font\":{\"color\":\"#4D5663\"},\"text\":\"\"},\"zerolinecolor\":\"#E1E5ED\"},\"yaxis6\":{\"anchor\":\"x6\",\"domain\":[0.535,0.7325],\"gridcolor\":\"#E1E5ED\",\"showgrid\":false,\"tickfont\":{\"color\":\"#4D5663\"},\"title\":{\"font\":{\"color\":\"#4D5663\"},\"text\":\"\"},\"zerolinecolor\":\"#E1E5ED\"},\"xaxis7\":{\"anchor\":\"y7\",\"domain\":[0.525,0.7375],\"gridcolor\":\"#E1E5ED\",\"showgrid\":false,\"tickfont\":{\"color\":\"#4D5663\"},\"title\":{\"font\":{\"color\":\"#4D5663\"},\"text\":\"\"},\"zerolinecolor\":\"#E1E5ED\"},\"yaxis7\":{\"anchor\":\"x7\",\"domain\":[0.535,0.7325],\"gridcolor\":\"#E1E5ED\",\"showgrid\":false,\"tickfont\":{\"color\":\"#4D5663\"},\"title\":{\"font\":{\"color\":\"#4D5663\"},\"text\":\"\"},\"zerolinecolor\":\"#E1E5ED\"},\"xaxis8\":{\"anchor\":\"y8\",\"domain\":[0.7875,1.0],\"gridcolor\":\"#E1E5ED\",\"showgrid\":false,\"tickfont\":{\"color\":\"#4D5663\"},\"title\":{\"font\":{\"color\":\"#4D5663\"},\"text\":\"\"},\"zerolinecolor\":\"#E1E5ED\"},\"yaxis8\":{\"anchor\":\"x8\",\"domain\":[0.535,0.7325],\"gridcolor\":\"#E1E5ED\",\"showgrid\":false,\"tickfont\":{\"color\":\"#4D5663\"},\"title\":{\"font\":{\"color\":\"#4D5663\"},\"text\":\"\"},\"zerolinecolor\":\"#E1E5ED\"},\"xaxis9\":{\"anchor\":\"y9\",\"domain\":[0.0,0.2125],\"gridcolor\":\"#E1E5ED\",\"showgrid\":false,\"tickfont\":{\"color\":\"#4D5663\"},\"title\":{\"font\":{\"color\":\"#4D5663\"},\"text\":\"\"},\"zerolinecolor\":\"#E1E5ED\"},\"yaxis9\":{\"anchor\":\"x9\",\"domain\":[0.2675,0.465],\"gridcolor\":\"#E1E5ED\",\"showgrid\":false,\"tickfont\":{\"color\":\"#4D5663\"},\"title\":{\"font\":{\"color\":\"#4D5663\"},\"text\":\"\"},\"zerolinecolor\":\"#E1E5ED\"},\"xaxis10\":{\"anchor\":\"y10\",\"domain\":[0.2625,0.475],\"gridcolor\":\"#E1E5ED\",\"showgrid\":false,\"tickfont\":{\"color\":\"#4D5663\"},\"title\":{\"font\":{\"color\":\"#4D5663\"},\"text\":\"\"},\"zerolinecolor\":\"#E1E5ED\"},\"yaxis10\":{\"anchor\":\"x10\",\"domain\":[0.2675,0.465],\"gridcolor\":\"#E1E5ED\",\"showgrid\":false,\"tickfont\":{\"color\":\"#4D5663\"},\"title\":{\"font\":{\"color\":\"#4D5663\"},\"text\":\"\"},\"zerolinecolor\":\"#E1E5ED\"},\"xaxis11\":{\"anchor\":\"y11\",\"domain\":[0.525,0.7375],\"gridcolor\":\"#E1E5ED\",\"showgrid\":false,\"tickfont\":{\"color\":\"#4D5663\"},\"title\":{\"font\":{\"color\":\"#4D5663\"},\"text\":\"\"},\"zerolinecolor\":\"#E1E5ED\"},\"yaxis11\":{\"anchor\":\"x11\",\"domain\":[0.2675,0.465],\"gridcolor\":\"#E1E5ED\",\"showgrid\":false,\"tickfont\":{\"color\":\"#4D5663\"},\"title\":{\"font\":{\"color\":\"#4D5663\"},\"text\":\"\"},\"zerolinecolor\":\"#E1E5ED\"},\"xaxis12\":{\"anchor\":\"y12\",\"domain\":[0.7875,1.0],\"gridcolor\":\"#E1E5ED\",\"showgrid\":false,\"tickfont\":{\"color\":\"#4D5663\"},\"title\":{\"font\":{\"color\":\"#4D5663\"},\"text\":\"\"},\"zerolinecolor\":\"#E1E5ED\"},\"yaxis12\":{\"anchor\":\"x12\",\"domain\":[0.2675,0.465],\"gridcolor\":\"#E1E5ED\",\"showgrid\":false,\"tickfont\":{\"color\":\"#4D5663\"},\"title\":{\"font\":{\"color\":\"#4D5663\"},\"text\":\"\"},\"zerolinecolor\":\"#E1E5ED\"},\"xaxis13\":{\"anchor\":\"y13\",\"domain\":[0.0,0.2125],\"gridcolor\":\"#E1E5ED\",\"showgrid\":false,\"tickfont\":{\"color\":\"#4D5663\"},\"title\":{\"font\":{\"color\":\"#4D5663\"},\"text\":\"\"},\"zerolinecolor\":\"#E1E5ED\"},\"yaxis13\":{\"anchor\":\"x13\",\"domain\":[0.0,0.1975],\"gridcolor\":\"#E1E5ED\",\"showgrid\":false,\"tickfont\":{\"color\":\"#4D5663\"},\"title\":{\"font\":{\"color\":\"#4D5663\"},\"text\":\"\"},\"zerolinecolor\":\"#E1E5ED\"},\"xaxis14\":{\"anchor\":\"y14\",\"domain\":[0.2625,0.475],\"gridcolor\":\"#E1E5ED\",\"showgrid\":false,\"tickfont\":{\"color\":\"#4D5663\"},\"title\":{\"font\":{\"color\":\"#4D5663\"},\"text\":\"\"},\"zerolinecolor\":\"#E1E5ED\"},\"yaxis14\":{\"anchor\":\"x14\",\"domain\":[0.0,0.1975],\"gridcolor\":\"#E1E5ED\",\"showgrid\":false,\"tickfont\":{\"color\":\"#4D5663\"},\"title\":{\"font\":{\"color\":\"#4D5663\"},\"text\":\"\"},\"zerolinecolor\":\"#E1E5ED\"},\"xaxis15\":{\"anchor\":\"y15\",\"domain\":[0.525,0.7375],\"gridcolor\":\"#E1E5ED\",\"showgrid\":false,\"tickfont\":{\"color\":\"#4D5663\"},\"title\":{\"font\":{\"color\":\"#4D5663\"},\"text\":\"\"},\"zerolinecolor\":\"#E1E5ED\"},\"yaxis15\":{\"anchor\":\"x15\",\"domain\":[0.0,0.1975],\"gridcolor\":\"#E1E5ED\",\"showgrid\":false,\"tickfont\":{\"color\":\"#4D5663\"},\"title\":{\"font\":{\"color\":\"#4D5663\"},\"text\":\"\"},\"zerolinecolor\":\"#E1E5ED\"},\"xaxis16\":{\"anchor\":\"y16\",\"domain\":[0.7875,1.0],\"gridcolor\":\"#E1E5ED\",\"showgrid\":false,\"tickfont\":{\"color\":\"#4D5663\"},\"title\":{\"font\":{\"color\":\"#4D5663\"},\"text\":\"\"},\"zerolinecolor\":\"#E1E5ED\"},\"yaxis16\":{\"anchor\":\"x16\",\"domain\":[0.0,0.1975],\"gridcolor\":\"#E1E5ED\",\"showgrid\":false,\"tickfont\":{\"color\":\"#4D5663\"},\"title\":{\"font\":{\"color\":\"#4D5663\"},\"text\":\"\"},\"zerolinecolor\":\"#E1E5ED\"}},                        {\"showLink\": true, \"linkText\": \"Export to plot.ly\", \"plotlyServerURL\": \"https://plot.ly\", \"responsive\": true}                    ).then(function(){\n",
       "                            \n",
       "var gd = document.getElementById('9127fadd-f9cf-4da1-9c0b-93b033f956f5');\n",
       "var x = new MutationObserver(function (mutations, observer) {{\n",
       "        var display = window.getComputedStyle(gd).display;\n",
       "        if (!display || display === 'none') {{\n",
       "            console.log([gd, 'removed!']);\n",
       "            Plotly.purge(gd);\n",
       "            observer.disconnect();\n",
       "        }}\n",
       "}});\n",
       "\n",
       "// Listen for the removal of the full notebook cells\n",
       "var notebookContainer = gd.closest('#notebook-container');\n",
       "if (notebookContainer) {{\n",
       "    x.observe(notebookContainer, {childList: true});\n",
       "}}\n",
       "\n",
       "// Listen for the clearing of the current output cell\n",
       "var outputEl = gd.closest('.output');\n",
       "if (outputEl) {{\n",
       "    x.observe(outputEl, {childList: true});\n",
       "}}\n",
       "\n",
       "                        })                };                });            </script>        </div>"
      ]
     },
     "metadata": {},
     "output_type": "display_data"
    }
   ],
   "source": [
    "df.scatter_matrix()"
   ]
  },
  {
   "cell_type": "markdown",
   "metadata": {
    "collapsed": true,
    "jupyter": {
     "outputs_hidden": true
    }
   },
   "source": [
    "# Great Job!"
   ]
  }
 ],
 "metadata": {
  "kernelspec": {
   "display_name": "Python 3 (ipykernel)",
   "language": "python",
   "name": "python3"
  },
  "language_info": {
   "codemirror_mode": {
    "name": "ipython",
    "version": 3
   },
   "file_extension": ".py",
   "mimetype": "text/x-python",
   "name": "python",
   "nbconvert_exporter": "python",
   "pygments_lexer": "ipython3",
   "version": "3.11.7"
  }
 },
 "nbformat": 4,
 "nbformat_minor": 4
}
